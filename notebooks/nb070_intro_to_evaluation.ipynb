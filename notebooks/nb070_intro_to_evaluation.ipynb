{
 "cells": [
  {
   "cell_type": "markdown",
   "id": "32f414ba",
   "metadata": {
    "slideshow": {
     "slide_type": "slide"
    }
   },
   "source": [
    "\n",
    " <h1 style=\"text-align:center;\">Machine Learning for Programmers</h1>\n",
    " <h2 style=\"text-align:center;\">Evaluating Algorithms (Part 1)</h2>\n",
    " <h3 style=\"text-align:center;\">Dr. Matthias Hölzl</h3>"
   ]
  },
  {
   "cell_type": "markdown",
   "id": "91396aa7",
   "metadata": {
    "slideshow": {
     "slide_type": "subslide"
    }
   },
   "source": [
    " # What's the goal of ML\n",
    "\n",
    " Turning raw data into usable information...\n",
    "\n",
    " - ... by analyzing the data or looking at examples\n",
    " - ... so that our results improve if we provide additional data"
   ]
  },
  {
   "cell_type": "markdown",
   "id": "2b489469",
   "metadata": {
    "slideshow": {
     "slide_type": "subslide"
    }
   },
   "source": [
    "\n",
    " # How does this look like?\n",
    "\n",
    " - Data:\n",
    "\n",
    "   - Many items (100s to billions)\n",
    "\n",
    "   - Fixed set of features per item (10s to thousands / millions)\n",
    "\n",
    " - Information:\n",
    "\n",
    "   - Assign a number to each item\n",
    "\n",
    "     - From a small fixed set (clustering, classification)\n",
    "\n",
    "     - From an (in theory) infinite set (regression)\n",
    "\n",
    "   - Generate a complex output for each item\n",
    "\n",
    "     - translation, text generation (GPT-2/3, T5)\n",
    "\n",
    "     - images based on text, other images (Dall-E)"
   ]
  },
  {
   "cell_type": "markdown",
   "id": "ce1bfbcb",
   "metadata": {
    "slideshow": {
     "slide_type": "slide"
    }
   },
   "source": [
    " # Classifying Approaches to ML\n",
    "\n",
    " ## By Data/Environment Provided\n",
    "\n",
    " - Unsupervised\n",
    "\n",
    " - Supervised\n",
    "\n",
    " - Reinforcement\n",
    "\n",
    "\n",
    " But also...\n",
    "\n",
    " - Semi-supervised / weakly supervised\n",
    "\n",
    " - Self-supervised"
   ]
  },
  {
   "cell_type": "markdown",
   "id": "dda91d24",
   "metadata": {
    "slideshow": {
     "slide_type": "subslide"
    }
   },
   "source": [
    " ## By solution algorithm\n",
    "\n",
    " - Parametric: Try to compress training data into settings for a fixed number\n",
    "   of parameters\n",
    "\n",
    "   - Linear and logistic regression\n",
    "\n",
    "   - Neural networks\n",
    "\n",
    " - Non-parametric: Do not try to represent the training data as a fixed number\n",
    "   of parameters\n",
    "\n",
    "    - K-nearest-neighbors\n",
    "\n",
    "    - Decision trees\n",
    "\n",
    "    - Support Vector Machines\n",
    "\n",
    " - Both have hyperparameters"
   ]
  },
  {
   "cell_type": "markdown",
   "id": "1b950ee7",
   "metadata": {
    "slideshow": {
     "slide_type": "subslide"
    }
   },
   "source": [
    " # Parameters vs. Hyperparameters\n",
    "\n",
    " - Hyperparameters are values that the designer sets before instantiating the\n",
    "   algorithm:\n",
    "\n",
    "   - Architecture and number of nodes in a neural network\n",
    "\n",
    " - Parameters are values that the algorithm sets during training (fitting)\n",
    "\n",
    "   - Slope of the solution line in linear regression"
   ]
  },
  {
   "cell_type": "markdown",
   "id": "cbb0d161",
   "metadata": {
    "slideshow": {
     "slide_type": "subslide"
    }
   },
   "source": [
    " ## Supervised Learning: Training a DL Classifier\n",
    "\n",
    " <br/>\n",
    " <img src=\"img/ag/Figure-01-008.png\" style=\"width: 100%;\"/>"
   ]
  },
  {
   "cell_type": "markdown",
   "id": "858fa48c",
   "metadata": {
    "slideshow": {
     "slide_type": "subslide"
    }
   },
   "source": [
    " ## Supervised Learning: Evaluation/Test\n",
    "\n",
    " <img src=\"img/ag/Figure-01-009.png\" style=\"width: 70%; padding: 20px;\"/>"
   ]
  },
  {
   "cell_type": "markdown",
   "id": "fadc89aa",
   "metadata": {
    "slideshow": {
     "slide_type": "slide"
    }
   },
   "source": [
    " ## Clustering\n",
    "\n",
    " <img src=\"img/ag/Figure-01-013.jpg\" style=\"float: right;width: 40%;\"/>\n",
    "\n",
    " - Many documents\n",
    " - Figure out which ones are \"similar\"\n",
    "\n",
    " Clustering is often done via unsupervised methods."
   ]
  },
  {
   "cell_type": "markdown",
   "id": "c123e20d",
   "metadata": {
    "slideshow": {
     "slide_type": "subslide"
    }
   },
   "source": [
    " ## Classification\n",
    "\n",
    " <img src=\"img/ag/Figure-01-022.png\" style=\"float: right;width: 40%;\"/>\n",
    "\n",
    " - Many documents, fixed set of labels\n",
    " - Assign one or more labels to each document"
   ]
  },
  {
   "cell_type": "markdown",
   "id": "340cf358",
   "metadata": {
    "slideshow": {
     "slide_type": "subslide"
    }
   },
   "source": [
    " ## Regression\n",
    "\n",
    " <img src=\"img/ag/Figure-01-011.png\" style=\"float: right;width: 40%;\"/>\n",
    "\n",
    " - Learn numerical relationships\n",
    " - \"How does salary depend on age?\""
   ]
  },
  {
   "cell_type": "markdown",
   "id": "789f5d54",
   "metadata": {
    "slideshow": {
     "slide_type": "subslide"
    }
   },
   "source": [
    " ## Geocoding / toponym resolution\n",
    "\n",
    " <img src=\"img/france.jpg\" style=\"float: right;width: 40%;\"/>\n",
    "\n",
    " <div style=\"float: left; width: 60%;\">\n",
    "\n",
    " <br/>\n",
    "\n",
    " - Figure out coordinates from occurrences of names in text\n",
    " - Reverse geocoding: Figure out place name from coordinates\n",
    " </div>"
   ]
  },
  {
   "cell_type": "markdown",
   "id": "44055620",
   "metadata": {
    "slideshow": {
     "slide_type": "subslide"
    }
   },
   "source": [
    " ## (Extractive) Question Answering\n",
    "\n",
    " <img src=\"img/question-mark.jpg\" style=\"float: right;width: 30%;\"/>\n",
    "\n",
    "\n",
    " - One document, one question about the document\n",
    " - Extract the answer from the document"
   ]
  },
  {
   "cell_type": "markdown",
   "id": "8a4b3dcc",
   "metadata": {
    "slideshow": {
     "slide_type": "slide"
    }
   },
   "source": [
    "# Evaluating Regression Performance\n",
    "\n",
    "How can we determine the quality of our solution for a regression problem?"
   ]
  },
  {
   "cell_type": "markdown",
   "id": "c2effbee",
   "metadata": {
    "slideshow": {
     "slide_type": "subslide"
    }
   },
   "source": [
    "<img src=\"img/ag/Figure-09-008.png\" style=\"width: 40%; padding: 20px;\"/>"
   ]
  },
  {
   "cell_type": "markdown",
   "id": "c26cb4e5",
   "metadata": {
    "slideshow": {
     "slide_type": "subslide"
    }
   },
   "source": [
    "<img src=\"img/ag/Figure-09-009.png\" style=\"width: 80%; padding: 20px;\"/>"
   ]
  },
  {
   "cell_type": "markdown",
   "id": "e456efef",
   "metadata": {
    "slideshow": {
     "slide_type": "subslide"
    }
   },
   "source": [
    "<img src=\"img/ag/Figure-09-010.png\" style=\"width: 40%; padding: 20px;\"/>"
   ]
  },
  {
   "cell_type": "code",
   "execution_count": null,
   "id": "5e76b28d",
   "metadata": {
    "slideshow": {
     "slide_type": "subslide"
    }
   },
   "outputs": [],
   "source": [
    "import numpy as np\n",
    "import matplotlib.pyplot as plt\n",
    "import seaborn as sns\n",
    "\n",
    "sns.set_theme()"
   ]
  },
  {
   "cell_type": "code",
   "execution_count": null,
   "id": "fa099e9a",
   "metadata": {
    "slideshow": {
     "slide_type": "subslide"
    }
   },
   "outputs": [],
   "source": [
    "rng = np.random.default_rng(42)\n",
    "x = rng.uniform(size=(150, 1), low=0.0, high=10.0)"
   ]
  },
  {
   "cell_type": "code",
   "execution_count": null,
   "id": "5d73ef77",
   "metadata": {
    "slideshow": {
     "slide_type": "subslide"
    }
   },
   "outputs": [],
   "source": [
    "plt.figure(figsize=(20, 1), frameon=False)\n",
    "plt.yticks([], [])\n",
    "plt.scatter(x, np.zeros_like(x), alpha=0.4);"
   ]
  },
  {
   "cell_type": "code",
   "execution_count": null,
   "id": "d48304e9",
   "metadata": {
    "slideshow": {
     "slide_type": "slide"
    }
   },
   "outputs": [],
   "source": [
    "def lin(x):\n",
    "    return 0.85 * x - 1.5"
   ]
  },
  {
   "cell_type": "code",
   "execution_count": null,
   "id": "b369ddb5",
   "metadata": {
    "slideshow": {
     "slide_type": "subslide"
    }
   },
   "outputs": [],
   "source": [
    "def fun(x):\n",
    "    return 2 * np.sin(x) + 0.1 * x ** 2 - 2"
   ]
  },
  {
   "cell_type": "code",
   "execution_count": null,
   "id": "1d500f98",
   "metadata": {
    "slideshow": {
     "slide_type": "subslide"
    }
   },
   "outputs": [],
   "source": [
    "x_plot = np.linspace(0, 10, 500)\n",
    "plt.figure(figsize=(20, 8))\n",
    "sns.lineplot(x=x_plot, y=lin(x_plot))\n",
    "sns.lineplot(x=x_plot, y=fun(x_plot));"
   ]
  },
  {
   "cell_type": "code",
   "execution_count": null,
   "id": "8f512ffa",
   "metadata": {
    "slideshow": {
     "slide_type": "subslide"
    }
   },
   "outputs": [],
   "source": [
    "def randomize(fun, x):\n",
    "    return fun(x) + rng.normal(size=x.shape, scale=0.5)"
   ]
  },
  {
   "cell_type": "code",
   "execution_count": null,
   "id": "d8a6c6c9",
   "metadata": {
    "slideshow": {
     "slide_type": "subslide"
    }
   },
   "outputs": [],
   "source": [
    "plt.figure(figsize=(20, 8))\n",
    "sns.lineplot(x=x_plot, y=randomize(lin, x_plot))\n",
    "sns.lineplot(x=x_plot, y=randomize(fun, x_plot));"
   ]
  },
  {
   "cell_type": "code",
   "execution_count": null,
   "id": "03346221",
   "metadata": {
    "slideshow": {
     "slide_type": "subslide"
    }
   },
   "outputs": [],
   "source": [
    "plt.figure(figsize=(20, 8))\n",
    "sns.scatterplot(x=x_plot, y=randomize(lin, x_plot))\n",
    "sns.scatterplot(x=x_plot, y=randomize(fun, x_plot));"
   ]
  },
  {
   "cell_type": "code",
   "execution_count": null,
   "id": "fc84b565",
   "metadata": {
    "slideshow": {
     "slide_type": "subslide"
    }
   },
   "outputs": [],
   "source": [
    "plt.figure(figsize=(20, 8))\n",
    "x_vec = x.reshape(-1)\n",
    "sns.scatterplot(x=x_vec, y=randomize(lin, x_vec))\n",
    "sns.scatterplot(x=x_vec, y=randomize(fun, x_vec));"
   ]
  },
  {
   "cell_type": "code",
   "execution_count": null,
   "id": "39e57831",
   "metadata": {
    "slideshow": {
     "slide_type": "subslide"
    }
   },
   "outputs": [],
   "source": [
    "plt.figure(figsize=(20, 8))\n",
    "x_vec = x.reshape(-1)\n",
    "sns.regplot(x=x_vec, y=randomize(lin, x_vec))\n",
    "sns.regplot(x=x_vec, y=randomize(fun, x_vec));"
   ]
  },
  {
   "cell_type": "markdown",
   "id": "250c139c",
   "metadata": {
    "slideshow": {
     "slide_type": "slide"
    }
   },
   "source": [
    "## Fitting a Linear Regressor"
   ]
  },
  {
   "cell_type": "code",
   "execution_count": null,
   "id": "f323b776",
   "metadata": {},
   "outputs": [],
   "source": [
    "x_train, x_test = x[:100], x[100:]\n",
    "y1_train = randomize(lin, x_train).reshape(-1)\n",
    "y1_test = randomize(lin, x_test).reshape(-1)\n",
    "y2_train = randomize(fun, x_train.reshape(-1))\n",
    "y2_test = randomize(fun, x_test).reshape(-1)"
   ]
  },
  {
   "cell_type": "code",
   "execution_count": null,
   "id": "fe375bfe",
   "metadata": {},
   "outputs": [],
   "source": [
    "x_train.shape, x_test.shape, y1_train.shape, y1_test.shape, y2_train.shape, y2_test.shape"
   ]
  },
  {
   "cell_type": "code",
   "execution_count": null,
   "id": "e570ff1a",
   "metadata": {
    "slideshow": {
     "slide_type": "subslide"
    }
   },
   "outputs": [],
   "source": [
    "from sklearn.linear_model import LinearRegression\n",
    "lr1 = LinearRegression()\n",
    "lr1.fit(x_train, y1_train)\n",
    "lr1_pred = lr1.predict(x_test)"
   ]
  },
  {
   "cell_type": "code",
   "execution_count": null,
   "id": "81fa11aa",
   "metadata": {
    "slideshow": {
     "slide_type": "subslide"
    }
   },
   "outputs": [],
   "source": [
    "plt.figure(figsize=(20, 8))\n",
    "plt.scatter(x_train, y1_train, alpha=0.6);\n",
    "plt.scatter(x_test, lr1_pred, c=\"green\");\n",
    "plt.plot(x_test, lr1_pred, c=\"red\")\n",
    "plt.scatter(x_test, y1_test, c=\"orange\");"
   ]
  },
  {
   "cell_type": "markdown",
   "id": "71bc6ada",
   "metadata": {
    "slideshow": {
     "slide_type": "slide"
    }
   },
   "source": [
    "## Computing the Error:\n",
    "\n",
    "First try: Compute distance between prediction and true values:"
   ]
  },
  {
   "cell_type": "code",
   "execution_count": null,
   "id": "8620e529",
   "metadata": {},
   "outputs": [],
   "source": [
    "error_per_sample = y1_test - lr1_pred\n",
    "error = error_per_sample.mean()\n",
    "error"
   ]
  },
  {
   "cell_type": "markdown",
   "id": "8e7a6827",
   "metadata": {
    "slideshow": {
     "slide_type": "fragment"
    }
   },
   "source": [
    "The positive and negative error cancel out!"
   ]
  },
  {
   "cell_type": "markdown",
   "id": "35c6e98a",
   "metadata": {
    "slideshow": {
     "slide_type": "subslide"
    }
   },
   "source": [
    "Better: try with absolute distance or squared distance:"
   ]
  },
  {
   "cell_type": "code",
   "execution_count": null,
   "id": "f4484a41",
   "metadata": {},
   "outputs": [],
   "source": [
    "abs_error_per_sample = np.abs(y1_test - lr1_pred)\n",
    "square_error_per_sample = (y1_test - lr1_pred) ** 2\n",
    "\n",
    "abs_error_per_sample.mean(), square_error_per_sample.mean()"
   ]
  },
  {
   "cell_type": "code",
   "execution_count": null,
   "id": "6dcbc0d6",
   "metadata": {},
   "outputs": [],
   "source": [
    "from sklearn.metrics import mean_absolute_error, mean_squared_error\n",
    "\n",
    "mean_absolute_error(y1_test, lr1_pred), mean_squared_error(y1_test, lr1_pred)"
   ]
  },
  {
   "cell_type": "markdown",
   "id": "7b73000d",
   "metadata": {
    "slideshow": {
     "slide_type": "slide"
    }
   },
   "source": [
    "## Linear Regression and Non-Linear Relations"
   ]
  },
  {
   "cell_type": "code",
   "execution_count": null,
   "id": "e7c87841",
   "metadata": {},
   "outputs": [],
   "source": [
    "from sklearn.linear_model import LinearRegression\n",
    "lr2 = LinearRegression()\n",
    "lr2.fit(x_train, y2_train)\n",
    "lr2_pred = lr2.predict(x_test)"
   ]
  },
  {
   "cell_type": "code",
   "execution_count": null,
   "id": "392dc66c",
   "metadata": {
    "slideshow": {
     "slide_type": "subslide"
    }
   },
   "outputs": [],
   "source": [
    "plt.figure(figsize=(20, 8))\n",
    "plt.scatter(x_train, y2_train)\n",
    "plt.plot(x_test, lr2_pred, c=\"red\")\n",
    "plt.scatter(x_test, lr2_pred, c=\"green\");\n",
    "plt.scatter(x_test, y2_test, c=\"orange\");"
   ]
  },
  {
   "cell_type": "code",
   "execution_count": null,
   "id": "889366f1",
   "metadata": {
    "slideshow": {
     "slide_type": "subslide"
    }
   },
   "outputs": [],
   "source": [
    "mean_absolute_error(y1_test, lr2_pred), mean_squared_error(y1_test, lr2_pred)"
   ]
  },
  {
   "cell_type": "code",
   "execution_count": null,
   "id": "9eedbc79",
   "metadata": {},
   "outputs": [],
   "source": []
  }
 ],
 "metadata": {
  "jupytext": {
   "text_representation": {
    "extension": ".py",
    "format_name": "percent",
    "format_version": "1.3",
    "jupytext_version": "1.13.7"
   }
  },
  "kernelspec": {
   "display_name": "Python 3 (ipykernel)",
   "language": "python",
   "name": "python3"
  }
 },
 "nbformat": 4,
 "nbformat_minor": 5
}
