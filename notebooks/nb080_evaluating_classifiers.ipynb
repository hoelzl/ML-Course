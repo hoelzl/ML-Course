{
 "cells": [
  {
   "cell_type": "markdown",
   "id": "e12eb208",
   "metadata": {
    "slideshow": {
     "slide_type": "slide"
    }
   },
   "source": [
    " # How are we doing?\n",
    "\n",
    " How do we know how well our model performs?"
   ]
  },
  {
   "cell_type": "markdown",
   "id": "f571a5f6",
   "metadata": {
    "slideshow": {
     "slide_type": "subslide"
    }
   },
   "source": [
    " ## What can go wrong?\n",
    "\n",
    " <img src=\"img/ag/Figure-03-015.png\" style=\"width: 100%; padding: 30px 100px 0\"/>"
   ]
  },
  {
   "cell_type": "markdown",
   "id": "5256030b",
   "metadata": {
    "slideshow": {
     "slide_type": "subslide"
    }
   },
   "source": [
    " ## What can go wrong?\n",
    "\n",
    " <img src=\"img/ag/Figure-03-021.png\" style=\"width: 100%; padding: 30px 100px 0\"/>"
   ]
  },
  {
   "cell_type": "markdown",
   "id": "2be7ce0b",
   "metadata": {
    "slideshow": {
     "slide_type": "subslide"
    }
   },
   "source": [
    " ## What can go wrong?\n",
    "\n",
    " <img src=\"img/ag/Figure-03-022.png\" style=\"width: 100%; padding: 30px 100px 0\"/>"
   ]
  },
  {
   "cell_type": "markdown",
   "id": "ac2e520c",
   "metadata": {
    "slideshow": {
     "slide_type": "subslide"
    }
   },
   "source": [
    " ## What can go wrong?\n",
    "\n",
    " <img src=\"img/ag/Figure-03-017.png\" style=\"width: 100%; padding: 30px 100px 0\"/>"
   ]
  },
  {
   "cell_type": "markdown",
   "id": "1cc7eed2",
   "metadata": {
    "slideshow": {
     "slide_type": "subslide"
    }
   },
   "source": [
    "## Confusion Matrix\n",
    "\n",
    " <img src=\"img/ag/Figure-03-018.png\" style=\"width: 100%; padding: 30px 100px 0\"/>"
   ]
  },
  {
   "cell_type": "markdown",
   "id": "c4e677cb",
   "metadata": {
    "slideshow": {
     "slide_type": "subslide"
    }
   },
   "source": [
    "## Confusion Matrix\n",
    "\n",
    " <img src=\"img/ag/Figure-03-019.png\" style=\"width: 60%; padding: 30px 100px 0\"/>"
   ]
  },
  {
   "cell_type": "markdown",
   "id": "f5757e5c",
   "metadata": {
    "slideshow": {
     "slide_type": "subslide"
    }
   },
   "source": [
    " ## Accuracy: How well are we doing, overall?\n",
    "\n",
    "\n",
    " <img src=\"img/ag/Figure-03-028.png\" style=\"width: 100%; padding: 30px 100px 0\"/>"
   ]
  },
  {
   "cell_type": "markdown",
   "id": "5ecacd85",
   "metadata": {
    "slideshow": {
     "slide_type": "subslide"
    }
   },
   "source": [
    " ## Accuracy: How well are we doing, overall?\n",
    "\n",
    "\n",
    " <img src=\"img/ag/Figure-03-029.png\" style=\"width:60%; padding: 30px 100px 0\"/>"
   ]
  },
  {
   "cell_type": "markdown",
   "id": "164c1e2c",
   "metadata": {
    "slideshow": {
     "slide_type": "slide"
    }
   },
   "source": [
    " ## Accuracy: How much did we get right?\n",
    "\n",
    "\n",
    " <img src=\"img/ag/Figure-03-023.png\" style=\"width: 100%; padding: 30px 100px 0\"/>"
   ]
  },
  {
   "cell_type": "markdown",
   "id": "2eac9d7b",
   "metadata": {
    "slideshow": {
     "slide_type": "subslide"
    }
   },
   "source": [
    " ## Precision: How good are our positives?\n",
    "\n",
    "\n",
    " <img src=\"img/ag/Figure-03-030.png\" style=\"width: 80%; padding: 30px 100px 0\"/>"
   ]
  },
  {
   "cell_type": "markdown",
   "id": "a2abfe79",
   "metadata": {
    "slideshow": {
     "slide_type": "subslide"
    }
   },
   "source": [
    " ## Precision: How good are our positives?\n",
    "\n",
    "\n",
    " <img src=\"img/ag/Figure-03-024.png\" style=\"width: 100%; padding: 30px 100px 0\"/>"
   ]
  },
  {
   "cell_type": "markdown",
   "id": "0876caeb",
   "metadata": {
    "slideshow": {
     "slide_type": "subslide"
    }
   },
   "source": [
    " ## Recall: How many positives did we lose?\n",
    "\n",
    "\n",
    " <img src=\"img/ag/Figure-03-031.png\" style=\"width: 60%; padding: 30px 100px 0\"/>"
   ]
  },
  {
   "cell_type": "markdown",
   "id": "5187be4f",
   "metadata": {
    "slideshow": {
     "slide_type": "subslide"
    }
   },
   "source": [
    " ## Recall: How many positives did we lose?\n",
    "\n",
    "\n",
    " <img src=\"img/ag/Figure-03-026.png\" style=\"width: 100%; padding: 30px 100px 0\"/>"
   ]
  },
  {
   "cell_type": "markdown",
   "id": "a7236cba",
   "metadata": {
    "slideshow": {
     "slide_type": "subslide"
    }
   },
   "source": [
    " ## Describing Classification Results\n",
    "\n",
    "\n",
    " <img src=\"img/ag/Figure-03-033.png\" style=\"width: 80%; padding: 30px 100px 0\"/>"
   ]
  },
  {
   "cell_type": "markdown",
   "id": "d1c5a357",
   "metadata": {
    "slideshow": {
     "slide_type": "subslide"
    }
   },
   "source": [
    " ## Describing Classification Results\n",
    "\n",
    "\n",
    " <img src=\"img/ag/Figure-03-034.png\" style=\"width: 100%; padding: 30px 100px 0\"/>"
   ]
  },
  {
   "cell_type": "markdown",
   "id": "eff97756",
   "metadata": {
    "slideshow": {
     "slide_type": "subslide"
    }
   },
   "source": [
    " ## Describing Classification Results\n",
    "\n",
    "\n",
    " <img src=\"img/ag/Figure-03-032.png\" style=\"width: 100%; padding: 30px 100px 0\"/>"
   ]
  },
  {
   "cell_type": "markdown",
   "id": "8d8dfe36",
   "metadata": {
    "slideshow": {
     "slide_type": "slide"
    }
   },
   "source": [
    " ## Precision/Recall Tradeoff\n",
    "\n",
    " <img src=\"img/ag/Figure-03-017.png\" style=\"width: 100%; padding: 30px 100px 0\"/>"
   ]
  },
  {
   "cell_type": "markdown",
   "id": "43656e93",
   "metadata": {
    "slideshow": {
     "slide_type": "subslide"
    }
   },
   "source": [
    "## Precision/Recall Tradeoff\n",
    "\n",
    "<img src=\"img/ag/Figure-03-035.png\" style=\"width: 100%; padding: 30px 100px 0\"/>"
   ]
  },
  {
   "cell_type": "markdown",
   "id": "8bde83d9",
   "metadata": {
    "slideshow": {
     "slide_type": "subslide"
    }
   },
   "source": [
    "## Precision/Recall Tradeoff\n",
    "\n",
    "<img src=\"img/ag/Figure-03-036.png\" style=\"width: 70%; padding: auto\"/>"
   ]
  },
  {
   "cell_type": "markdown",
   "id": "bc07e044",
   "metadata": {
    "slideshow": {
     "slide_type": "subslide"
    }
   },
   "source": [
    "## Precision/Recall Tradeoff\n",
    "\n",
    "<img src=\"img/ag/Figure-03-037.png\" style=\"width: 80%; padding: auto\"/>"
   ]
  },
  {
   "cell_type": "markdown",
   "id": "2aea0893",
   "metadata": {
    "slideshow": {
     "slide_type": "subslide"
    }
   },
   "source": [
    "## Precision/Recall Tradeoff\n",
    "\n",
    "<img src=\"img/ag/Figure-03-038.png\" style=\"width: 70%; padding: auto\"/>"
   ]
  },
  {
   "cell_type": "markdown",
   "id": "cad5902d",
   "metadata": {
    "slideshow": {
     "slide_type": "slide"
    }
   },
   "source": [
    " ## F1: Evaluating Precision/Recall Tradeoff\n",
    "\n",
    "\n",
    " <img src=\"img/ag/Figure-03-039.png\" style=\"width: 100%; padding: 30px 100px 0\"/>"
   ]
  },
  {
   "cell_type": "markdown",
   "id": "98239940",
   "metadata": {
    "slideshow": {
     "slide_type": "slide"
    }
   },
   "source": [
    " ## Imbalanced Data\n",
    "\n",
    " <img src=\"img/ag/Figure-03-020.png\" style=\"width: 60%; padding: 30px 100px 0\"/>"
   ]
  },
  {
   "cell_type": "markdown",
   "id": "dc6dd012",
   "metadata": {
    "slideshow": {
     "slide_type": "subslide"
    }
   },
   "source": [
    "## Imbalanced Data\n",
    "\n",
    "\n",
    " <img src=\"img/ag/Figure-03-040.png\" style=\"width: 60%; padding: 30px 100px 0\"/>"
   ]
  },
  {
   "cell_type": "markdown",
   "id": "a756c91f",
   "metadata": {
    "slideshow": {
     "slide_type": "subslide"
    }
   },
   "source": [
    "## Imbalanced Data\n",
    "\n",
    "\n",
    " <img src=\"img/ag/Figure-03-041.png\" style=\"width: 60%; padding: 30px 50px 0\"/>"
   ]
  },
  {
   "cell_type": "markdown",
   "id": "ded3e20a",
   "metadata": {
    "slideshow": {
     "slide_type": "subslide"
    }
   },
   "source": [
    "## Imbalanced Data\n",
    "\n",
    "\n",
    " <img src=\"img/ag/Figure-03-042.png\" style=\"width: 60%; padding: 30px 100px 0\"/>"
   ]
  },
  {
   "cell_type": "markdown",
   "id": "ef83ac77",
   "metadata": {
    "slideshow": {
     "slide_type": "subslide"
    }
   },
   "source": [
    "## Imbalanced Data\n",
    "\n",
    "\n",
    " <img src=\"img/ag/Figure-03-043.png\" style=\"width: 100%; padding: 30px 100px 0\"/>"
   ]
  },
  {
   "cell_type": "markdown",
   "id": "4adfa5c0",
   "metadata": {},
   "source": [
    "\n"
   ]
  }
 ],
 "metadata": {
  "jupytext": {
   "text_representation": {
    "extension": ".py",
    "format_name": "percent",
    "format_version": "1.3",
    "jupytext_version": "1.13.7"
   }
  },
  "kernelspec": {
   "display_name": "Python 3 (ipykernel)",
   "language": "python",
   "name": "python3"
  }
 },
 "nbformat": 4,
 "nbformat_minor": 5
}
