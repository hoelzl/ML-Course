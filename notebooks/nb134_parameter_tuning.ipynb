{
 "cells": [
  {
   "cell_type": "markdown",
   "id": "ae57967d",
   "metadata": {
    "slideshow": {
     "slide_type": "slide"
    }
   },
   "source": [
    "# MNIST with CNN"
   ]
  },
  {
   "cell_type": "code",
   "execution_count": null,
   "id": "1bce2559",
   "metadata": {},
   "outputs": [],
   "source": [
    "import joblib\n",
    "import numpy as np\n",
    "from pytorch_model_summary import summary\n",
    "import torch\n",
    "import torch.nn as nn\n",
    "import torch.nn.functional as F\n",
    "import torchvision\n",
    "import torchvision.transforms as transforms\n",
    "from mlcourse.config import Config\n",
    "from sklearn.metrics import classification_report\n",
    "from skorch import NeuralNetClassifier\n",
    "from skorch.helper import predefined_split\n",
    "from torchvision.transforms.functional import InterpolationMode\n",
    "from sklearn.model_selection import RandomizedSearchCV"
   ]
  },
  {
   "cell_type": "code",
   "execution_count": null,
   "id": "ef38cc07",
   "metadata": {},
   "outputs": [],
   "source": [
    "config = Config()"
   ]
  },
  {
   "cell_type": "code",
   "execution_count": null,
   "id": "462e2438",
   "metadata": {},
   "outputs": [],
   "source": [
    "input_size = 28 * 28\n",
    "num_classes = 10\n",
    "num_epochs = 5\n",
    "batch_size = 100\n",
    "learning_rate = 0.005\n",
    "device = \"cuda:0\" if torch.cuda.is_available() else \"cpu\""
   ]
  },
  {
   "cell_type": "code",
   "execution_count": null,
   "id": "654470f2",
   "metadata": {
    "slideshow": {
     "slide_type": "subslide"
    }
   },
   "outputs": [],
   "source": [
    "mnist_transforms = transforms.Compose(\n",
    "    [transforms.Resize((28, 28)), transforms.ToTensor()]\n",
    ")"
   ]
  },
  {
   "cell_type": "code",
   "execution_count": null,
   "id": "f154adac",
   "metadata": {},
   "outputs": [],
   "source": [
    "augmented_transforms = transforms.Compose(\n",
    "    [\n",
    "        transforms.RandomApply(\n",
    "            [\n",
    "                transforms.Resize((56, 56)),\n",
    "                transforms.RandomResizedCrop(\n",
    "                    28, (0.8, 1.0), interpolation=InterpolationMode.BICUBIC\n",
    "                ),\n",
    "                transforms.RandomApply(\n",
    "                    [\n",
    "                        transforms.RandomAffine(\n",
    "                            degrees=15.0,\n",
    "                            translate=(0.08, 0.8),\n",
    "                            interpolation=InterpolationMode.BICUBIC,\n",
    "                        )\n",
    "                    ],\n",
    "                    0.5,\n",
    "                ),\n",
    "            ]\n",
    "        ),\n",
    "        transforms.Resize((28, 28)),\n",
    "        transforms.ToTensor(),\n",
    "    ]\n",
    ")"
   ]
  },
  {
   "cell_type": "code",
   "execution_count": null,
   "id": "1d59f96c",
   "metadata": {},
   "outputs": [],
   "source": [
    "train_dataset = torchvision.datasets.MNIST(\n",
    "    root=\"./data\", train=True, transform=augmented_transforms, download=True\n",
    ")\n",
    "test_dataset = torchvision.datasets.MNIST(\n",
    "    root=\"./data\", train=False, transform=mnist_transforms, download=True\n",
    ")"
   ]
  },
  {
   "cell_type": "code",
   "execution_count": null,
   "id": "2636ec1b",
   "metadata": {},
   "outputs": [],
   "source": [
    "if \"x_train\" not in globals() or \"y_train\" not in globals():\n",
    "    x_train = np.stack([x.numpy() for x, _ in train_dataset])\n",
    "    y_train = np.array([y for _, y in train_dataset], dtype=np.int64)"
   ]
  },
  {
   "cell_type": "code",
   "execution_count": null,
   "id": "6fb54c2c",
   "metadata": {},
   "outputs": [],
   "source": [
    "type(x_train), type(y_train)"
   ]
  },
  {
   "cell_type": "code",
   "execution_count": null,
   "id": "6f6e6e23",
   "metadata": {},
   "outputs": [],
   "source": [
    "x_train.shape, y_train.shape"
   ]
  },
  {
   "cell_type": "code",
   "execution_count": null,
   "id": "d01b88b4",
   "metadata": {},
   "outputs": [],
   "source": [
    "x_train.dtype, y_train.dtype"
   ]
  },
  {
   "cell_type": "code",
   "execution_count": null,
   "id": "b7840a12",
   "metadata": {},
   "outputs": [],
   "source": [
    "y_test = np.array([y for _, y in test_dataset])"
   ]
  },
  {
   "cell_type": "code",
   "execution_count": null,
   "id": "5a91880e",
   "metadata": {},
   "outputs": [],
   "source": [
    "class ConvNet(nn.Module):\n",
    "    def __init__(self, kernels_1=10, kernels_2=20, hidden=60):\n",
    "        super().__init__()\n",
    "        self.kernels_2 = kernels_2\n",
    "        self.conv1 = nn.Conv2d(1, kernels_1, kernel_size=5, stride=(2, 2))\n",
    "        self.conv2 = nn.Conv2d(kernels_1, kernels_2, kernel_size=5, stride=(2, 2))\n",
    "        self.fc1 = nn.Linear(16 * kernels_2, hidden)\n",
    "        self.fc2 = nn.Linear(hidden, 10)\n",
    "\n",
    "    def forward(self, x):\n",
    "        x = F.relu(self.conv1(x))\n",
    "        x = F.relu(self.conv2(x))\n",
    "        x = x.view(-1, 16 * self.kernels_2)\n",
    "        x = F.relu(self.fc1(x))\n",
    "        x = F.softmax(self.fc2(x), dim=1)\n",
    "        return x"
   ]
  },
  {
   "cell_type": "code",
   "execution_count": null,
   "id": "62db3a61",
   "metadata": {
    "lines_to_next_cell": 2
   },
   "outputs": [],
   "source": [
    "net = ConvNet()\n",
    "print(summary(net, torch.zeros((1, 1, 28, 28)), show_input=True))\n",
    "print(summary(net, torch.zeros((1, 1, 28, 28)), show_input=False))"
   ]
  },
  {
   "cell_type": "code",
   "execution_count": null,
   "id": "839c3c1c",
   "metadata": {},
   "outputs": [],
   "source": [
    "net2 = ConvNet(kernels_1=25, kernels_2=40, hidden=128)\n",
    "print(summary(net2, torch.zeros((1, 1, 28, 28)), show_input=True))\n",
    "print(summary(net2, torch.zeros((1, 1, 28, 28)), show_input=False))"
   ]
  },
  {
   "cell_type": "code",
   "execution_count": null,
   "id": "10950a8c",
   "metadata": {},
   "outputs": [],
   "source": [
    "cnn_classifier = NeuralNetClassifier(\n",
    "    ConvNet,\n",
    "    # We added a softmax, so use NLLLoss instead of Cross Entropy\n",
    "    # criterion=nn.CrossEntropyLoss,\n",
    "    batch_size=100,\n",
    "    max_epochs=10,\n",
    "    optimizer=torch.optim.Adam,\n",
    "    lr=1e-3,\n",
    "    iterator_train__shuffle=True,\n",
    "    train_split=predefined_split(test_dataset),\n",
    "    device=device,\n",
    "    verbose=False,\n",
    ")"
   ]
  },
  {
   "cell_type": "code",
   "execution_count": null,
   "id": "3c9db8c0",
   "metadata": {},
   "outputs": [],
   "source": [
    "cnn_classifier = NeuralNetClassifier(\n",
    "    ConvNet,\n",
    "    batch_size=100,\n",
    "    max_epochs=10,\n",
    "    lr=0.1,\n",
    "    iterator_train__shuffle=True,\n",
    "    device=device,\n",
    "    verbose=False,\n",
    ")"
   ]
  },
  {
   "cell_type": "code",
   "execution_count": null,
   "id": "15ab3894",
   "metadata": {},
   "outputs": [],
   "source": [
    "cnn_classifier.fit(x_train, y_train)"
   ]
  },
  {
   "cell_type": "markdown",
   "id": "55304d4b",
   "metadata": {},
   "source": [
    "\n",
    "## Parameter Search with Cross-validation\n",
    "\n",
    "`RandomizedSearchCV` and `GridSearchCV` are scikit-learn *estimators* that\n",
    "perform a search for hyperparameters that lead to the best evaluation metrics.\n",
    "\n",
    "They use n-fold *cross-validation* to estimate the performance of each\n",
    "setting."
   ]
  },
  {
   "cell_type": "code",
   "execution_count": null,
   "id": "9a104ddc",
   "metadata": {},
   "outputs": [],
   "source": [
    "search = RandomizedSearchCV(\n",
    "    cnn_classifier,\n",
    "    n_iter=3,  # In reality this should be much higher...\n",
    "    cv=2,  # Use only two cross validation sets to save training time\n",
    "    verbose=3,\n",
    "    n_jobs=8,\n",
    "    param_distributions=[\n",
    "        {\n",
    "            \"module__kernels_1\": [10, 20],\n",
    "            \"module__kernels_2\": [30, 60],\n",
    "            \"module__hidden\": [120, 180],\n",
    "        },\n",
    "        {\n",
    "            \"module__kernels_1\": [30, 60],\n",
    "            \"module__kernels_2\": [80, 120],\n",
    "            \"module__hidden\": [360],\n",
    "        },\n",
    "    ],\n",
    ")"
   ]
  },
  {
   "cell_type": "code",
   "execution_count": null,
   "id": "fed014c1",
   "metadata": {},
   "outputs": [],
   "source": [
    "search.fit(x_train, y_train)"
   ]
  },
  {
   "cell_type": "code",
   "execution_count": null,
   "id": "694e23a3",
   "metadata": {},
   "outputs": [],
   "source": [
    "search.best_estimator_, search.best_params_"
   ]
  },
  {
   "cell_type": "code",
   "execution_count": null,
   "id": "56011150",
   "metadata": {},
   "outputs": [],
   "source": [
    "y_pred_search = search.predict(test_dataset)"
   ]
  },
  {
   "cell_type": "code",
   "execution_count": null,
   "id": "59695fa2",
   "metadata": {},
   "outputs": [],
   "source": [
    "print(classification_report(y_test, y_pred_search))"
   ]
  },
  {
   "cell_type": "code",
   "execution_count": null,
   "id": "7316ea87",
   "metadata": {},
   "outputs": [],
   "source": [
    "model_file = config.model_dir_path / \"mnist_conv_randomized_search.pkl\""
   ]
  },
  {
   "cell_type": "code",
   "execution_count": null,
   "id": "f2fc06ca",
   "metadata": {},
   "outputs": [],
   "source": [
    "joblib.dump(search, model_file)"
   ]
  },
  {
   "cell_type": "code",
   "execution_count": null,
   "id": "88906fbd",
   "metadata": {},
   "outputs": [],
   "source": [
    "search_loaded = joblib.load(model_file)"
   ]
  },
  {
   "cell_type": "code",
   "execution_count": null,
   "id": "b1dcd311",
   "metadata": {},
   "outputs": [],
   "source": [
    "y_pred_loaded = search_loaded.predict(test_dataset)"
   ]
  },
  {
   "cell_type": "code",
   "execution_count": null,
   "id": "1d2acdd8",
   "metadata": {},
   "outputs": [],
   "source": [
    "print(classification_report(y_test, y_pred_loaded))"
   ]
  },
  {
   "cell_type": "code",
   "execution_count": null,
   "id": "ee5de81d",
   "metadata": {},
   "outputs": [],
   "source": []
  }
 ],
 "metadata": {
  "kernelspec": {
   "display_name": "Python 3 (ipykernel)",
   "language": "python",
   "name": "python3"
  }
 },
 "nbformat": 4,
 "nbformat_minor": 5
}
