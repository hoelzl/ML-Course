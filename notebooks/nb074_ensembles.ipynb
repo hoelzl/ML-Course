{
 "cells": [
  {
   "cell_type": "markdown",
   "id": "266a0191",
   "metadata": {
    "slideshow": {
     "slide_type": "slide"
    }
   },
   "source": [
    "# Ensembles"
   ]
  },
  {
   "cell_type": "code",
   "execution_count": null,
   "id": "0505736e",
   "metadata": {
    "slideshow": {
     "slide_type": "subslide"
    }
   },
   "outputs": [],
   "source": [
    "import numpy as np\n",
    "import matplotlib.pyplot as plt\n",
    "import seaborn as sns\n",
    "from sklearn.metrics import mean_absolute_error, mean_squared_error\n",
    "from sklearn.linear_model import LinearRegression\n",
    "from sklearn.tree import DecisionTreeRegressor\n",
    "\n",
    "sns.set_theme()"
   ]
  },
  {
   "cell_type": "code",
   "execution_count": null,
   "id": "635996f6",
   "metadata": {
    "slideshow": {
     "slide_type": "subslide"
    }
   },
   "outputs": [],
   "source": [
    "rng = np.random.default_rng(42)\n",
    "\n",
    "x = rng.uniform(size=(150, 1), low=0.0, high=10.0)\n",
    "x_train, x_test = x[:100], x[100:]\n",
    "\n",
    "x_plot = np.linspace(0, 10, 500).reshape(-1, 1)"
   ]
  },
  {
   "cell_type": "code",
   "execution_count": null,
   "id": "bb07aa0e",
   "metadata": {
    "slideshow": {
     "slide_type": "subslide"
    }
   },
   "outputs": [],
   "source": [
    "def lin(x):\n",
    "    return 0.85 * x - 1.5"
   ]
  },
  {
   "cell_type": "code",
   "execution_count": null,
   "id": "38fb5214",
   "metadata": {
    "slideshow": {
     "slide_type": "-"
    }
   },
   "outputs": [],
   "source": [
    "def fun(x):\n",
    "    return 2 * np.sin(x) + 0.1 * x ** 2 - 2"
   ]
  },
  {
   "cell_type": "code",
   "execution_count": null,
   "id": "3f0f6ddf",
   "metadata": {
    "slideshow": {
     "slide_type": "-"
    }
   },
   "outputs": [],
   "source": [
    "def randomize(fun, x, scale=0.5):\n",
    "    return fun(x) + rng.normal(size=x.shape, scale=scale)"
   ]
  },
  {
   "cell_type": "code",
   "execution_count": null,
   "id": "78378737",
   "metadata": {
    "slideshow": {
     "slide_type": "subslide"
    }
   },
   "outputs": [],
   "source": [
    "def evaluate_non_random_regressor(reg_type, f_y, *args, **kwargs):\n",
    "    reg = reg_type(*args, **kwargs)\n",
    "\n",
    "    y_train = f_y(x_train).reshape(-1)\n",
    "    y_test = f_y(x_test).reshape(-1)\n",
    "\n",
    "    reg.fit(x_train, y_train)\n",
    "    y_pred = reg.predict(x_test)\n",
    "\n",
    "    x_plot = np.linspace(0, 10, 500).reshape(-1, 1)\n",
    "    fig, ax = plt.subplots(figsize=(20, 8))\n",
    "    sns.lineplot(x=x_plot[:, 0], y=reg.predict(x_plot), ax=ax)\n",
    "    sns.lineplot(x=x_plot[:, 0], y=f_y(x_plot[:, 0]), ax=ax)\n",
    "    sns.scatterplot(x=x_train[:, 0], y=y_train, ax=ax)\n",
    "    plt.show()\n",
    "\n",
    "    mae = mean_absolute_error(y_test, y_pred)\n",
    "    mse = mean_squared_error(y_test, y_pred)\n",
    "    rmse = np.sqrt(mean_squared_error(y_test, y_pred))\n",
    "    print(\n",
    "        \"\\nNo randomness:      \" f\"MAE = {mae:.2f}, MSE = {mse:.2f}, RMSE = {rmse:.2f}\"\n",
    "    )\n",
    "\n",
    "    return reg"
   ]
  },
  {
   "cell_type": "code",
   "execution_count": null,
   "id": "53a2e5d6",
   "metadata": {
    "slideshow": {
     "slide_type": "subslide"
    }
   },
   "outputs": [],
   "source": [
    "def plot_graphs(f_y, reg, reg_rand, reg_chaos, y_train, y_rand_train, y_chaos_train):\n",
    "    x_plot = np.linspace(0, 10, 500).reshape(-1, 1)\n",
    "    fig, ax = plt.subplots(figsize=(20, 12))\n",
    "    sns.lineplot(x=x_plot[:, 0], y=reg.predict(x_plot), ax=ax)\n",
    "    sns.scatterplot(x=x_train[:, 0], y=y_train, ax=ax)\n",
    "\n",
    "    sns.lineplot(x=x_plot[:, 0], y=reg_rand.predict(x_plot), ax=ax)\n",
    "    sns.scatterplot(x=x_train[:, 0], y=y_rand_train, ax=ax)\n",
    "\n",
    "    sns.lineplot(x=x_plot[:, 0], y=reg_chaos.predict(x_plot), ax=ax)\n",
    "    sns.scatterplot(x=x_train[:, 0], y=y_chaos_train, ax=ax)\n",
    "\n",
    "    sns.lineplot(x=x_plot[:, 0], y=f_y(x_plot[:, 0]), ax=ax)\n",
    "    plt.show()   "
   ]
  },
  {
   "cell_type": "code",
   "execution_count": null,
   "id": "d566089d",
   "metadata": {
    "slideshow": {
     "slide_type": "subslide"
    }
   },
   "outputs": [],
   "source": [
    "def print_evaluation(y_test, y_pred, y_rand_test, y_rand_pred, y_chaos_test, y_chaos_pred):\n",
    "    mae = mean_absolute_error(y_test, y_pred)\n",
    "    mae_rand = mean_absolute_error(y_rand_test, y_rand_pred)\n",
    "    mae_chaos = mean_absolute_error(y_chaos_test, y_chaos_pred)\n",
    "\n",
    "    mse = mean_squared_error(y_test, y_pred)\n",
    "    mse_rand = mean_squared_error(y_rand_test, y_rand_pred)\n",
    "    mse_chaos = mean_squared_error(y_chaos_test, y_chaos_pred)\n",
    "\n",
    "    rmse = np.sqrt(mean_squared_error(y_test, y_pred))\n",
    "    rmse_rand = np.sqrt(mean_squared_error(y_rand_test, y_rand_pred))\n",
    "    rmse_chaos = np.sqrt(mean_squared_error(y_chaos_test, y_chaos_pred))\n",
    "\n",
    "    print(\n",
    "        \"\\nNo randomness:      \" f\"MAE = {mae:.2f}, MSE = {mse:.2f}, RMSE = {rmse:.2f}\"\n",
    "    )\n",
    "    print(\n",
    "        \"Some randomness:    \"\n",
    "        f\"MAE = {mae_rand:.2f}, MSE = {mse_rand:.2f}, RMSE = {rmse_rand:.2f}\"\n",
    "    )\n",
    "    print(\n",
    "        \"Lots of randomness: \"\n",
    "        f\"MAE = {mae_chaos:.2f}, MSE = {mse_chaos:.2f}, RMSE = {rmse_chaos:.2f}\"\n",
    "    )"
   ]
  },
  {
   "cell_type": "code",
   "execution_count": null,
   "id": "307e37ec",
   "metadata": {
    "slideshow": {
     "slide_type": "subslide"
    }
   },
   "outputs": [],
   "source": [
    "def evaluate_regressor(reg_type, f_y, *args, **kwargs):\n",
    "    reg = reg_type(*args, **kwargs)\n",
    "    reg_rand = reg_type(*args, **kwargs)\n",
    "    reg_chaos = reg_type(*args, **kwargs)\n",
    "    \n",
    "    y_train = f_y(x_train).reshape(-1)\n",
    "    y_test = f_y(x_test).reshape(-1)\n",
    "    y_pred = reg.fit(x_train, y_train).predict(x_test)\n",
    "    \n",
    "    y_rand_train = randomize(f_y, x_train).reshape(-1)\n",
    "    y_rand_test = randomize(f_y, x_test).reshape(-1)\n",
    "    y_rand_pred = reg_rand.fit(x_train, y_rand_train).predict(x_test)\n",
    "\n",
    "    y_chaos_train = randomize(f_y, x_train, 1.5).reshape(-1)\n",
    "    y_chaos_test = randomize(f_y, x_test, 1.5).reshape(-1)\n",
    "    y_chaos_pred = reg_chaos.fit(x_train, y_chaos_train).predict(x_test)\n",
    "\n",
    "    plot_graphs(f_y, reg, reg_rand, reg_chaos, y_train, y_rand_train, y_chaos_train)\n",
    "    print_evaluation(y_test, y_pred, y_rand_test, y_rand_pred, y_chaos_test, y_chaos_pred)"
   ]
  },
  {
   "cell_type": "markdown",
   "id": "71538d8c",
   "metadata": {
    "slideshow": {
     "slide_type": "slide"
    }
   },
   "source": [
    "# Ensembles, Random Forests, Gradient Boosted Trees"
   ]
  },
  {
   "cell_type": "markdown",
   "id": "838c86a3",
   "metadata": {
    "slideshow": {
     "slide_type": "slide"
    }
   },
   "source": [
    "## Ensemble Methods\n",
    "\n",
    "Idea: combine several estimators to improve their overal performance.\n",
    "\n",
    "- Averaging methods: \n",
    "  - Independent estimators, average predictions\n",
    "  - Reduces variance (overfitting)\n",
    "  - Bagging, random forests\n",
    "- Boosting methods:\n",
    "  - Train estimators sequentially\n",
    "  - Each estimator is trained to reduce the bias of its (combined) predecessors"
   ]
  },
  {
   "cell_type": "markdown",
   "id": "96810537",
   "metadata": {
    "slideshow": {
     "slide_type": "subslide"
    }
   },
   "source": [
    "### Bagging\n",
    "\n",
    "- Averaging method: build several estimators of the same type, average their results\n",
    "- Needs some way to introduce differences between estimators\n",
    "  - Otherwise variance is not reduced\n",
    "  - Train on random subsets of the training data\n",
    "- Reduce overfitting\n",
    "- Work best with strong estimators (e.g., decision trees with (moderately) large depth)"
   ]
  },
  {
   "cell_type": "markdown",
   "id": "86aab78e",
   "metadata": {},
   "source": [
    "### Random Forests\n",
    "\n",
    "- Bagging classifier/regressor using decision trees\n",
    "- For each tree in the forest:\n",
    "  - Subset of training data\n",
    "  - Subset of features\n",
    "- Often significant reduction in variance (overfitting)\n",
    "- Sometimes increase in bias"
   ]
  },
  {
   "cell_type": "code",
   "execution_count": null,
   "id": "23c24c7a",
   "metadata": {
    "slideshow": {
     "slide_type": "subslide"
    }
   },
   "outputs": [],
   "source": [
    "from sklearn.ensemble import RandomForestRegressor"
   ]
  },
  {
   "cell_type": "code",
   "execution_count": null,
   "id": "4c751e29",
   "metadata": {
    "slideshow": {
     "slide_type": "subslide"
    }
   },
   "outputs": [],
   "source": [
    "evaluate_non_random_regressor(RandomForestRegressor, lin, random_state=42);"
   ]
  },
  {
   "cell_type": "code",
   "execution_count": null,
   "id": "8df96e88",
   "metadata": {
    "slideshow": {
     "slide_type": "subslide"
    }
   },
   "outputs": [],
   "source": [
    "evaluate_non_random_regressor(RandomForestRegressor, fun, random_state=42);"
   ]
  },
  {
   "cell_type": "code",
   "execution_count": null,
   "id": "e8e7c24e",
   "metadata": {
    "slideshow": {
     "slide_type": "subslide"
    }
   },
   "outputs": [],
   "source": [
    "evaluate_non_random_regressor(\n",
    "    RandomForestRegressor, fun, n_estimators=25, criterion=\"absolute_error\", random_state=42\n",
    ");"
   ]
  },
  {
   "cell_type": "code",
   "execution_count": null,
   "id": "4f9a9d03",
   "metadata": {
    "slideshow": {
     "slide_type": "subslide"
    }
   },
   "outputs": [],
   "source": [
    "evaluate_regressor(RandomForestRegressor, lin, random_state=42);"
   ]
  },
  {
   "cell_type": "code",
   "execution_count": null,
   "id": "8399beb5",
   "metadata": {
    "slideshow": {
     "slide_type": "subslide"
    }
   },
   "outputs": [],
   "source": [
    "evaluate_regressor(\n",
    "    RandomForestRegressor, lin, n_estimators=500, max_depth=3, random_state=42\n",
    ")"
   ]
  },
  {
   "cell_type": "code",
   "execution_count": null,
   "id": "14c1961a",
   "metadata": {
    "slideshow": {
     "slide_type": "subslide"
    }
   },
   "outputs": [],
   "source": [
    "evaluate_regressor(\n",
    "    RandomForestRegressor, lin, n_estimators=500, min_samples_leaf=6, random_state=42\n",
    ")"
   ]
  },
  {
   "cell_type": "code",
   "execution_count": null,
   "id": "da715cf8",
   "metadata": {
    "slideshow": {
     "slide_type": "subslide"
    }
   },
   "outputs": [],
   "source": [
    "evaluate_regressor(RandomForestRegressor, fun, random_state=42)"
   ]
  },
  {
   "cell_type": "code",
   "execution_count": null,
   "id": "7731bed2",
   "metadata": {
    "slideshow": {
     "slide_type": "subslide"
    }
   },
   "outputs": [],
   "source": [
    "evaluate_regressor(\n",
    "    RandomForestRegressor,\n",
    "    fun,\n",
    "    n_estimators=1000,\n",
    "    min_samples_leaf=6,\n",
    "    random_state=43,\n",
    "    n_jobs=-1,\n",
    ")"
   ]
  },
  {
   "cell_type": "markdown",
   "id": "8bb9f272",
   "metadata": {
    "slideshow": {
     "slide_type": "slide"
    }
   },
   "source": [
    "## Gradient Boosted Trees\n",
    "\n",
    "- Boosting method for both regression and classification\n",
    "- Requires differentiable loss function"
   ]
  },
  {
   "cell_type": "code",
   "execution_count": null,
   "id": "b59ea5cf",
   "metadata": {
    "slideshow": {
     "slide_type": "subslide"
    }
   },
   "outputs": [],
   "source": [
    "from sklearn.ensemble import GradientBoostingRegressor"
   ]
  },
  {
   "cell_type": "code",
   "execution_count": null,
   "id": "e2921b25",
   "metadata": {
    "slideshow": {
     "slide_type": "subslide"
    }
   },
   "outputs": [],
   "source": [
    "evaluate_non_random_regressor(GradientBoostingRegressor, lin);"
   ]
  },
  {
   "cell_type": "code",
   "execution_count": null,
   "id": "d6c009cf",
   "metadata": {
    "slideshow": {
     "slide_type": "subslide"
    }
   },
   "outputs": [],
   "source": [
    "evaluate_non_random_regressor(GradientBoostingRegressor, fun);"
   ]
  },
  {
   "cell_type": "code",
   "execution_count": null,
   "id": "35627c11",
   "metadata": {
    "slideshow": {
     "slide_type": "subslide"
    }
   },
   "outputs": [],
   "source": [
    "evaluate_regressor(GradientBoostingRegressor, lin);"
   ]
  },
  {
   "cell_type": "code",
   "execution_count": null,
   "id": "41fe2c53",
   "metadata": {
    "slideshow": {
     "slide_type": "subslide"
    }
   },
   "outputs": [],
   "source": [
    "evaluate_regressor(GradientBoostingRegressor, lin, n_estimators=200, learning_rate=0.05, loss=\"absolute_error\");"
   ]
  },
  {
   "cell_type": "code",
   "execution_count": null,
   "id": "7f70d99e",
   "metadata": {
    "slideshow": {
     "slide_type": "subslide"
    }
   },
   "outputs": [],
   "source": [
    "evaluate_regressor(GradientBoostingRegressor, lin, n_estimators=500, learning_rate=0.01,\n",
    "                   loss=\"absolute_error\", subsample=0.1, random_state=46);"
   ]
  },
  {
   "cell_type": "code",
   "execution_count": null,
   "id": "761ec596",
   "metadata": {
    "slideshow": {
     "slide_type": "subslide"
    }
   },
   "outputs": [],
   "source": [
    "evaluate_regressor(GradientBoostingRegressor, fun, n_estimators=500, learning_rate=0.01,\n",
    "                   loss=\"absolute_error\", subsample=0.1, random_state=44);"
   ]
  },
  {
   "cell_type": "markdown",
   "id": "274d4269",
   "metadata": {
    "slideshow": {
     "slide_type": "slide"
    }
   },
   "source": [
    "### Multiple Features"
   ]
  },
  {
   "cell_type": "code",
   "execution_count": null,
   "id": "914278f9",
   "metadata": {
    "slideshow": {
     "slide_type": "subslide"
    }
   },
   "outputs": [],
   "source": [
    "from sklearn.datasets import make_regression\n",
    "from sklearn.model_selection import train_test_split\n",
    "np.set_printoptions(precision=1)"
   ]
  },
  {
   "cell_type": "code",
   "execution_count": null,
   "id": "5e6187e8",
   "metadata": {},
   "outputs": [],
   "source": [
    "x, y, coef = make_regression(n_samples=250, n_features=4, n_informative=1, coef=True, random_state=42)\n",
    "x.shape, y.shape, coef"
   ]
  },
  {
   "cell_type": "code",
   "execution_count": null,
   "id": "72334bba",
   "metadata": {
    "slideshow": {
     "slide_type": "subslide"
    }
   },
   "outputs": [],
   "source": [
    "fig, axs = plt.subplots(ncols=2, nrows=2, figsize=(20, 12))\n",
    "for i, ax in enumerate(axs.reshape(-1)):\n",
    "    sns.scatterplot(x=x[:, i], y=y, ax=ax)"
   ]
  },
  {
   "cell_type": "code",
   "execution_count": null,
   "id": "86668657",
   "metadata": {
    "slideshow": {
     "slide_type": "subslide"
    }
   },
   "outputs": [],
   "source": [
    "x, y, coef = make_regression(n_samples=250, n_features=20, n_informative=10, coef=True, random_state=42)\n",
    "x.shape, y.shape, coef"
   ]
  },
  {
   "cell_type": "code",
   "execution_count": null,
   "id": "3743d0de",
   "metadata": {},
   "outputs": [],
   "source": [
    "x_train, x_test, y_train, y_test = train_test_split(x, y, test_size=0.4)\n",
    "x_train.shape, x_test.shape, y_train.shape, y_test.shape"
   ]
  },
  {
   "cell_type": "code",
   "execution_count": null,
   "id": "7e8bffaf",
   "metadata": {
    "slideshow": {
     "slide_type": "subslide"
    }
   },
   "outputs": [],
   "source": [
    "fig, axs = plt.subplots(ncols=2, nrows=2, figsize=(20, 12))\n",
    "for i in range(2):\n",
    "    sns.scatterplot(x=x[:, i], y=y, ax=axs[0, i]);\n",
    "for i in range(2):\n",
    "    sns.scatterplot(x=x[:, i + 6], y=y, ax=axs[1, i]);"
   ]
  },
  {
   "cell_type": "code",
   "execution_count": null,
   "id": "92bd24ab",
   "metadata": {
    "slideshow": {
     "slide_type": "subslide"
    }
   },
   "outputs": [],
   "source": [
    "lr_clf = LinearRegression()\n",
    "lr_clf.fit(x_train, y_train)\n",
    "y_lr_pred = lr_clf.predict(x_test)\n",
    "\n",
    "mean_absolute_error(y_test, y_lr_pred), mean_squared_error(y_test, y_lr_pred)"
   ]
  },
  {
   "cell_type": "code",
   "execution_count": null,
   "id": "4cb23e64",
   "metadata": {},
   "outputs": [],
   "source": [
    "lr_clf.coef_.astype(np.int32), coef.astype(np.int32)"
   ]
  },
  {
   "cell_type": "code",
   "execution_count": null,
   "id": "f3885c43",
   "metadata": {
    "slideshow": {
     "slide_type": "subslide"
    }
   },
   "outputs": [],
   "source": [
    "dt_clf = DecisionTreeRegressor()\n",
    "dt_clf.fit(x_train, y_train)\n",
    "y_dt_pred = dt_clf.predict(x_test)\n",
    "\n",
    "mean_absolute_error(y_test, y_dt_pred), mean_squared_error(y_test, y_dt_pred)"
   ]
  },
  {
   "cell_type": "code",
   "execution_count": null,
   "id": "a3e6f83a",
   "metadata": {
    "slideshow": {
     "slide_type": "subslide"
    }
   },
   "outputs": [],
   "source": [
    "rf_clf = RandomForestRegressor()\n",
    "rf_clf.fit(x_train, y_train)\n",
    "y_rf_pred = rf_clf.predict(x_test)\n",
    "\n",
    "mean_absolute_error(y_test, y_rf_pred), mean_squared_error(y_test, y_rf_pred)"
   ]
  },
  {
   "cell_type": "code",
   "execution_count": null,
   "id": "ff568cde",
   "metadata": {
    "slideshow": {
     "slide_type": "subslide"
    }
   },
   "outputs": [],
   "source": [
    "gb_clf = GradientBoostingRegressor()\n",
    "gb_clf.fit(x_train, y_train)\n",
    "y_gb_pred = gb_clf.predict(x_test)\n",
    "\n",
    "mean_absolute_error(y_test, y_gb_pred), mean_squared_error(y_test, y_gb_pred)"
   ]
  },
  {
   "cell_type": "code",
   "execution_count": null,
   "id": "0df50f3e",
   "metadata": {
    "slideshow": {
     "slide_type": "subslide"
    }
   },
   "outputs": [],
   "source": [
    "x, y, coef = make_regression(n_samples=250, n_features=20, n_informative=10, noise=100.0, coef=True, random_state=42)\n",
    "x.shape, y.shape, coef"
   ]
  },
  {
   "cell_type": "code",
   "execution_count": null,
   "id": "ec297358",
   "metadata": {},
   "outputs": [],
   "source": [
    "x_train, x_test, y_train, y_test = train_test_split(x, y, test_size=0.4)\n",
    "x_train.shape, x_test.shape, y_train.shape, y_test.shape"
   ]
  },
  {
   "cell_type": "code",
   "execution_count": null,
   "id": "fccf21d3",
   "metadata": {
    "slideshow": {
     "slide_type": "subslide"
    }
   },
   "outputs": [],
   "source": [
    "lr_clf = LinearRegression()\n",
    "lr_clf.fit(x_train, y_train)\n",
    "y_lr_pred = lr_clf.predict(x_test)\n",
    "\n",
    "mean_absolute_error(y_test, y_lr_pred), mean_squared_error(y_test, y_lr_pred)"
   ]
  },
  {
   "cell_type": "code",
   "execution_count": null,
   "id": "36974e28",
   "metadata": {
    "slideshow": {
     "slide_type": "subslide"
    }
   },
   "outputs": [],
   "source": [
    "dt_clf = DecisionTreeRegressor()\n",
    "dt_clf.fit(x_train, y_train)\n",
    "y_dt_pred = dt_clf.predict(x_test)\n",
    "\n",
    "mean_absolute_error(y_test, y_dt_pred), mean_squared_error(y_test, y_dt_pred)"
   ]
  },
  {
   "cell_type": "code",
   "execution_count": null,
   "id": "b0a85364",
   "metadata": {
    "slideshow": {
     "slide_type": "subslide"
    }
   },
   "outputs": [],
   "source": [
    "rf_clf = RandomForestRegressor()\n",
    "rf_clf.fit(x_train, y_train)\n",
    "y_rf_pred = rf_clf.predict(x_test)\n",
    "\n",
    "mean_absolute_error(y_test, y_rf_pred), mean_squared_error(y_test, y_rf_pred)"
   ]
  },
  {
   "cell_type": "code",
   "execution_count": null,
   "id": "c6aea7de",
   "metadata": {
    "slideshow": {
     "slide_type": "subslide"
    }
   },
   "outputs": [],
   "source": [
    "gb_clf = GradientBoostingRegressor()\n",
    "gb_clf.fit(x_train, y_train)\n",
    "y_gb_pred = gb_clf.predict(x_test)\n",
    "\n",
    "mean_absolute_error(y_test, y_gb_pred), mean_squared_error(y_test, y_gb_pred)"
   ]
  },
  {
   "cell_type": "code",
   "execution_count": null,
   "id": "d784d2cf",
   "metadata": {
    "slideshow": {
     "slide_type": "subslide"
    }
   },
   "outputs": [],
   "source": [
    "x, y, coef = make_regression(n_samples=250, n_features=20, n_informative=10, noise=100.0,\n",
    "                             coef=True, random_state=42)\n",
    "y += (20 * x[:, 1]) ** 2\n",
    "x.shape, y.shape, coef"
   ]
  },
  {
   "cell_type": "code",
   "execution_count": null,
   "id": "20928c2e",
   "metadata": {},
   "outputs": [],
   "source": [
    "x_train, x_test, y_train, y_test = train_test_split(x, y, test_size=0.4)\n",
    "x_train.shape, x_test.shape, y_train.shape, y_test.shape"
   ]
  },
  {
   "cell_type": "code",
   "execution_count": null,
   "id": "a3253b3f",
   "metadata": {
    "slideshow": {
     "slide_type": "subslide"
    }
   },
   "outputs": [],
   "source": [
    "fig, axs = plt.subplots(ncols=2, nrows=2, figsize=(20, 12))\n",
    "for i in range(2):\n",
    "    sns.scatterplot(x=x[:, i], y=y, ax=axs[0, i]);\n",
    "for i in range(2):\n",
    "    sns.scatterplot(x=x[:, i + 6], y=y, ax=axs[1, i]);"
   ]
  },
  {
   "cell_type": "code",
   "execution_count": null,
   "id": "e6c13e1e",
   "metadata": {
    "slideshow": {
     "slide_type": "subslide"
    }
   },
   "outputs": [],
   "source": [
    "lr_clf = LinearRegression()\n",
    "lr_clf.fit(x_train, y_train)\n",
    "y_lr_pred = lr_clf.predict(x_test)\n",
    "\n",
    "mean_absolute_error(y_test, y_lr_pred), mean_squared_error(y_test, y_lr_pred)"
   ]
  },
  {
   "cell_type": "code",
   "execution_count": null,
   "id": "f78e547e",
   "metadata": {
    "slideshow": {
     "slide_type": "subslide"
    }
   },
   "outputs": [],
   "source": [
    "dt_clf = DecisionTreeRegressor()\n",
    "dt_clf.fit(x_train, y_train)\n",
    "y_dt_pred = dt_clf.predict(x_test)\n",
    "\n",
    "mean_absolute_error(y_test, y_dt_pred), mean_squared_error(y_test, y_dt_pred)"
   ]
  },
  {
   "cell_type": "code",
   "execution_count": null,
   "id": "0bfe31ab",
   "metadata": {
    "slideshow": {
     "slide_type": "subslide"
    }
   },
   "outputs": [],
   "source": [
    "rf_clf = RandomForestRegressor()\n",
    "rf_clf.fit(x_train, y_train)\n",
    "y_rf_pred = rf_clf.predict(x_test)\n",
    "\n",
    "mean_absolute_error(y_test, y_rf_pred), mean_squared_error(y_test, y_rf_pred)"
   ]
  },
  {
   "cell_type": "code",
   "execution_count": null,
   "id": "a45b5ac9",
   "metadata": {
    "slideshow": {
     "slide_type": "subslide"
    }
   },
   "outputs": [],
   "source": [
    "gb_clf = GradientBoostingRegressor()\n",
    "gb_clf.fit(x_train, y_train)\n",
    "y_gb_pred = gb_clf.predict(x_test)\n",
    "\n",
    "mean_absolute_error(y_test, y_gb_pred), mean_squared_error(y_test, y_gb_pred)"
   ]
  },
  {
   "cell_type": "markdown",
   "id": "eb8cb9f4",
   "metadata": {
    "slideshow": {
     "slide_type": "slide"
    }
   },
   "source": [
    "\n",
    " ## Feature Engineering"
   ]
  },
  {
   "cell_type": "code",
   "execution_count": null,
   "id": "0349e0b6",
   "metadata": {
    "slideshow": {
     "slide_type": "subslide"
    }
   },
   "outputs": [],
   "source": [
    "x = rng.uniform(size=(150, 1), low=0.0, high=10.0)\n",
    "x_train, x_test = x[:100], x[100:]\n",
    "x_plot = np.linspace(0, 10, 500)\n",
    "x_train[:3]"
   ]
  },
  {
   "cell_type": "code",
   "execution_count": null,
   "id": "fbc1bc81",
   "metadata": {
    "slideshow": {
     "slide_type": "subslide"
    }
   },
   "outputs": [],
   "source": [
    "y_lin_train = lin(x_train).reshape(-1)\n",
    "y_lin_test = lin(x_test).reshape(-1)\n",
    "y_fun_train = fun(x_train.reshape(-1))\n",
    "y_fun_test = fun(x_test).reshape(-1)"
   ]
  },
  {
   "cell_type": "code",
   "execution_count": null,
   "id": "f4a6f136",
   "metadata": {
    "slideshow": {
     "slide_type": "subslide"
    }
   },
   "outputs": [],
   "source": [
    "x_squares = x * x\n",
    "x_squares[:3]"
   ]
  },
  {
   "cell_type": "code",
   "execution_count": null,
   "id": "329d0057",
   "metadata": {
    "slideshow": {
     "slide_type": "subslide"
    }
   },
   "outputs": [],
   "source": [
    "x_sins = np.sin(x)\n",
    "x_sins[:3]"
   ]
  },
  {
   "cell_type": "code",
   "execution_count": null,
   "id": "6ffc20a7",
   "metadata": {
    "slideshow": {
     "slide_type": "subslide"
    }
   },
   "outputs": [],
   "source": [
    "x_train_aug = np.concatenate([x_train, x_train * x_train, np.sin(x_train)], axis=1)\n",
    "x_train_aug[:3]"
   ]
  },
  {
   "cell_type": "code",
   "execution_count": null,
   "id": "6091293d",
   "metadata": {
    "slideshow": {
     "slide_type": "subslide"
    }
   },
   "outputs": [],
   "source": [
    "x_test_aug = np.concatenate([x_test, x_test * x_test, np.sin(x_test)], axis=1)"
   ]
  },
  {
   "cell_type": "code",
   "execution_count": null,
   "id": "e9f3cff0",
   "metadata": {
    "slideshow": {
     "slide_type": "subslide"
    }
   },
   "outputs": [],
   "source": [
    "# from sklearn.linear_model import Ridge\n",
    "# lr_aug_lin = Ridge()\n",
    "lr_aug_lin = LinearRegression()\n",
    "lr_aug_lin.fit(x_train_aug, y_lin_train);"
   ]
  },
  {
   "cell_type": "code",
   "execution_count": null,
   "id": "e2217d25",
   "metadata": {
    "lines_to_next_cell": 2,
    "slideshow": {
     "slide_type": "subslide"
    }
   },
   "outputs": [],
   "source": [
    "lr_aug_lin.coef_, lr_aug_lin.intercept_"
   ]
  },
  {
   "cell_type": "code",
   "execution_count": null,
   "id": "88608761",
   "metadata": {
    "slideshow": {
     "slide_type": "subslide"
    }
   },
   "outputs": [],
   "source": [
    "y_aug_lin_pred = lr_aug_lin.predict(x_test_aug)"
   ]
  },
  {
   "cell_type": "code",
   "execution_count": null,
   "id": "76256dc9",
   "metadata": {
    "slideshow": {
     "slide_type": "subslide"
    }
   },
   "outputs": [],
   "source": [
    "mean_absolute_error(y_lin_test, y_aug_lin_pred), mean_squared_error(\n",
    "    y_lin_test, y_aug_lin_pred\n",
    ")"
   ]
  },
  {
   "cell_type": "code",
   "execution_count": null,
   "id": "23282a2c",
   "metadata": {
    "slideshow": {
     "slide_type": "subslide"
    }
   },
   "outputs": [],
   "source": [
    "x_test.shape, x_plot.shape"
   ]
  },
  {
   "cell_type": "code",
   "execution_count": null,
   "id": "47339dc1",
   "metadata": {
    "slideshow": {
     "slide_type": "subslide"
    }
   },
   "outputs": [],
   "source": [
    "def train_and_plot_aug(f_y, scale=0.5):\n",
    "    y_plot = f_y(x_plot)\n",
    "    \n",
    "    f_r = lambda x: randomize(f_y, x, scale=scale)\n",
    "    y_train = f_r(x_train_aug[:, 0])\n",
    "    y_test = f_r(x_test)\n",
    "    \n",
    "    lr_aug = LinearRegression() # Try with Ridge() as well...\n",
    "    lr_aug.fit(x_train_aug, y_train)\n",
    "    y_pred_test = lr_aug.predict(\n",
    "                      np.concatenate([x_test, x_test * x_test, np.sin(x_test)], axis=1)\n",
    "                   )\n",
    "    x_plot2 = x_plot.reshape(-1, 1)\n",
    "    y_pred_plot = lr_aug.predict(\n",
    "                     np.concatenate([x_plot2, x_plot2 * x_plot2, np.sin(x_plot2)], axis=1)\n",
    "                  )\n",
    "    \n",
    "    fig, ax = plt.subplots(figsize=(12, 6))\n",
    "    sns.scatterplot(x=x_plot2[:, 0], y=y_plot, color=\"orange\")\n",
    "    sns.scatterplot(x=x_plot2[:, 0], y=y_pred_plot, color=\"red\")\n",
    "    sns.scatterplot(x=x_train_aug[:, 0], y=y_train, color=\"green\")\n",
    "    plt.show()\n",
    "\n",
    "    mae_in = mean_absolute_error(y_test, y_pred_test)\n",
    "    mse_in = mean_absolute_error(y_test, y_pred_test)\n",
    "    rmse_in = np.sqrt(mse_in)\n",
    "\n",
    "    y_nr = f_y(x_test)\n",
    "    mae_true = mean_absolute_error(y_nr, y_pred_test)\n",
    "    mse_true = mean_absolute_error(y_nr, y_pred_test)\n",
    "    rmse_true = np.sqrt(mse_true)\n",
    "\n",
    "    print(f\"Vs. input: MAE: {mae_in:.2f}, MSE: {mse_in:.2f}, RMSE: {rmse_in:.2f}\")\n",
    "    print(f\"True:      MAE: {mae_true:.2f}, MSE: {mse_true:.2f}, RMSE: {rmse_true:.2f}\")\n",
    "    print(f\"Parameters: {lr_aug.coef_}, {lr_aug.intercept_}\")"
   ]
  },
  {
   "cell_type": "code",
   "execution_count": null,
   "id": "7bf7e49b",
   "metadata": {
    "slideshow": {
     "slide_type": "subslide"
    }
   },
   "outputs": [],
   "source": [
    "train_and_plot_aug(lin)"
   ]
  },
  {
   "cell_type": "code",
   "execution_count": null,
   "id": "1d524264",
   "metadata": {
    "slideshow": {
     "slide_type": "subslide"
    }
   },
   "outputs": [],
   "source": [
    "train_and_plot_aug(fun, scale=0.0)"
   ]
  },
  {
   "cell_type": "code",
   "execution_count": null,
   "id": "7513bf68",
   "metadata": {
    "slideshow": {
     "slide_type": "subslide"
    }
   },
   "outputs": [],
   "source": [
    "train_and_plot_aug(fun, scale=0.5)"
   ]
  },
  {
   "cell_type": "code",
   "execution_count": null,
   "id": "49f9eb88",
   "metadata": {
    "slideshow": {
     "slide_type": "subslide"
    }
   },
   "outputs": [],
   "source": [
    "train_and_plot_aug(fun, scale=1.5)"
   ]
  },
  {
   "cell_type": "code",
   "execution_count": null,
   "id": "cd972f87",
   "metadata": {
    "slideshow": {
     "slide_type": "subslide"
    }
   },
   "outputs": [],
   "source": [
    "train_and_plot_aug(fun, scale=3)"
   ]
  },
  {
   "cell_type": "code",
   "execution_count": null,
   "id": "15d02982",
   "metadata": {},
   "outputs": [],
   "source": [
    "def fun2(x): return 2.8 * np.sin(x) + 0.3 * x + 0.08 * x ** 2 - 2.5\n",
    "\n",
    "train_and_plot_aug(fun2, scale=1.5)"
   ]
  },
  {
   "cell_type": "code",
   "execution_count": null,
   "id": "9161871c",
   "metadata": {},
   "outputs": [],
   "source": [
    "train_and_plot_aug(lambda x: np.select([x<=6, x>6], [-0.5, 3.5]))"
   ]
  },
  {
   "cell_type": "code",
   "execution_count": null,
   "id": "6e892d6d",
   "metadata": {},
   "outputs": [],
   "source": []
  }
 ],
 "metadata": {
  "jupytext": {
   "text_representation": {
    "extension": ".py",
    "format_name": "percent",
    "format_version": "1.3",
    "jupytext_version": "1.13.7"
   }
  },
  "kernelspec": {
   "display_name": "Python 3 (ipykernel)",
   "language": "python",
   "name": "python3"
  }
 },
 "nbformat": 4,
 "nbformat_minor": 5
}
