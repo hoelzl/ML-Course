{
 "cells": [
  {
   "cell_type": "markdown",
   "id": "e207bd57",
   "metadata": {
    "slideshow": {
     "slide_type": "slide"
    }
   },
   "source": [
    "<h1 style=\"text-align:center;\">Machine Learning for Programmers</h1>\n",
    "<h2 style=\"text-align:center;\">What is ML?</h2>\n",
    "<h3 style=\"text-align:center;\">Dr. Matthias Hölzl</h3>\n"
   ]
  },
  {
   "cell_type": "markdown",
   "id": "0020d9db",
   "metadata": {
    "slideshow": {
     "slide_type": "slide"
    }
   },
   "source": [
    "# Biological Inspiration\n",
    "\n",
    "<img src=\"img/ag/Figure-10-001.png\" style=\"width: 80%; margin-left: auto; margin-right: auto;\"/>"
   ]
  },
  {
   "cell_type": "markdown",
   "id": "14e6368f",
   "metadata": {
    "slideshow": {
     "slide_type": "slide"
    }
   },
   "source": [
    "# The Origins of Machine Learning\n",
    "\n",
    "*A computer can be programmed so that it will learn to play a better game of checkers than can be played by the person who wrote the program.* (Arthur Samuel, 1959)\n",
    "\n",
    "*Programming computers to learn from experience should eventually eliminate the need for much of this detailed programming effort.* (Arthur Samuel, 1959)"
   ]
  },
  {
   "cell_type": "markdown",
   "id": "caa3c6b9",
   "metadata": {
    "slideshow": {
     "slide_type": "subslide"
    }
   },
   "source": [
    "# One Answer (Andrew Glassner)\n",
    "\n",
    "The phrase *machine learning* describes a growing body of techniques that all have one goal: discover meaningful information from  data. \n",
    "\n",
    "Here, “data” refers to anything that can be recorded and measured. [...]\n",
    "\n",
    "\"Meaningful information\" is whatever we can extract from the data that  will be useful to us in some way."
   ]
  },
  {
   "cell_type": "markdown",
   "id": "ec56856d",
   "metadata": {
    "slideshow": {
     "slide_type": "subslide"
    }
   },
   "source": [
    "# Andrew Glassner's Books\n",
    "\n",
    "<img src=\"img/glassner-book.jpg\" style=\"width: 60%; margin-left: auto; margin-right: auto;\"/>"
   ]
  },
  {
   "cell_type": "markdown",
   "id": "a8c0a41e",
   "metadata": {
    "slideshow": {
     "slide_type": "slide"
    }
   },
   "source": [
    "<img src=\"img/ag/Figure-01-001.png\">"
   ]
  },
  {
   "cell_type": "markdown",
   "id": "9aa3d2ce",
   "metadata": {
    "slideshow": {
     "slide_type": "subslide"
    }
   },
   "source": [
    "<img src=\"img/ag/Figure-01-002.png\">"
   ]
  },
  {
   "cell_type": "markdown",
   "id": "dceae06e",
   "metadata": {
    "slideshow": {
     "slide_type": "slide"
    }
   },
   "source": [
    "# Another Answer (paraphrasing François Chollet)\n",
    "\n",
    "- A part of Artificial Intelligence (AI)\n",
    "- AI: Making computers solve problems that could previously only be tackled by humans\n",
    "- AI doesn't have to involve learning, e.g., expert systems\n",
    "- ML: Improving behavior with additional data"
   ]
  },
  {
   "cell_type": "markdown",
   "id": "596d2c3b",
   "metadata": {
    "slideshow": {
     "slide_type": "slide"
    }
   },
   "source": [
    "# Example: MNIST Data\n",
    "\n",
    "<img src=\"img/ag/Figure-01-023.png\" style=\"float: right;width: 40%;\"/>\n",
    "\n",
    "We want to recognize hand-written digits:"
   ]
  },
  {
   "cell_type": "markdown",
   "id": "521f5c5d",
   "metadata": {
    "slideshow": {
     "slide_type": "subslide"
    }
   },
   "source": [
    "## Rule-based Systems: Feature Engineering\n",
    "\n",
    "Extraction of relevant features from data by humans."
   ]
  },
  {
   "cell_type": "markdown",
   "id": "cbe3673c",
   "metadata": {
    "slideshow": {
     "slide_type": "subslide"
    }
   },
   "source": [
    "<img src=\"img/ag/Figure-01-003.png\" style=\"width: 40%; margin-left: auto; margin-right: auto;\">"
   ]
  },
  {
   "cell_type": "markdown",
   "id": "9c665bac",
   "metadata": {
    "slideshow": {
     "slide_type": "subslide"
    }
   },
   "source": [
    "<img src=\"img/ag/Figure-01-004.png\" style=\"width: 20%; margin-left: auto; margin-right: auto;\">"
   ]
  },
  {
   "cell_type": "markdown",
   "id": "607eff94",
   "metadata": {
    "slideshow": {
     "slide_type": "slide"
    }
   },
   "source": [
    "# Supervised Learning (Classification)\n",
    "\n",
    "(Learning from labeled data)\n",
    "\n",
    "<img src=\"img/ag/Figure-01-007.png\" style=\"width: 70%; margin-left: auto; margin-right: auto;\"/>"
   ]
  },
  {
   "cell_type": "markdown",
   "id": "896c2693",
   "metadata": {
    "slideshow": {
     "slide_type": "subslide"
    }
   },
   "source": [
    "## Training a Classifier\n",
    "\n",
    "- Show lots of labeled data to a learner\n",
    "- Check whether it can correctly classify samples based on features\n",
    "\n",
    "- Evaluation must be based on different data than training\n",
    "- Otherwise the learner could just store the examples it has seen"
   ]
  },
  {
   "cell_type": "markdown",
   "id": "af94afce",
   "metadata": {
    "slideshow": {
     "slide_type": "subslide"
    }
   },
   "source": [
    "## Often: Training Loop\n",
    "\n",
    "<img src=\"img/ag/Figure-08-001.png\" style=\"width: 20%; margin-left: auto; margin-right: auto;\"/>"
   ]
  },
  {
   "cell_type": "markdown",
   "id": "6744b7ef",
   "metadata": {
    "slideshow": {
     "slide_type": "slide"
    }
   },
   "source": [
    "# Back to MNIST Data\n",
    "\n",
    "<img src=\"img/ag/Figure-01-023.png\" style=\"float: right;width: 40%;\"/>\n",
    "\n",
    "Let's try this in practice:"
   ]
  },
  {
   "cell_type": "code",
   "execution_count": null,
   "id": "45bf69a1",
   "metadata": {
    "slideshow": {
     "slide_type": "slide"
    }
   },
   "outputs": [],
   "source": []
  }
 ],
 "metadata": {
  "jupytext": {
   "text_representation": {
    "extension": ".py",
    "format_name": "percent",
    "format_version": "1.3",
    "jupytext_version": "1.13.7"
   }
  },
  "kernelspec": {
   "display_name": "Python 3 (ipykernel)",
   "language": "python",
   "name": "python3"
  }
 },
 "nbformat": 4,
 "nbformat_minor": 5
}
