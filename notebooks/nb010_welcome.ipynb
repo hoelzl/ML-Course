{
 "cells": [
  {
   "cell_type": "markdown",
   "id": "b060d8f5",
   "metadata": {
    "slideshow": {
     "slide_type": "slide"
    }
   },
   "source": [
    "<div style=\"padding: 0 40px 0 0;\">\n",
    "<img src=\"img/cam-logo.svg\"\n",
    "     style=\"display:block;margin:auto;width:15%\"/>\n",
    "</div>\n",
    "\n",
    "<br/>\n",
    "\n",
    "<h1 style=\"text-align:center;\">Machine Learning for Programmers</h1>\n",
    "<h2 style=\"text-align:center;\">Welcome!</h2>\n",
    "<h3 style=\"text-align:center;\">Dr. Matthias Hölzl</h3>\n"
   ]
  },
  {
   "cell_type": "markdown",
   "id": "d756380e",
   "metadata": {
    "slideshow": {
     "slide_type": "slide"
    }
   },
   "source": [
    "# What this Course is About:\n",
    "\n",
    "Learn to \n",
    "\n",
    "* exploit the awsome powers of machine learning,\n",
    "* build ML powered applications and services.\n",
    "\n",
    "Understand the strengths and weaknesses of ML."
   ]
  },
  {
   "cell_type": "markdown",
   "id": "0ead5c80",
   "metadata": {
    "slideshow": {
     "slide_type": "subslide"
    }
   },
   "source": [
    "# What this Course is Not About:\n",
    "\n",
    "* Big Data\n",
    "* Data Engineering\n",
    "* DevOps"
   ]
  },
  {
   "cell_type": "markdown",
   "id": "8127803a",
   "metadata": {
    "slideshow": {
     "slide_type": "slide"
    }
   },
   "source": [
    "# Contents\n",
    "\n",
    "* What is ML?\n",
    "* Data analysis, visualization and preparation\n",
    "* Traditional ML: scikit-learn\n",
    "* Deep Learning: PyTorch\n",
    "* Moving ML into production"
   ]
  },
  {
   "cell_type": "markdown",
   "id": "cfa91369",
   "metadata": {
    "slideshow": {
     "slide_type": "slide"
    }
   },
   "source": [
    "# Prerequisites\n",
    "\n",
    "* Python\n",
    "  - functions, classes\n",
    "  - built-in data types\n",
    "  - modules, packages\n",
    "* Basics of using `git`"
   ]
  },
  {
   "cell_type": "markdown",
   "id": "7688b5f0",
   "metadata": {
    "slideshow": {
     "slide_type": "subslide"
    }
   },
   "source": [
    "<h1 style=\"text-align:center;\">Let's get started!</h1>"
   ]
  },
  {
   "cell_type": "markdown",
   "id": "da211539",
   "metadata": {
    "slideshow": {
     "slide_type": "slide"
    }
   },
   "source": []
  }
 ],
 "metadata": {
  "jupytext": {
   "text_representation": {
    "extension": ".py",
    "format_name": "percent",
    "format_version": "1.3",
    "jupytext_version": "1.13.7"
   }
  },
  "kernelspec": {
   "display_name": "Python 3 (ipykernel)",
   "language": "python",
   "name": "python3"
  }
 },
 "nbformat": 4,
 "nbformat_minor": 5
}
