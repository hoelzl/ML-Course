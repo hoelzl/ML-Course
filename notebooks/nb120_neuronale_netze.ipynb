{
 "cells": [
  {
   "cell_type": "markdown",
   "id": "398ef611",
   "metadata": {
    "slideshow": {
     "slide_type": "slide"
    }
   },
   "source": [
    "# Neuronale Netze"
   ]
  },
  {
   "cell_type": "markdown",
   "id": "3f5b0975",
   "metadata": {
    "slideshow": {
     "slide_type": "subslide"
    }
   },
   "source": [
    "<img src=\"img/ag/Figure-01-021.png\" style=\"float: center; width: 30%; margin-left: auto; margin-right: auto;\"/>"
   ]
  },
  {
   "cell_type": "markdown",
   "id": "cde19d14",
   "metadata": {
    "slideshow": {
     "slide_type": "subslide"
    }
   },
   "source": [
    "## Neuronen\n",
    "\n",
    "<img src=\"img/ag/Figure-10-001.png\" style=\"width: 80%; margin-left: auto; margin-right: auto;\"/>"
   ]
  },
  {
   "cell_type": "markdown",
   "id": "114076cb",
   "metadata": {
    "slideshow": {
     "slide_type": "subslide"
    }
   },
   "source": [
    "## Künstliche Neuronen\n",
    "\n",
    "<img src=\"img/ag/Figure-10-006.png\" style=\"width: 60%; margin-left: auto; margin-right: auto;\"/>"
   ]
  },
  {
   "cell_type": "markdown",
   "id": "45d5435a",
   "metadata": {
    "slideshow": {
     "slide_type": "subslide"
    }
   },
   "source": [
    "## Künstliche Neuronen\n",
    "\n",
    "<img src=\"img/ag/Figure-10-004.png\" style=\"width: 30%; margin-left: auto; margin-right: auto;\"/>"
   ]
  },
  {
   "cell_type": "markdown",
   "id": "b083cd92",
   "metadata": {
    "slideshow": {
     "slide_type": "subslide"
    }
   },
   "source": [
    "## Neuronale Netze\n",
    "\n",
    "<img src=\"img/neural-net-01.drawio.png\" style=\"width: 30%; margin-left: auto; margin-right: auto;\"/>"
   ]
  },
  {
   "cell_type": "markdown",
   "id": "5e43720b",
   "metadata": {
    "slideshow": {
     "slide_type": "subslide"
    }
   },
   "source": [
    "## Neuronale Netze\n",
    "\n",
    "<img src=\"img/neural-net-02.drawio.png\" style=\"width: 30%; margin-left: auto; margin-right: auto;\"/>"
   ]
  },
  {
   "cell_type": "markdown",
   "id": "1cfe3520",
   "metadata": {
    "slideshow": {
     "slide_type": "subslide"
    }
   },
   "source": [
    "## Neuronale Netze\n",
    "\n",
    "<img src=\"img/neural-net-03.drawio.png\" style=\"width: 30%; margin-left: auto; margin-right: auto;\"/>"
   ]
  },
  {
   "cell_type": "markdown",
   "id": "f29849ff",
   "metadata": {
    "slideshow": {
     "slide_type": "subslide"
    }
   },
   "source": [
    "## Neuronale Netze\n",
    "\n",
    "<img src=\"img/neural-net-04.drawio.png\" style=\"width: 30%; margin-left: auto; margin-right: auto;\"/>"
   ]
  },
  {
   "cell_type": "markdown",
   "id": "248b4461",
   "metadata": {
    "slideshow": {
     "slide_type": "subslide"
    }
   },
   "source": [
    "## Neuronale Netze\n",
    "\n",
    "<img src=\"img/neural-net-05.drawio.png\" style=\"width: 30%; margin-left: auto; margin-right: auto;\"/>"
   ]
  },
  {
   "cell_type": "markdown",
   "id": "d2233e9a",
   "metadata": {
    "slideshow": {
     "slide_type": "subslide"
    }
   },
   "source": [
    "## Neuronale Netze\n",
    "\n",
    "<img src=\"img/neural-net-06.drawio.png\" style=\"width: 30%; margin-left: auto; margin-right: auto;\"/>"
   ]
  },
  {
   "cell_type": "markdown",
   "id": "9e9899bb",
   "metadata": {
    "slideshow": {
     "slide_type": "subslide"
    }
   },
   "source": [
    "## Neuronale Netze\n",
    "\n",
    "<img src=\"img/neural-net-07.drawio.png\" style=\"width: 30%; margin-left: auto; margin-right: auto;\"/>"
   ]
  },
  {
   "cell_type": "markdown",
   "id": "9be4aef9",
   "metadata": {
    "slideshow": {
     "slide_type": "slide"
    }
   },
   "source": [
    "## Neuronale Netze und Lineare Regression\n",
    "\n",
    "Die Addition mit Bias entspricht genau einer linearen Regression:"
   ]
  },
  {
   "cell_type": "code",
   "execution_count": null,
   "id": "ae1d3270",
   "metadata": {},
   "outputs": [],
   "source": [
    "import torch\n",
    "import torch.nn as nn\n",
    "\n",
    "lr = nn.Linear(1, 1)\n",
    "# lr.weight = torch.nn.Parameter(torch.tensor([1.0]), requires_grad=True)\n",
    "nn.init.constant_(lr.weight, 2.0)\n",
    "lr.weight"
   ]
  },
  {
   "cell_type": "code",
   "execution_count": null,
   "id": "31f870ca",
   "metadata": {},
   "outputs": [],
   "source": [
    "lr.bias\n",
    "nn.init.constant_(lr.bias, 0.5)\n",
    "# lr.bias = torch.nn.Parameter(torch.tensor(0.5), requires_grad=True)"
   ]
  },
  {
   "cell_type": "code",
   "execution_count": null,
   "id": "32209aca",
   "metadata": {},
   "outputs": [],
   "source": [
    "lr(torch.tensor([2.0]))"
   ]
  },
  {
   "cell_type": "code",
   "execution_count": null,
   "id": "0360bcfb",
   "metadata": {
    "slideshow": {
     "slide_type": "subslide"
    }
   },
   "outputs": [],
   "source": [
    "torch.manual_seed(2022)\n",
    "lr = nn.Linear(3, 1)\n",
    "lr"
   ]
  },
  {
   "cell_type": "code",
   "execution_count": null,
   "id": "ebf5def4",
   "metadata": {},
   "outputs": [],
   "source": [
    "print(f\"Weights: {lr.weight}, bias: {lr.bias}\")\n",
    "print(f\"Result: {lr(torch.tensor([1.0, 1.0, 0.0]))}\")"
   ]
  },
  {
   "cell_type": "markdown",
   "id": "f424b369",
   "metadata": {
    "slideshow": {
     "slide_type": "slide"
    }
   },
   "source": [
    "## Aktivierungsfunktionen"
   ]
  },
  {
   "cell_type": "code",
   "execution_count": null,
   "id": "f2bebaca",
   "metadata": {},
   "outputs": [],
   "source": [
    "import matplotlib.pyplot as plt\n",
    "act_x = torch.linspace(-6, 6, 100)"
   ]
  },
  {
   "cell_type": "code",
   "execution_count": null,
   "id": "5bf9b589",
   "metadata": {},
   "outputs": [],
   "source": [
    "plt.figure(figsize=(16, 12))\n",
    "plt.subplot(3, 2, 1)\n",
    "plt.title(\"Sigmoid\")\n",
    "plt.plot(act_x, nn.Sigmoid()(act_x))\n",
    "plt.subplot(3, 2, 2)\n",
    "plt.title(\"TahH\")\n",
    "plt.plot(act_x, nn.Tanh()(act_x))\n",
    "plt.subplot(3, 2, 3)\n",
    "plt.title(\"ReLU\")\n",
    "plt.plot(act_x, nn.ReLU()(act_x))\n",
    "plt.subplot(3, 2, 4)\n",
    "plt.title(\"Linearly Transformed ReLU\")\n",
    "plt.plot(act_x, - nn.ReLU()(act_x + 2))\n",
    "plt.subplot(3, 2, 5)\n",
    "plt.title(\"Combined ReLU\")\n",
    "plt.plot(act_x, nn.ReLU()(act_x) - nn.ReLU()(act_x + 2))\n",
    "plt.subplot(3, 2, 6)\n",
    "plt.title(\"Combined TanH\")\n",
    "plt.plot(act_x, nn.Tanh()(act_x) - 1.5 * nn.Tanh()(act_x - 2));"
   ]
  },
  {
   "cell_type": "code",
   "execution_count": null,
   "id": "bf7dad34",
   "metadata": {
    "slideshow": {
     "slide_type": "subslide"
    }
   },
   "outputs": [],
   "source": [
    "torch.manual_seed(2022)\n",
    "neuron = lambda x: nn.Tanh()(nn.Linear(4, 1)(x))"
   ]
  },
  {
   "cell_type": "code",
   "execution_count": null,
   "id": "bca56f3f",
   "metadata": {},
   "outputs": [],
   "source": [
    "neuron(torch.tensor([1.0, 2.0, 3.0, 4.0]))"
   ]
  },
  {
   "cell_type": "code",
   "execution_count": null,
   "id": "82b7e02c",
   "metadata": {},
   "outputs": [],
   "source": [
    "torch.manual_seed(2022)\n",
    "neuron = nn.Sequential(\n",
    "    nn.Linear(4, 1),\n",
    "    nn.Tanh()\n",
    ")"
   ]
  },
  {
   "cell_type": "code",
   "execution_count": null,
   "id": "1cc05631",
   "metadata": {},
   "outputs": [],
   "source": [
    "neuron(torch.tensor([1.0, 2.0, 3.0, 4.0]))"
   ]
  },
  {
   "cell_type": "markdown",
   "id": "f50f5caa",
   "metadata": {
    "slideshow": {
     "slide_type": "subslide"
    }
   },
   "source": [
    "## Neuronale Netze\n",
    "\n",
    "<img src=\"img/ag/Figure-18-032.png\" style=\"width: 70%; margin-left: auto; margin-right: auto;\"/>"
   ]
  },
  {
   "cell_type": "code",
   "execution_count": null,
   "id": "755c70ca",
   "metadata": {
    "slideshow": {
     "slide_type": "subslide"
    }
   },
   "outputs": [],
   "source": [
    "seq_model = nn.Sequential(\n",
    "    nn.Linear(2, 4),\n",
    "    nn.ReLU(),\n",
    "    nn.Linear(4, 3),\n",
    "    nn.ReLU(),\n",
    "    nn.Linear(3, 2)\n",
    ")"
   ]
  },
  {
   "cell_type": "code",
   "execution_count": null,
   "id": "15fda947",
   "metadata": {},
   "outputs": [],
   "source": [
    "seq_model(torch.tensor([1.0, 2.0]))"
   ]
  },
  {
   "cell_type": "markdown",
   "id": "9e0e3ae9",
   "metadata": {
    "slideshow": {
     "slide_type": "subslide"
    }
   },
   "source": [
    "## Erinnerung: Training\n",
    "\n",
    "<br/>\n",
    "<img src=\"img/ag/Figure-01-008.png\" style=\"width: 100%;\"/>"
   ]
  },
  {
   "cell_type": "markdown",
   "id": "ced80f7f",
   "metadata": {
    "slideshow": {
     "slide_type": "slide"
    }
   },
   "source": [
    "## Training Neuraler Netze\n",
    "\n",
    "<img src=\"img/ag/Figure-18-033.png\" style=\"width: 100%; margin-left: auto; margin-right: auto;\"/>"
   ]
  },
  {
   "cell_type": "markdown",
   "id": "4f835a09",
   "metadata": {
    "slideshow": {
     "slide_type": "subslide"
    }
   },
   "source": [
    "\n",
    "## Training Neuraler Netze\n",
    "\n",
    "<img src=\"img/ag/Figure-18-034.png\" style=\"width: 40%; margin-left: auto; margin-right: auto;\"/>"
   ]
  },
  {
   "cell_type": "markdown",
   "id": "b102bfdf",
   "metadata": {
    "slideshow": {
     "slide_type": "subslide"
    }
   },
   "source": [
    "## Training Neuraler Netze\n",
    "\n",
    "<img src=\"img/ag/Figure-18-035.png\" style=\"width: 100%; margin-left: auto; margin-right: auto; 0\"/>"
   ]
  },
  {
   "cell_type": "markdown",
   "id": "c4207c5a",
   "metadata": {
    "slideshow": {
     "slide_type": "subslide"
    }
   },
   "source": [
    "## Training Neuraler Netze\n",
    "\n",
    "<img src=\"img/ag/Figure-18-036.png\" style=\"width: 50%; margin-left: auto; margin-right: auto;\"/>"
   ]
  },
  {
   "cell_type": "markdown",
   "id": "5cd89234",
   "metadata": {
    "slideshow": {
     "slide_type": "subslide"
    }
   },
   "source": [
    "## Training Neuraler Netze\n",
    "\n",
    "<img src=\"img/ag/Figure-18-037.png\" style=\"width: 100%; margin-left: auto; margin-right: auto; 0\"/>"
   ]
  },
  {
   "cell_type": "markdown",
   "id": "07a19127",
   "metadata": {
    "slideshow": {
     "slide_type": "subslide"
    }
   },
   "source": [
    "## Wie updaten wir die Parameter?\n",
    "\n",
    "<img src=\"img/ag/Figure-05-012.png\" style=\"width: 35%; margin-left: auto; margin-right: auto;\"/>"
   ]
  },
  {
   "cell_type": "markdown",
   "id": "1dbcd82b",
   "metadata": {
    "slideshow": {
     "slide_type": "subslide"
    }
   },
   "source": [
    "## Wie updaten wir die Parameter?\n",
    "\n",
    "<img src=\"img/ag/Figure-05-013.png\" style=\"width: 60%; margin-left: auto; margin-right: auto;\"/>"
   ]
  },
  {
   "cell_type": "markdown",
   "id": "57e54869",
   "metadata": {
    "slideshow": {
     "slide_type": "slide"
    }
   },
   "source": [
    "## Wie updaten wir die Parameter?\n",
    "\n",
    "<img src=\"img/ag/Figure-05-001.png\" style=\"float: left; width: 45%; margin-left: auto; margin-right: auto;\"/>\n",
    "<img src=\"img/ag/Figure-05-005.png\" style=\"float: right; width: 45%; margin-left: auto; margin-right: auto;\"/>"
   ]
  },
  {
   "cell_type": "markdown",
   "id": "fef0a1ed",
   "metadata": {
    "slideshow": {
     "slide_type": "slide"
    }
   },
   "source": [
    "# MNIST"
   ]
  },
  {
   "cell_type": "code",
   "execution_count": 5,
   "id": "87f20fc3",
   "metadata": {},
   "outputs": [],
   "source": [
    "import torch\n",
    "import torchvision\n",
    "import torchvision.transforms as transforms\n",
    "import torch.nn as nn\n",
    "import matplotlib.pyplot as plt\n",
    "\n",
    "input_size = 28 * 28\n",
    "num_classes = 10\n",
    "num_epochs = 5\n",
    "batch_size = 100\n",
    "learning_rate = 0.005"
   ]
  },
  {
   "cell_type": "code",
   "execution_count": 6,
   "id": "a859da51",
   "metadata": {
    "slideshow": {
     "slide_type": "subslide"
    }
   },
   "outputs": [],
   "source": [
    "mnist_transforms = transforms.Compose([\n",
    "    transforms.Resize((28, 28)),\n",
    "    transforms.ToTensor()\n",
    "])"
   ]
  },
  {
   "cell_type": "code",
   "execution_count": 7,
   "id": "f497d76f",
   "metadata": {},
   "outputs": [],
   "source": [
    "train_dataset = torchvision.datasets.MNIST(root='./data',\n",
    "                                           train=True,\n",
    "                                           transform=mnist_transforms,\n",
    "                                           download=True)\n",
    "test_dataset = torchvision.datasets.MNIST(root='./data',\n",
    "                                          train=False,\n",
    "                                          transform=mnist_transforms,\n",
    "                                          download=True)"
   ]
  },
  {
   "cell_type": "code",
   "execution_count": 9,
   "id": "76a42daa",
   "metadata": {
    "slideshow": {
     "slide_type": "subslide"
    }
   },
   "outputs": [
    {
     "name": "stdout",
     "output_type": "stream",
     "text": [
      "Batch shape: torch.Size([1, 28, 28]), label: 5\n"
     ]
    },
    {
     "data": {
      "image/png": "[encoded data removed]",
      "text/plain": [
       "<Figure size 432x288 with 1 Axes>"
      ]
     },
     "metadata": {
      "needs_background": "light"
     },
     "output_type": "display_data"
    }
   ],
   "source": [
    "it = iter(train_dataset)\n",
    "tensor, label = next(it)\n",
    "print(f\"Batch shape: {tensor.shape}, label: {label}\")\n",
    "plt.imshow(tensor[0], cmap=\"binary\");"
   ]
  },
  {
   "cell_type": "code",
   "execution_count": 10,
   "id": "927d7537",
   "metadata": {
    "slideshow": {
     "slide_type": "subslide"
    }
   },
   "outputs": [
    {
     "name": "stdout",
     "output_type": "stream",
     "text": [
      "Batch shape: torch.Size([1, 28, 28]), label: 0\n"
     ]
    },
    {
     "data": {
      "image/png": "[encoded data removed]",
      "text/plain": [
       "<Figure size 432x288 with 1 Axes>"
      ]
     },
     "metadata": {
      "needs_background": "light"
     },
     "output_type": "display_data"
    }
   ],
   "source": [
    "tensor, label = next(it)\n",
    "print(f\"Batch shape: {tensor.shape}, label: {label}\")\n",
    "plt.imshow(tensor[0], cmap=\"binary\");"
   ]
  },
  {
   "cell_type": "code",
   "execution_count": 11,
   "id": "15900b60",
   "metadata": {},
   "outputs": [],
   "source": [
    "train_loader = torch.utils.data.DataLoader(dataset=train_dataset, batch_size=batch_size, shuffle=True)\n",
    "test_loader = torch.utils.data.DataLoader(dataset=test_dataset, batch_size=batch_size, shuffle=False)"
   ]
  },
  {
   "cell_type": "code",
   "execution_count": 12,
   "id": "38592d9b",
   "metadata": {
    "slideshow": {
     "slide_type": "subslide"
    }
   },
   "outputs": [],
   "source": [
    "def create_model(hidden_size):\n",
    "    model = nn.Sequential(\n",
    "        nn.Linear(input_size, hidden_size),\n",
    "        nn.ReLU(),\n",
    "        nn.Linear(hidden_size, num_classes)\n",
    "    )\n",
    "    optimizer = torch.optim.Adam(model.parameters(), lr=learning_rate)\n",
    "    return model, optimizer"
   ]
  },
  {
   "cell_type": "code",
   "execution_count": 13,
   "id": "5d52cc92",
   "metadata": {
    "slideshow": {
     "slide_type": "subslide"
    }
   },
   "outputs": [],
   "source": [
    "def training_loop(n_epochs, optimizer, model, loss_fn, device, train_loader, print_progress=True):\n",
    "    all_losses = []\n",
    "    for epoch in range(1, n_epochs + 1):\n",
    "        accumulated_loss = 0\n",
    "        for i, (images, labels) in enumerate(train_loader):\n",
    "            images = images.reshape(-1, input_size).to(device)\n",
    "            labels = labels.to(device)\n",
    "\n",
    "            output = model(images)\n",
    "            loss = loss_fn(output, labels)\n",
    "            with torch.no_grad():\n",
    "                accumulated_loss += loss\n",
    "                all_losses.append(loss.detach())\n",
    "\n",
    "            optimizer.zero_grad()\n",
    "            loss.backward()\n",
    "            optimizer.step()\n",
    "        \n",
    "            if (i + 1) % 100 == 0:\n",
    "                if print_progress:\n",
    "                    print(f\"Epoch {epoch:2}/{n_epochs:2}, step {i + 1}: \"\n",
    "                        f\"training loss = {accumulated_loss.item():8.3f}\")\n",
    "                accumulated_loss = 0\n",
    "    return all_losses"
   ]
  },
  {
   "cell_type": "code",
   "execution_count": 14,
   "id": "39822a31",
   "metadata": {},
   "outputs": [],
   "source": [
    "def create_and_train_model(hidden_size, num_epochs=num_epochs, print_progress=True):\n",
    "    model, optimizer = create_model(hidden_size)\n",
    "    losses = training_loop(\n",
    "        n_epochs=num_epochs,\n",
    "        optimizer=optimizer,\n",
    "        model=model,\n",
    "        loss_fn=nn.CrossEntropyLoss(),\n",
    "        device=torch.device('cpu') if torch.cuda.is_available() else torch.device('cpu'),\n",
    "        train_loader=train_loader,\n",
    "        print_progress=print_progress,\n",
    "    )\n",
    "    return model, losses"
   ]
  },
  {
   "cell_type": "code",
   "execution_count": 16,
   "id": "7aab55ae",
   "metadata": {},
   "outputs": [
    {
     "name": "stdout",
     "output_type": "stream",
     "text": [
      "Epoch  1/ 5, step 100: training loss =   66.412\n",
      "Epoch  1/ 5, step 200: training loss =   33.329\n",
      "Epoch  1/ 5, step 300: training loss =   27.528\n",
      "Epoch  1/ 5, step 400: training loss =   23.814\n",
      "Epoch  1/ 5, step 500: training loss =   23.342\n",
      "Epoch  1/ 5, step 600: training loss =   20.964\n",
      "Epoch  2/ 5, step 100: training loss =   17.362\n",
      "Epoch  2/ 5, step 200: training loss =   17.645\n",
      "Epoch  2/ 5, step 300: training loss =   18.005\n",
      "Epoch  2/ 5, step 400: training loss =   17.167\n",
      "Epoch  2/ 5, step 500: training loss =   15.754\n",
      "Epoch  2/ 5, step 600: training loss =   15.524\n",
      "Epoch  3/ 5, step 100: training loss =   12.109\n",
      "Epoch  3/ 5, step 200: training loss =   13.314\n",
      "Epoch  3/ 5, step 300: training loss =   13.515\n",
      "Epoch  3/ 5, step 400: training loss =   11.997\n",
      "Epoch  3/ 5, step 500: training loss =   13.075\n",
      "Epoch  3/ 5, step 600: training loss =   15.152\n",
      "Epoch  4/ 5, step 100: training loss =   10.678\n",
      "Epoch  4/ 5, step 200: training loss =   10.310\n",
      "Epoch  4/ 5, step 300: training loss =   11.696\n",
      "Epoch  4/ 5, step 400: training loss =   11.525\n",
      "Epoch  4/ 5, step 500: training loss =   11.262\n",
      "Epoch  4/ 5, step 600: training loss =   11.811\n",
      "Epoch  5/ 5, step 100: training loss =    8.983\n",
      "Epoch  5/ 5, step 200: training loss =   10.066\n",
      "Epoch  5/ 5, step 300: training loss =    9.393\n",
      "Epoch  5/ 5, step 400: training loss =    9.853\n",
      "Epoch  5/ 5, step 500: training loss =    9.488\n",
      "Epoch  5/ 5, step 600: training loss =   10.764\n"
     ]
    }
   ],
   "source": [
    "model, losses = create_and_train_model(32, num_epochs=5, print_progress=True)"
   ]
  },
  {
   "cell_type": "code",
   "execution_count": 17,
   "id": "dc8a1eb6",
   "metadata": {},
   "outputs": [
    {
     "data": {
      "image/png": "[encoded data removed]",
      "text/plain": [
       "<Figure size 1152x360 with 1 Axes>"
      ]
     },
     "metadata": {
      "needs_background": "light"
     },
     "output_type": "display_data"
    }
   ],
   "source": [
    "from matplotlib import pyplot\n",
    "pyplot.figure(figsize=(16, 5))\n",
    "pyplot.plot(range(len(losses)), losses);"
   ]
  },
  {
   "cell_type": "code",
   "execution_count": 20,
   "id": "23b6cc9f",
   "metadata": {},
   "outputs": [],
   "source": [
    "def evaluate_model(model):\n",
    "    ground_truth = []\n",
    "    predictions = []\n",
    "    with torch.no_grad():\n",
    "        for x, y in test_loader:\n",
    "            new_predictions = model(x.reshape(-1, input_size))\n",
    "            predictions.extend(new_predictions.argmax(dim=1).numpy())\n",
    "            ground_truth.extend(y.numpy())\n",
    "        return ground_truth, predictions"
   ]
  },
  {
   "cell_type": "code",
   "execution_count": 21,
   "id": "2e1cbaff",
   "metadata": {},
   "outputs": [
    {
     "name": "stdout",
     "output_type": "stream",
     "text": [
      "              precision    recall  f1-score   support\n",
      "\n",
      "           0       0.97      0.99      0.98       980\n",
      "           1       0.97      0.99      0.98      1135\n",
      "           2       0.94      0.97      0.96      1032\n",
      "           3       0.92      0.98      0.95      1010\n",
      "           4       0.97      0.95      0.96       982\n",
      "           5       0.97      0.94      0.95       892\n",
      "           6       0.98      0.96      0.97       958\n",
      "           7       0.97      0.95      0.96      1028\n",
      "           8       0.96      0.93      0.95       974\n",
      "           9       0.96      0.95      0.95      1009\n",
      "\n",
      "    accuracy                           0.96     10000\n",
      "   macro avg       0.96      0.96      0.96     10000\n",
      "weighted avg       0.96      0.96      0.96     10000\n",
      "\n"
     ]
    }
   ],
   "source": [
    "from sklearn.metrics import classification_report\n",
    "\n",
    "print(classification_report(*evaluate_model(model)))"
   ]
  },
  {
   "cell_type": "code",
   "execution_count": 22,
   "id": "fc305155",
   "metadata": {},
   "outputs": [
    {
     "data": {
      "image/png": "[encoded data removed]",
      "text/plain": [
       "<Figure size 1152x360 with 1 Axes>"
      ]
     },
     "metadata": {
      "needs_background": "light"
     },
     "output_type": "display_data"
    }
   ],
   "source": [
    "model, losses = create_and_train_model(64, print_progress=False)\n",
    "\n",
    "pyplot.figure(figsize=(16, 5))\n",
    "pyplot.plot(range(len(losses)), losses);"
   ]
  },
  {
   "cell_type": "code",
   "execution_count": 23,
   "id": "f5f275bf",
   "metadata": {},
   "outputs": [
    {
     "name": "stdout",
     "output_type": "stream",
     "text": [
      "              precision    recall  f1-score   support\n",
      "\n",
      "           0       0.97      0.99      0.98       980\n",
      "           1       0.98      0.99      0.99      1135\n",
      "           2       0.96      0.98      0.97      1032\n",
      "           3       0.96      0.96      0.96      1010\n",
      "           4       0.97      0.98      0.97       982\n",
      "           5       0.98      0.96      0.97       892\n",
      "           6       0.99      0.97      0.98       958\n",
      "           7       0.98      0.96      0.97      1028\n",
      "           8       0.96      0.97      0.96       974\n",
      "           9       0.97      0.96      0.97      1009\n",
      "\n",
      "    accuracy                           0.97     10000\n",
      "   macro avg       0.97      0.97      0.97     10000\n",
      "weighted avg       0.97      0.97      0.97     10000\n",
      "\n"
     ]
    }
   ],
   "source": [
    "print(classification_report(*evaluate_model(model)))"
   ]
  },
  {
   "cell_type": "code",
   "execution_count": 24,
   "id": "016a6769",
   "metadata": {},
   "outputs": [
    {
     "data": {
      "image/png": "[encoded data removed]",
      "text/plain": [
       "<Figure size 1152x360 with 1 Axes>"
      ]
     },
     "metadata": {
      "needs_background": "light"
     },
     "output_type": "display_data"
    }
   ],
   "source": [
    "model, losses = create_and_train_model(512, print_progress=False)\n",
    "\n",
    "pyplot.figure(figsize=(16, 5))\n",
    "pyplot.plot(range(len(losses)), losses);"
   ]
  },
  {
   "cell_type": "code",
   "execution_count": 26,
   "id": "44ec0279",
   "metadata": {},
   "outputs": [
    {
     "name": "stdout",
     "output_type": "stream",
     "text": [
      "              precision    recall  f1-score   support\n",
      "\n",
      "           0       0.95      1.00      0.97       980\n",
      "           1       1.00      0.97      0.98      1135\n",
      "           2       0.96      0.98      0.97      1032\n",
      "           3       0.98      0.96      0.97      1010\n",
      "           4       0.98      0.98      0.98       982\n",
      "           5       0.97      0.98      0.98       892\n",
      "           6       0.98      0.96      0.97       958\n",
      "           7       0.98      0.98      0.98      1028\n",
      "           8       0.96      0.96      0.96       974\n",
      "           9       0.97      0.98      0.97      1009\n",
      "\n",
      "    accuracy                           0.97     10000\n",
      "   macro avg       0.97      0.97      0.97     10000\n",
      "weighted avg       0.97      0.97      0.97     10000\n",
      "\n"
     ]
    }
   ],
   "source": [
    "print(classification_report(*evaluate_model(model)))"
   ]
  },
  {
   "cell_type": "markdown",
   "id": "7328da0c",
   "metadata": {},
   "source": [
    "## Workshop Fashion MNIST\n",
    "\n",
    "Trainieren Sie ein Neuronales Netz, dass Bilder aus dem Fashion MNIST Datenset klassifizieren kann.\n",
    "\n",
    "Ein Torch `Dataset` für Fashion MNIST kann mit der Klasse `torchvision.datasets.FashionMNIST` erzeugt werden."
   ]
  },
  {
   "cell_type": "markdown",
   "id": "12a3d631",
   "metadata": {
    "slideshow": {
     "slide_type": "slide"
    }
   },
   "source": [
    "## Modelle\n",
    "\n",
    "<img src=\"img/ag/Figure-11-001.png\" style=\"width: 100%;\"/>"
   ]
  },
  {
   "cell_type": "markdown",
   "id": "8b50b997",
   "metadata": {
    "slideshow": {
     "slide_type": "subslide"
    }
   },
   "source": [
    "## Für Neuronale Netze:\n",
    "\n",
    "Was repräsentiert werden kann hängt ab von\n",
    "\n",
    "- Anzahl der Layers\n",
    "- Anzahl der Neutronen per Layer\n",
    "- Komplexität der Verbindungen zwischen Neutronen"
   ]
  },
  {
   "cell_type": "markdown",
   "id": "96d3eff8",
   "metadata": {
    "slideshow": {
     "slide_type": "subslide"
    }
   },
   "source": [
    "### Was kann man (theoretisch) lernen?\n",
    "\n",
    "Schwierig aber irrelevant"
   ]
  },
  {
   "cell_type": "markdown",
   "id": "10c387e5",
   "metadata": {
    "slideshow": {
     "slide_type": "subslide"
    }
   },
   "source": [
    "### Was kann man praktisch lernen?\n",
    "\n",
    "Sehr viel, wenn man genug Zeit und Daten hat"
   ]
  },
  {
   "cell_type": "markdown",
   "id": "5769eae9",
   "metadata": {
    "slideshow": {
     "slide_type": "subslide"
    }
   },
   "source": [
    "### Was kann man effizient lernen?\n",
    "\n",
    "Sehr viel, wenn man sich geschickt anstellt\n",
    "(und ein Problem hat, an dem viele andere Leute arbeiten)"
   ]
  },
  {
   "cell_type": "markdown",
   "id": "966c25e3",
   "metadata": {
    "slideshow": {
     "slide_type": "slide"
    }
   },
   "source": [
    "# Bias/Variance Tradeoff\n",
    "\n",
    "- Modelle mit geringer Expressivität (representational power)\n",
    "  - Können schnell trainiert werden\n",
    "  - Arbeiten mit wenig Trainingsdaten\n",
    "  - Sind robust gegenüber Fehlern in den Trainingsdaten\n",
    "\n",
    "- Wir sind nicht an einer möglichst exakten Wiedergabe unserer Daten interessiert\n",
    "\n",
    "- Entscheidend ist wie gut unser Modell auf unbekannte Daten generalisiert"
   ]
  },
  {
   "cell_type": "markdown",
   "id": "3bb7b712",
   "metadata": {
    "slideshow": {
     "slide_type": "subslide"
    }
   },
   "source": [
    "<img src=\"img/ag/Figure-09-002.png\" style=\"width: 60%; margin-left: auto; margin-right: auto;\"/>"
   ]
  },
  {
   "cell_type": "markdown",
   "id": "a7f4d161",
   "metadata": {
    "slideshow": {
     "slide_type": "subslide"
    }
   },
   "source": [
    "<img src=\"img/ag/Figure-09-004.png\" style=\"width: 60%; margin-left: auto; margin-right: auto;\"/>"
   ]
  },
  {
   "cell_type": "markdown",
   "id": "88dfeab1",
   "metadata": {
    "slideshow": {
     "slide_type": "subslide"
    }
   },
   "source": [
    "<img src=\"img/ag/Figure-09-003.png\" style=\"width: 60%; margin-left: auto; margin-right: auto;\"/>"
   ]
  },
  {
   "cell_type": "markdown",
   "id": "1735899b",
   "metadata": {
    "slideshow": {
     "slide_type": "subslide"
    }
   },
   "source": [
    "<img src=\"img/ag/Figure-09-005.png\" style=\"width: 60%; margin-left: auto; margin-right: auto;\"/>"
   ]
  },
  {
   "cell_type": "markdown",
   "id": "5f70766e",
   "metadata": {
    "slideshow": {
     "slide_type": "subslide"
    }
   },
   "source": [
    "\n",
    "### Generalisierung und Rauschen\n",
    "<img src=\"img/ag/Figure-09-008.png\" style=\"width: 40%; margin-left: auto; margin-right: auto;\"/>"
   ]
  },
  {
   "cell_type": "markdown",
   "id": "23f42d36",
   "metadata": {
    "slideshow": {
     "slide_type": "subslide"
    }
   },
   "source": [
    "<img src=\"img/ag/Figure-09-009.png\" style=\"width: 80%; margin-left: auto; margin-right: auto;\"/>"
   ]
  },
  {
   "cell_type": "markdown",
   "id": "0e63d49f",
   "metadata": {
    "slideshow": {
     "slide_type": "subslide"
    }
   },
   "source": [
    "<img src=\"img/ag/Figure-09-010.png\" style=\"width: 40%; margin-left: auto; margin-right: auto;\"/>"
   ]
  },
  {
   "cell_type": "markdown",
   "id": "8de030f6",
   "metadata": {
    "slideshow": {
     "slide_type": "subslide"
    }
   },
   "source": [
    "## Komplexität der Entscheidungsgrenze\n",
    "\n",
    "<img src=\"img/ag/Figure-09-006.png\" style=\"width: 100%; margin-left: auto; margin-right: auto;\"/>"
   ]
  },
  {
   "cell_type": "markdown",
   "id": "bd956eef",
   "metadata": {
    "slideshow": {
     "slide_type": "subslide"
    }
   },
   "source": [
    "<img src=\"img/ag/Figure-09-001.png\" style=\"width: 50%; margin-left: auto; margin-right: auto;\"/>"
   ]
  },
  {
   "cell_type": "markdown",
   "id": "19e68a2e",
   "metadata": {
    "slideshow": {
     "slide_type": "slide"
    }
   },
   "source": [
    "## Datenverteilung und Qualität\n"
   ]
  },
  {
   "cell_type": "markdown",
   "id": "3a9101f8",
   "metadata": {},
   "source": [
    "### Erinnerung: die Trainings-Schleife\n",
    "\n",
    "<img src=\"img/ag/Figure-08-001.png\" style=\"width: 20%; margin-left: auto; margin-right: auto;\"/>"
   ]
  },
  {
   "cell_type": "markdown",
   "id": "5c7b2f53",
   "metadata": {
    "slideshow": {
     "slide_type": "subslide"
    }
   },
   "source": [
    "<img src=\"img/ag/Figure-08-001.png\" style=\"width: 60%; margin-left: auto; margin-right: auto;\"/>"
   ]
  },
  {
   "cell_type": "markdown",
   "id": "6d02a6bf",
   "metadata": {
    "slideshow": {
     "slide_type": "subslide"
    }
   },
   "source": [
    "## Was lernt ein Klassifizierer?\n",
    "\n",
    "<img src=\"img/ag/Figure-08-002.png\" style=\"width: 60%; margin-left: auto; margin-right: auto;\"/>"
   ]
  },
  {
   "cell_type": "markdown",
   "id": "7a619098",
   "metadata": {
    "slideshow": {
     "slide_type": "subslide"
    }
   },
   "source": [
    "<img src=\"img/ag/Figure-08-003.png\" style=\"width: 100%; margin-left: auto; margin-right: auto;\"/>"
   ]
  },
  {
   "cell_type": "markdown",
   "id": "313ea570",
   "metadata": {
    "slideshow": {
     "slide_type": "subslide"
    }
   },
   "source": [
    "<img src=\"img/ag/Figure-08-004.png\" style=\"width: 70%; margin-left: auto; margin-right: auto;\"/>"
   ]
  },
  {
   "cell_type": "markdown",
   "id": "cad9d435",
   "metadata": {
    "slideshow": {
     "slide_type": "slide"
    }
   },
   "source": [
    "# Wie gut sind wir?\n",
    "\n",
    "Wie wissen wir, wie gut unser Modell wirklich ist?"
   ]
  },
  {
   "cell_type": "markdown",
   "id": "9883c249",
   "metadata": {
    "slideshow": {
     "slide_type": "subslide"
    }
   },
   "source": [
    "## Was kann schief gehen?\n",
    "\n",
    "<img src=\"img/ag/Figure-03-015.png\" style=\"width: 100%; margin-left: auto; margin-right: auto; 0\"/>"
   ]
  },
  {
   "cell_type": "markdown",
   "id": "a3338224",
   "metadata": {
    "slideshow": {
     "slide_type": "subslide"
    }
   },
   "source": [
    "## Was kann schief gehen?\n",
    "\n",
    "<img src=\"img/ag/Figure-03-017.png\" style=\"width: 100%; margin-left: auto; margin-right: auto; 0\"/>"
   ]
  },
  {
   "cell_type": "markdown",
   "id": "a90b68c7",
   "metadata": {
    "slideshow": {
     "slide_type": "subslide"
    }
   },
   "source": [
    "## Was kann schief gehen?\n",
    "\n",
    "<img src=\"img/ag/Figure-03-018.png\" style=\"width: 80%; margin-left: auto; margin-right: auto; 0\"/>"
   ]
  },
  {
   "cell_type": "markdown",
   "id": "740b53bf",
   "metadata": {
    "slideshow": {
     "slide_type": "subslide"
    }
   },
   "source": [
    "## Accuracy: Wie viel haben wir richtig gemacht?\n",
    "\n",
    "\n",
    "<img src=\"img/ag/Figure-03-023.png\" style=\"width: 60%; margin-left: auto; margin-right: auto; 0\"/>"
   ]
  },
  {
   "cell_type": "markdown",
   "id": "a5561ec7",
   "metadata": {
    "slideshow": {
     "slide_type": "subslide"
    }
   },
   "source": [
    "## Precision: Wie gut sind unsere positiven Elemente?\n",
    "\n",
    "\n",
    "<img src=\"img/ag/Figure-03-024.png\" style=\"width: 60%; margin-left: auto; margin-right: auto; 0\"/>"
   ]
  },
  {
   "cell_type": "markdown",
   "id": "2a49b576",
   "metadata": {
    "slideshow": {
     "slide_type": "subslide"
    }
   },
   "source": [
    "## Recall: Wie viele positive Elemente haben wir übersehen?\n",
    "\n",
    "\n",
    "<img src=\"img/ag/Figure-03-026.png\" style=\"width: 60%; margin-left: auto; margin-right: auto; 0\"/>"
   ]
  },
  {
   "cell_type": "markdown",
   "id": "7ceed59d",
   "metadata": {
    "slideshow": {
     "slide_type": "slide"
    }
   },
   "source": [
    "## Probleme: Abhängigkeiten\n",
    "\n",
    "Relevante Informationen sind nicht immer nahe in den Daten:\n",
    "\n",
    "\"Er hatte mit dem Mann, der ihm den Schlüssel, der zum Schloss, das ihn von großem Reichtum trennte, gehörte, gab, noch nicht gesprochen."
   ]
  },
  {
   "cell_type": "markdown",
   "id": "5f999699",
   "metadata": {
    "slideshow": {
     "slide_type": "subslide"
    }
   },
   "source": [
    "# Memory / State\n",
    "<img src=\"img/ag/Figure-22-012.png\" style=\"width: 20%; margin-left: auto; margin-right: auto;\"/>"
   ]
  },
  {
   "cell_type": "markdown",
   "id": "70e74cc5",
   "metadata": {
    "slideshow": {
     "slide_type": "subslide"
    }
   },
   "source": [
    "Funktioniert gut aber mit gewissen Schwächen.\n",
    "\n",
    "Man muss wissen, welche Information für das aktuell betrachtete Element relevant ist:"
   ]
  },
  {
   "cell_type": "markdown",
   "id": "76db5a62",
   "metadata": {},
   "source": [
    "- The cat didn't cross the street because *it* was too wide.\n",
    "- The cat didn't cross the street because *it* was too tired.\n",
    "- The cat didn't cross the street because *it* was too wet.\n",
    "- The cat didn't cross the street because *it* was raining."
   ]
  },
  {
   "cell_type": "markdown",
   "id": "07957284",
   "metadata": {
    "slideshow": {
     "slide_type": "slide"
    }
   },
   "source": [
    "# The Bitter Lesson (Rich Sutton)\n",
    "\n",
    "[T]he only thing that matters in the long run is the leveraging of computation.\n",
    "\n",
    "Corollary: And data. Lots of data."
   ]
  },
  {
   "cell_type": "code",
   "execution_count": null,
   "id": "089bbfc8",
   "metadata": {},
   "outputs": [],
   "source": []
  }
 ],
 "metadata": {
  "celltoolbar": "Slideshow",
  "kernelspec": {
   "display_name": "Python 3 (ipykernel)",
   "language": "python",
   "name": "python3"
  },
  "language_info": {
   "codemirror_mode": {
    "name": "ipython",
    "version": 3
   },
   "file_extension": ".py",
   "mimetype": "text/x-python",
   "name": "python",
   "nbconvert_exporter": "python",
   "pygments_lexer": "ipython3",
   "version": "3.9.10"
  }
 },
 "nbformat": 4,
 "nbformat_minor": 5
}
