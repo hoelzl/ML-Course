{
 "cells": [
  {
   "cell_type": "markdown",
   "id": "fb001c9e",
   "metadata": {
    "slideshow": {
     "slide_type": "slide"
    }
   },
   "source": [
    "# MNIST with CNN"
   ]
  },
  {
   "cell_type": "code",
   "execution_count": null,
   "id": "17f30618",
   "metadata": {},
   "outputs": [],
   "source": [
    "import pickle\n",
    "\n",
    "import matplotlib.pyplot as plt\n",
    "import numpy as np\n",
    "import torch\n",
    "import torch.nn as nn\n",
    "import torchvision\n",
    "import torchvision.transforms as transforms\n",
    "from mlcourse.config import Config\n",
    "from mlcourse.utils.data import show_dataset\n",
    "from pytorch_model_summary import summary\n",
    "from sklearn.metrics import (\n",
    "    ConfusionMatrixDisplay,\n",
    "    classification_report,\n",
    "    confusion_matrix,\n",
    ")\n",
    "from skorch import NeuralNetClassifier\n",
    "from skorch.callbacks import Checkpoint, EarlyStopping, LRScheduler\n",
    "from skorch.helper import predefined_split\n",
    "from torch.utils.data import Subset\n",
    "from torchvision.transforms.functional import InterpolationMode"
   ]
  },
  {
   "cell_type": "code",
   "execution_count": null,
   "id": "174428c5",
   "metadata": {},
   "outputs": [],
   "source": [
    "config = Config()"
   ]
  },
  {
   "cell_type": "code",
   "execution_count": null,
   "id": "38dcfa69",
   "metadata": {},
   "outputs": [],
   "source": [
    "input_size = 28 * 28\n",
    "num_classes = 10\n",
    "num_epochs = 5\n",
    "batch_size = 100\n",
    "learning_rate = 0.005\n",
    "device = \"cuda:0\" if torch.cuda.is_available() else \"cpu\""
   ]
  },
  {
   "cell_type": "code",
   "execution_count": null,
   "id": "3a11a799",
   "metadata": {
    "slideshow": {
     "slide_type": "subslide"
    }
   },
   "outputs": [],
   "source": [
    "mnist_transforms = transforms.Compose(\n",
    "    [transforms.Resize((28, 28)), transforms.ToTensor()]\n",
    ")"
   ]
  },
  {
   "cell_type": "code",
   "execution_count": null,
   "id": "3549e73b",
   "metadata": {},
   "outputs": [],
   "source": [
    "train_dataset = torchvision.datasets.MNIST(\n",
    "    root=\"./data\", train=True, transform=mnist_transforms, download=True\n",
    ")\n",
    "test_dataset = torchvision.datasets.MNIST(\n",
    "    root=\"./data\", train=False, transform=mnist_transforms, download=True\n",
    ")"
   ]
  },
  {
   "cell_type": "code",
   "execution_count": null,
   "id": "3dfded84",
   "metadata": {},
   "outputs": [],
   "source": [
    "partial_model = nn.Sequential(\n",
    "    nn.Conv2d(1, 10, kernel_size=5),\n",
    "    nn.ReLU(),\n",
    "    nn.MaxPool2d(2),\n",
    "    nn.Conv2d(10, 20, kernel_size=5),\n",
    "    nn.ReLU(),\n",
    "    nn.MaxPool2d(2),\n",
    "    nn.Flatten(),\n",
    "    # nn.Linear(320, 60),\n",
    "    # nn.ReLU(),\n",
    "    # nn.Linear(60, 10),\n",
    ")\n",
    "print(summary(partial_model, torch.zeros((1, 1, 28, 28)), show_input=True))\n",
    "print(summary(partial_model, torch.zeros((1, 1, 28, 28))))"
   ]
  },
  {
   "cell_type": "code",
   "execution_count": null,
   "id": "0c153225",
   "metadata": {},
   "outputs": [],
   "source": [
    "conv_model = nn.Sequential(\n",
    "    nn.Conv2d(1, 10, kernel_size=5),\n",
    "    nn.ReLU(),\n",
    "    nn.MaxPool2d(2),\n",
    "    nn.Conv2d(10, 20, kernel_size=5),\n",
    "    nn.ReLU(),\n",
    "    nn.MaxPool2d(2),\n",
    "    nn.Flatten(),\n",
    "    nn.Linear(320, 60),\n",
    "    nn.ReLU(),\n",
    "    nn.Linear(60, 10),\n",
    "    # nn.Softmax(dim=1),\n",
    ")"
   ]
  },
  {
   "cell_type": "code",
   "execution_count": null,
   "id": "93fb94a6",
   "metadata": {},
   "outputs": [],
   "source": [
    "print(summary(conv_model, torch.zeros((1, 1, 28, 28))))\n",
    "print(summary(conv_model, torch.zeros((1, 1, 28, 28)), show_input=True))"
   ]
  },
  {
   "cell_type": "code",
   "execution_count": null,
   "id": "a82d7698",
   "metadata": {},
   "outputs": [],
   "source": [
    "cnn_classifier = NeuralNetClassifier(\n",
    "    conv_model,\n",
    "    criterion=nn.CrossEntropyLoss,\n",
    "    batch_size=100,\n",
    "    max_epochs=2,\n",
    "    lr=0.1,\n",
    "    iterator_train__shuffle=True,\n",
    "    train_split=predefined_split(test_dataset),\n",
    "    device=device,\n",
    ")"
   ]
  },
  {
   "cell_type": "code",
   "execution_count": null,
   "id": "da317317",
   "metadata": {},
   "outputs": [],
   "source": [
    "cnn_classifier.fit(train_dataset, None)"
   ]
  },
  {
   "cell_type": "code",
   "execution_count": null,
   "id": "1046a2b5",
   "metadata": {},
   "outputs": [],
   "source": [
    "cnn_classifier.partial_fit(train_dataset, None)"
   ]
  },
  {
   "cell_type": "code",
   "execution_count": null,
   "id": "1e0a7ab7",
   "metadata": {},
   "outputs": [],
   "source": [
    "y_pred_cnn = cnn_classifier.predict(test_dataset)"
   ]
  },
  {
   "cell_type": "code",
   "execution_count": null,
   "id": "df047f23",
   "metadata": {},
   "outputs": [],
   "source": [
    "y_test = np.array([y for _, y in test_dataset])"
   ]
  },
  {
   "cell_type": "code",
   "execution_count": null,
   "id": "8a34a6a8",
   "metadata": {},
   "outputs": [],
   "source": [
    "print(classification_report(y_test, y_pred_cnn))"
   ]
  },
  {
   "cell_type": "code",
   "execution_count": null,
   "id": "cb521bf8",
   "metadata": {},
   "outputs": [],
   "source": [
    "print(confusion_matrix(y_test, y_pred_cnn))"
   ]
  },
  {
   "cell_type": "code",
   "execution_count": null,
   "id": "588144e5",
   "metadata": {
    "lines_to_next_cell": 1
   },
   "outputs": [],
   "source": [
    "plt.figure(figsize=(10, 8))\n",
    "ax = plt.axes()\n",
    "ConfusionMatrixDisplay.from_predictions(y_test, y_pred_cnn, ax=ax)"
   ]
  },
  {
   "cell_type": "markdown",
   "id": "66b356be",
   "metadata": {},
   "source": [
    "\n",
    "## Finding Misclassified Images"
   ]
  },
  {
   "cell_type": "code",
   "execution_count": null,
   "id": "bbcc2fc2",
   "metadata": {},
   "outputs": [],
   "source": [
    "def find_misclassified_images(y_pred=y_pred_cnn):\n",
    "    return np.where(y_test != y_pred)[0]"
   ]
  },
  {
   "cell_type": "code",
   "execution_count": null,
   "id": "9e20990c",
   "metadata": {},
   "outputs": [],
   "source": [
    "find_misclassified_images(y_pred_cnn)"
   ]
  },
  {
   "cell_type": "code",
   "execution_count": null,
   "id": "3e2ea002",
   "metadata": {},
   "outputs": [],
   "source": [
    "misclassified_ds = Subset(test_dataset, find_misclassified_images())"
   ]
  },
  {
   "cell_type": "code",
   "execution_count": null,
   "id": "ed481c49",
   "metadata": {},
   "outputs": [],
   "source": [
    "show_dataset(misclassified_ds)"
   ]
  },
  {
   "cell_type": "markdown",
   "id": "982292cf",
   "metadata": {
    "lines_to_next_cell": 2
   },
   "source": [
    "\n",
    "## Data Augmentation (V2)"
   ]
  },
  {
   "cell_type": "code",
   "execution_count": null,
   "id": "1652686d",
   "metadata": {},
   "outputs": [],
   "source": [
    "augmented_transforms = transforms.Compose(\n",
    "    [\n",
    "        transforms.RandomApply(\n",
    "            [\n",
    "                transforms.Resize((56, 56)),\n",
    "                transforms.RandomResizedCrop(\n",
    "                    28, (0.8, 1.0), interpolation=InterpolationMode.BICUBIC\n",
    "                ),\n",
    "                transforms.RandomApply(\n",
    "                    [\n",
    "                        transforms.RandomAffine(\n",
    "                            degrees=15.0,\n",
    "                            translate=(0.08, 0.8),\n",
    "                            interpolation=InterpolationMode.BICUBIC,\n",
    "                        )\n",
    "                    ],\n",
    "                    0.5,\n",
    "                ),\n",
    "            ]\n",
    "        ),\n",
    "        transforms.Resize((28, 28)),\n",
    "        transforms.ToTensor(),\n",
    "    ]\n",
    ")"
   ]
  },
  {
   "cell_type": "code",
   "execution_count": null,
   "id": "78da378a",
   "metadata": {},
   "outputs": [],
   "source": [
    "augmented_train_dataset = torchvision.datasets.MNIST(\n",
    "    root=\"./data\", train=True, transform=augmented_transforms, download=True\n",
    ")"
   ]
  },
  {
   "cell_type": "code",
   "execution_count": null,
   "id": "eaec76e1",
   "metadata": {},
   "outputs": [],
   "source": [
    "cnn_classifier = NeuralNetClassifier(\n",
    "    conv_model,\n",
    "    criterion=nn.CrossEntropyLoss,\n",
    "    batch_size=100,\n",
    "    max_epochs=2,\n",
    "    optimizer=torch.optim.Adam,\n",
    "    lr=1e-3,\n",
    "    iterator_train__shuffle=True,\n",
    "    train_split=predefined_split(test_dataset),\n",
    "    device=device,\n",
    ")"
   ]
  },
  {
   "cell_type": "code",
   "execution_count": null,
   "id": "8e9b53c3",
   "metadata": {},
   "outputs": [],
   "source": [
    "cnn_classifier.fit(augmented_train_dataset, None)"
   ]
  },
  {
   "cell_type": "markdown",
   "id": "4a23b285",
   "metadata": {},
   "source": [
    "\n",
    "## Callbacks"
   ]
  },
  {
   "cell_type": "code",
   "execution_count": null,
   "id": "a451abb9",
   "metadata": {},
   "outputs": [],
   "source": [
    "step_lr_scheduler = LRScheduler(policy=\"StepLR\", step_size=5, gamma=0.1)"
   ]
  },
  {
   "cell_type": "code",
   "execution_count": null,
   "id": "72dbc29b",
   "metadata": {},
   "outputs": [],
   "source": [
    "checkpoint = Checkpoint(\n",
    "    f_pickle=\"mnist_cnn.pkl\",\n",
    "    dirname=config.model_dir_path.as_posix(),\n",
    "    monitor=\"valid_acc_best\",\n",
    ")"
   ]
  },
  {
   "cell_type": "code",
   "execution_count": null,
   "id": "69cfda5a",
   "metadata": {},
   "outputs": [],
   "source": [
    "early_stopping = EarlyStopping(monitor=\"valid_acc\", patience=5, lower_is_better=False)"
   ]
  },
  {
   "cell_type": "code",
   "execution_count": null,
   "id": "5ccde034",
   "metadata": {},
   "outputs": [],
   "source": [
    "cnn_classifier = NeuralNetClassifier(\n",
    "    conv_model,\n",
    "    criterion=nn.CrossEntropyLoss,\n",
    "    batch_size=100,\n",
    "    max_epochs=200,\n",
    "    optimizer=torch.optim.Adam,\n",
    "    lr=1e-3,\n",
    "    iterator_train__shuffle=True,\n",
    "    train_split=predefined_split(test_dataset),\n",
    "    callbacks=[step_lr_scheduler, checkpoint, early_stopping],\n",
    "    device=device,\n",
    ")"
   ]
  },
  {
   "cell_type": "code",
   "execution_count": null,
   "id": "73550c3b",
   "metadata": {},
   "outputs": [],
   "source": [
    "cnn_classifier.fit(augmented_train_dataset, None)"
   ]
  },
  {
   "cell_type": "code",
   "execution_count": null,
   "id": "af31adc8",
   "metadata": {},
   "outputs": [],
   "source": [
    "with open(config.model_dir_path / \"mnist_cnn.pkl\", \"rb\") as file:\n",
    "    loaded_classifier = pickle.load(file)"
   ]
  },
  {
   "cell_type": "code",
   "execution_count": null,
   "id": "62f48c24",
   "metadata": {},
   "outputs": [],
   "source": [
    "y_pred_loaded = loaded_classifier.predict(test_dataset)"
   ]
  },
  {
   "cell_type": "code",
   "execution_count": null,
   "id": "bc201dd5",
   "metadata": {},
   "outputs": [],
   "source": [
    "print(classification_report(y_test, y_pred_loaded))"
   ]
  },
  {
   "cell_type": "code",
   "execution_count": null,
   "id": "95c02427",
   "metadata": {},
   "outputs": [],
   "source": [
    "print(confusion_matrix(y_test, y_pred_loaded))"
   ]
  },
  {
   "cell_type": "markdown",
   "id": "b805e31b",
   "metadata": {},
   "source": [
    "## Workshop Fashion MNIST mit CNN\n",
    "\n",
    "Trainieren Sie ein Konvolutionsnetz, das Bilder aus dem Fashion MNIST Datenset\n",
    "klassifizieren kann.\n",
    "\n",
    "(Zur Erinnerung: Das Torch `Dataset` für Fashion MNIST kann mit der Klasse\n",
    "`torchvision.datasets.FashionMNIST` erzeugt werden.)"
   ]
  },
  {
   "cell_type": "code",
   "execution_count": null,
   "id": "99fcb50c",
   "metadata": {},
   "outputs": [],
   "source": []
  }
 ],
 "metadata": {
  "kernelspec": {
   "display_name": "Python 3 (ipykernel)",
   "language": "python",
   "name": "python3"
  }
 },
 "nbformat": 4,
 "nbformat_minor": 5
}
