{
 "cells": [
  {
   "cell_type": "markdown",
   "id": "be40a328",
   "metadata": {
    "slideshow": {
     "slide_type": "slide"
    }
   },
   "source": [
    "<h1 style=\"text-align:center;\">Machine Learning for Programmers</h1>\n",
    "<h2 style=\"text-align:center;\">Workshop Fashion-MNIST</h2>\n",
    "<h3 style=\"text-align:center;\">Dr. Matthias Hölzl</h3>\n"
   ]
  },
  {
   "cell_type": "markdown",
   "id": "f13f3415",
   "metadata": {
    "slideshow": {
     "slide_type": "slide"
    }
   },
   "source": [
    "### Workshop: Fashion MNIST\n",
    "\n",
    "- Get data: `fetch_openml(data_id=40996)`\n",
    "- Develop a classifier that can recognize images of trousers"
   ]
  },
  {
   "cell_type": "code",
   "execution_count": null,
   "id": "4a16491f",
   "metadata": {
    "slideshow": {
     "slide_type": "slide"
    }
   },
   "outputs": [],
   "source": []
  }
 ],
 "metadata": {
  "kernelspec": {
   "display_name": "Python 3 (ipykernel)",
   "language": "python",
   "name": "python3"
  },
  "language_info": {
   "codemirror_mode": {
    "name": "ipython",
    "version": 3
   },
   "file_extension": ".py",
   "mimetype": "text/x-python",
   "name": "python",
   "nbconvert_exporter": "python",
   "pygments_lexer": "ipython3",
   "version": "3.9.10"
  }
 },
 "nbformat": 4,
 "nbformat_minor": 5
}
