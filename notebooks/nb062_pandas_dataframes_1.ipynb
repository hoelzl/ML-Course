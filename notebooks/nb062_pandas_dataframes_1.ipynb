{
 "cells": [
  {
   "cell_type": "markdown",
   "metadata": {
    "slideshow": {
     "slide_type": "slide"
    }
   },
   "source": [
    "<img src=\"img/python-logo-notext.svg\"\n",
    "     style=\"display:block;margin:auto;width:10%\"/>\n",
    "<h1 style=\"text-align:center;\">Python: Pandas Data Frames 1</h1>\n",
    "<h2 style=\"text-align:center;\">Coding Akademie München GmbH</h2>\n",
    "<br/>\n",
    "<div style=\"text-align:center;\">Dr. Matthias Hölzl</div>\n",
    "<div style=\"text-align:center;\">Allaithy Raed</div>"
   ]
  },
  {
   "cell_type": "markdown",
   "metadata": {
    "slideshow": {
     "slide_type": "slide"
    }
   },
   "source": [
    "# Data Frames\n",
    "\n",
    "Data Frames sind die am häufigsten verwendete Datenstruktur von Pandas.\n",
    "\n",
    "Sie ermöglichen das bequeme Einlesen, Verarbeiten und Speichern von Daten.\n",
    "\n",
    "Konzeptionell besteht ein Data Frame aus mehreren `Series`-Instanzen, die einen gemeinsamen Index haben."
   ]
  },
  {
   "cell_type": "code",
   "execution_count": 1,
   "metadata": {
    "slideshow": {
     "slide_type": "-"
    }
   },
   "outputs": [],
   "source": [
    "import numpy as np\n",
    "import pandas as pd"
   ]
  },
  {
   "cell_type": "markdown",
   "metadata": {
    "slideshow": {
     "slide_type": "subslide"
    }
   },
   "source": [
    "## Erzeugen eines Data Frames"
   ]
  },
  {
   "cell_type": "markdown",
   "metadata": {},
   "source": [
    "### Aus einem NumPy Array"
   ]
  },
  {
   "cell_type": "code",
   "execution_count": 2,
   "metadata": {},
   "outputs": [],
   "source": [
    "def create_data_frame():\n",
    "    rng = np.random.default_rng(42)\n",
    "    array = rng.normal(size=(5, 4), scale=5.0)\n",
    "    index = 'A B C D E'.split()\n",
    "    columns = 'w x y z'.split()\n",
    "    return pd.DataFrame(array, index=index, columns=columns)"
   ]
  },
  {
   "cell_type": "code",
   "execution_count": 3,
   "metadata": {
    "slideshow": {
     "slide_type": "subslide"
    }
   },
   "outputs": [
    {
     "output_type": "execute_result",
     "data": {
      "text/plain": [
       "          w         x         y         z\n",
       "A  1.523585 -5.199921  3.752256  4.702824\n",
       "B -9.755176 -6.510898  0.639202 -1.581213\n",
       "C -0.084006 -4.265220  4.396990  3.888960\n",
       "D  0.330153  5.636206  2.337547 -4.296462\n",
       "E  1.843754 -4.794413  4.392252 -0.249630"
      ],
      "text/html": "<div>\n<style scoped>\n    .dataframe tbody tr th:only-of-type {\n        vertical-align: middle;\n    }\n\n    .dataframe tbody tr th {\n        vertical-align: top;\n    }\n\n    .dataframe thead th {\n        text-align: right;\n    }\n</style>\n<table border=\"1\" class=\"dataframe\">\n  <thead>\n    <tr style=\"text-align: right;\">\n      <th></th>\n      <th>w</th>\n      <th>x</th>\n      <th>y</th>\n      <th>z</th>\n    </tr>\n  </thead>\n  <tbody>\n    <tr>\n      <th>A</th>\n      <td>1.523585</td>\n      <td>-5.199921</td>\n      <td>3.752256</td>\n      <td>4.702824</td>\n    </tr>\n    <tr>\n      <th>B</th>\n      <td>-9.755176</td>\n      <td>-6.510898</td>\n      <td>0.639202</td>\n      <td>-1.581213</td>\n    </tr>\n    <tr>\n      <th>C</th>\n      <td>-0.084006</td>\n      <td>-4.265220</td>\n      <td>4.396990</td>\n      <td>3.888960</td>\n    </tr>\n    <tr>\n      <th>D</th>\n      <td>0.330153</td>\n      <td>5.636206</td>\n      <td>2.337547</td>\n      <td>-4.296462</td>\n    </tr>\n    <tr>\n      <th>E</th>\n      <td>1.843754</td>\n      <td>-4.794413</td>\n      <td>4.392252</td>\n      <td>-0.249630</td>\n    </tr>\n  </tbody>\n</table>\n</div>"
     },
     "metadata": {},
     "execution_count": 3
    }
   ],
   "source": [
    "df = create_data_frame()\n",
    "df"
   ]
  },
  {
   "cell_type": "code",
   "execution_count": 4,
   "metadata": {},
   "outputs": [
    {
     "output_type": "execute_result",
     "data": {
      "text/plain": [
       "pandas.core.frame.DataFrame"
      ]
     },
     "metadata": {},
     "execution_count": 4
    }
   ],
   "source": [
    "type(df)"
   ]
  },
  {
   "cell_type": "markdown",
   "metadata": {},
   "source": [
    "### Aus einer CSV-Datei"
   ]
  },
  {
   "cell_type": "code",
   "execution_count": 5,
   "metadata": {},
   "outputs": [],
   "source": [
    "df_csv = pd.read_csv(\"example_data.csv\")"
   ]
  },
  {
   "cell_type": "code",
   "execution_count": 6,
   "metadata": {},
   "outputs": [
    {
     "output_type": "execute_result",
     "data": {
      "text/plain": [
       "    Unnamed: 0      Col 0      Col 1      Col 2      Col 3      Col 4  \\\n",
       "0      Index 0   4.076693 -11.592472   5.758058   1.995488   7.433482   \n",
       "1      Index 1  -8.091764  -9.263259  13.398781   3.364558  -4.504057   \n",
       "2      Index 2  -9.967062  17.347022  -7.131536   8.946958  -4.560652   \n",
       "3      Index 3   4.473407  -4.188944  -9.067113 -20.351787  10.067044   \n",
       "4      Index 4 -10.909624   3.213494  18.101500  10.736058  -6.578314   \n",
       "..         ...        ...        ...        ...        ...        ...   \n",
       "995  Index 995 -14.445522   6.513853  -6.446964 -10.729593  -2.300384   \n",
       "996  Index 996  12.300935   1.203874   5.127201 -13.744109   1.032070   \n",
       "997  Index 997   3.074044   6.492773  -2.589086 -11.088337   1.747953   \n",
       "998  Index 998   4.563576  14.066358  -4.915146  -6.283678  -1.343589   \n",
       "999  Index 999   8.426685  16.927540  12.667732  26.127088   8.269967   \n",
       "\n",
       "         Col 5      Col 6      Col 7  \n",
       "0    -2.697633  10.386505   1.392989  \n",
       "1    13.487790  19.387826  10.307054  \n",
       "2    -1.350351  10.932789  14.030532  \n",
       "3   -11.084616  -2.390302 -10.064766  \n",
       "4     4.997114  -6.464901   0.021843  \n",
       "..         ...        ...        ...  \n",
       "995  14.966634  -4.796942 -12.922157  \n",
       "996  14.428249 -12.334804  12.607952  \n",
       "997  16.040783   3.921457  -4.266764  \n",
       "998 -22.898390  -6.044495 -14.400880  \n",
       "999   8.847097  -1.603626  17.094113  \n",
       "\n",
       "[1000 rows x 9 columns]"
      ],
      "text/html": "<div>\n<style scoped>\n    .dataframe tbody tr th:only-of-type {\n        vertical-align: middle;\n    }\n\n    .dataframe tbody tr th {\n        vertical-align: top;\n    }\n\n    .dataframe thead th {\n        text-align: right;\n    }\n</style>\n<table border=\"1\" class=\"dataframe\">\n  <thead>\n    <tr style=\"text-align: right;\">\n      <th></th>\n      <th>Unnamed: 0</th>\n      <th>Col 0</th>\n      <th>Col 1</th>\n      <th>Col 2</th>\n      <th>Col 3</th>\n      <th>Col 4</th>\n      <th>Col 5</th>\n      <th>Col 6</th>\n      <th>Col 7</th>\n    </tr>\n  </thead>\n  <tbody>\n    <tr>\n      <th>0</th>\n      <td>Index 0</td>\n      <td>4.076693</td>\n      <td>-11.592472</td>\n      <td>5.758058</td>\n      <td>1.995488</td>\n      <td>7.433482</td>\n      <td>-2.697633</td>\n      <td>10.386505</td>\n      <td>1.392989</td>\n    </tr>\n    <tr>\n      <th>1</th>\n      <td>Index 1</td>\n      <td>-8.091764</td>\n      <td>-9.263259</td>\n      <td>13.398781</td>\n      <td>3.364558</td>\n      <td>-4.504057</td>\n      <td>13.487790</td>\n      <td>19.387826</td>\n      <td>10.307054</td>\n    </tr>\n    <tr>\n      <th>2</th>\n      <td>Index 2</td>\n      <td>-9.967062</td>\n      <td>17.347022</td>\n      <td>-7.131536</td>\n      <td>8.946958</td>\n      <td>-4.560652</td>\n      <td>-1.350351</td>\n      <td>10.932789</td>\n      <td>14.030532</td>\n    </tr>\n    <tr>\n      <th>3</th>\n      <td>Index 3</td>\n      <td>4.473407</td>\n      <td>-4.188944</td>\n      <td>-9.067113</td>\n      <td>-20.351787</td>\n      <td>10.067044</td>\n      <td>-11.084616</td>\n      <td>-2.390302</td>\n      <td>-10.064766</td>\n    </tr>\n    <tr>\n      <th>4</th>\n      <td>Index 4</td>\n      <td>-10.909624</td>\n      <td>3.213494</td>\n      <td>18.101500</td>\n      <td>10.736058</td>\n      <td>-6.578314</td>\n      <td>4.997114</td>\n      <td>-6.464901</td>\n      <td>0.021843</td>\n    </tr>\n    <tr>\n      <th>...</th>\n      <td>...</td>\n      <td>...</td>\n      <td>...</td>\n      <td>...</td>\n      <td>...</td>\n      <td>...</td>\n      <td>...</td>\n      <td>...</td>\n      <td>...</td>\n    </tr>\n    <tr>\n      <th>995</th>\n      <td>Index 995</td>\n      <td>-14.445522</td>\n      <td>6.513853</td>\n      <td>-6.446964</td>\n      <td>-10.729593</td>\n      <td>-2.300384</td>\n      <td>14.966634</td>\n      <td>-4.796942</td>\n      <td>-12.922157</td>\n    </tr>\n    <tr>\n      <th>996</th>\n      <td>Index 996</td>\n      <td>12.300935</td>\n      <td>1.203874</td>\n      <td>5.127201</td>\n      <td>-13.744109</td>\n      <td>1.032070</td>\n      <td>14.428249</td>\n      <td>-12.334804</td>\n      <td>12.607952</td>\n    </tr>\n    <tr>\n      <th>997</th>\n      <td>Index 997</td>\n      <td>3.074044</td>\n      <td>6.492773</td>\n      <td>-2.589086</td>\n      <td>-11.088337</td>\n      <td>1.747953</td>\n      <td>16.040783</td>\n      <td>3.921457</td>\n      <td>-4.266764</td>\n    </tr>\n    <tr>\n      <th>998</th>\n      <td>Index 998</td>\n      <td>4.563576</td>\n      <td>14.066358</td>\n      <td>-4.915146</td>\n      <td>-6.283678</td>\n      <td>-1.343589</td>\n      <td>-22.898390</td>\n      <td>-6.044495</td>\n      <td>-14.400880</td>\n    </tr>\n    <tr>\n      <th>999</th>\n      <td>Index 999</td>\n      <td>8.426685</td>\n      <td>16.927540</td>\n      <td>12.667732</td>\n      <td>26.127088</td>\n      <td>8.269967</td>\n      <td>8.847097</td>\n      <td>-1.603626</td>\n      <td>17.094113</td>\n    </tr>\n  </tbody>\n</table>\n<p>1000 rows × 9 columns</p>\n</div>"
     },
     "metadata": {},
     "execution_count": 6
    }
   ],
   "source": [
    "df_csv"
   ]
  },
  {
   "cell_type": "code",
   "execution_count": 7,
   "metadata": {},
   "outputs": [],
   "source": [
    "df_csv = pd.read_csv(\"example_data.csv\", index_col=0)"
   ]
  },
  {
   "cell_type": "code",
   "execution_count": 8,
   "metadata": {},
   "outputs": [
    {
     "output_type": "execute_result",
     "data": {
      "text/plain": [
       "               Col 0      Col 1      Col 2      Col 3      Col 4      Col 5  \\\n",
       "Index 0     4.076693 -11.592472   5.758058   1.995488   7.433482  -2.697633   \n",
       "Index 1    -8.091764  -9.263259  13.398781   3.364558  -4.504057  13.487790   \n",
       "Index 2    -9.967062  17.347022  -7.131536   8.946958  -4.560652  -1.350351   \n",
       "Index 3     4.473407  -4.188944  -9.067113 -20.351787  10.067044 -11.084616   \n",
       "Index 4   -10.909624   3.213494  18.101500  10.736058  -6.578314   4.997114   \n",
       "...              ...        ...        ...        ...        ...        ...   \n",
       "Index 995 -14.445522   6.513853  -6.446964 -10.729593  -2.300384  14.966634   \n",
       "Index 996  12.300935   1.203874   5.127201 -13.744109   1.032070  14.428249   \n",
       "Index 997   3.074044   6.492773  -2.589086 -11.088337   1.747953  16.040783   \n",
       "Index 998   4.563576  14.066358  -4.915146  -6.283678  -1.343589 -22.898390   \n",
       "Index 999   8.426685  16.927540  12.667732  26.127088   8.269967   8.847097   \n",
       "\n",
       "               Col 6      Col 7  \n",
       "Index 0    10.386505   1.392989  \n",
       "Index 1    19.387826  10.307054  \n",
       "Index 2    10.932789  14.030532  \n",
       "Index 3    -2.390302 -10.064766  \n",
       "Index 4    -6.464901   0.021843  \n",
       "...              ...        ...  \n",
       "Index 995  -4.796942 -12.922157  \n",
       "Index 996 -12.334804  12.607952  \n",
       "Index 997   3.921457  -4.266764  \n",
       "Index 998  -6.044495 -14.400880  \n",
       "Index 999  -1.603626  17.094113  \n",
       "\n",
       "[1000 rows x 8 columns]"
      ],
      "text/html": "<div>\n<style scoped>\n    .dataframe tbody tr th:only-of-type {\n        vertical-align: middle;\n    }\n\n    .dataframe tbody tr th {\n        vertical-align: top;\n    }\n\n    .dataframe thead th {\n        text-align: right;\n    }\n</style>\n<table border=\"1\" class=\"dataframe\">\n  <thead>\n    <tr style=\"text-align: right;\">\n      <th></th>\n      <th>Col 0</th>\n      <th>Col 1</th>\n      <th>Col 2</th>\n      <th>Col 3</th>\n      <th>Col 4</th>\n      <th>Col 5</th>\n      <th>Col 6</th>\n      <th>Col 7</th>\n    </tr>\n  </thead>\n  <tbody>\n    <tr>\n      <th>Index 0</th>\n      <td>4.076693</td>\n      <td>-11.592472</td>\n      <td>5.758058</td>\n      <td>1.995488</td>\n      <td>7.433482</td>\n      <td>-2.697633</td>\n      <td>10.386505</td>\n      <td>1.392989</td>\n    </tr>\n    <tr>\n      <th>Index 1</th>\n      <td>-8.091764</td>\n      <td>-9.263259</td>\n      <td>13.398781</td>\n      <td>3.364558</td>\n      <td>-4.504057</td>\n      <td>13.487790</td>\n      <td>19.387826</td>\n      <td>10.307054</td>\n    </tr>\n    <tr>\n      <th>Index 2</th>\n      <td>-9.967062</td>\n      <td>17.347022</td>\n      <td>-7.131536</td>\n      <td>8.946958</td>\n      <td>-4.560652</td>\n      <td>-1.350351</td>\n      <td>10.932789</td>\n      <td>14.030532</td>\n    </tr>\n    <tr>\n      <th>Index 3</th>\n      <td>4.473407</td>\n      <td>-4.188944</td>\n      <td>-9.067113</td>\n      <td>-20.351787</td>\n      <td>10.067044</td>\n      <td>-11.084616</td>\n      <td>-2.390302</td>\n      <td>-10.064766</td>\n    </tr>\n    <tr>\n      <th>Index 4</th>\n      <td>-10.909624</td>\n      <td>3.213494</td>\n      <td>18.101500</td>\n      <td>10.736058</td>\n      <td>-6.578314</td>\n      <td>4.997114</td>\n      <td>-6.464901</td>\n      <td>0.021843</td>\n    </tr>\n    <tr>\n      <th>...</th>\n      <td>...</td>\n      <td>...</td>\n      <td>...</td>\n      <td>...</td>\n      <td>...</td>\n      <td>...</td>\n      <td>...</td>\n      <td>...</td>\n    </tr>\n    <tr>\n      <th>Index 995</th>\n      <td>-14.445522</td>\n      <td>6.513853</td>\n      <td>-6.446964</td>\n      <td>-10.729593</td>\n      <td>-2.300384</td>\n      <td>14.966634</td>\n      <td>-4.796942</td>\n      <td>-12.922157</td>\n    </tr>\n    <tr>\n      <th>Index 996</th>\n      <td>12.300935</td>\n      <td>1.203874</td>\n      <td>5.127201</td>\n      <td>-13.744109</td>\n      <td>1.032070</td>\n      <td>14.428249</td>\n      <td>-12.334804</td>\n      <td>12.607952</td>\n    </tr>\n    <tr>\n      <th>Index 997</th>\n      <td>3.074044</td>\n      <td>6.492773</td>\n      <td>-2.589086</td>\n      <td>-11.088337</td>\n      <td>1.747953</td>\n      <td>16.040783</td>\n      <td>3.921457</td>\n      <td>-4.266764</td>\n    </tr>\n    <tr>\n      <th>Index 998</th>\n      <td>4.563576</td>\n      <td>14.066358</td>\n      <td>-4.915146</td>\n      <td>-6.283678</td>\n      <td>-1.343589</td>\n      <td>-22.898390</td>\n      <td>-6.044495</td>\n      <td>-14.400880</td>\n    </tr>\n    <tr>\n      <th>Index 999</th>\n      <td>8.426685</td>\n      <td>16.927540</td>\n      <td>12.667732</td>\n      <td>26.127088</td>\n      <td>8.269967</td>\n      <td>8.847097</td>\n      <td>-1.603626</td>\n      <td>17.094113</td>\n    </tr>\n  </tbody>\n</table>\n<p>1000 rows × 8 columns</p>\n</div>"
     },
     "metadata": {},
     "execution_count": 8
    }
   ],
   "source": [
    "df_csv"
   ]
  },
  {
   "cell_type": "markdown",
   "metadata": {},
   "source": [
    "### Aus einer Excel Datei"
   ]
  },
  {
   "cell_type": "code",
   "execution_count": 10,
   "metadata": {},
   "outputs": [
    {
     "output_type": "error",
     "ename": "ValueError",
     "evalue": "Your version of xlrd is 2.0.1. In xlrd >= 2.0, only the xls format is supported. Install openpyxl instead.",
     "traceback": [
      "\u001b[1;31m---------------------------------------------------------------------------\u001b[0m",
      "\u001b[1;31mValueError\u001b[0m                                Traceback (most recent call last)",
      "\u001b[1;32m<ipython-input-10-5042ceec3621>\u001b[0m in \u001b[0;36m<module>\u001b[1;34m\u001b[0m\n\u001b[1;32m----> 1\u001b[1;33m \u001b[0mdf_excel\u001b[0m \u001b[1;33m=\u001b[0m \u001b[0mpd\u001b[0m\u001b[1;33m.\u001b[0m\u001b[0mread_excel\u001b[0m\u001b[1;33m(\u001b[0m\u001b[1;34m\"excel_data.xlsx\"\u001b[0m\u001b[1;33m,\u001b[0m \u001b[0mindex_col\u001b[0m\u001b[1;33m=\u001b[0m\u001b[1;36m0\u001b[0m\u001b[1;33m)\u001b[0m\u001b[1;33m\u001b[0m\u001b[1;33m\u001b[0m\u001b[0m\n\u001b[0m",
      "\u001b[1;32m~\\Programming\\Python\\Miniconda3\\envs\\cam\\lib\\site-packages\\pandas\\util\\_decorators.py\u001b[0m in \u001b[0;36mwrapper\u001b[1;34m(*args, **kwargs)\u001b[0m\n\u001b[0;32m    297\u001b[0m                 )\n\u001b[0;32m    298\u001b[0m                 \u001b[0mwarnings\u001b[0m\u001b[1;33m.\u001b[0m\u001b[0mwarn\u001b[0m\u001b[1;33m(\u001b[0m\u001b[0mmsg\u001b[0m\u001b[1;33m,\u001b[0m \u001b[0mFutureWarning\u001b[0m\u001b[1;33m,\u001b[0m \u001b[0mstacklevel\u001b[0m\u001b[1;33m=\u001b[0m\u001b[0mstacklevel\u001b[0m\u001b[1;33m)\u001b[0m\u001b[1;33m\u001b[0m\u001b[1;33m\u001b[0m\u001b[0m\n\u001b[1;32m--> 299\u001b[1;33m             \u001b[1;32mreturn\u001b[0m \u001b[0mfunc\u001b[0m\u001b[1;33m(\u001b[0m\u001b[1;33m*\u001b[0m\u001b[0margs\u001b[0m\u001b[1;33m,\u001b[0m \u001b[1;33m**\u001b[0m\u001b[0mkwargs\u001b[0m\u001b[1;33m)\u001b[0m\u001b[1;33m\u001b[0m\u001b[1;33m\u001b[0m\u001b[0m\n\u001b[0m\u001b[0;32m    300\u001b[0m \u001b[1;33m\u001b[0m\u001b[0m\n\u001b[0;32m    301\u001b[0m         \u001b[1;32mreturn\u001b[0m \u001b[0mwrapper\u001b[0m\u001b[1;33m\u001b[0m\u001b[1;33m\u001b[0m\u001b[0m\n",
      "\u001b[1;32m~\\Programming\\Python\\Miniconda3\\envs\\cam\\lib\\site-packages\\pandas\\io\\excel\\_base.py\u001b[0m in \u001b[0;36mread_excel\u001b[1;34m(io, sheet_name, header, names, index_col, usecols, squeeze, dtype, engine, converters, true_values, false_values, skiprows, nrows, na_values, keep_default_na, na_filter, verbose, parse_dates, date_parser, thousands, comment, skipfooter, convert_float, mangle_dupe_cols, storage_options)\u001b[0m\n\u001b[0;32m    334\u001b[0m     \u001b[1;32mif\u001b[0m \u001b[1;32mnot\u001b[0m \u001b[0misinstance\u001b[0m\u001b[1;33m(\u001b[0m\u001b[0mio\u001b[0m\u001b[1;33m,\u001b[0m \u001b[0mExcelFile\u001b[0m\u001b[1;33m)\u001b[0m\u001b[1;33m:\u001b[0m\u001b[1;33m\u001b[0m\u001b[1;33m\u001b[0m\u001b[0m\n\u001b[0;32m    335\u001b[0m         \u001b[0mshould_close\u001b[0m \u001b[1;33m=\u001b[0m \u001b[1;32mTrue\u001b[0m\u001b[1;33m\u001b[0m\u001b[1;33m\u001b[0m\u001b[0m\n\u001b[1;32m--> 336\u001b[1;33m         \u001b[0mio\u001b[0m \u001b[1;33m=\u001b[0m \u001b[0mExcelFile\u001b[0m\u001b[1;33m(\u001b[0m\u001b[0mio\u001b[0m\u001b[1;33m,\u001b[0m \u001b[0mstorage_options\u001b[0m\u001b[1;33m=\u001b[0m\u001b[0mstorage_options\u001b[0m\u001b[1;33m,\u001b[0m \u001b[0mengine\u001b[0m\u001b[1;33m=\u001b[0m\u001b[0mengine\u001b[0m\u001b[1;33m)\u001b[0m\u001b[1;33m\u001b[0m\u001b[1;33m\u001b[0m\u001b[0m\n\u001b[0m\u001b[0;32m    337\u001b[0m     \u001b[1;32melif\u001b[0m \u001b[0mengine\u001b[0m \u001b[1;32mand\u001b[0m \u001b[0mengine\u001b[0m \u001b[1;33m!=\u001b[0m \u001b[0mio\u001b[0m\u001b[1;33m.\u001b[0m\u001b[0mengine\u001b[0m\u001b[1;33m:\u001b[0m\u001b[1;33m\u001b[0m\u001b[1;33m\u001b[0m\u001b[0m\n\u001b[0;32m    338\u001b[0m         raise ValueError(\n",
      "\u001b[1;32m~\\Programming\\Python\\Miniconda3\\envs\\cam\\lib\\site-packages\\pandas\\io\\excel\\_base.py\u001b[0m in \u001b[0;36m__init__\u001b[1;34m(self, path_or_buffer, engine, storage_options)\u001b[0m\n\u001b[0;32m   1100\u001b[0m \u001b[1;33m\u001b[0m\u001b[0m\n\u001b[0;32m   1101\u001b[0m             \u001b[1;32mif\u001b[0m \u001b[0mext\u001b[0m \u001b[1;33m!=\u001b[0m \u001b[1;34m\"xls\"\u001b[0m \u001b[1;32mand\u001b[0m \u001b[0mxlrd_version\u001b[0m \u001b[1;33m>=\u001b[0m \u001b[1;34m\"2\"\u001b[0m\u001b[1;33m:\u001b[0m\u001b[1;33m\u001b[0m\u001b[1;33m\u001b[0m\u001b[0m\n\u001b[1;32m-> 1102\u001b[1;33m                 raise ValueError(\n\u001b[0m\u001b[0;32m   1103\u001b[0m                     \u001b[1;34mf\"Your version of xlrd is {xlrd_version}. In xlrd >= 2.0, \"\u001b[0m\u001b[1;33m\u001b[0m\u001b[1;33m\u001b[0m\u001b[0m\n\u001b[0;32m   1104\u001b[0m                     \u001b[1;34mf\"only the xls format is supported. Install openpyxl instead.\"\u001b[0m\u001b[1;33m\u001b[0m\u001b[1;33m\u001b[0m\u001b[0m\n",
      "\u001b[1;31mValueError\u001b[0m: Your version of xlrd is 2.0.1. In xlrd >= 2.0, only the xls format is supported. Install openpyxl instead."
     ]
    }
   ],
   "source": [
    "df_excel = pd.read_excel(\"excel_data.xlsx\", index_col=0)"
   ]
  },
  {
   "cell_type": "code",
   "execution_count": 282,
   "metadata": {},
   "outputs": [
    {
     "data": {
      "text/html": [
       "<div>\n",
       "<style scoped>\n",
       "    .dataframe tbody tr th:only-of-type {\n",
       "        vertical-align: middle;\n",
       "    }\n",
       "\n",
       "    .dataframe tbody tr th {\n",
       "        vertical-align: top;\n",
       "    }\n",
       "\n",
       "    .dataframe thead th {\n",
       "        text-align: right;\n",
       "    }\n",
       "</style>\n",
       "<table border=\"1\" class=\"dataframe\">\n",
       "  <thead>\n",
       "    <tr style=\"text-align: right;\">\n",
       "      <th></th>\n",
       "      <th>Col 0</th>\n",
       "      <th>Col 1</th>\n",
       "      <th>Col 2</th>\n",
       "      <th>Col 3</th>\n",
       "      <th>Col 4</th>\n",
       "      <th>Col 5</th>\n",
       "      <th>Col 6</th>\n",
       "      <th>Col 7</th>\n",
       "      <th>Col 8</th>\n",
       "      <th>Col 9</th>\n",
       "      <th>Col 10</th>\n",
       "      <th>Col 11</th>\n",
       "    </tr>\n",
       "  </thead>\n",
       "  <tbody>\n",
       "    <tr>\n",
       "      <th>Index 0</th>\n",
       "      <td>4.076693</td>\n",
       "      <td>-11.592472</td>\n",
       "      <td>5.758058</td>\n",
       "      <td>1.995488</td>\n",
       "      <td>7.433482</td>\n",
       "      <td>-2.697633</td>\n",
       "      <td>10.386505</td>\n",
       "      <td>1.392989</td>\n",
       "      <td>-8.091764</td>\n",
       "      <td>-9.263259</td>\n",
       "      <td>13.398781</td>\n",
       "      <td>3.364558</td>\n",
       "    </tr>\n",
       "    <tr>\n",
       "      <th>Index 1</th>\n",
       "      <td>-4.504057</td>\n",
       "      <td>13.487790</td>\n",
       "      <td>19.387826</td>\n",
       "      <td>10.307054</td>\n",
       "      <td>-9.967062</td>\n",
       "      <td>17.347022</td>\n",
       "      <td>-7.131536</td>\n",
       "      <td>8.946958</td>\n",
       "      <td>-4.560652</td>\n",
       "      <td>-1.350351</td>\n",
       "      <td>10.932789</td>\n",
       "      <td>14.030532</td>\n",
       "    </tr>\n",
       "    <tr>\n",
       "      <th>Index 2</th>\n",
       "      <td>4.473407</td>\n",
       "      <td>-4.188944</td>\n",
       "      <td>-9.067113</td>\n",
       "      <td>-20.351787</td>\n",
       "      <td>10.067044</td>\n",
       "      <td>-11.084616</td>\n",
       "      <td>-2.390302</td>\n",
       "      <td>-10.064766</td>\n",
       "      <td>-10.909624</td>\n",
       "      <td>3.213494</td>\n",
       "      <td>18.101500</td>\n",
       "      <td>10.736058</td>\n",
       "    </tr>\n",
       "    <tr>\n",
       "      <th>Index 3</th>\n",
       "      <td>-6.578314</td>\n",
       "      <td>4.997114</td>\n",
       "      <td>-6.464901</td>\n",
       "      <td>0.021843</td>\n",
       "      <td>-2.473564</td>\n",
       "      <td>-19.782094</td>\n",
       "      <td>11.556567</td>\n",
       "      <td>4.545686</td>\n",
       "      <td>13.854239</td>\n",
       "      <td>-1.138480</td>\n",
       "      <td>-1.245364</td>\n",
       "      <td>-24.905710</td>\n",
       "    </tr>\n",
       "    <tr>\n",
       "      <th>Index 4</th>\n",
       "      <td>-0.753812</td>\n",
       "      <td>-3.029928</td>\n",
       "      <td>-10.729667</td>\n",
       "      <td>-12.453821</td>\n",
       "      <td>-13.675471</td>\n",
       "      <td>6.621271</td>\n",
       "      <td>-10.122960</td>\n",
       "      <td>-10.974487</td>\n",
       "      <td>-0.734146</td>\n",
       "      <td>-7.829734</td>\n",
       "      <td>-6.770842</td>\n",
       "      <td>-13.666861</td>\n",
       "    </tr>\n",
       "    <tr>\n",
       "      <th>...</th>\n",
       "      <td>...</td>\n",
       "      <td>...</td>\n",
       "      <td>...</td>\n",
       "      <td>...</td>\n",
       "      <td>...</td>\n",
       "      <td>...</td>\n",
       "      <td>...</td>\n",
       "      <td>...</td>\n",
       "      <td>...</td>\n",
       "      <td>...</td>\n",
       "      <td>...</td>\n",
       "      <td>...</td>\n",
       "    </tr>\n",
       "    <tr>\n",
       "      <th>Index 95</th>\n",
       "      <td>-4.112835</td>\n",
       "      <td>7.385291</td>\n",
       "      <td>-13.851625</td>\n",
       "      <td>-6.078196</td>\n",
       "      <td>11.023885</td>\n",
       "      <td>-5.512976</td>\n",
       "      <td>1.231175</td>\n",
       "      <td>6.411213</td>\n",
       "      <td>-1.683794</td>\n",
       "      <td>4.646666</td>\n",
       "      <td>18.364089</td>\n",
       "      <td>6.956441</td>\n",
       "    </tr>\n",
       "    <tr>\n",
       "      <th>Index 96</th>\n",
       "      <td>-4.436619</td>\n",
       "      <td>2.669846</td>\n",
       "      <td>6.218075</td>\n",
       "      <td>-9.575880</td>\n",
       "      <td>-3.399697</td>\n",
       "      <td>14.107305</td>\n",
       "      <td>-8.542899</td>\n",
       "      <td>7.253396</td>\n",
       "      <td>-0.474596</td>\n",
       "      <td>-11.268330</td>\n",
       "      <td>19.082276</td>\n",
       "      <td>1.434360</td>\n",
       "    </tr>\n",
       "    <tr>\n",
       "      <th>Index 97</th>\n",
       "      <td>-2.641866</td>\n",
       "      <td>-0.605210</td>\n",
       "      <td>-1.159309</td>\n",
       "      <td>10.960797</td>\n",
       "      <td>-20.105969</td>\n",
       "      <td>10.573056</td>\n",
       "      <td>3.127534</td>\n",
       "      <td>2.846807</td>\n",
       "      <td>7.143668</td>\n",
       "      <td>5.478037</td>\n",
       "      <td>0.536783</td>\n",
       "      <td>2.569418</td>\n",
       "    </tr>\n",
       "    <tr>\n",
       "      <th>Index 98</th>\n",
       "      <td>13.237843</td>\n",
       "      <td>-13.885348</td>\n",
       "      <td>18.912088</td>\n",
       "      <td>3.159741</td>\n",
       "      <td>-8.686046</td>\n",
       "      <td>-5.722742</td>\n",
       "      <td>4.098118</td>\n",
       "      <td>3.469731</td>\n",
       "      <td>-7.391454</td>\n",
       "      <td>7.783543</td>\n",
       "      <td>-8.647712</td>\n",
       "      <td>-10.910139</td>\n",
       "    </tr>\n",
       "    <tr>\n",
       "      <th>Index 99</th>\n",
       "      <td>16.327530</td>\n",
       "      <td>9.128792</td>\n",
       "      <td>11.217098</td>\n",
       "      <td>8.639888</td>\n",
       "      <td>0.715028</td>\n",
       "      <td>-1.312129</td>\n",
       "      <td>-1.885473</td>\n",
       "      <td>10.439447</td>\n",
       "      <td>0.101048</td>\n",
       "      <td>-0.820258</td>\n",
       "      <td>-3.173715</td>\n",
       "      <td>5.438891</td>\n",
       "    </tr>\n",
       "  </tbody>\n",
       "</table>\n",
       "<p>100 rows × 12 columns</p>\n",
       "</div>"
      ],
      "text/plain": [
       "              Col 0      Col 1      Col 2      Col 3      Col 4      Col 5  \\\n",
       "Index 0    4.076693 -11.592472   5.758058   1.995488   7.433482  -2.697633   \n",
       "Index 1   -4.504057  13.487790  19.387826  10.307054  -9.967062  17.347022   \n",
       "Index 2    4.473407  -4.188944  -9.067113 -20.351787  10.067044 -11.084616   \n",
       "Index 3   -6.578314   4.997114  -6.464901   0.021843  -2.473564 -19.782094   \n",
       "Index 4   -0.753812  -3.029928 -10.729667 -12.453821 -13.675471   6.621271   \n",
       "...             ...        ...        ...        ...        ...        ...   \n",
       "Index 95  -4.112835   7.385291 -13.851625  -6.078196  11.023885  -5.512976   \n",
       "Index 96  -4.436619   2.669846   6.218075  -9.575880  -3.399697  14.107305   \n",
       "Index 97  -2.641866  -0.605210  -1.159309  10.960797 -20.105969  10.573056   \n",
       "Index 98  13.237843 -13.885348  18.912088   3.159741  -8.686046  -5.722742   \n",
       "Index 99  16.327530   9.128792  11.217098   8.639888   0.715028  -1.312129   \n",
       "\n",
       "              Col 6      Col 7      Col 8      Col 9     Col 10     Col 11  \n",
       "Index 0   10.386505   1.392989  -8.091764  -9.263259  13.398781   3.364558  \n",
       "Index 1   -7.131536   8.946958  -4.560652  -1.350351  10.932789  14.030532  \n",
       "Index 2   -2.390302 -10.064766 -10.909624   3.213494  18.101500  10.736058  \n",
       "Index 3   11.556567   4.545686  13.854239  -1.138480  -1.245364 -24.905710  \n",
       "Index 4  -10.122960 -10.974487  -0.734146  -7.829734  -6.770842 -13.666861  \n",
       "...             ...        ...        ...        ...        ...        ...  \n",
       "Index 95   1.231175   6.411213  -1.683794   4.646666  18.364089   6.956441  \n",
       "Index 96  -8.542899   7.253396  -0.474596 -11.268330  19.082276   1.434360  \n",
       "Index 97   3.127534   2.846807   7.143668   5.478037   0.536783   2.569418  \n",
       "Index 98   4.098118   3.469731  -7.391454   7.783543  -8.647712 -10.910139  \n",
       "Index 99  -1.885473  10.439447   0.101048  -0.820258  -3.173715   5.438891  \n",
       "\n",
       "[100 rows x 12 columns]"
      ]
     },
     "execution_count": 282,
     "metadata": {},
     "output_type": "execute_result"
    }
   ],
   "source": [
    "df_excel"
   ]
  },
  {
   "cell_type": "code",
   "execution_count": 290,
   "metadata": {},
   "outputs": [],
   "source": [
    "df_excel2 = pd.read_excel(\"excel_other_sheet.xlsx\", index_col=0)"
   ]
  },
  {
   "cell_type": "code",
   "execution_count": 291,
   "metadata": {},
   "outputs": [
    {
     "data": {
      "text/html": [
       "<div>\n",
       "<style scoped>\n",
       "    .dataframe tbody tr th:only-of-type {\n",
       "        vertical-align: middle;\n",
       "    }\n",
       "\n",
       "    .dataframe tbody tr th {\n",
       "        vertical-align: top;\n",
       "    }\n",
       "\n",
       "    .dataframe thead th {\n",
       "        text-align: right;\n",
       "    }\n",
       "</style>\n",
       "<table border=\"1\" class=\"dataframe\">\n",
       "  <thead>\n",
       "    <tr style=\"text-align: right;\">\n",
       "      <th></th>\n",
       "    </tr>\n",
       "  </thead>\n",
       "  <tbody>\n",
       "  </tbody>\n",
       "</table>\n",
       "</div>"
      ],
      "text/plain": [
       "Empty DataFrame\n",
       "Columns: []\n",
       "Index: []"
      ]
     },
     "execution_count": 291,
     "metadata": {},
     "output_type": "execute_result"
    }
   ],
   "source": [
    "df_excel2"
   ]
  },
  {
   "cell_type": "code",
   "execution_count": 292,
   "metadata": {},
   "outputs": [],
   "source": [
    "df_excel2 = pd.read_excel(\"excel_other_sheet.xlsx\", index_col=0, sheet_name='Another Sheet')"
   ]
  },
  {
   "cell_type": "code",
   "execution_count": 294,
   "metadata": {},
   "outputs": [
    {
     "data": {
      "text/html": [
       "<div>\n",
       "<style scoped>\n",
       "    .dataframe tbody tr th:only-of-type {\n",
       "        vertical-align: middle;\n",
       "    }\n",
       "\n",
       "    .dataframe tbody tr th {\n",
       "        vertical-align: top;\n",
       "    }\n",
       "\n",
       "    .dataframe thead th {\n",
       "        text-align: right;\n",
       "    }\n",
       "</style>\n",
       "<table border=\"1\" class=\"dataframe\">\n",
       "  <thead>\n",
       "    <tr style=\"text-align: right;\">\n",
       "      <th></th>\n",
       "      <th>Col 0</th>\n",
       "      <th>Col 1</th>\n",
       "      <th>Col 2</th>\n",
       "      <th>Col 3</th>\n",
       "      <th>Col 4</th>\n",
       "      <th>Col 5</th>\n",
       "      <th>Col 6</th>\n",
       "      <th>Col 7</th>\n",
       "    </tr>\n",
       "  </thead>\n",
       "  <tbody>\n",
       "    <tr>\n",
       "      <th>Index 0</th>\n",
       "      <td>4.076693</td>\n",
       "      <td>-11.592472</td>\n",
       "      <td>5.758058</td>\n",
       "      <td>1.995488</td>\n",
       "      <td>7.433482</td>\n",
       "      <td>-2.697633</td>\n",
       "      <td>10.386505</td>\n",
       "      <td>1.392989</td>\n",
       "    </tr>\n",
       "    <tr>\n",
       "      <th>Index 1</th>\n",
       "      <td>-8.091764</td>\n",
       "      <td>-9.263259</td>\n",
       "      <td>13.398781</td>\n",
       "      <td>3.364558</td>\n",
       "      <td>-4.504057</td>\n",
       "      <td>13.487790</td>\n",
       "      <td>19.387826</td>\n",
       "      <td>10.307054</td>\n",
       "    </tr>\n",
       "    <tr>\n",
       "      <th>Index 2</th>\n",
       "      <td>-9.967062</td>\n",
       "      <td>17.347022</td>\n",
       "      <td>-7.131536</td>\n",
       "      <td>8.946958</td>\n",
       "      <td>-4.560652</td>\n",
       "      <td>-1.350351</td>\n",
       "      <td>10.932789</td>\n",
       "      <td>14.030532</td>\n",
       "    </tr>\n",
       "    <tr>\n",
       "      <th>Index 3</th>\n",
       "      <td>4.473407</td>\n",
       "      <td>-4.188944</td>\n",
       "      <td>-9.067113</td>\n",
       "      <td>-20.351787</td>\n",
       "      <td>10.067044</td>\n",
       "      <td>-11.084616</td>\n",
       "      <td>-2.390302</td>\n",
       "      <td>-10.064766</td>\n",
       "    </tr>\n",
       "    <tr>\n",
       "      <th>Index 4</th>\n",
       "      <td>-10.909624</td>\n",
       "      <td>3.213494</td>\n",
       "      <td>18.101500</td>\n",
       "      <td>10.736058</td>\n",
       "      <td>-6.578314</td>\n",
       "      <td>4.997114</td>\n",
       "      <td>-6.464901</td>\n",
       "      <td>0.021843</td>\n",
       "    </tr>\n",
       "  </tbody>\n",
       "</table>\n",
       "</div>"
      ],
      "text/plain": [
       "             Col 0      Col 1      Col 2      Col 3      Col 4      Col 5  \\\n",
       "Index 0   4.076693 -11.592472   5.758058   1.995488   7.433482  -2.697633   \n",
       "Index 1  -8.091764  -9.263259  13.398781   3.364558  -4.504057  13.487790   \n",
       "Index 2  -9.967062  17.347022  -7.131536   8.946958  -4.560652  -1.350351   \n",
       "Index 3   4.473407  -4.188944  -9.067113 -20.351787  10.067044 -11.084616   \n",
       "Index 4 -10.909624   3.213494  18.101500  10.736058  -6.578314   4.997114   \n",
       "\n",
       "             Col 6      Col 7  \n",
       "Index 0  10.386505   1.392989  \n",
       "Index 1  19.387826  10.307054  \n",
       "Index 2  10.932789  14.030532  \n",
       "Index 3  -2.390302 -10.064766  \n",
       "Index 4  -6.464901   0.021843  "
      ]
     },
     "execution_count": 294,
     "metadata": {},
     "output_type": "execute_result"
    }
   ],
   "source": [
    "df_excel2.head()"
   ]
  },
  {
   "cell_type": "markdown",
   "metadata": {
    "slideshow": {
     "slide_type": "subslide"
    }
   },
   "source": [
    "### Andere Formate:"
   ]
  },
  {
   "cell_type": "code",
   "execution_count": 300,
   "metadata": {},
   "outputs": [],
   "source": [
    "pd.read_clipboard\n",
    "pd.read_html\n",
    "pd.read_json\n",
    "pd.read_pickle\n",
    "pd.read_sql; # Verwendet SQLAlchemy um auf eine Datenbank zuzugreifen\n",
    "# usw."
   ]
  },
  {
   "cell_type": "markdown",
   "metadata": {
    "slideshow": {
     "slide_type": "slide"
    }
   },
   "source": [
    "### Indizes und Operationen"
   ]
  },
  {
   "cell_type": "code",
   "execution_count": 213,
   "metadata": {},
   "outputs": [
    {
     "data": {
      "text/html": [
       "<div>\n",
       "<style scoped>\n",
       "    .dataframe tbody tr th:only-of-type {\n",
       "        vertical-align: middle;\n",
       "    }\n",
       "\n",
       "    .dataframe tbody tr th {\n",
       "        vertical-align: top;\n",
       "    }\n",
       "\n",
       "    .dataframe thead th {\n",
       "        text-align: right;\n",
       "    }\n",
       "</style>\n",
       "<table border=\"1\" class=\"dataframe\">\n",
       "  <thead>\n",
       "    <tr style=\"text-align: right;\">\n",
       "      <th></th>\n",
       "      <th>Col 0</th>\n",
       "      <th>Col 1</th>\n",
       "      <th>Col 2</th>\n",
       "      <th>Col 3</th>\n",
       "      <th>Col 4</th>\n",
       "      <th>Col 5</th>\n",
       "      <th>Col 6</th>\n",
       "      <th>Col 7</th>\n",
       "    </tr>\n",
       "  </thead>\n",
       "  <tbody>\n",
       "    <tr>\n",
       "      <th>Index 0</th>\n",
       "      <td>4.076693</td>\n",
       "      <td>-11.592472</td>\n",
       "      <td>5.758058</td>\n",
       "      <td>1.995488</td>\n",
       "      <td>7.433482</td>\n",
       "      <td>-2.697633</td>\n",
       "      <td>10.386505</td>\n",
       "      <td>1.392989</td>\n",
       "    </tr>\n",
       "    <tr>\n",
       "      <th>Index 1</th>\n",
       "      <td>-8.091764</td>\n",
       "      <td>-9.263259</td>\n",
       "      <td>13.398781</td>\n",
       "      <td>3.364558</td>\n",
       "      <td>-4.504057</td>\n",
       "      <td>13.487790</td>\n",
       "      <td>19.387826</td>\n",
       "      <td>10.307054</td>\n",
       "    </tr>\n",
       "    <tr>\n",
       "      <th>Index 2</th>\n",
       "      <td>-9.967062</td>\n",
       "      <td>17.347022</td>\n",
       "      <td>-7.131536</td>\n",
       "      <td>8.946958</td>\n",
       "      <td>-4.560652</td>\n",
       "      <td>-1.350351</td>\n",
       "      <td>10.932789</td>\n",
       "      <td>14.030532</td>\n",
       "    </tr>\n",
       "    <tr>\n",
       "      <th>Index 3</th>\n",
       "      <td>4.473407</td>\n",
       "      <td>-4.188944</td>\n",
       "      <td>-9.067113</td>\n",
       "      <td>-20.351787</td>\n",
       "      <td>10.067044</td>\n",
       "      <td>-11.084616</td>\n",
       "      <td>-2.390302</td>\n",
       "      <td>-10.064766</td>\n",
       "    </tr>\n",
       "    <tr>\n",
       "      <th>Index 4</th>\n",
       "      <td>-10.909624</td>\n",
       "      <td>3.213494</td>\n",
       "      <td>18.101500</td>\n",
       "      <td>10.736058</td>\n",
       "      <td>-6.578314</td>\n",
       "      <td>4.997114</td>\n",
       "      <td>-6.464901</td>\n",
       "      <td>0.021843</td>\n",
       "    </tr>\n",
       "  </tbody>\n",
       "</table>\n",
       "</div>"
      ],
      "text/plain": [
       "             Col 0      Col 1      Col 2      Col 3      Col 4      Col 5  \\\n",
       "Index 0   4.076693 -11.592472   5.758058   1.995488   7.433482  -2.697633   \n",
       "Index 1  -8.091764  -9.263259  13.398781   3.364558  -4.504057  13.487790   \n",
       "Index 2  -9.967062  17.347022  -7.131536   8.946958  -4.560652  -1.350351   \n",
       "Index 3   4.473407  -4.188944  -9.067113 -20.351787  10.067044 -11.084616   \n",
       "Index 4 -10.909624   3.213494  18.101500  10.736058  -6.578314   4.997114   \n",
       "\n",
       "             Col 6      Col 7  \n",
       "Index 0  10.386505   1.392989  \n",
       "Index 1  19.387826  10.307054  \n",
       "Index 2  10.932789  14.030532  \n",
       "Index 3  -2.390302 -10.064766  \n",
       "Index 4  -6.464901   0.021843  "
      ]
     },
     "execution_count": 213,
     "metadata": {},
     "output_type": "execute_result"
    }
   ],
   "source": [
    "df_csv.head()"
   ]
  },
  {
   "cell_type": "code",
   "execution_count": 214,
   "metadata": {},
   "outputs": [
    {
     "data": {
      "text/html": [
       "<div>\n",
       "<style scoped>\n",
       "    .dataframe tbody tr th:only-of-type {\n",
       "        vertical-align: middle;\n",
       "    }\n",
       "\n",
       "    .dataframe tbody tr th {\n",
       "        vertical-align: top;\n",
       "    }\n",
       "\n",
       "    .dataframe thead th {\n",
       "        text-align: right;\n",
       "    }\n",
       "</style>\n",
       "<table border=\"1\" class=\"dataframe\">\n",
       "  <thead>\n",
       "    <tr style=\"text-align: right;\">\n",
       "      <th></th>\n",
       "      <th>Col 0</th>\n",
       "      <th>Col 1</th>\n",
       "      <th>Col 2</th>\n",
       "      <th>Col 3</th>\n",
       "      <th>Col 4</th>\n",
       "      <th>Col 5</th>\n",
       "      <th>Col 6</th>\n",
       "      <th>Col 7</th>\n",
       "    </tr>\n",
       "  </thead>\n",
       "  <tbody>\n",
       "    <tr>\n",
       "      <th>Index 995</th>\n",
       "      <td>-14.445522</td>\n",
       "      <td>6.513853</td>\n",
       "      <td>-6.446964</td>\n",
       "      <td>-10.729593</td>\n",
       "      <td>-2.300384</td>\n",
       "      <td>14.966634</td>\n",
       "      <td>-4.796942</td>\n",
       "      <td>-12.922157</td>\n",
       "    </tr>\n",
       "    <tr>\n",
       "      <th>Index 996</th>\n",
       "      <td>12.300935</td>\n",
       "      <td>1.203874</td>\n",
       "      <td>5.127201</td>\n",
       "      <td>-13.744109</td>\n",
       "      <td>1.032070</td>\n",
       "      <td>14.428249</td>\n",
       "      <td>-12.334804</td>\n",
       "      <td>12.607952</td>\n",
       "    </tr>\n",
       "    <tr>\n",
       "      <th>Index 997</th>\n",
       "      <td>3.074044</td>\n",
       "      <td>6.492773</td>\n",
       "      <td>-2.589086</td>\n",
       "      <td>-11.088337</td>\n",
       "      <td>1.747953</td>\n",
       "      <td>16.040783</td>\n",
       "      <td>3.921457</td>\n",
       "      <td>-4.266764</td>\n",
       "    </tr>\n",
       "    <tr>\n",
       "      <th>Index 998</th>\n",
       "      <td>4.563576</td>\n",
       "      <td>14.066358</td>\n",
       "      <td>-4.915146</td>\n",
       "      <td>-6.283678</td>\n",
       "      <td>-1.343589</td>\n",
       "      <td>-22.898390</td>\n",
       "      <td>-6.044495</td>\n",
       "      <td>-14.400880</td>\n",
       "    </tr>\n",
       "    <tr>\n",
       "      <th>Index 999</th>\n",
       "      <td>8.426685</td>\n",
       "      <td>16.927540</td>\n",
       "      <td>12.667732</td>\n",
       "      <td>26.127088</td>\n",
       "      <td>8.269967</td>\n",
       "      <td>8.847097</td>\n",
       "      <td>-1.603626</td>\n",
       "      <td>17.094113</td>\n",
       "    </tr>\n",
       "  </tbody>\n",
       "</table>\n",
       "</div>"
      ],
      "text/plain": [
       "               Col 0      Col 1      Col 2      Col 3     Col 4      Col 5  \\\n",
       "Index 995 -14.445522   6.513853  -6.446964 -10.729593 -2.300384  14.966634   \n",
       "Index 996  12.300935   1.203874   5.127201 -13.744109  1.032070  14.428249   \n",
       "Index 997   3.074044   6.492773  -2.589086 -11.088337  1.747953  16.040783   \n",
       "Index 998   4.563576  14.066358  -4.915146  -6.283678 -1.343589 -22.898390   \n",
       "Index 999   8.426685  16.927540  12.667732  26.127088  8.269967   8.847097   \n",
       "\n",
       "               Col 6      Col 7  \n",
       "Index 995  -4.796942 -12.922157  \n",
       "Index 996 -12.334804  12.607952  \n",
       "Index 997   3.921457  -4.266764  \n",
       "Index 998  -6.044495 -14.400880  \n",
       "Index 999  -1.603626  17.094113  "
      ]
     },
     "execution_count": 214,
     "metadata": {},
     "output_type": "execute_result"
    }
   ],
   "source": [
    "df_csv.tail()"
   ]
  },
  {
   "cell_type": "code",
   "execution_count": 215,
   "metadata": {
    "slideshow": {
     "slide_type": "subslide"
    }
   },
   "outputs": [
    {
     "data": {
      "text/plain": [
       "A    1.381329\n",
       "B    5.185952\n",
       "C    0.743375\n",
       "D   -9.094062\n",
       "E    6.574383\n",
       "Name: w, dtype: float64"
      ]
     },
     "execution_count": 215,
     "metadata": {},
     "output_type": "execute_result"
    }
   ],
   "source": [
    "df = create_data_frame()\n",
    "df['w']"
   ]
  },
  {
   "cell_type": "code",
   "execution_count": 216,
   "metadata": {},
   "outputs": [
    {
     "data": {
      "text/plain": [
       "pandas.core.series.Series"
      ]
     },
     "execution_count": 216,
     "metadata": {},
     "output_type": "execute_result"
    }
   ],
   "source": [
    "type(df['w'])"
   ]
  },
  {
   "cell_type": "code",
   "execution_count": 217,
   "metadata": {},
   "outputs": [
    {
     "data": {
      "text/plain": [
       "A    1.381329\n",
       "B    5.185952\n",
       "C    0.743375\n",
       "D   -9.094062\n",
       "E    6.574383\n",
       "Name: w, dtype: float64"
      ]
     },
     "execution_count": 217,
     "metadata": {},
     "output_type": "execute_result"
    }
   ],
   "source": [
    "# Sollte nicht verwendet werden...\n",
    "df.w"
   ]
  },
  {
   "cell_type": "code",
   "execution_count": 218,
   "metadata": {
    "slideshow": {
     "slide_type": "subslide"
    }
   },
   "outputs": [
    {
     "data": {
      "text/html": [
       "<div>\n",
       "<style scoped>\n",
       "    .dataframe tbody tr th:only-of-type {\n",
       "        vertical-align: middle;\n",
       "    }\n",
       "\n",
       "    .dataframe tbody tr th {\n",
       "        vertical-align: top;\n",
       "    }\n",
       "\n",
       "    .dataframe thead th {\n",
       "        text-align: right;\n",
       "    }\n",
       "</style>\n",
       "<table border=\"1\" class=\"dataframe\">\n",
       "  <thead>\n",
       "    <tr style=\"text-align: right;\">\n",
       "      <th></th>\n",
       "      <th>w</th>\n",
       "      <th>y</th>\n",
       "    </tr>\n",
       "  </thead>\n",
       "  <tbody>\n",
       "    <tr>\n",
       "      <th>A</th>\n",
       "      <td>1.381329</td>\n",
       "      <td>3.119506</td>\n",
       "    </tr>\n",
       "    <tr>\n",
       "      <th>B</th>\n",
       "      <td>5.185952</td>\n",
       "      <td>-0.558491</td>\n",
       "    </tr>\n",
       "    <tr>\n",
       "      <th>C</th>\n",
       "      <td>0.743375</td>\n",
       "      <td>10.856285</td>\n",
       "    </tr>\n",
       "    <tr>\n",
       "      <th>D</th>\n",
       "      <td>-9.094062</td>\n",
       "      <td>2.699198</td>\n",
       "    </tr>\n",
       "    <tr>\n",
       "      <th>E</th>\n",
       "      <td>6.574383</td>\n",
       "      <td>-5.461150</td>\n",
       "    </tr>\n",
       "  </tbody>\n",
       "</table>\n",
       "</div>"
      ],
      "text/plain": [
       "          w          y\n",
       "A  1.381329   3.119506\n",
       "B  5.185952  -0.558491\n",
       "C  0.743375  10.856285\n",
       "D -9.094062   2.699198\n",
       "E  6.574383  -5.461150"
      ]
     },
     "execution_count": 218,
     "metadata": {},
     "output_type": "execute_result"
    }
   ],
   "source": [
    "df[['w', 'y']]"
   ]
  },
  {
   "cell_type": "code",
   "execution_count": 219,
   "metadata": {},
   "outputs": [
    {
     "data": {
      "text/plain": [
       "Index(['A', 'B', 'C', 'D', 'E'], dtype='object')"
      ]
     },
     "execution_count": 219,
     "metadata": {},
     "output_type": "execute_result"
    }
   ],
   "source": [
    "df.index"
   ]
  },
  {
   "cell_type": "code",
   "execution_count": 220,
   "metadata": {},
   "outputs": [
    {
     "data": {
      "text/plain": [
       "True"
      ]
     },
     "execution_count": 220,
     "metadata": {},
     "output_type": "execute_result"
    }
   ],
   "source": [
    "df.index.is_monotonic_increasing"
   ]
  },
  {
   "cell_type": "code",
   "execution_count": 221,
   "metadata": {},
   "outputs": [
    {
     "data": {
      "text/plain": [
       "20"
      ]
     },
     "execution_count": 221,
     "metadata": {},
     "output_type": "execute_result"
    }
   ],
   "source": [
    "df.size"
   ]
  },
  {
   "cell_type": "code",
   "execution_count": 222,
   "metadata": {},
   "outputs": [
    {
     "data": {
      "text/plain": [
       "2"
      ]
     },
     "execution_count": 222,
     "metadata": {},
     "output_type": "execute_result"
    }
   ],
   "source": [
    "df.ndim"
   ]
  },
  {
   "cell_type": "code",
   "execution_count": 223,
   "metadata": {},
   "outputs": [
    {
     "data": {
      "text/plain": [
       "(5, 4)"
      ]
     },
     "execution_count": 223,
     "metadata": {},
     "output_type": "execute_result"
    }
   ],
   "source": [
    "df.shape"
   ]
  },
  {
   "cell_type": "markdown",
   "metadata": {
    "slideshow": {
     "slide_type": "slide"
    }
   },
   "source": [
    "### Erzeugen, Umbenennen und Löschen von Spalten"
   ]
  },
  {
   "cell_type": "code",
   "execution_count": 224,
   "metadata": {},
   "outputs": [],
   "source": [
    "df = create_data_frame()\n",
    "df['Summe aus w und y'] = df['w'] + df['y']"
   ]
  },
  {
   "cell_type": "code",
   "execution_count": 225,
   "metadata": {},
   "outputs": [
    {
     "data": {
      "text/html": [
       "<div>\n",
       "<style scoped>\n",
       "    .dataframe tbody tr th:only-of-type {\n",
       "        vertical-align: middle;\n",
       "    }\n",
       "\n",
       "    .dataframe tbody tr th {\n",
       "        vertical-align: top;\n",
       "    }\n",
       "\n",
       "    .dataframe thead th {\n",
       "        text-align: right;\n",
       "    }\n",
       "</style>\n",
       "<table border=\"1\" class=\"dataframe\">\n",
       "  <thead>\n",
       "    <tr style=\"text-align: right;\">\n",
       "      <th></th>\n",
       "      <th>w</th>\n",
       "      <th>x</th>\n",
       "      <th>y</th>\n",
       "      <th>z</th>\n",
       "      <th>Summe aus w und y</th>\n",
       "    </tr>\n",
       "  </thead>\n",
       "  <tbody>\n",
       "    <tr>\n",
       "      <th>A</th>\n",
       "      <td>1.381329</td>\n",
       "      <td>-9.273140</td>\n",
       "      <td>3.119506</td>\n",
       "      <td>5.726556</td>\n",
       "      <td>4.500835</td>\n",
       "    </tr>\n",
       "    <tr>\n",
       "      <th>B</th>\n",
       "      <td>5.185952</td>\n",
       "      <td>9.433195</td>\n",
       "      <td>-0.558491</td>\n",
       "      <td>-1.810507</td>\n",
       "      <td>4.627461</td>\n",
       "    </tr>\n",
       "    <tr>\n",
       "      <th>C</th>\n",
       "      <td>0.743375</td>\n",
       "      <td>-2.188916</td>\n",
       "      <td>10.856285</td>\n",
       "      <td>5.761551</td>\n",
       "      <td>11.599660</td>\n",
       "    </tr>\n",
       "    <tr>\n",
       "      <th>D</th>\n",
       "      <td>-9.094062</td>\n",
       "      <td>-0.690247</td>\n",
       "      <td>2.699198</td>\n",
       "      <td>-8.876411</td>\n",
       "      <td>-6.394864</td>\n",
       "    </tr>\n",
       "    <tr>\n",
       "      <th>E</th>\n",
       "      <td>6.574383</td>\n",
       "      <td>-2.367240</td>\n",
       "      <td>-5.461150</td>\n",
       "      <td>-1.250137</td>\n",
       "      <td>1.113233</td>\n",
       "    </tr>\n",
       "  </tbody>\n",
       "</table>\n",
       "</div>"
      ],
      "text/plain": [
       "          w         x          y         z  Summe aus w und y\n",
       "A  1.381329 -9.273140   3.119506  5.726556           4.500835\n",
       "B  5.185952  9.433195  -0.558491 -1.810507           4.627461\n",
       "C  0.743375 -2.188916  10.856285  5.761551          11.599660\n",
       "D -9.094062 -0.690247   2.699198 -8.876411          -6.394864\n",
       "E  6.574383 -2.367240  -5.461150 -1.250137           1.113233"
      ]
     },
     "execution_count": 225,
     "metadata": {},
     "output_type": "execute_result"
    }
   ],
   "source": [
    "df"
   ]
  },
  {
   "cell_type": "code",
   "execution_count": 226,
   "metadata": {
    "slideshow": {
     "slide_type": "subslide"
    }
   },
   "outputs": [
    {
     "data": {
      "text/html": [
       "<div>\n",
       "<style scoped>\n",
       "    .dataframe tbody tr th:only-of-type {\n",
       "        vertical-align: middle;\n",
       "    }\n",
       "\n",
       "    .dataframe tbody tr th {\n",
       "        vertical-align: top;\n",
       "    }\n",
       "\n",
       "    .dataframe thead th {\n",
       "        text-align: right;\n",
       "    }\n",
       "</style>\n",
       "<table border=\"1\" class=\"dataframe\">\n",
       "  <thead>\n",
       "    <tr style=\"text-align: right;\">\n",
       "      <th></th>\n",
       "      <th>w</th>\n",
       "      <th>x</th>\n",
       "      <th>y</th>\n",
       "      <th>z</th>\n",
       "      <th>w + y</th>\n",
       "    </tr>\n",
       "  </thead>\n",
       "  <tbody>\n",
       "    <tr>\n",
       "      <th>A</th>\n",
       "      <td>1.381329</td>\n",
       "      <td>-9.273140</td>\n",
       "      <td>3.119506</td>\n",
       "      <td>5.726556</td>\n",
       "      <td>4.500835</td>\n",
       "    </tr>\n",
       "    <tr>\n",
       "      <th>B</th>\n",
       "      <td>5.185952</td>\n",
       "      <td>9.433195</td>\n",
       "      <td>-0.558491</td>\n",
       "      <td>-1.810507</td>\n",
       "      <td>4.627461</td>\n",
       "    </tr>\n",
       "    <tr>\n",
       "      <th>C</th>\n",
       "      <td>0.743375</td>\n",
       "      <td>-2.188916</td>\n",
       "      <td>10.856285</td>\n",
       "      <td>5.761551</td>\n",
       "      <td>11.599660</td>\n",
       "    </tr>\n",
       "    <tr>\n",
       "      <th>D</th>\n",
       "      <td>-9.094062</td>\n",
       "      <td>-0.690247</td>\n",
       "      <td>2.699198</td>\n",
       "      <td>-8.876411</td>\n",
       "      <td>-6.394864</td>\n",
       "    </tr>\n",
       "    <tr>\n",
       "      <th>E</th>\n",
       "      <td>6.574383</td>\n",
       "      <td>-2.367240</td>\n",
       "      <td>-5.461150</td>\n",
       "      <td>-1.250137</td>\n",
       "      <td>1.113233</td>\n",
       "    </tr>\n",
       "  </tbody>\n",
       "</table>\n",
       "</div>"
      ],
      "text/plain": [
       "          w         x          y         z      w + y\n",
       "A  1.381329 -9.273140   3.119506  5.726556   4.500835\n",
       "B  5.185952  9.433195  -0.558491 -1.810507   4.627461\n",
       "C  0.743375 -2.188916  10.856285  5.761551  11.599660\n",
       "D -9.094062 -0.690247   2.699198 -8.876411  -6.394864\n",
       "E  6.574383 -2.367240  -5.461150 -1.250137   1.113233"
      ]
     },
     "execution_count": 226,
     "metadata": {},
     "output_type": "execute_result"
    }
   ],
   "source": [
    "df.rename(columns={'Summe aus w und y': 'w + y'})"
   ]
  },
  {
   "cell_type": "code",
   "execution_count": 227,
   "metadata": {},
   "outputs": [
    {
     "data": {
      "text/html": [
       "<div>\n",
       "<style scoped>\n",
       "    .dataframe tbody tr th:only-of-type {\n",
       "        vertical-align: middle;\n",
       "    }\n",
       "\n",
       "    .dataframe tbody tr th {\n",
       "        vertical-align: top;\n",
       "    }\n",
       "\n",
       "    .dataframe thead th {\n",
       "        text-align: right;\n",
       "    }\n",
       "</style>\n",
       "<table border=\"1\" class=\"dataframe\">\n",
       "  <thead>\n",
       "    <tr style=\"text-align: right;\">\n",
       "      <th></th>\n",
       "      <th>w</th>\n",
       "      <th>x</th>\n",
       "      <th>y</th>\n",
       "      <th>z</th>\n",
       "      <th>Summe aus w und y</th>\n",
       "    </tr>\n",
       "  </thead>\n",
       "  <tbody>\n",
       "    <tr>\n",
       "      <th>A</th>\n",
       "      <td>1.381329</td>\n",
       "      <td>-9.273140</td>\n",
       "      <td>3.119506</td>\n",
       "      <td>5.726556</td>\n",
       "      <td>4.500835</td>\n",
       "    </tr>\n",
       "    <tr>\n",
       "      <th>B</th>\n",
       "      <td>5.185952</td>\n",
       "      <td>9.433195</td>\n",
       "      <td>-0.558491</td>\n",
       "      <td>-1.810507</td>\n",
       "      <td>4.627461</td>\n",
       "    </tr>\n",
       "    <tr>\n",
       "      <th>C</th>\n",
       "      <td>0.743375</td>\n",
       "      <td>-2.188916</td>\n",
       "      <td>10.856285</td>\n",
       "      <td>5.761551</td>\n",
       "      <td>11.599660</td>\n",
       "    </tr>\n",
       "    <tr>\n",
       "      <th>D</th>\n",
       "      <td>-9.094062</td>\n",
       "      <td>-0.690247</td>\n",
       "      <td>2.699198</td>\n",
       "      <td>-8.876411</td>\n",
       "      <td>-6.394864</td>\n",
       "    </tr>\n",
       "    <tr>\n",
       "      <th>E</th>\n",
       "      <td>6.574383</td>\n",
       "      <td>-2.367240</td>\n",
       "      <td>-5.461150</td>\n",
       "      <td>-1.250137</td>\n",
       "      <td>1.113233</td>\n",
       "    </tr>\n",
       "  </tbody>\n",
       "</table>\n",
       "</div>"
      ],
      "text/plain": [
       "          w         x          y         z  Summe aus w und y\n",
       "A  1.381329 -9.273140   3.119506  5.726556           4.500835\n",
       "B  5.185952  9.433195  -0.558491 -1.810507           4.627461\n",
       "C  0.743375 -2.188916  10.856285  5.761551          11.599660\n",
       "D -9.094062 -0.690247   2.699198 -8.876411          -6.394864\n",
       "E  6.574383 -2.367240  -5.461150 -1.250137           1.113233"
      ]
     },
     "execution_count": 227,
     "metadata": {},
     "output_type": "execute_result"
    }
   ],
   "source": [
    "df"
   ]
  },
  {
   "cell_type": "code",
   "execution_count": 228,
   "metadata": {
    "slideshow": {
     "slide_type": "subslide"
    }
   },
   "outputs": [],
   "source": [
    "df.rename(columns={'Summe aus w und y': 'w + y'}, index={'E': 'Z'}, inplace=True)"
   ]
  },
  {
   "cell_type": "code",
   "execution_count": 229,
   "metadata": {},
   "outputs": [
    {
     "data": {
      "text/html": [
       "<div>\n",
       "<style scoped>\n",
       "    .dataframe tbody tr th:only-of-type {\n",
       "        vertical-align: middle;\n",
       "    }\n",
       "\n",
       "    .dataframe tbody tr th {\n",
       "        vertical-align: top;\n",
       "    }\n",
       "\n",
       "    .dataframe thead th {\n",
       "        text-align: right;\n",
       "    }\n",
       "</style>\n",
       "<table border=\"1\" class=\"dataframe\">\n",
       "  <thead>\n",
       "    <tr style=\"text-align: right;\">\n",
       "      <th></th>\n",
       "      <th>w</th>\n",
       "      <th>x</th>\n",
       "      <th>y</th>\n",
       "      <th>z</th>\n",
       "      <th>w + y</th>\n",
       "    </tr>\n",
       "  </thead>\n",
       "  <tbody>\n",
       "    <tr>\n",
       "      <th>A</th>\n",
       "      <td>1.381329</td>\n",
       "      <td>-9.273140</td>\n",
       "      <td>3.119506</td>\n",
       "      <td>5.726556</td>\n",
       "      <td>4.500835</td>\n",
       "    </tr>\n",
       "    <tr>\n",
       "      <th>B</th>\n",
       "      <td>5.185952</td>\n",
       "      <td>9.433195</td>\n",
       "      <td>-0.558491</td>\n",
       "      <td>-1.810507</td>\n",
       "      <td>4.627461</td>\n",
       "    </tr>\n",
       "    <tr>\n",
       "      <th>C</th>\n",
       "      <td>0.743375</td>\n",
       "      <td>-2.188916</td>\n",
       "      <td>10.856285</td>\n",
       "      <td>5.761551</td>\n",
       "      <td>11.599660</td>\n",
       "    </tr>\n",
       "    <tr>\n",
       "      <th>D</th>\n",
       "      <td>-9.094062</td>\n",
       "      <td>-0.690247</td>\n",
       "      <td>2.699198</td>\n",
       "      <td>-8.876411</td>\n",
       "      <td>-6.394864</td>\n",
       "    </tr>\n",
       "    <tr>\n",
       "      <th>Z</th>\n",
       "      <td>6.574383</td>\n",
       "      <td>-2.367240</td>\n",
       "      <td>-5.461150</td>\n",
       "      <td>-1.250137</td>\n",
       "      <td>1.113233</td>\n",
       "    </tr>\n",
       "  </tbody>\n",
       "</table>\n",
       "</div>"
      ],
      "text/plain": [
       "          w         x          y         z      w + y\n",
       "A  1.381329 -9.273140   3.119506  5.726556   4.500835\n",
       "B  5.185952  9.433195  -0.558491 -1.810507   4.627461\n",
       "C  0.743375 -2.188916  10.856285  5.761551  11.599660\n",
       "D -9.094062 -0.690247   2.699198 -8.876411  -6.394864\n",
       "Z  6.574383 -2.367240  -5.461150 -1.250137   1.113233"
      ]
     },
     "execution_count": 229,
     "metadata": {},
     "output_type": "execute_result"
    }
   ],
   "source": [
    "df"
   ]
  },
  {
   "cell_type": "code",
   "execution_count": 230,
   "metadata": {
    "slideshow": {
     "slide_type": "subslide"
    }
   },
   "outputs": [
    {
     "data": {
      "text/plain": [
       "pandas.core.series.Series"
      ]
     },
     "execution_count": 230,
     "metadata": {},
     "output_type": "execute_result"
    }
   ],
   "source": [
    "type(df['y'])"
   ]
  },
  {
   "cell_type": "code",
   "execution_count": 231,
   "metadata": {},
   "outputs": [],
   "source": [
    "del df['y']"
   ]
  },
  {
   "cell_type": "code",
   "execution_count": 232,
   "metadata": {},
   "outputs": [
    {
     "data": {
      "text/html": [
       "<div>\n",
       "<style scoped>\n",
       "    .dataframe tbody tr th:only-of-type {\n",
       "        vertical-align: middle;\n",
       "    }\n",
       "\n",
       "    .dataframe tbody tr th {\n",
       "        vertical-align: top;\n",
       "    }\n",
       "\n",
       "    .dataframe thead th {\n",
       "        text-align: right;\n",
       "    }\n",
       "</style>\n",
       "<table border=\"1\" class=\"dataframe\">\n",
       "  <thead>\n",
       "    <tr style=\"text-align: right;\">\n",
       "      <th></th>\n",
       "      <th>w</th>\n",
       "      <th>x</th>\n",
       "      <th>z</th>\n",
       "      <th>w + y</th>\n",
       "    </tr>\n",
       "  </thead>\n",
       "  <tbody>\n",
       "    <tr>\n",
       "      <th>A</th>\n",
       "      <td>1.381329</td>\n",
       "      <td>-9.273140</td>\n",
       "      <td>5.726556</td>\n",
       "      <td>4.500835</td>\n",
       "    </tr>\n",
       "    <tr>\n",
       "      <th>B</th>\n",
       "      <td>5.185952</td>\n",
       "      <td>9.433195</td>\n",
       "      <td>-1.810507</td>\n",
       "      <td>4.627461</td>\n",
       "    </tr>\n",
       "    <tr>\n",
       "      <th>C</th>\n",
       "      <td>0.743375</td>\n",
       "      <td>-2.188916</td>\n",
       "      <td>5.761551</td>\n",
       "      <td>11.599660</td>\n",
       "    </tr>\n",
       "    <tr>\n",
       "      <th>D</th>\n",
       "      <td>-9.094062</td>\n",
       "      <td>-0.690247</td>\n",
       "      <td>-8.876411</td>\n",
       "      <td>-6.394864</td>\n",
       "    </tr>\n",
       "    <tr>\n",
       "      <th>Z</th>\n",
       "      <td>6.574383</td>\n",
       "      <td>-2.367240</td>\n",
       "      <td>-1.250137</td>\n",
       "      <td>1.113233</td>\n",
       "    </tr>\n",
       "  </tbody>\n",
       "</table>\n",
       "</div>"
      ],
      "text/plain": [
       "          w         x         z      w + y\n",
       "A  1.381329 -9.273140  5.726556   4.500835\n",
       "B  5.185952  9.433195 -1.810507   4.627461\n",
       "C  0.743375 -2.188916  5.761551  11.599660\n",
       "D -9.094062 -0.690247 -8.876411  -6.394864\n",
       "Z  6.574383 -2.367240 -1.250137   1.113233"
      ]
     },
     "execution_count": 232,
     "metadata": {},
     "output_type": "execute_result"
    }
   ],
   "source": [
    "df"
   ]
  },
  {
   "cell_type": "code",
   "execution_count": 233,
   "metadata": {
    "slideshow": {
     "slide_type": "subslide"
    }
   },
   "outputs": [
    {
     "data": {
      "text/html": [
       "<div>\n",
       "<style scoped>\n",
       "    .dataframe tbody tr th:only-of-type {\n",
       "        vertical-align: middle;\n",
       "    }\n",
       "\n",
       "    .dataframe tbody tr th {\n",
       "        vertical-align: top;\n",
       "    }\n",
       "\n",
       "    .dataframe thead th {\n",
       "        text-align: right;\n",
       "    }\n",
       "</style>\n",
       "<table border=\"1\" class=\"dataframe\">\n",
       "  <thead>\n",
       "    <tr style=\"text-align: right;\">\n",
       "      <th></th>\n",
       "      <th>w</th>\n",
       "      <th>x</th>\n",
       "      <th>z</th>\n",
       "      <th>w + y</th>\n",
       "    </tr>\n",
       "  </thead>\n",
       "  <tbody>\n",
       "    <tr>\n",
       "      <th>B</th>\n",
       "      <td>5.185952</td>\n",
       "      <td>9.433195</td>\n",
       "      <td>-1.810507</td>\n",
       "      <td>4.627461</td>\n",
       "    </tr>\n",
       "    <tr>\n",
       "      <th>C</th>\n",
       "      <td>0.743375</td>\n",
       "      <td>-2.188916</td>\n",
       "      <td>5.761551</td>\n",
       "      <td>11.599660</td>\n",
       "    </tr>\n",
       "    <tr>\n",
       "      <th>D</th>\n",
       "      <td>-9.094062</td>\n",
       "      <td>-0.690247</td>\n",
       "      <td>-8.876411</td>\n",
       "      <td>-6.394864</td>\n",
       "    </tr>\n",
       "    <tr>\n",
       "      <th>Z</th>\n",
       "      <td>6.574383</td>\n",
       "      <td>-2.367240</td>\n",
       "      <td>-1.250137</td>\n",
       "      <td>1.113233</td>\n",
       "    </tr>\n",
       "  </tbody>\n",
       "</table>\n",
       "</div>"
      ],
      "text/plain": [
       "          w         x         z      w + y\n",
       "B  5.185952  9.433195 -1.810507   4.627461\n",
       "C  0.743375 -2.188916  5.761551  11.599660\n",
       "D -9.094062 -0.690247 -8.876411  -6.394864\n",
       "Z  6.574383 -2.367240 -1.250137   1.113233"
      ]
     },
     "execution_count": 233,
     "metadata": {},
     "output_type": "execute_result"
    }
   ],
   "source": [
    "df.drop('A')"
   ]
  },
  {
   "cell_type": "code",
   "execution_count": 234,
   "metadata": {},
   "outputs": [
    {
     "data": {
      "text/html": [
       "<div>\n",
       "<style scoped>\n",
       "    .dataframe tbody tr th:only-of-type {\n",
       "        vertical-align: middle;\n",
       "    }\n",
       "\n",
       "    .dataframe tbody tr th {\n",
       "        vertical-align: top;\n",
       "    }\n",
       "\n",
       "    .dataframe thead th {\n",
       "        text-align: right;\n",
       "    }\n",
       "</style>\n",
       "<table border=\"1\" class=\"dataframe\">\n",
       "  <thead>\n",
       "    <tr style=\"text-align: right;\">\n",
       "      <th></th>\n",
       "      <th>w</th>\n",
       "      <th>x</th>\n",
       "      <th>z</th>\n",
       "      <th>w + y</th>\n",
       "    </tr>\n",
       "  </thead>\n",
       "  <tbody>\n",
       "    <tr>\n",
       "      <th>A</th>\n",
       "      <td>1.381329</td>\n",
       "      <td>-9.273140</td>\n",
       "      <td>5.726556</td>\n",
       "      <td>4.500835</td>\n",
       "    </tr>\n",
       "    <tr>\n",
       "      <th>B</th>\n",
       "      <td>5.185952</td>\n",
       "      <td>9.433195</td>\n",
       "      <td>-1.810507</td>\n",
       "      <td>4.627461</td>\n",
       "    </tr>\n",
       "    <tr>\n",
       "      <th>C</th>\n",
       "      <td>0.743375</td>\n",
       "      <td>-2.188916</td>\n",
       "      <td>5.761551</td>\n",
       "      <td>11.599660</td>\n",
       "    </tr>\n",
       "    <tr>\n",
       "      <th>D</th>\n",
       "      <td>-9.094062</td>\n",
       "      <td>-0.690247</td>\n",
       "      <td>-8.876411</td>\n",
       "      <td>-6.394864</td>\n",
       "    </tr>\n",
       "    <tr>\n",
       "      <th>Z</th>\n",
       "      <td>6.574383</td>\n",
       "      <td>-2.367240</td>\n",
       "      <td>-1.250137</td>\n",
       "      <td>1.113233</td>\n",
       "    </tr>\n",
       "  </tbody>\n",
       "</table>\n",
       "</div>"
      ],
      "text/plain": [
       "          w         x         z      w + y\n",
       "A  1.381329 -9.273140  5.726556   4.500835\n",
       "B  5.185952  9.433195 -1.810507   4.627461\n",
       "C  0.743375 -2.188916  5.761551  11.599660\n",
       "D -9.094062 -0.690247 -8.876411  -6.394864\n",
       "Z  6.574383 -2.367240 -1.250137   1.113233"
      ]
     },
     "execution_count": 234,
     "metadata": {},
     "output_type": "execute_result"
    }
   ],
   "source": [
    "df"
   ]
  },
  {
   "cell_type": "code",
   "execution_count": 235,
   "metadata": {
    "slideshow": {
     "slide_type": "subslide"
    }
   },
   "outputs": [],
   "source": [
    "df.drop('B', inplace=True)"
   ]
  },
  {
   "cell_type": "code",
   "execution_count": 236,
   "metadata": {},
   "outputs": [
    {
     "data": {
      "text/html": [
       "<div>\n",
       "<style scoped>\n",
       "    .dataframe tbody tr th:only-of-type {\n",
       "        vertical-align: middle;\n",
       "    }\n",
       "\n",
       "    .dataframe tbody tr th {\n",
       "        vertical-align: top;\n",
       "    }\n",
       "\n",
       "    .dataframe thead th {\n",
       "        text-align: right;\n",
       "    }\n",
       "</style>\n",
       "<table border=\"1\" class=\"dataframe\">\n",
       "  <thead>\n",
       "    <tr style=\"text-align: right;\">\n",
       "      <th></th>\n",
       "      <th>w</th>\n",
       "      <th>x</th>\n",
       "      <th>z</th>\n",
       "      <th>w + y</th>\n",
       "    </tr>\n",
       "  </thead>\n",
       "  <tbody>\n",
       "    <tr>\n",
       "      <th>A</th>\n",
       "      <td>1.381329</td>\n",
       "      <td>-9.273140</td>\n",
       "      <td>5.726556</td>\n",
       "      <td>4.500835</td>\n",
       "    </tr>\n",
       "    <tr>\n",
       "      <th>C</th>\n",
       "      <td>0.743375</td>\n",
       "      <td>-2.188916</td>\n",
       "      <td>5.761551</td>\n",
       "      <td>11.599660</td>\n",
       "    </tr>\n",
       "    <tr>\n",
       "      <th>D</th>\n",
       "      <td>-9.094062</td>\n",
       "      <td>-0.690247</td>\n",
       "      <td>-8.876411</td>\n",
       "      <td>-6.394864</td>\n",
       "    </tr>\n",
       "    <tr>\n",
       "      <th>Z</th>\n",
       "      <td>6.574383</td>\n",
       "      <td>-2.367240</td>\n",
       "      <td>-1.250137</td>\n",
       "      <td>1.113233</td>\n",
       "    </tr>\n",
       "  </tbody>\n",
       "</table>\n",
       "</div>"
      ],
      "text/plain": [
       "          w         x         z      w + y\n",
       "A  1.381329 -9.273140  5.726556   4.500835\n",
       "C  0.743375 -2.188916  5.761551  11.599660\n",
       "D -9.094062 -0.690247 -8.876411  -6.394864\n",
       "Z  6.574383 -2.367240 -1.250137   1.113233"
      ]
     },
     "execution_count": 236,
     "metadata": {},
     "output_type": "execute_result"
    }
   ],
   "source": [
    "df"
   ]
  },
  {
   "cell_type": "code",
   "execution_count": 237,
   "metadata": {
    "slideshow": {
     "slide_type": "subslide"
    }
   },
   "outputs": [
    {
     "data": {
      "text/html": [
       "<div>\n",
       "<style scoped>\n",
       "    .dataframe tbody tr th:only-of-type {\n",
       "        vertical-align: middle;\n",
       "    }\n",
       "\n",
       "    .dataframe tbody tr th {\n",
       "        vertical-align: top;\n",
       "    }\n",
       "\n",
       "    .dataframe thead th {\n",
       "        text-align: right;\n",
       "    }\n",
       "</style>\n",
       "<table border=\"1\" class=\"dataframe\">\n",
       "  <thead>\n",
       "    <tr style=\"text-align: right;\">\n",
       "      <th></th>\n",
       "      <th>w</th>\n",
       "      <th>x</th>\n",
       "      <th>w + y</th>\n",
       "    </tr>\n",
       "  </thead>\n",
       "  <tbody>\n",
       "    <tr>\n",
       "      <th>A</th>\n",
       "      <td>1.381329</td>\n",
       "      <td>-9.273140</td>\n",
       "      <td>4.500835</td>\n",
       "    </tr>\n",
       "    <tr>\n",
       "      <th>C</th>\n",
       "      <td>0.743375</td>\n",
       "      <td>-2.188916</td>\n",
       "      <td>11.599660</td>\n",
       "    </tr>\n",
       "    <tr>\n",
       "      <th>D</th>\n",
       "      <td>-9.094062</td>\n",
       "      <td>-0.690247</td>\n",
       "      <td>-6.394864</td>\n",
       "    </tr>\n",
       "    <tr>\n",
       "      <th>Z</th>\n",
       "      <td>6.574383</td>\n",
       "      <td>-2.367240</td>\n",
       "      <td>1.113233</td>\n",
       "    </tr>\n",
       "  </tbody>\n",
       "</table>\n",
       "</div>"
      ],
      "text/plain": [
       "          w         x      w + y\n",
       "A  1.381329 -9.273140   4.500835\n",
       "C  0.743375 -2.188916  11.599660\n",
       "D -9.094062 -0.690247  -6.394864\n",
       "Z  6.574383 -2.367240   1.113233"
      ]
     },
     "execution_count": 237,
     "metadata": {},
     "output_type": "execute_result"
    }
   ],
   "source": [
    "df.drop('z', axis=1)"
   ]
  },
  {
   "cell_type": "code",
   "execution_count": 238,
   "metadata": {
    "slideshow": {
     "slide_type": "-"
    }
   },
   "outputs": [
    {
     "data": {
      "text/html": [
       "<div>\n",
       "<style scoped>\n",
       "    .dataframe tbody tr th:only-of-type {\n",
       "        vertical-align: middle;\n",
       "    }\n",
       "\n",
       "    .dataframe tbody tr th {\n",
       "        vertical-align: top;\n",
       "    }\n",
       "\n",
       "    .dataframe thead th {\n",
       "        text-align: right;\n",
       "    }\n",
       "</style>\n",
       "<table border=\"1\" class=\"dataframe\">\n",
       "  <thead>\n",
       "    <tr style=\"text-align: right;\">\n",
       "      <th></th>\n",
       "      <th>w</th>\n",
       "      <th>x</th>\n",
       "      <th>z</th>\n",
       "      <th>w + y</th>\n",
       "    </tr>\n",
       "  </thead>\n",
       "  <tbody>\n",
       "    <tr>\n",
       "      <th>A</th>\n",
       "      <td>1.381329</td>\n",
       "      <td>-9.273140</td>\n",
       "      <td>5.726556</td>\n",
       "      <td>4.500835</td>\n",
       "    </tr>\n",
       "    <tr>\n",
       "      <th>C</th>\n",
       "      <td>0.743375</td>\n",
       "      <td>-2.188916</td>\n",
       "      <td>5.761551</td>\n",
       "      <td>11.599660</td>\n",
       "    </tr>\n",
       "    <tr>\n",
       "      <th>D</th>\n",
       "      <td>-9.094062</td>\n",
       "      <td>-0.690247</td>\n",
       "      <td>-8.876411</td>\n",
       "      <td>-6.394864</td>\n",
       "    </tr>\n",
       "    <tr>\n",
       "      <th>Z</th>\n",
       "      <td>6.574383</td>\n",
       "      <td>-2.367240</td>\n",
       "      <td>-1.250137</td>\n",
       "      <td>1.113233</td>\n",
       "    </tr>\n",
       "  </tbody>\n",
       "</table>\n",
       "</div>"
      ],
      "text/plain": [
       "          w         x         z      w + y\n",
       "A  1.381329 -9.273140  5.726556   4.500835\n",
       "C  0.743375 -2.188916  5.761551  11.599660\n",
       "D -9.094062 -0.690247 -8.876411  -6.394864\n",
       "Z  6.574383 -2.367240 -1.250137   1.113233"
      ]
     },
     "execution_count": 238,
     "metadata": {},
     "output_type": "execute_result"
    }
   ],
   "source": [
    "df"
   ]
  },
  {
   "cell_type": "code",
   "execution_count": 239,
   "metadata": {
    "slideshow": {
     "slide_type": "subslide"
    }
   },
   "outputs": [],
   "source": [
    "df.drop('z', axis=1, inplace=True)"
   ]
  },
  {
   "cell_type": "code",
   "execution_count": 240,
   "metadata": {},
   "outputs": [
    {
     "data": {
      "text/html": [
       "<div>\n",
       "<style scoped>\n",
       "    .dataframe tbody tr th:only-of-type {\n",
       "        vertical-align: middle;\n",
       "    }\n",
       "\n",
       "    .dataframe tbody tr th {\n",
       "        vertical-align: top;\n",
       "    }\n",
       "\n",
       "    .dataframe thead th {\n",
       "        text-align: right;\n",
       "    }\n",
       "</style>\n",
       "<table border=\"1\" class=\"dataframe\">\n",
       "  <thead>\n",
       "    <tr style=\"text-align: right;\">\n",
       "      <th></th>\n",
       "      <th>w</th>\n",
       "      <th>x</th>\n",
       "      <th>w + y</th>\n",
       "    </tr>\n",
       "  </thead>\n",
       "  <tbody>\n",
       "    <tr>\n",
       "      <th>A</th>\n",
       "      <td>1.381329</td>\n",
       "      <td>-9.273140</td>\n",
       "      <td>4.500835</td>\n",
       "    </tr>\n",
       "    <tr>\n",
       "      <th>C</th>\n",
       "      <td>0.743375</td>\n",
       "      <td>-2.188916</td>\n",
       "      <td>11.599660</td>\n",
       "    </tr>\n",
       "    <tr>\n",
       "      <th>D</th>\n",
       "      <td>-9.094062</td>\n",
       "      <td>-0.690247</td>\n",
       "      <td>-6.394864</td>\n",
       "    </tr>\n",
       "    <tr>\n",
       "      <th>Z</th>\n",
       "      <td>6.574383</td>\n",
       "      <td>-2.367240</td>\n",
       "      <td>1.113233</td>\n",
       "    </tr>\n",
       "  </tbody>\n",
       "</table>\n",
       "</div>"
      ],
      "text/plain": [
       "          w         x      w + y\n",
       "A  1.381329 -9.273140   4.500835\n",
       "C  0.743375 -2.188916  11.599660\n",
       "D -9.094062 -0.690247  -6.394864\n",
       "Z  6.574383 -2.367240   1.113233"
      ]
     },
     "execution_count": 240,
     "metadata": {},
     "output_type": "execute_result"
    }
   ],
   "source": [
    "df"
   ]
  },
  {
   "cell_type": "markdown",
   "metadata": {
    "slideshow": {
     "slide_type": "slide"
    }
   },
   "source": [
    "## Auswahl"
   ]
  },
  {
   "cell_type": "code",
   "execution_count": 241,
   "metadata": {},
   "outputs": [
    {
     "data": {
      "text/html": [
       "<div>\n",
       "<style scoped>\n",
       "    .dataframe tbody tr th:only-of-type {\n",
       "        vertical-align: middle;\n",
       "    }\n",
       "\n",
       "    .dataframe tbody tr th {\n",
       "        vertical-align: top;\n",
       "    }\n",
       "\n",
       "    .dataframe thead th {\n",
       "        text-align: right;\n",
       "    }\n",
       "</style>\n",
       "<table border=\"1\" class=\"dataframe\">\n",
       "  <thead>\n",
       "    <tr style=\"text-align: right;\">\n",
       "      <th></th>\n",
       "      <th>w</th>\n",
       "      <th>x</th>\n",
       "      <th>y</th>\n",
       "      <th>z</th>\n",
       "    </tr>\n",
       "  </thead>\n",
       "  <tbody>\n",
       "    <tr>\n",
       "      <th>A</th>\n",
       "      <td>1.381329</td>\n",
       "      <td>-9.273140</td>\n",
       "      <td>3.119506</td>\n",
       "      <td>5.726556</td>\n",
       "    </tr>\n",
       "    <tr>\n",
       "      <th>B</th>\n",
       "      <td>5.185952</td>\n",
       "      <td>9.433195</td>\n",
       "      <td>-0.558491</td>\n",
       "      <td>-1.810507</td>\n",
       "    </tr>\n",
       "    <tr>\n",
       "      <th>C</th>\n",
       "      <td>0.743375</td>\n",
       "      <td>-2.188916</td>\n",
       "      <td>10.856285</td>\n",
       "      <td>5.761551</td>\n",
       "    </tr>\n",
       "    <tr>\n",
       "      <th>D</th>\n",
       "      <td>-9.094062</td>\n",
       "      <td>-0.690247</td>\n",
       "      <td>2.699198</td>\n",
       "      <td>-8.876411</td>\n",
       "    </tr>\n",
       "    <tr>\n",
       "      <th>E</th>\n",
       "      <td>6.574383</td>\n",
       "      <td>-2.367240</td>\n",
       "      <td>-5.461150</td>\n",
       "      <td>-1.250137</td>\n",
       "    </tr>\n",
       "  </tbody>\n",
       "</table>\n",
       "</div>"
      ],
      "text/plain": [
       "          w         x          y         z\n",
       "A  1.381329 -9.273140   3.119506  5.726556\n",
       "B  5.185952  9.433195  -0.558491 -1.810507\n",
       "C  0.743375 -2.188916  10.856285  5.761551\n",
       "D -9.094062 -0.690247   2.699198 -8.876411\n",
       "E  6.574383 -2.367240  -5.461150 -1.250137"
      ]
     },
     "execution_count": 241,
     "metadata": {},
     "output_type": "execute_result"
    }
   ],
   "source": [
    "df = create_data_frame()\n",
    "df"
   ]
  },
  {
   "cell_type": "code",
   "execution_count": 242,
   "metadata": {
    "slideshow": {
     "slide_type": "subslide"
    }
   },
   "outputs": [
    {
     "data": {
      "text/plain": [
       "A    1.381329\n",
       "B    5.185952\n",
       "C    0.743375\n",
       "D   -9.094062\n",
       "E    6.574383\n",
       "Name: w, dtype: float64"
      ]
     },
     "execution_count": 242,
     "metadata": {},
     "output_type": "execute_result"
    }
   ],
   "source": [
    "df['w']"
   ]
  },
  {
   "cell_type": "code",
   "execution_count": 243,
   "metadata": {
    "slideshow": {
     "slide_type": "subslide"
    }
   },
   "outputs": [],
   "source": [
    "# Fehler\n",
    "# df['A']"
   ]
  },
  {
   "cell_type": "code",
   "execution_count": 244,
   "metadata": {
    "slideshow": {
     "slide_type": "-"
    }
   },
   "outputs": [
    {
     "data": {
      "text/plain": [
       "w    5.185952\n",
       "x    9.433195\n",
       "y   -0.558491\n",
       "z   -1.810507\n",
       "Name: B, dtype: float64"
      ]
     },
     "execution_count": 244,
     "metadata": {},
     "output_type": "execute_result"
    }
   ],
   "source": [
    "df.loc['B']"
   ]
  },
  {
   "cell_type": "code",
   "execution_count": 245,
   "metadata": {},
   "outputs": [
    {
     "data": {
      "text/plain": [
       "pandas.core.series.Series"
      ]
     },
     "execution_count": 245,
     "metadata": {},
     "output_type": "execute_result"
    }
   ],
   "source": [
    "type(df.loc['B'])"
   ]
  },
  {
   "cell_type": "code",
   "execution_count": 246,
   "metadata": {
    "slideshow": {
     "slide_type": "subslide"
    }
   },
   "outputs": [
    {
     "data": {
      "text/html": [
       "<div>\n",
       "<style scoped>\n",
       "    .dataframe tbody tr th:only-of-type {\n",
       "        vertical-align: middle;\n",
       "    }\n",
       "\n",
       "    .dataframe tbody tr th {\n",
       "        vertical-align: top;\n",
       "    }\n",
       "\n",
       "    .dataframe thead th {\n",
       "        text-align: right;\n",
       "    }\n",
       "</style>\n",
       "<table border=\"1\" class=\"dataframe\">\n",
       "  <thead>\n",
       "    <tr style=\"text-align: right;\">\n",
       "      <th></th>\n",
       "      <th>w</th>\n",
       "      <th>x</th>\n",
       "      <th>y</th>\n",
       "      <th>z</th>\n",
       "    </tr>\n",
       "  </thead>\n",
       "  <tbody>\n",
       "    <tr>\n",
       "      <th>A</th>\n",
       "      <td>1.381329</td>\n",
       "      <td>-9.273140</td>\n",
       "      <td>3.119506</td>\n",
       "      <td>5.726556</td>\n",
       "    </tr>\n",
       "    <tr>\n",
       "      <th>B</th>\n",
       "      <td>5.185952</td>\n",
       "      <td>9.433195</td>\n",
       "      <td>-0.558491</td>\n",
       "      <td>-1.810507</td>\n",
       "    </tr>\n",
       "    <tr>\n",
       "      <th>C</th>\n",
       "      <td>0.743375</td>\n",
       "      <td>-2.188916</td>\n",
       "      <td>10.856285</td>\n",
       "      <td>5.761551</td>\n",
       "    </tr>\n",
       "    <tr>\n",
       "      <th>D</th>\n",
       "      <td>-9.094062</td>\n",
       "      <td>-0.690247</td>\n",
       "      <td>2.699198</td>\n",
       "      <td>-8.876411</td>\n",
       "    </tr>\n",
       "    <tr>\n",
       "      <th>E</th>\n",
       "      <td>6.574383</td>\n",
       "      <td>-2.367240</td>\n",
       "      <td>-5.461150</td>\n",
       "      <td>-1.250137</td>\n",
       "    </tr>\n",
       "  </tbody>\n",
       "</table>\n",
       "</div>"
      ],
      "text/plain": [
       "          w         x          y         z\n",
       "A  1.381329 -9.273140   3.119506  5.726556\n",
       "B  5.185952  9.433195  -0.558491 -1.810507\n",
       "C  0.743375 -2.188916  10.856285  5.761551\n",
       "D -9.094062 -0.690247   2.699198 -8.876411\n",
       "E  6.574383 -2.367240  -5.461150 -1.250137"
      ]
     },
     "execution_count": 246,
     "metadata": {},
     "output_type": "execute_result"
    }
   ],
   "source": [
    "df"
   ]
  },
  {
   "cell_type": "code",
   "execution_count": 247,
   "metadata": {
    "slideshow": {
     "slide_type": "-"
    }
   },
   "outputs": [
    {
     "data": {
      "text/plain": [
       "w    5.185952\n",
       "x    9.433195\n",
       "y   -0.558491\n",
       "z   -1.810507\n",
       "Name: B, dtype: float64"
      ]
     },
     "execution_count": 247,
     "metadata": {},
     "output_type": "execute_result"
    }
   ],
   "source": [
    "df.iloc[1]"
   ]
  },
  {
   "cell_type": "code",
   "execution_count": 248,
   "metadata": {
    "slideshow": {
     "slide_type": "subslide"
    }
   },
   "outputs": [
    {
     "data": {
      "text/html": [
       "<div>\n",
       "<style scoped>\n",
       "    .dataframe tbody tr th:only-of-type {\n",
       "        vertical-align: middle;\n",
       "    }\n",
       "\n",
       "    .dataframe tbody tr th {\n",
       "        vertical-align: top;\n",
       "    }\n",
       "\n",
       "    .dataframe thead th {\n",
       "        text-align: right;\n",
       "    }\n",
       "</style>\n",
       "<table border=\"1\" class=\"dataframe\">\n",
       "  <thead>\n",
       "    <tr style=\"text-align: right;\">\n",
       "      <th></th>\n",
       "      <th>w</th>\n",
       "      <th>x</th>\n",
       "      <th>y</th>\n",
       "      <th>z</th>\n",
       "    </tr>\n",
       "  </thead>\n",
       "  <tbody>\n",
       "    <tr>\n",
       "      <th>A</th>\n",
       "      <td>1.381329</td>\n",
       "      <td>-9.273140</td>\n",
       "      <td>3.119506</td>\n",
       "      <td>5.726556</td>\n",
       "    </tr>\n",
       "    <tr>\n",
       "      <th>C</th>\n",
       "      <td>0.743375</td>\n",
       "      <td>-2.188916</td>\n",
       "      <td>10.856285</td>\n",
       "      <td>5.761551</td>\n",
       "    </tr>\n",
       "  </tbody>\n",
       "</table>\n",
       "</div>"
      ],
      "text/plain": [
       "          w         x          y         z\n",
       "A  1.381329 -9.273140   3.119506  5.726556\n",
       "C  0.743375 -2.188916  10.856285  5.761551"
      ]
     },
     "execution_count": 248,
     "metadata": {},
     "output_type": "execute_result"
    }
   ],
   "source": [
    "df.loc[['A', 'C']]"
   ]
  },
  {
   "cell_type": "code",
   "execution_count": 249,
   "metadata": {},
   "outputs": [
    {
     "data": {
      "text/html": [
       "<div>\n",
       "<style scoped>\n",
       "    .dataframe tbody tr th:only-of-type {\n",
       "        vertical-align: middle;\n",
       "    }\n",
       "\n",
       "    .dataframe tbody tr th {\n",
       "        vertical-align: top;\n",
       "    }\n",
       "\n",
       "    .dataframe thead th {\n",
       "        text-align: right;\n",
       "    }\n",
       "</style>\n",
       "<table border=\"1\" class=\"dataframe\">\n",
       "  <thead>\n",
       "    <tr style=\"text-align: right;\">\n",
       "      <th></th>\n",
       "      <th>x</th>\n",
       "      <th>y</th>\n",
       "    </tr>\n",
       "  </thead>\n",
       "  <tbody>\n",
       "    <tr>\n",
       "      <th>A</th>\n",
       "      <td>-9.273140</td>\n",
       "      <td>3.119506</td>\n",
       "    </tr>\n",
       "    <tr>\n",
       "      <th>C</th>\n",
       "      <td>-2.188916</td>\n",
       "      <td>10.856285</td>\n",
       "    </tr>\n",
       "  </tbody>\n",
       "</table>\n",
       "</div>"
      ],
      "text/plain": [
       "          x          y\n",
       "A -9.273140   3.119506\n",
       "C -2.188916  10.856285"
      ]
     },
     "execution_count": 249,
     "metadata": {},
     "output_type": "execute_result"
    }
   ],
   "source": [
    "df.loc[['A', 'C'], ['x', 'y']]"
   ]
  },
  {
   "cell_type": "code",
   "execution_count": 250,
   "metadata": {},
   "outputs": [
    {
     "data": {
      "text/plain": [
       "-1.8105066919952422"
      ]
     },
     "execution_count": 250,
     "metadata": {},
     "output_type": "execute_result"
    }
   ],
   "source": [
    "df.loc['B', 'z']"
   ]
  },
  {
   "cell_type": "code",
   "execution_count": 251,
   "metadata": {
    "slideshow": {
     "slide_type": "subslide"
    }
   },
   "outputs": [
    {
     "data": {
      "text/html": [
       "<div>\n",
       "<style scoped>\n",
       "    .dataframe tbody tr th:only-of-type {\n",
       "        vertical-align: middle;\n",
       "    }\n",
       "\n",
       "    .dataframe tbody tr th {\n",
       "        vertical-align: top;\n",
       "    }\n",
       "\n",
       "    .dataframe thead th {\n",
       "        text-align: right;\n",
       "    }\n",
       "</style>\n",
       "<table border=\"1\" class=\"dataframe\">\n",
       "  <thead>\n",
       "    <tr style=\"text-align: right;\">\n",
       "      <th></th>\n",
       "      <th>w</th>\n",
       "      <th>z</th>\n",
       "    </tr>\n",
       "  </thead>\n",
       "  <tbody>\n",
       "    <tr>\n",
       "      <th>B</th>\n",
       "      <td>5.185952</td>\n",
       "      <td>-1.810507</td>\n",
       "    </tr>\n",
       "    <tr>\n",
       "      <th>C</th>\n",
       "      <td>0.743375</td>\n",
       "      <td>5.761551</td>\n",
       "    </tr>\n",
       "  </tbody>\n",
       "</table>\n",
       "</div>"
      ],
      "text/plain": [
       "          w         z\n",
       "B  5.185952 -1.810507\n",
       "C  0.743375  5.761551"
      ]
     },
     "execution_count": 251,
     "metadata": {},
     "output_type": "execute_result"
    }
   ],
   "source": [
    "df.iloc[[1, 2], [0, 3]]"
   ]
  },
  {
   "cell_type": "code",
   "execution_count": 252,
   "metadata": {},
   "outputs": [
    {
     "data": {
      "text/plain": [
       "1.3813294501065938"
      ]
     },
     "execution_count": 252,
     "metadata": {},
     "output_type": "execute_result"
    }
   ],
   "source": [
    "df.iloc[0, 0]"
   ]
  },
  {
   "cell_type": "markdown",
   "metadata": {
    "slideshow": {
     "slide_type": "slide"
    }
   },
   "source": [
    "## Bedingte Auswahl"
   ]
  },
  {
   "cell_type": "code",
   "execution_count": 253,
   "metadata": {},
   "outputs": [
    {
     "data": {
      "text/html": [
       "<div>\n",
       "<style scoped>\n",
       "    .dataframe tbody tr th:only-of-type {\n",
       "        vertical-align: middle;\n",
       "    }\n",
       "\n",
       "    .dataframe tbody tr th {\n",
       "        vertical-align: top;\n",
       "    }\n",
       "\n",
       "    .dataframe thead th {\n",
       "        text-align: right;\n",
       "    }\n",
       "</style>\n",
       "<table border=\"1\" class=\"dataframe\">\n",
       "  <thead>\n",
       "    <tr style=\"text-align: right;\">\n",
       "      <th></th>\n",
       "      <th>w</th>\n",
       "      <th>x</th>\n",
       "      <th>y</th>\n",
       "      <th>z</th>\n",
       "    </tr>\n",
       "  </thead>\n",
       "  <tbody>\n",
       "    <tr>\n",
       "      <th>A</th>\n",
       "      <td>1.381329</td>\n",
       "      <td>-9.273140</td>\n",
       "      <td>3.119506</td>\n",
       "      <td>5.726556</td>\n",
       "    </tr>\n",
       "    <tr>\n",
       "      <th>B</th>\n",
       "      <td>5.185952</td>\n",
       "      <td>9.433195</td>\n",
       "      <td>-0.558491</td>\n",
       "      <td>-1.810507</td>\n",
       "    </tr>\n",
       "    <tr>\n",
       "      <th>C</th>\n",
       "      <td>0.743375</td>\n",
       "      <td>-2.188916</td>\n",
       "      <td>10.856285</td>\n",
       "      <td>5.761551</td>\n",
       "    </tr>\n",
       "    <tr>\n",
       "      <th>D</th>\n",
       "      <td>-9.094062</td>\n",
       "      <td>-0.690247</td>\n",
       "      <td>2.699198</td>\n",
       "      <td>-8.876411</td>\n",
       "    </tr>\n",
       "    <tr>\n",
       "      <th>E</th>\n",
       "      <td>6.574383</td>\n",
       "      <td>-2.367240</td>\n",
       "      <td>-5.461150</td>\n",
       "      <td>-1.250137</td>\n",
       "    </tr>\n",
       "  </tbody>\n",
       "</table>\n",
       "</div>"
      ],
      "text/plain": [
       "          w         x          y         z\n",
       "A  1.381329 -9.273140   3.119506  5.726556\n",
       "B  5.185952  9.433195  -0.558491 -1.810507\n",
       "C  0.743375 -2.188916  10.856285  5.761551\n",
       "D -9.094062 -0.690247   2.699198 -8.876411\n",
       "E  6.574383 -2.367240  -5.461150 -1.250137"
      ]
     },
     "execution_count": 253,
     "metadata": {},
     "output_type": "execute_result"
    }
   ],
   "source": [
    "df = create_data_frame()\n",
    "df"
   ]
  },
  {
   "cell_type": "code",
   "execution_count": 254,
   "metadata": {},
   "outputs": [
    {
     "data": {
      "text/html": [
       "<div>\n",
       "<style scoped>\n",
       "    .dataframe tbody tr th:only-of-type {\n",
       "        vertical-align: middle;\n",
       "    }\n",
       "\n",
       "    .dataframe tbody tr th {\n",
       "        vertical-align: top;\n",
       "    }\n",
       "\n",
       "    .dataframe thead th {\n",
       "        text-align: right;\n",
       "    }\n",
       "</style>\n",
       "<table border=\"1\" class=\"dataframe\">\n",
       "  <thead>\n",
       "    <tr style=\"text-align: right;\">\n",
       "      <th></th>\n",
       "      <th>w</th>\n",
       "      <th>x</th>\n",
       "      <th>y</th>\n",
       "      <th>z</th>\n",
       "    </tr>\n",
       "  </thead>\n",
       "  <tbody>\n",
       "    <tr>\n",
       "      <th>A</th>\n",
       "      <td>True</td>\n",
       "      <td>False</td>\n",
       "      <td>True</td>\n",
       "      <td>True</td>\n",
       "    </tr>\n",
       "    <tr>\n",
       "      <th>B</th>\n",
       "      <td>True</td>\n",
       "      <td>True</td>\n",
       "      <td>False</td>\n",
       "      <td>False</td>\n",
       "    </tr>\n",
       "    <tr>\n",
       "      <th>C</th>\n",
       "      <td>True</td>\n",
       "      <td>False</td>\n",
       "      <td>True</td>\n",
       "      <td>True</td>\n",
       "    </tr>\n",
       "    <tr>\n",
       "      <th>D</th>\n",
       "      <td>False</td>\n",
       "      <td>False</td>\n",
       "      <td>True</td>\n",
       "      <td>False</td>\n",
       "    </tr>\n",
       "    <tr>\n",
       "      <th>E</th>\n",
       "      <td>True</td>\n",
       "      <td>False</td>\n",
       "      <td>False</td>\n",
       "      <td>False</td>\n",
       "    </tr>\n",
       "  </tbody>\n",
       "</table>\n",
       "</div>"
      ],
      "text/plain": [
       "       w      x      y      z\n",
       "A   True  False   True   True\n",
       "B   True   True  False  False\n",
       "C   True  False   True   True\n",
       "D  False  False   True  False\n",
       "E   True  False  False  False"
      ]
     },
     "execution_count": 254,
     "metadata": {},
     "output_type": "execute_result"
    }
   ],
   "source": [
    "df > 0"
   ]
  },
  {
   "cell_type": "code",
   "execution_count": 255,
   "metadata": {},
   "outputs": [
    {
     "data": {
      "text/html": [
       "<div>\n",
       "<style scoped>\n",
       "    .dataframe tbody tr th:only-of-type {\n",
       "        vertical-align: middle;\n",
       "    }\n",
       "\n",
       "    .dataframe tbody tr th {\n",
       "        vertical-align: top;\n",
       "    }\n",
       "\n",
       "    .dataframe thead th {\n",
       "        text-align: right;\n",
       "    }\n",
       "</style>\n",
       "<table border=\"1\" class=\"dataframe\">\n",
       "  <thead>\n",
       "    <tr style=\"text-align: right;\">\n",
       "      <th></th>\n",
       "      <th>w</th>\n",
       "      <th>x</th>\n",
       "      <th>y</th>\n",
       "      <th>z</th>\n",
       "    </tr>\n",
       "  </thead>\n",
       "  <tbody>\n",
       "    <tr>\n",
       "      <th>A</th>\n",
       "      <td>1.381329</td>\n",
       "      <td>NaN</td>\n",
       "      <td>3.119506</td>\n",
       "      <td>5.726556</td>\n",
       "    </tr>\n",
       "    <tr>\n",
       "      <th>B</th>\n",
       "      <td>5.185952</td>\n",
       "      <td>9.433195</td>\n",
       "      <td>NaN</td>\n",
       "      <td>NaN</td>\n",
       "    </tr>\n",
       "    <tr>\n",
       "      <th>C</th>\n",
       "      <td>0.743375</td>\n",
       "      <td>NaN</td>\n",
       "      <td>10.856285</td>\n",
       "      <td>5.761551</td>\n",
       "    </tr>\n",
       "    <tr>\n",
       "      <th>D</th>\n",
       "      <td>NaN</td>\n",
       "      <td>NaN</td>\n",
       "      <td>2.699198</td>\n",
       "      <td>NaN</td>\n",
       "    </tr>\n",
       "    <tr>\n",
       "      <th>E</th>\n",
       "      <td>6.574383</td>\n",
       "      <td>NaN</td>\n",
       "      <td>NaN</td>\n",
       "      <td>NaN</td>\n",
       "    </tr>\n",
       "  </tbody>\n",
       "</table>\n",
       "</div>"
      ],
      "text/plain": [
       "          w         x          y         z\n",
       "A  1.381329       NaN   3.119506  5.726556\n",
       "B  5.185952  9.433195        NaN       NaN\n",
       "C  0.743375       NaN  10.856285  5.761551\n",
       "D       NaN       NaN   2.699198       NaN\n",
       "E  6.574383       NaN        NaN       NaN"
      ]
     },
     "execution_count": 255,
     "metadata": {},
     "output_type": "execute_result"
    }
   ],
   "source": [
    "df[df > 0]"
   ]
  },
  {
   "cell_type": "code",
   "execution_count": 256,
   "metadata": {
    "slideshow": {
     "slide_type": "subslide"
    }
   },
   "outputs": [
    {
     "data": {
      "text/plain": [
       "A     True\n",
       "B     True\n",
       "C     True\n",
       "D    False\n",
       "E     True\n",
       "Name: w, dtype: bool"
      ]
     },
     "execution_count": 256,
     "metadata": {},
     "output_type": "execute_result"
    }
   ],
   "source": [
    "df['w'] > 0"
   ]
  },
  {
   "cell_type": "code",
   "execution_count": 257,
   "metadata": {},
   "outputs": [
    {
     "data": {
      "text/html": [
       "<div>\n",
       "<style scoped>\n",
       "    .dataframe tbody tr th:only-of-type {\n",
       "        vertical-align: middle;\n",
       "    }\n",
       "\n",
       "    .dataframe tbody tr th {\n",
       "        vertical-align: top;\n",
       "    }\n",
       "\n",
       "    .dataframe thead th {\n",
       "        text-align: right;\n",
       "    }\n",
       "</style>\n",
       "<table border=\"1\" class=\"dataframe\">\n",
       "  <thead>\n",
       "    <tr style=\"text-align: right;\">\n",
       "      <th></th>\n",
       "      <th>w</th>\n",
       "      <th>x</th>\n",
       "      <th>y</th>\n",
       "      <th>z</th>\n",
       "    </tr>\n",
       "  </thead>\n",
       "  <tbody>\n",
       "    <tr>\n",
       "      <th>A</th>\n",
       "      <td>1.381329</td>\n",
       "      <td>-9.273140</td>\n",
       "      <td>3.119506</td>\n",
       "      <td>5.726556</td>\n",
       "    </tr>\n",
       "    <tr>\n",
       "      <th>B</th>\n",
       "      <td>5.185952</td>\n",
       "      <td>9.433195</td>\n",
       "      <td>-0.558491</td>\n",
       "      <td>-1.810507</td>\n",
       "    </tr>\n",
       "    <tr>\n",
       "      <th>C</th>\n",
       "      <td>0.743375</td>\n",
       "      <td>-2.188916</td>\n",
       "      <td>10.856285</td>\n",
       "      <td>5.761551</td>\n",
       "    </tr>\n",
       "    <tr>\n",
       "      <th>E</th>\n",
       "      <td>6.574383</td>\n",
       "      <td>-2.367240</td>\n",
       "      <td>-5.461150</td>\n",
       "      <td>-1.250137</td>\n",
       "    </tr>\n",
       "  </tbody>\n",
       "</table>\n",
       "</div>"
      ],
      "text/plain": [
       "          w         x          y         z\n",
       "A  1.381329 -9.273140   3.119506  5.726556\n",
       "B  5.185952  9.433195  -0.558491 -1.810507\n",
       "C  0.743375 -2.188916  10.856285  5.761551\n",
       "E  6.574383 -2.367240  -5.461150 -1.250137"
      ]
     },
     "execution_count": 257,
     "metadata": {},
     "output_type": "execute_result"
    }
   ],
   "source": [
    "df[df['w'] > 0]"
   ]
  },
  {
   "cell_type": "code",
   "execution_count": 258,
   "metadata": {
    "slideshow": {
     "slide_type": "subslide"
    }
   },
   "outputs": [
    {
     "data": {
      "text/html": [
       "<div>\n",
       "<style scoped>\n",
       "    .dataframe tbody tr th:only-of-type {\n",
       "        vertical-align: middle;\n",
       "    }\n",
       "\n",
       "    .dataframe tbody tr th {\n",
       "        vertical-align: top;\n",
       "    }\n",
       "\n",
       "    .dataframe thead th {\n",
       "        text-align: right;\n",
       "    }\n",
       "</style>\n",
       "<table border=\"1\" class=\"dataframe\">\n",
       "  <thead>\n",
       "    <tr style=\"text-align: right;\">\n",
       "      <th></th>\n",
       "      <th>x</th>\n",
       "      <th>y</th>\n",
       "    </tr>\n",
       "  </thead>\n",
       "  <tbody>\n",
       "    <tr>\n",
       "      <th>A</th>\n",
       "      <td>-9.273140</td>\n",
       "      <td>3.119506</td>\n",
       "    </tr>\n",
       "    <tr>\n",
       "      <th>B</th>\n",
       "      <td>9.433195</td>\n",
       "      <td>-0.558491</td>\n",
       "    </tr>\n",
       "    <tr>\n",
       "      <th>C</th>\n",
       "      <td>-2.188916</td>\n",
       "      <td>10.856285</td>\n",
       "    </tr>\n",
       "    <tr>\n",
       "      <th>E</th>\n",
       "      <td>-2.367240</td>\n",
       "      <td>-5.461150</td>\n",
       "    </tr>\n",
       "  </tbody>\n",
       "</table>\n",
       "</div>"
      ],
      "text/plain": [
       "          x          y\n",
       "A -9.273140   3.119506\n",
       "B  9.433195  -0.558491\n",
       "C -2.188916  10.856285\n",
       "E -2.367240  -5.461150"
      ]
     },
     "execution_count": 258,
     "metadata": {},
     "output_type": "execute_result"
    }
   ],
   "source": [
    "df[df['w'] > 0][['x', 'y']]"
   ]
  },
  {
   "cell_type": "code",
   "execution_count": 259,
   "metadata": {
    "slideshow": {
     "slide_type": "subslide"
    }
   },
   "outputs": [
    {
     "data": {
      "text/html": [
       "<div>\n",
       "<style scoped>\n",
       "    .dataframe tbody tr th:only-of-type {\n",
       "        vertical-align: middle;\n",
       "    }\n",
       "\n",
       "    .dataframe tbody tr th {\n",
       "        vertical-align: top;\n",
       "    }\n",
       "\n",
       "    .dataframe thead th {\n",
       "        text-align: right;\n",
       "    }\n",
       "</style>\n",
       "<table border=\"1\" class=\"dataframe\">\n",
       "  <thead>\n",
       "    <tr style=\"text-align: right;\">\n",
       "      <th></th>\n",
       "      <th>w</th>\n",
       "      <th>x</th>\n",
       "      <th>y</th>\n",
       "      <th>z</th>\n",
       "    </tr>\n",
       "  </thead>\n",
       "  <tbody>\n",
       "    <tr>\n",
       "      <th>A</th>\n",
       "      <td>1.381329</td>\n",
       "      <td>-9.273140</td>\n",
       "      <td>3.119506</td>\n",
       "      <td>5.726556</td>\n",
       "    </tr>\n",
       "    <tr>\n",
       "      <th>C</th>\n",
       "      <td>0.743375</td>\n",
       "      <td>-2.188916</td>\n",
       "      <td>10.856285</td>\n",
       "      <td>5.761551</td>\n",
       "    </tr>\n",
       "    <tr>\n",
       "      <th>E</th>\n",
       "      <td>6.574383</td>\n",
       "      <td>-2.367240</td>\n",
       "      <td>-5.461150</td>\n",
       "      <td>-1.250137</td>\n",
       "    </tr>\n",
       "  </tbody>\n",
       "</table>\n",
       "</div>"
      ],
      "text/plain": [
       "          w         x          y         z\n",
       "A  1.381329 -9.273140   3.119506  5.726556\n",
       "C  0.743375 -2.188916  10.856285  5.761551\n",
       "E  6.574383 -2.367240  -5.461150 -1.250137"
      ]
     },
     "execution_count": 259,
     "metadata": {},
     "output_type": "execute_result"
    }
   ],
   "source": [
    "df[(df['w'] > 0) & (df['x'] < 0)]"
   ]
  },
  {
   "cell_type": "markdown",
   "metadata": {
    "slideshow": {
     "slide_type": "slide"
    }
   },
   "source": [
    "# Information über Data Frames"
   ]
  },
  {
   "cell_type": "code",
   "execution_count": 260,
   "metadata": {},
   "outputs": [
    {
     "data": {
      "text/html": [
       "<div>\n",
       "<style scoped>\n",
       "    .dataframe tbody tr th:only-of-type {\n",
       "        vertical-align: middle;\n",
       "    }\n",
       "\n",
       "    .dataframe tbody tr th {\n",
       "        vertical-align: top;\n",
       "    }\n",
       "\n",
       "    .dataframe thead th {\n",
       "        text-align: right;\n",
       "    }\n",
       "</style>\n",
       "<table border=\"1\" class=\"dataframe\">\n",
       "  <thead>\n",
       "    <tr style=\"text-align: right;\">\n",
       "      <th></th>\n",
       "      <th>w</th>\n",
       "      <th>x</th>\n",
       "      <th>y</th>\n",
       "      <th>z</th>\n",
       "      <th>txt</th>\n",
       "    </tr>\n",
       "  </thead>\n",
       "  <tbody>\n",
       "    <tr>\n",
       "      <th>A</th>\n",
       "      <td>4.641923</td>\n",
       "      <td>-5.387286</td>\n",
       "      <td>0.673062</td>\n",
       "      <td>-5.980005</td>\n",
       "      <td>a</td>\n",
       "    </tr>\n",
       "    <tr>\n",
       "      <th>B</th>\n",
       "      <td>-1.618579</td>\n",
       "      <td>NaN</td>\n",
       "      <td>-1.710509</td>\n",
       "      <td>4.356739</td>\n",
       "      <td>b</td>\n",
       "    </tr>\n",
       "    <tr>\n",
       "      <th>C</th>\n",
       "      <td>5.681205</td>\n",
       "      <td>-0.765380</td>\n",
       "      <td>5.746993</td>\n",
       "      <td>3.140433</td>\n",
       "      <td>c</td>\n",
       "    </tr>\n",
       "    <tr>\n",
       "      <th>D</th>\n",
       "      <td>5.977453</td>\n",
       "      <td>3.093962</td>\n",
       "      <td>-5.836543</td>\n",
       "      <td>-0.058726</td>\n",
       "      <td>d</td>\n",
       "    </tr>\n",
       "    <tr>\n",
       "      <th>E</th>\n",
       "      <td>-2.990556</td>\n",
       "      <td>5.051681</td>\n",
       "      <td>-2.973573</td>\n",
       "      <td>-2.629427</td>\n",
       "      <td>e</td>\n",
       "    </tr>\n",
       "  </tbody>\n",
       "</table>\n",
       "</div>"
      ],
      "text/plain": [
       "          w         x         y         z txt\n",
       "A  4.641923 -5.387286  0.673062 -5.980005   a\n",
       "B -1.618579       NaN -1.710509  4.356739   b\n",
       "C  5.681205 -0.765380  5.746993  3.140433   c\n",
       "D  5.977453  3.093962 -5.836543 -0.058726   d\n",
       "E -2.990556  5.051681 -2.973573 -2.629427   e"
      ]
     },
     "execution_count": 260,
     "metadata": {},
     "output_type": "execute_result"
    }
   ],
   "source": [
    "df = pd.DataFrame(array, index=index, columns=columns)\n",
    "df['txt'] = 'a b c d e'.split()\n",
    "df.iloc[1, 1] = np.nan\n",
    "df"
   ]
  },
  {
   "cell_type": "code",
   "execution_count": 261,
   "metadata": {},
   "outputs": [
    {
     "data": {
      "text/html": [
       "<div>\n",
       "<style scoped>\n",
       "    .dataframe tbody tr th:only-of-type {\n",
       "        vertical-align: middle;\n",
       "    }\n",
       "\n",
       "    .dataframe tbody tr th {\n",
       "        vertical-align: top;\n",
       "    }\n",
       "\n",
       "    .dataframe thead th {\n",
       "        text-align: right;\n",
       "    }\n",
       "</style>\n",
       "<table border=\"1\" class=\"dataframe\">\n",
       "  <thead>\n",
       "    <tr style=\"text-align: right;\">\n",
       "      <th></th>\n",
       "      <th>w</th>\n",
       "      <th>x</th>\n",
       "      <th>y</th>\n",
       "      <th>z</th>\n",
       "    </tr>\n",
       "  </thead>\n",
       "  <tbody>\n",
       "    <tr>\n",
       "      <th>count</th>\n",
       "      <td>5.000000</td>\n",
       "      <td>4.000000</td>\n",
       "      <td>5.000000</td>\n",
       "      <td>5.000000</td>\n",
       "    </tr>\n",
       "    <tr>\n",
       "      <th>mean</th>\n",
       "      <td>2.338289</td>\n",
       "      <td>0.498244</td>\n",
       "      <td>-0.820114</td>\n",
       "      <td>-0.234197</td>\n",
       "    </tr>\n",
       "    <tr>\n",
       "      <th>std</th>\n",
       "      <td>4.294727</td>\n",
       "      <td>4.608245</td>\n",
       "      <td>4.357500</td>\n",
       "      <td>4.220398</td>\n",
       "    </tr>\n",
       "    <tr>\n",
       "      <th>min</th>\n",
       "      <td>-2.990556</td>\n",
       "      <td>-5.387286</td>\n",
       "      <td>-5.836543</td>\n",
       "      <td>-5.980005</td>\n",
       "    </tr>\n",
       "    <tr>\n",
       "      <th>25%</th>\n",
       "      <td>-1.618579</td>\n",
       "      <td>-1.920857</td>\n",
       "      <td>-2.973573</td>\n",
       "      <td>-2.629427</td>\n",
       "    </tr>\n",
       "    <tr>\n",
       "      <th>50%</th>\n",
       "      <td>4.641923</td>\n",
       "      <td>1.164291</td>\n",
       "      <td>-1.710509</td>\n",
       "      <td>-0.058726</td>\n",
       "    </tr>\n",
       "    <tr>\n",
       "      <th>75%</th>\n",
       "      <td>5.681205</td>\n",
       "      <td>3.583392</td>\n",
       "      <td>0.673062</td>\n",
       "      <td>3.140433</td>\n",
       "    </tr>\n",
       "    <tr>\n",
       "      <th>max</th>\n",
       "      <td>5.977453</td>\n",
       "      <td>5.051681</td>\n",
       "      <td>5.746993</td>\n",
       "      <td>4.356739</td>\n",
       "    </tr>\n",
       "  </tbody>\n",
       "</table>\n",
       "</div>"
      ],
      "text/plain": [
       "              w         x         y         z\n",
       "count  5.000000  4.000000  5.000000  5.000000\n",
       "mean   2.338289  0.498244 -0.820114 -0.234197\n",
       "std    4.294727  4.608245  4.357500  4.220398\n",
       "min   -2.990556 -5.387286 -5.836543 -5.980005\n",
       "25%   -1.618579 -1.920857 -2.973573 -2.629427\n",
       "50%    4.641923  1.164291 -1.710509 -0.058726\n",
       "75%    5.681205  3.583392  0.673062  3.140433\n",
       "max    5.977453  5.051681  5.746993  4.356739"
      ]
     },
     "execution_count": 261,
     "metadata": {},
     "output_type": "execute_result"
    }
   ],
   "source": [
    "df.describe()"
   ]
  },
  {
   "cell_type": "code",
   "execution_count": 262,
   "metadata": {
    "slideshow": {
     "slide_type": "subslide"
    }
   },
   "outputs": [
    {
     "name": "stdout",
     "output_type": "stream",
     "text": [
      "<class 'pandas.core.frame.DataFrame'>\n",
      "Index: 5 entries, A to E\n",
      "Data columns (total 5 columns):\n",
      " #   Column  Non-Null Count  Dtype  \n",
      "---  ------  --------------  -----  \n",
      " 0   w       5 non-null      float64\n",
      " 1   x       4 non-null      float64\n",
      " 2   y       5 non-null      float64\n",
      " 3   z       5 non-null      float64\n",
      " 4   txt     5 non-null      object \n",
      "dtypes: float64(4), object(1)\n",
      "memory usage: 240.0+ bytes\n"
     ]
    }
   ],
   "source": [
    "df.info()"
   ]
  },
  {
   "cell_type": "code",
   "execution_count": 263,
   "metadata": {
    "slideshow": {
     "slide_type": "subslide"
    }
   },
   "outputs": [
    {
     "data": {
      "text/plain": [
       "w      float64\n",
       "x      float64\n",
       "y      float64\n",
       "z      float64\n",
       "txt     object\n",
       "dtype: object"
      ]
     },
     "execution_count": 263,
     "metadata": {},
     "output_type": "execute_result"
    }
   ],
   "source": [
    "df.dtypes"
   ]
  },
  {
   "cell_type": "markdown",
   "metadata": {
    "slideshow": {
     "slide_type": "slide"
    }
   },
   "source": [
    "## Data Frame Index"
   ]
  },
  {
   "cell_type": "code",
   "execution_count": 264,
   "metadata": {},
   "outputs": [
    {
     "data": {
      "text/html": [
       "<div>\n",
       "<style scoped>\n",
       "    .dataframe tbody tr th:only-of-type {\n",
       "        vertical-align: middle;\n",
       "    }\n",
       "\n",
       "    .dataframe tbody tr th {\n",
       "        vertical-align: top;\n",
       "    }\n",
       "\n",
       "    .dataframe thead th {\n",
       "        text-align: right;\n",
       "    }\n",
       "</style>\n",
       "<table border=\"1\" class=\"dataframe\">\n",
       "  <thead>\n",
       "    <tr style=\"text-align: right;\">\n",
       "      <th></th>\n",
       "      <th>w</th>\n",
       "      <th>x</th>\n",
       "      <th>y</th>\n",
       "      <th>z</th>\n",
       "      <th>txt</th>\n",
       "    </tr>\n",
       "  </thead>\n",
       "  <tbody>\n",
       "    <tr>\n",
       "      <th>A</th>\n",
       "      <td>1.381329</td>\n",
       "      <td>-9.273140</td>\n",
       "      <td>3.119506</td>\n",
       "      <td>5.726556</td>\n",
       "      <td>a</td>\n",
       "    </tr>\n",
       "    <tr>\n",
       "      <th>B</th>\n",
       "      <td>5.185952</td>\n",
       "      <td>9.433195</td>\n",
       "      <td>-0.558491</td>\n",
       "      <td>-1.810507</td>\n",
       "      <td>b</td>\n",
       "    </tr>\n",
       "    <tr>\n",
       "      <th>C</th>\n",
       "      <td>0.743375</td>\n",
       "      <td>-2.188916</td>\n",
       "      <td>10.856285</td>\n",
       "      <td>5.761551</td>\n",
       "      <td>c</td>\n",
       "    </tr>\n",
       "    <tr>\n",
       "      <th>D</th>\n",
       "      <td>-9.094062</td>\n",
       "      <td>-0.690247</td>\n",
       "      <td>2.699198</td>\n",
       "      <td>-8.876411</td>\n",
       "      <td>d</td>\n",
       "    </tr>\n",
       "    <tr>\n",
       "      <th>E</th>\n",
       "      <td>6.574383</td>\n",
       "      <td>-2.367240</td>\n",
       "      <td>-5.461150</td>\n",
       "      <td>-1.250137</td>\n",
       "      <td>e</td>\n",
       "    </tr>\n",
       "  </tbody>\n",
       "</table>\n",
       "</div>"
      ],
      "text/plain": [
       "          w         x          y         z txt\n",
       "A  1.381329 -9.273140   3.119506  5.726556   a\n",
       "B  5.185952  9.433195  -0.558491 -1.810507   b\n",
       "C  0.743375 -2.188916  10.856285  5.761551   c\n",
       "D -9.094062 -0.690247   2.699198 -8.876411   d\n",
       "E  6.574383 -2.367240  -5.461150 -1.250137   e"
      ]
     },
     "execution_count": 264,
     "metadata": {},
     "output_type": "execute_result"
    }
   ],
   "source": [
    "df = create_data_frame()\n",
    "df['txt'] = 'a b c d e'.split()\n",
    "df"
   ]
  },
  {
   "cell_type": "code",
   "execution_count": 265,
   "metadata": {},
   "outputs": [
    {
     "data": {
      "text/html": [
       "<div>\n",
       "<style scoped>\n",
       "    .dataframe tbody tr th:only-of-type {\n",
       "        vertical-align: middle;\n",
       "    }\n",
       "\n",
       "    .dataframe tbody tr th {\n",
       "        vertical-align: top;\n",
       "    }\n",
       "\n",
       "    .dataframe thead th {\n",
       "        text-align: right;\n",
       "    }\n",
       "</style>\n",
       "<table border=\"1\" class=\"dataframe\">\n",
       "  <thead>\n",
       "    <tr style=\"text-align: right;\">\n",
       "      <th></th>\n",
       "      <th>index</th>\n",
       "      <th>w</th>\n",
       "      <th>x</th>\n",
       "      <th>y</th>\n",
       "      <th>z</th>\n",
       "      <th>txt</th>\n",
       "    </tr>\n",
       "  </thead>\n",
       "  <tbody>\n",
       "    <tr>\n",
       "      <th>0</th>\n",
       "      <td>A</td>\n",
       "      <td>1.381329</td>\n",
       "      <td>-9.273140</td>\n",
       "      <td>3.119506</td>\n",
       "      <td>5.726556</td>\n",
       "      <td>a</td>\n",
       "    </tr>\n",
       "    <tr>\n",
       "      <th>1</th>\n",
       "      <td>B</td>\n",
       "      <td>5.185952</td>\n",
       "      <td>9.433195</td>\n",
       "      <td>-0.558491</td>\n",
       "      <td>-1.810507</td>\n",
       "      <td>b</td>\n",
       "    </tr>\n",
       "    <tr>\n",
       "      <th>2</th>\n",
       "      <td>C</td>\n",
       "      <td>0.743375</td>\n",
       "      <td>-2.188916</td>\n",
       "      <td>10.856285</td>\n",
       "      <td>5.761551</td>\n",
       "      <td>c</td>\n",
       "    </tr>\n",
       "    <tr>\n",
       "      <th>3</th>\n",
       "      <td>D</td>\n",
       "      <td>-9.094062</td>\n",
       "      <td>-0.690247</td>\n",
       "      <td>2.699198</td>\n",
       "      <td>-8.876411</td>\n",
       "      <td>d</td>\n",
       "    </tr>\n",
       "    <tr>\n",
       "      <th>4</th>\n",
       "      <td>E</td>\n",
       "      <td>6.574383</td>\n",
       "      <td>-2.367240</td>\n",
       "      <td>-5.461150</td>\n",
       "      <td>-1.250137</td>\n",
       "      <td>e</td>\n",
       "    </tr>\n",
       "  </tbody>\n",
       "</table>\n",
       "</div>"
      ],
      "text/plain": [
       "  index         w         x          y         z txt\n",
       "0     A  1.381329 -9.273140   3.119506  5.726556   a\n",
       "1     B  5.185952  9.433195  -0.558491 -1.810507   b\n",
       "2     C  0.743375 -2.188916  10.856285  5.761551   c\n",
       "3     D -9.094062 -0.690247   2.699198 -8.876411   d\n",
       "4     E  6.574383 -2.367240  -5.461150 -1.250137   e"
      ]
     },
     "execution_count": 265,
     "metadata": {},
     "output_type": "execute_result"
    }
   ],
   "source": [
    "df.reset_index()"
   ]
  },
  {
   "cell_type": "code",
   "execution_count": 266,
   "metadata": {
    "slideshow": {
     "slide_type": "subslide"
    }
   },
   "outputs": [
    {
     "data": {
      "text/html": [
       "<div>\n",
       "<style scoped>\n",
       "    .dataframe tbody tr th:only-of-type {\n",
       "        vertical-align: middle;\n",
       "    }\n",
       "\n",
       "    .dataframe tbody tr th {\n",
       "        vertical-align: top;\n",
       "    }\n",
       "\n",
       "    .dataframe thead th {\n",
       "        text-align: right;\n",
       "    }\n",
       "</style>\n",
       "<table border=\"1\" class=\"dataframe\">\n",
       "  <thead>\n",
       "    <tr style=\"text-align: right;\">\n",
       "      <th></th>\n",
       "      <th>w</th>\n",
       "      <th>x</th>\n",
       "      <th>y</th>\n",
       "      <th>z</th>\n",
       "      <th>txt</th>\n",
       "    </tr>\n",
       "  </thead>\n",
       "  <tbody>\n",
       "    <tr>\n",
       "      <th>A</th>\n",
       "      <td>1.381329</td>\n",
       "      <td>-9.273140</td>\n",
       "      <td>3.119506</td>\n",
       "      <td>5.726556</td>\n",
       "      <td>a</td>\n",
       "    </tr>\n",
       "    <tr>\n",
       "      <th>B</th>\n",
       "      <td>5.185952</td>\n",
       "      <td>9.433195</td>\n",
       "      <td>-0.558491</td>\n",
       "      <td>-1.810507</td>\n",
       "      <td>b</td>\n",
       "    </tr>\n",
       "    <tr>\n",
       "      <th>C</th>\n",
       "      <td>0.743375</td>\n",
       "      <td>-2.188916</td>\n",
       "      <td>10.856285</td>\n",
       "      <td>5.761551</td>\n",
       "      <td>c</td>\n",
       "    </tr>\n",
       "    <tr>\n",
       "      <th>D</th>\n",
       "      <td>-9.094062</td>\n",
       "      <td>-0.690247</td>\n",
       "      <td>2.699198</td>\n",
       "      <td>-8.876411</td>\n",
       "      <td>d</td>\n",
       "    </tr>\n",
       "    <tr>\n",
       "      <th>E</th>\n",
       "      <td>6.574383</td>\n",
       "      <td>-2.367240</td>\n",
       "      <td>-5.461150</td>\n",
       "      <td>-1.250137</td>\n",
       "      <td>e</td>\n",
       "    </tr>\n",
       "  </tbody>\n",
       "</table>\n",
       "</div>"
      ],
      "text/plain": [
       "          w         x          y         z txt\n",
       "A  1.381329 -9.273140   3.119506  5.726556   a\n",
       "B  5.185952  9.433195  -0.558491 -1.810507   b\n",
       "C  0.743375 -2.188916  10.856285  5.761551   c\n",
       "D -9.094062 -0.690247   2.699198 -8.876411   d\n",
       "E  6.574383 -2.367240  -5.461150 -1.250137   e"
      ]
     },
     "execution_count": 266,
     "metadata": {},
     "output_type": "execute_result"
    }
   ],
   "source": [
    "df"
   ]
  },
  {
   "cell_type": "code",
   "execution_count": 267,
   "metadata": {},
   "outputs": [],
   "source": [
    "df.reset_index(inplace=True)"
   ]
  },
  {
   "cell_type": "code",
   "execution_count": 268,
   "metadata": {},
   "outputs": [
    {
     "data": {
      "text/html": [
       "<div>\n",
       "<style scoped>\n",
       "    .dataframe tbody tr th:only-of-type {\n",
       "        vertical-align: middle;\n",
       "    }\n",
       "\n",
       "    .dataframe tbody tr th {\n",
       "        vertical-align: top;\n",
       "    }\n",
       "\n",
       "    .dataframe thead th {\n",
       "        text-align: right;\n",
       "    }\n",
       "</style>\n",
       "<table border=\"1\" class=\"dataframe\">\n",
       "  <thead>\n",
       "    <tr style=\"text-align: right;\">\n",
       "      <th></th>\n",
       "      <th>index</th>\n",
       "      <th>w</th>\n",
       "      <th>x</th>\n",
       "      <th>y</th>\n",
       "      <th>z</th>\n",
       "      <th>txt</th>\n",
       "    </tr>\n",
       "  </thead>\n",
       "  <tbody>\n",
       "    <tr>\n",
       "      <th>0</th>\n",
       "      <td>A</td>\n",
       "      <td>1.381329</td>\n",
       "      <td>-9.273140</td>\n",
       "      <td>3.119506</td>\n",
       "      <td>5.726556</td>\n",
       "      <td>a</td>\n",
       "    </tr>\n",
       "    <tr>\n",
       "      <th>1</th>\n",
       "      <td>B</td>\n",
       "      <td>5.185952</td>\n",
       "      <td>9.433195</td>\n",
       "      <td>-0.558491</td>\n",
       "      <td>-1.810507</td>\n",
       "      <td>b</td>\n",
       "    </tr>\n",
       "    <tr>\n",
       "      <th>2</th>\n",
       "      <td>C</td>\n",
       "      <td>0.743375</td>\n",
       "      <td>-2.188916</td>\n",
       "      <td>10.856285</td>\n",
       "      <td>5.761551</td>\n",
       "      <td>c</td>\n",
       "    </tr>\n",
       "    <tr>\n",
       "      <th>3</th>\n",
       "      <td>D</td>\n",
       "      <td>-9.094062</td>\n",
       "      <td>-0.690247</td>\n",
       "      <td>2.699198</td>\n",
       "      <td>-8.876411</td>\n",
       "      <td>d</td>\n",
       "    </tr>\n",
       "    <tr>\n",
       "      <th>4</th>\n",
       "      <td>E</td>\n",
       "      <td>6.574383</td>\n",
       "      <td>-2.367240</td>\n",
       "      <td>-5.461150</td>\n",
       "      <td>-1.250137</td>\n",
       "      <td>e</td>\n",
       "    </tr>\n",
       "  </tbody>\n",
       "</table>\n",
       "</div>"
      ],
      "text/plain": [
       "  index         w         x          y         z txt\n",
       "0     A  1.381329 -9.273140   3.119506  5.726556   a\n",
       "1     B  5.185952  9.433195  -0.558491 -1.810507   b\n",
       "2     C  0.743375 -2.188916  10.856285  5.761551   c\n",
       "3     D -9.094062 -0.690247   2.699198 -8.876411   d\n",
       "4     E  6.574383 -2.367240  -5.461150 -1.250137   e"
      ]
     },
     "execution_count": 268,
     "metadata": {},
     "output_type": "execute_result"
    }
   ],
   "source": [
    "df"
   ]
  },
  {
   "cell_type": "code",
   "execution_count": 269,
   "metadata": {
    "slideshow": {
     "slide_type": "subslide"
    }
   },
   "outputs": [],
   "source": [
    "df.rename(columns={'index': 'old_index'}, inplace=True)"
   ]
  },
  {
   "cell_type": "code",
   "execution_count": 270,
   "metadata": {},
   "outputs": [
    {
     "data": {
      "text/html": [
       "<div>\n",
       "<style scoped>\n",
       "    .dataframe tbody tr th:only-of-type {\n",
       "        vertical-align: middle;\n",
       "    }\n",
       "\n",
       "    .dataframe tbody tr th {\n",
       "        vertical-align: top;\n",
       "    }\n",
       "\n",
       "    .dataframe thead th {\n",
       "        text-align: right;\n",
       "    }\n",
       "</style>\n",
       "<table border=\"1\" class=\"dataframe\">\n",
       "  <thead>\n",
       "    <tr style=\"text-align: right;\">\n",
       "      <th></th>\n",
       "      <th>old_index</th>\n",
       "      <th>w</th>\n",
       "      <th>x</th>\n",
       "      <th>y</th>\n",
       "      <th>z</th>\n",
       "      <th>txt</th>\n",
       "    </tr>\n",
       "  </thead>\n",
       "  <tbody>\n",
       "    <tr>\n",
       "      <th>0</th>\n",
       "      <td>A</td>\n",
       "      <td>1.381329</td>\n",
       "      <td>-9.273140</td>\n",
       "      <td>3.119506</td>\n",
       "      <td>5.726556</td>\n",
       "      <td>a</td>\n",
       "    </tr>\n",
       "    <tr>\n",
       "      <th>1</th>\n",
       "      <td>B</td>\n",
       "      <td>5.185952</td>\n",
       "      <td>9.433195</td>\n",
       "      <td>-0.558491</td>\n",
       "      <td>-1.810507</td>\n",
       "      <td>b</td>\n",
       "    </tr>\n",
       "    <tr>\n",
       "      <th>2</th>\n",
       "      <td>C</td>\n",
       "      <td>0.743375</td>\n",
       "      <td>-2.188916</td>\n",
       "      <td>10.856285</td>\n",
       "      <td>5.761551</td>\n",
       "      <td>c</td>\n",
       "    </tr>\n",
       "    <tr>\n",
       "      <th>3</th>\n",
       "      <td>D</td>\n",
       "      <td>-9.094062</td>\n",
       "      <td>-0.690247</td>\n",
       "      <td>2.699198</td>\n",
       "      <td>-8.876411</td>\n",
       "      <td>d</td>\n",
       "    </tr>\n",
       "    <tr>\n",
       "      <th>4</th>\n",
       "      <td>E</td>\n",
       "      <td>6.574383</td>\n",
       "      <td>-2.367240</td>\n",
       "      <td>-5.461150</td>\n",
       "      <td>-1.250137</td>\n",
       "      <td>e</td>\n",
       "    </tr>\n",
       "  </tbody>\n",
       "</table>\n",
       "</div>"
      ],
      "text/plain": [
       "  old_index         w         x          y         z txt\n",
       "0         A  1.381329 -9.273140   3.119506  5.726556   a\n",
       "1         B  5.185952  9.433195  -0.558491 -1.810507   b\n",
       "2         C  0.743375 -2.188916  10.856285  5.761551   c\n",
       "3         D -9.094062 -0.690247   2.699198 -8.876411   d\n",
       "4         E  6.574383 -2.367240  -5.461150 -1.250137   e"
      ]
     },
     "execution_count": 270,
     "metadata": {},
     "output_type": "execute_result"
    }
   ],
   "source": [
    "df"
   ]
  },
  {
   "cell_type": "code",
   "execution_count": 271,
   "metadata": {
    "slideshow": {
     "slide_type": "subslide"
    }
   },
   "outputs": [
    {
     "data": {
      "text/html": [
       "<div>\n",
       "<style scoped>\n",
       "    .dataframe tbody tr th:only-of-type {\n",
       "        vertical-align: middle;\n",
       "    }\n",
       "\n",
       "    .dataframe tbody tr th {\n",
       "        vertical-align: top;\n",
       "    }\n",
       "\n",
       "    .dataframe thead th {\n",
       "        text-align: right;\n",
       "    }\n",
       "</style>\n",
       "<table border=\"1\" class=\"dataframe\">\n",
       "  <thead>\n",
       "    <tr style=\"text-align: right;\">\n",
       "      <th></th>\n",
       "      <th>old_index</th>\n",
       "      <th>w</th>\n",
       "      <th>x</th>\n",
       "      <th>y</th>\n",
       "      <th>z</th>\n",
       "    </tr>\n",
       "    <tr>\n",
       "      <th>txt</th>\n",
       "      <th></th>\n",
       "      <th></th>\n",
       "      <th></th>\n",
       "      <th></th>\n",
       "      <th></th>\n",
       "    </tr>\n",
       "  </thead>\n",
       "  <tbody>\n",
       "    <tr>\n",
       "      <th>a</th>\n",
       "      <td>A</td>\n",
       "      <td>1.381329</td>\n",
       "      <td>-9.273140</td>\n",
       "      <td>3.119506</td>\n",
       "      <td>5.726556</td>\n",
       "    </tr>\n",
       "    <tr>\n",
       "      <th>b</th>\n",
       "      <td>B</td>\n",
       "      <td>5.185952</td>\n",
       "      <td>9.433195</td>\n",
       "      <td>-0.558491</td>\n",
       "      <td>-1.810507</td>\n",
       "    </tr>\n",
       "    <tr>\n",
       "      <th>c</th>\n",
       "      <td>C</td>\n",
       "      <td>0.743375</td>\n",
       "      <td>-2.188916</td>\n",
       "      <td>10.856285</td>\n",
       "      <td>5.761551</td>\n",
       "    </tr>\n",
       "    <tr>\n",
       "      <th>d</th>\n",
       "      <td>D</td>\n",
       "      <td>-9.094062</td>\n",
       "      <td>-0.690247</td>\n",
       "      <td>2.699198</td>\n",
       "      <td>-8.876411</td>\n",
       "    </tr>\n",
       "    <tr>\n",
       "      <th>e</th>\n",
       "      <td>E</td>\n",
       "      <td>6.574383</td>\n",
       "      <td>-2.367240</td>\n",
       "      <td>-5.461150</td>\n",
       "      <td>-1.250137</td>\n",
       "    </tr>\n",
       "  </tbody>\n",
       "</table>\n",
       "</div>"
      ],
      "text/plain": [
       "    old_index         w         x          y         z\n",
       "txt                                                   \n",
       "a           A  1.381329 -9.273140   3.119506  5.726556\n",
       "b           B  5.185952  9.433195  -0.558491 -1.810507\n",
       "c           C  0.743375 -2.188916  10.856285  5.761551\n",
       "d           D -9.094062 -0.690247   2.699198 -8.876411\n",
       "e           E  6.574383 -2.367240  -5.461150 -1.250137"
      ]
     },
     "execution_count": 271,
     "metadata": {},
     "output_type": "execute_result"
    }
   ],
   "source": [
    "df.set_index('txt')"
   ]
  },
  {
   "cell_type": "code",
   "execution_count": 272,
   "metadata": {},
   "outputs": [
    {
     "data": {
      "text/html": [
       "<div>\n",
       "<style scoped>\n",
       "    .dataframe tbody tr th:only-of-type {\n",
       "        vertical-align: middle;\n",
       "    }\n",
       "\n",
       "    .dataframe tbody tr th {\n",
       "        vertical-align: top;\n",
       "    }\n",
       "\n",
       "    .dataframe thead th {\n",
       "        text-align: right;\n",
       "    }\n",
       "</style>\n",
       "<table border=\"1\" class=\"dataframe\">\n",
       "  <thead>\n",
       "    <tr style=\"text-align: right;\">\n",
       "      <th></th>\n",
       "      <th>old_index</th>\n",
       "      <th>w</th>\n",
       "      <th>x</th>\n",
       "      <th>y</th>\n",
       "      <th>z</th>\n",
       "      <th>txt</th>\n",
       "    </tr>\n",
       "  </thead>\n",
       "  <tbody>\n",
       "    <tr>\n",
       "      <th>0</th>\n",
       "      <td>A</td>\n",
       "      <td>1.381329</td>\n",
       "      <td>-9.273140</td>\n",
       "      <td>3.119506</td>\n",
       "      <td>5.726556</td>\n",
       "      <td>a</td>\n",
       "    </tr>\n",
       "    <tr>\n",
       "      <th>1</th>\n",
       "      <td>B</td>\n",
       "      <td>5.185952</td>\n",
       "      <td>9.433195</td>\n",
       "      <td>-0.558491</td>\n",
       "      <td>-1.810507</td>\n",
       "      <td>b</td>\n",
       "    </tr>\n",
       "    <tr>\n",
       "      <th>2</th>\n",
       "      <td>C</td>\n",
       "      <td>0.743375</td>\n",
       "      <td>-2.188916</td>\n",
       "      <td>10.856285</td>\n",
       "      <td>5.761551</td>\n",
       "      <td>c</td>\n",
       "    </tr>\n",
       "    <tr>\n",
       "      <th>3</th>\n",
       "      <td>D</td>\n",
       "      <td>-9.094062</td>\n",
       "      <td>-0.690247</td>\n",
       "      <td>2.699198</td>\n",
       "      <td>-8.876411</td>\n",
       "      <td>d</td>\n",
       "    </tr>\n",
       "    <tr>\n",
       "      <th>4</th>\n",
       "      <td>E</td>\n",
       "      <td>6.574383</td>\n",
       "      <td>-2.367240</td>\n",
       "      <td>-5.461150</td>\n",
       "      <td>-1.250137</td>\n",
       "      <td>e</td>\n",
       "    </tr>\n",
       "  </tbody>\n",
       "</table>\n",
       "</div>"
      ],
      "text/plain": [
       "  old_index         w         x          y         z txt\n",
       "0         A  1.381329 -9.273140   3.119506  5.726556   a\n",
       "1         B  5.185952  9.433195  -0.558491 -1.810507   b\n",
       "2         C  0.743375 -2.188916  10.856285  5.761551   c\n",
       "3         D -9.094062 -0.690247   2.699198 -8.876411   d\n",
       "4         E  6.574383 -2.367240  -5.461150 -1.250137   e"
      ]
     },
     "execution_count": 272,
     "metadata": {},
     "output_type": "execute_result"
    }
   ],
   "source": [
    "df"
   ]
  },
  {
   "cell_type": "code",
   "execution_count": 273,
   "metadata": {
    "slideshow": {
     "slide_type": "subslide"
    }
   },
   "outputs": [
    {
     "data": {
      "text/html": [
       "<div>\n",
       "<style scoped>\n",
       "    .dataframe tbody tr th:only-of-type {\n",
       "        vertical-align: middle;\n",
       "    }\n",
       "\n",
       "    .dataframe tbody tr th {\n",
       "        vertical-align: top;\n",
       "    }\n",
       "\n",
       "    .dataframe thead th {\n",
       "        text-align: right;\n",
       "    }\n",
       "</style>\n",
       "<table border=\"1\" class=\"dataframe\">\n",
       "  <thead>\n",
       "    <tr style=\"text-align: right;\">\n",
       "      <th></th>\n",
       "      <th>old_index</th>\n",
       "      <th>w</th>\n",
       "      <th>x</th>\n",
       "      <th>y</th>\n",
       "      <th>z</th>\n",
       "    </tr>\n",
       "    <tr>\n",
       "      <th>txt</th>\n",
       "      <th></th>\n",
       "      <th></th>\n",
       "      <th></th>\n",
       "      <th></th>\n",
       "      <th></th>\n",
       "    </tr>\n",
       "  </thead>\n",
       "  <tbody>\n",
       "    <tr>\n",
       "      <th>a</th>\n",
       "      <td>A</td>\n",
       "      <td>1.381329</td>\n",
       "      <td>-9.273140</td>\n",
       "      <td>3.119506</td>\n",
       "      <td>5.726556</td>\n",
       "    </tr>\n",
       "    <tr>\n",
       "      <th>b</th>\n",
       "      <td>B</td>\n",
       "      <td>5.185952</td>\n",
       "      <td>9.433195</td>\n",
       "      <td>-0.558491</td>\n",
       "      <td>-1.810507</td>\n",
       "    </tr>\n",
       "    <tr>\n",
       "      <th>c</th>\n",
       "      <td>C</td>\n",
       "      <td>0.743375</td>\n",
       "      <td>-2.188916</td>\n",
       "      <td>10.856285</td>\n",
       "      <td>5.761551</td>\n",
       "    </tr>\n",
       "    <tr>\n",
       "      <th>d</th>\n",
       "      <td>D</td>\n",
       "      <td>-9.094062</td>\n",
       "      <td>-0.690247</td>\n",
       "      <td>2.699198</td>\n",
       "      <td>-8.876411</td>\n",
       "    </tr>\n",
       "    <tr>\n",
       "      <th>e</th>\n",
       "      <td>E</td>\n",
       "      <td>6.574383</td>\n",
       "      <td>-2.367240</td>\n",
       "      <td>-5.461150</td>\n",
       "      <td>-1.250137</td>\n",
       "    </tr>\n",
       "  </tbody>\n",
       "</table>\n",
       "</div>"
      ],
      "text/plain": [
       "    old_index         w         x          y         z\n",
       "txt                                                   \n",
       "a           A  1.381329 -9.273140   3.119506  5.726556\n",
       "b           B  5.185952  9.433195  -0.558491 -1.810507\n",
       "c           C  0.743375 -2.188916  10.856285  5.761551\n",
       "d           D -9.094062 -0.690247   2.699198 -8.876411\n",
       "e           E  6.574383 -2.367240  -5.461150 -1.250137"
      ]
     },
     "execution_count": 273,
     "metadata": {},
     "output_type": "execute_result"
    }
   ],
   "source": [
    "df.set_index('txt', inplace=True)\n",
    "df"
   ]
  },
  {
   "cell_type": "code",
   "execution_count": 274,
   "metadata": {},
   "outputs": [
    {
     "data": {
      "text/html": [
       "<div>\n",
       "<style scoped>\n",
       "    .dataframe tbody tr th:only-of-type {\n",
       "        vertical-align: middle;\n",
       "    }\n",
       "\n",
       "    .dataframe tbody tr th {\n",
       "        vertical-align: top;\n",
       "    }\n",
       "\n",
       "    .dataframe thead th {\n",
       "        text-align: right;\n",
       "    }\n",
       "</style>\n",
       "<table border=\"1\" class=\"dataframe\">\n",
       "  <thead>\n",
       "    <tr style=\"text-align: right;\">\n",
       "      <th></th>\n",
       "      <th>w</th>\n",
       "      <th>x</th>\n",
       "      <th>y</th>\n",
       "      <th>z</th>\n",
       "    </tr>\n",
       "    <tr>\n",
       "      <th>old_index</th>\n",
       "      <th></th>\n",
       "      <th></th>\n",
       "      <th></th>\n",
       "      <th></th>\n",
       "    </tr>\n",
       "  </thead>\n",
       "  <tbody>\n",
       "    <tr>\n",
       "      <th>A</th>\n",
       "      <td>1.381329</td>\n",
       "      <td>-9.273140</td>\n",
       "      <td>3.119506</td>\n",
       "      <td>5.726556</td>\n",
       "    </tr>\n",
       "    <tr>\n",
       "      <th>B</th>\n",
       "      <td>5.185952</td>\n",
       "      <td>9.433195</td>\n",
       "      <td>-0.558491</td>\n",
       "      <td>-1.810507</td>\n",
       "    </tr>\n",
       "    <tr>\n",
       "      <th>C</th>\n",
       "      <td>0.743375</td>\n",
       "      <td>-2.188916</td>\n",
       "      <td>10.856285</td>\n",
       "      <td>5.761551</td>\n",
       "    </tr>\n",
       "    <tr>\n",
       "      <th>D</th>\n",
       "      <td>-9.094062</td>\n",
       "      <td>-0.690247</td>\n",
       "      <td>2.699198</td>\n",
       "      <td>-8.876411</td>\n",
       "    </tr>\n",
       "    <tr>\n",
       "      <th>E</th>\n",
       "      <td>6.574383</td>\n",
       "      <td>-2.367240</td>\n",
       "      <td>-5.461150</td>\n",
       "      <td>-1.250137</td>\n",
       "    </tr>\n",
       "  </tbody>\n",
       "</table>\n",
       "</div>"
      ],
      "text/plain": [
       "                  w         x          y         z\n",
       "old_index                                         \n",
       "A          1.381329 -9.273140   3.119506  5.726556\n",
       "B          5.185952  9.433195  -0.558491 -1.810507\n",
       "C          0.743375 -2.188916  10.856285  5.761551\n",
       "D         -9.094062 -0.690247   2.699198 -8.876411\n",
       "E          6.574383 -2.367240  -5.461150 -1.250137"
      ]
     },
     "execution_count": 274,
     "metadata": {},
     "output_type": "execute_result"
    }
   ],
   "source": [
    "df.set_index('old_index', inplace=True)\n",
    "df"
   ]
  },
  {
   "cell_type": "code",
   "execution_count": 275,
   "metadata": {
    "slideshow": {
     "slide_type": "subslide"
    }
   },
   "outputs": [
    {
     "name": "stdout",
     "output_type": "stream",
     "text": [
      "<class 'pandas.core.frame.DataFrame'>\n",
      "Index: 5 entries, A to E\n",
      "Data columns (total 4 columns):\n",
      " #   Column  Non-Null Count  Dtype  \n",
      "---  ------  --------------  -----  \n",
      " 0   w       5 non-null      float64\n",
      " 1   x       5 non-null      float64\n",
      " 2   y       5 non-null      float64\n",
      " 3   z       5 non-null      float64\n",
      "dtypes: float64(4)\n",
      "memory usage: 200.0+ bytes\n"
     ]
    }
   ],
   "source": [
    "df.info()"
   ]
  },
  {
   "cell_type": "code",
   "execution_count": 276,
   "metadata": {},
   "outputs": [
    {
     "data": {
      "text/plain": [
       "Index(['A', 'B', 'C', 'D', 'E'], dtype='object', name='old_index')"
      ]
     },
     "execution_count": 276,
     "metadata": {},
     "output_type": "execute_result"
    }
   ],
   "source": [
    "df.index"
   ]
  },
  {
   "cell_type": "code",
   "execution_count": 277,
   "metadata": {
    "slideshow": {
     "slide_type": "subslide"
    }
   },
   "outputs": [],
   "source": [
    "df.index.name = None"
   ]
  },
  {
   "cell_type": "code",
   "execution_count": 278,
   "metadata": {},
   "outputs": [
    {
     "data": {
      "text/html": [
       "<div>\n",
       "<style scoped>\n",
       "    .dataframe tbody tr th:only-of-type {\n",
       "        vertical-align: middle;\n",
       "    }\n",
       "\n",
       "    .dataframe tbody tr th {\n",
       "        vertical-align: top;\n",
       "    }\n",
       "\n",
       "    .dataframe thead th {\n",
       "        text-align: right;\n",
       "    }\n",
       "</style>\n",
       "<table border=\"1\" class=\"dataframe\">\n",
       "  <thead>\n",
       "    <tr style=\"text-align: right;\">\n",
       "      <th></th>\n",
       "      <th>w</th>\n",
       "      <th>x</th>\n",
       "      <th>y</th>\n",
       "      <th>z</th>\n",
       "    </tr>\n",
       "  </thead>\n",
       "  <tbody>\n",
       "    <tr>\n",
       "      <th>A</th>\n",
       "      <td>1.381329</td>\n",
       "      <td>-9.273140</td>\n",
       "      <td>3.119506</td>\n",
       "      <td>5.726556</td>\n",
       "    </tr>\n",
       "    <tr>\n",
       "      <th>B</th>\n",
       "      <td>5.185952</td>\n",
       "      <td>9.433195</td>\n",
       "      <td>-0.558491</td>\n",
       "      <td>-1.810507</td>\n",
       "    </tr>\n",
       "    <tr>\n",
       "      <th>C</th>\n",
       "      <td>0.743375</td>\n",
       "      <td>-2.188916</td>\n",
       "      <td>10.856285</td>\n",
       "      <td>5.761551</td>\n",
       "    </tr>\n",
       "    <tr>\n",
       "      <th>D</th>\n",
       "      <td>-9.094062</td>\n",
       "      <td>-0.690247</td>\n",
       "      <td>2.699198</td>\n",
       "      <td>-8.876411</td>\n",
       "    </tr>\n",
       "    <tr>\n",
       "      <th>E</th>\n",
       "      <td>6.574383</td>\n",
       "      <td>-2.367240</td>\n",
       "      <td>-5.461150</td>\n",
       "      <td>-1.250137</td>\n",
       "    </tr>\n",
       "  </tbody>\n",
       "</table>\n",
       "</div>"
      ],
      "text/plain": [
       "          w         x          y         z\n",
       "A  1.381329 -9.273140   3.119506  5.726556\n",
       "B  5.185952  9.433195  -0.558491 -1.810507\n",
       "C  0.743375 -2.188916  10.856285  5.761551\n",
       "D -9.094062 -0.690247   2.699198 -8.876411\n",
       "E  6.574383 -2.367240  -5.461150 -1.250137"
      ]
     },
     "execution_count": 278,
     "metadata": {},
     "output_type": "execute_result"
    }
   ],
   "source": [
    "df"
   ]
  },
  {
   "cell_type": "code",
   "execution_count": null,
   "metadata": {},
   "outputs": [],
   "source": []
  }
 ],
 "metadata": {
  "celltoolbar": "Slideshow",
  "kernelspec": {
   "display_name": "Python 3.8.8 64-bit ('cam')",
   "language": "python",
   "name": "python388jvsc74a57bd0acafb728b15233fa3654ff8b422c21865df0ca42ea3b74670e1f2f098ebd61ca"
  },
  "language_info": {
   "codemirror_mode": {
    "name": "ipython",
    "version": 3
   },
   "file_extension": ".py",
   "mimetype": "text/x-python",
   "name": "python",
   "nbconvert_exporter": "python",
   "pygments_lexer": "ipython3",
   "version": "3.8.8"
  }
 },
 "nbformat": 4,
 "nbformat_minor": 4
}