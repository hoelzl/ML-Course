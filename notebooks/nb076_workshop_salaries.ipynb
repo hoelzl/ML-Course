{
 "cells": [
  {
   "cell_type": "markdown",
   "id": "dbd6ee3b",
   "metadata": {},
   "source": [
    "# 078a - Workshop: Salaries\n",
    "\n",
    "The module `mlcourse.data.generators.fake_salary` contains a number of synthetic datasets\n",
    "that represent salary as a function of ages and education level, or ages and profession.\n",
    "\n",
    "Analyze how `linear_salaries`, `stepwise_salaries`, `interpolated_salaries` and `multivar_salaries` depend on `ages` and `education_levels` and train regression models (at least linear and decision tree models) that model these dependencies.\n",
    "\n",
    "Do the same for `multidist_ages`, `professions`, and `multidist_salaries`.\n",
    "\n",
    "*Hint:* The `fake_salary` module contains a number of plots that show the relatinships; to display them run the file as main module or interactively in VS Code. Please try to solve the exercises yourself before looking at the plots."
   ]
  },
  {
   "cell_type": "code",
   "execution_count": null,
   "id": "8766d471",
   "metadata": {},
   "outputs": [],
   "source": [
    "import matplotlib.pyplot as plt"
   ]
  },
  {
   "cell_type": "code",
   "execution_count": null,
   "id": "e0c092b7",
   "metadata": {},
   "outputs": [],
   "source": [
    "from mlcourse.data.generators.fake_salary import (\n",
    "    ages,\n",
    "    education_levels,\n",
    "    \n",
    "    linear_salaries, \n",
    "    stepwise_salaries, \n",
    "    interpolated_salaries, \n",
    "    multivar_salaries,\n",
    "    \n",
    "    multidist_ages,\n",
    "    professions,\n",
    "    \n",
    "    multidist_salaries,\n",
    ")"
   ]
  },
  {
   "cell_type": "code",
   "execution_count": null,
   "id": "0b4fe8d9",
   "metadata": {},
   "outputs": [],
   "source": [
    "ages.shape, education_levels.shape"
   ]
  },
  {
   "cell_type": "code",
   "execution_count": null,
   "id": "bc70a295",
   "metadata": {},
   "outputs": [],
   "source": [
    "(linear_salaries.shape,\n",
    " stepwise_salaries.shape,\n",
    " interpolated_salaries.shape,\n",
    " multivar_salaries.shape)"
   ]
  },
  {
   "cell_type": "code",
   "execution_count": null,
   "id": "cfaba05c",
   "metadata": {},
   "outputs": [],
   "source": []
  }
 ],
 "metadata": {
  "kernelspec": {
   "display_name": "Python 3 (ipykernel)",
   "language": "python",
   "name": "python3"
  }
 },
 "nbformat": 4,
 "nbformat_minor": 5
}
