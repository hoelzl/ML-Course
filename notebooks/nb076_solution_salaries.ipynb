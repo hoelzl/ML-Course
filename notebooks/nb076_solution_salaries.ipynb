{
 "cells": [
  {
   "cell_type": "code",
   "execution_count": null,
   "id": "3cddee94",
   "metadata": {},
   "outputs": [],
   "source": [
    "from pprint import pprint\n",
    "\n",
    "import matplotlib.pyplot as plt\n",
    "import numpy as np\n",
    "import pandas as pd\n",
    "import seaborn as sns\n",
    "from nbex.interactive import session\n",
    "from numpy.random import default_rng\n",
    "\n",
    "from mlcourse.data.generators.fake_salary import (\n",
    "    ages,\n",
    "    education_levels,\n",
    "    \n",
    "    linear_salaries, \n",
    "    stepwise_salaries, \n",
    "    interpolated_salaries, \n",
    "    multivar_salaries,\n",
    "    \n",
    "    multidist_ages,\n",
    "    professions,\n",
    "    \n",
    "    multidist_salaries,\n",
    ")"
   ]
  },
  {
   "cell_type": "code",
   "execution_count": null,
   "id": "18f0974f",
   "metadata": {},
   "outputs": [],
   "source": [
    "sns.set_theme(style=\"darkgrid\")"
   ]
  },
  {
   "cell_type": "code",
   "execution_count": null,
   "id": "ce95e94b",
   "metadata": {},
   "outputs": [],
   "source": [
    "sns.scatterplot(x=ages[:500], y=linear_salaries[:500]);"
   ]
  },
  {
   "cell_type": "code",
   "execution_count": null,
   "id": "e13202cb",
   "metadata": {},
   "outputs": [],
   "source": [
    "sns.scatterplot(x=ages, y=linear_salaries, alpha=0.15);"
   ]
  },
  {
   "cell_type": "code",
   "execution_count": null,
   "id": "0be57627",
   "metadata": {},
   "outputs": [],
   "source": [
    "sns.regplot(x=ages[:500], y=linear_salaries[:500], line_kws={\"color\": \"red\"})"
   ]
  },
  {
   "cell_type": "code",
   "execution_count": null,
   "id": "5a72ad33",
   "metadata": {
    "lines_to_next_cell": 2
   },
   "outputs": [],
   "source": [
    "# Salaries approximately taken from\n",
    "# https://www.indeed.com/career-advice/pay-salary/average-salary-by-age"
   ]
  },
  {
   "cell_type": "code",
   "execution_count": null,
   "id": "91865a78",
   "metadata": {
    "lines_to_next_cell": 2
   },
   "outputs": [],
   "source": [
    "sns.scatterplot(x=ages[:500], y=interpolated_salaries[:500]);"
   ]
  },
  {
   "cell_type": "code",
   "execution_count": null,
   "id": "b0db1401",
   "metadata": {
    "lines_to_next_cell": 2
   },
   "outputs": [],
   "source": [
    "sns.scatterplot(x=ages, y=interpolated_salaries, alpha=0.15);"
   ]
  },
  {
   "cell_type": "code",
   "execution_count": null,
   "id": "4505fe8e",
   "metadata": {},
   "outputs": [],
   "source": [
    "sns.scatterplot(x=ages, y=linear_salaries, alpha=0.15)\n",
    "sns.scatterplot(x=ages, y=stepwise_salaries, alpha=0.15)\n",
    "sns.scatterplot(x=ages, y=interpolated_salaries, alpha=0.15)"
   ]
  },
  {
   "cell_type": "code",
   "execution_count": null,
   "id": "f63df69c",
   "metadata": {},
   "outputs": [],
   "source": [
    "linear_salaries_df = pd.DataFrame(\n",
    "    {\"age\": np.round(ages), \"salary\": np.round(linear_salaries)}\n",
    ")\n",
    "stepwise_salaries_df = pd.DataFrame(\n",
    "    {\"age\": np.round(ages), \"salary\": np.round(stepwise_salaries)}\n",
    ")\n",
    "interpolated_salaries_df = pd.DataFrame(\n",
    "    {\"age\": np.round(ages), \"salary\": np.round(interpolated_salaries)}\n",
    ")"
   ]
  },
  {
   "cell_type": "code",
   "execution_count": null,
   "id": "8473217b",
   "metadata": {},
   "outputs": [],
   "source": [
    "linear_salaries_df"
   ]
  },
  {
   "cell_type": "code",
   "execution_count": null,
   "id": "9fed67c9",
   "metadata": {},
   "outputs": [],
   "source": [
    "sns.scatterplot(data=linear_salaries_df, x=\"age\", y=\"salary\", alpha=0.25)\n",
    "sns.scatterplot(data=stepwise_salaries_df, x=\"age\", y=\"salary\", alpha=0.25)\n",
    "sns.scatterplot(data=interpolated_salaries_df, x=\"age\", y=\"salary\", alpha=0.25);"
   ]
  },
  {
   "cell_type": "code",
   "execution_count": null,
   "id": "bd3c1b30",
   "metadata": {},
   "outputs": [],
   "source": [
    "sns.scatterplot(x=ages, y=multivar_salaries, hue=education_levels)"
   ]
  },
  {
   "cell_type": "code",
   "execution_count": null,
   "id": "b227368f",
   "metadata": {},
   "outputs": [],
   "source": [
    "multivar_salaries_df = pd.DataFrame(\n",
    "    {\"age\": np.round(ages), \"edu_lvl\": education_levels, \"salary\": multivar_salaries}\n",
    ")"
   ]
  },
  {
   "cell_type": "code",
   "execution_count": null,
   "id": "1d5e5de1",
   "metadata": {},
   "outputs": [],
   "source": [
    "sns.scatterplot(\n",
    "    data=multivar_salaries_df, x=\"age\", y=\"salary\", hue=\"edu_lvl\", alpha=0.25\n",
    ")"
   ]
  },
  {
   "cell_type": "code",
   "execution_count": null,
   "id": "688b3ea7",
   "metadata": {},
   "outputs": [],
   "source": [
    "sns.pairplot(data=multivar_salaries_df);"
   ]
  },
  {
   "cell_type": "code",
   "execution_count": null,
   "id": "f34f7658",
   "metadata": {},
   "outputs": [],
   "source": [
    "grid = sns.pairplot(\n",
    "    data=multivar_salaries_df,\n",
    "    vars=[\"age\", \"salary\", \"edu_lvl\"],\n",
    "    hue=\"edu_lvl\",\n",
    "    diag_kind=\"hist\",\n",
    "    height=3,\n",
    "    aspect=1,\n",
    ")"
   ]
  },
  {
   "cell_type": "code",
   "execution_count": null,
   "id": "03649a10",
   "metadata": {},
   "outputs": [],
   "source": [
    "sns.scatterplot(x=multidist_ages, y=multidist_salaries, alpha=0.15);"
   ]
  },
  {
   "cell_type": "code",
   "execution_count": null,
   "id": "a6ae1c76",
   "metadata": {},
   "outputs": [],
   "source": [
    "fig, ax = plt.subplots(figsize=(9, 8))\n",
    "sns.scatterplot(\n",
    "    x=multidist_ages,\n",
    "    y=multidist_salaries,\n",
    "    hue=professions,\n",
    "    style=professions,\n",
    "    # palette=\"flare\",\n",
    "    ax=ax,\n",
    "    alpha=0.5,\n",
    ");"
   ]
  },
  {
   "cell_type": "code",
   "execution_count": null,
   "id": "12f3084d",
   "metadata": {
    "lines_to_next_cell": 2
   },
   "outputs": [],
   "source": [
    "if session.is_interactive:\n",
    "    fig, ax = plt.subplots(figsize=(9, 8))\n",
    "    sns.scatterplot(\n",
    "        x=multidist_ages,\n",
    "        y=multidist_salaries,\n",
    "        hue=professions,\n",
    "        # style=professions,\n",
    "        # palette=\"coolwarm\",\n",
    "        # palette=\"seismic\",\n",
    "        palette=\"gist_rainbow\",\n",
    "        ax=ax,\n",
    "        alpha=0.5,\n",
    "    )"
   ]
  },
  {
   "cell_type": "code",
   "execution_count": null,
   "id": "44686a3d",
   "metadata": {},
   "outputs": [],
   "source": [
    "multidist_salaries_df = pd.DataFrame(\n",
    "    {\n",
    "        \"age\": np.round(multidist_ages),\n",
    "        \"profession\": professions,\n",
    "        \"salary\": np.round(multidist_salaries),\n",
    "    }\n",
    ")"
   ]
  },
  {
   "cell_type": "code",
   "execution_count": null,
   "id": "289860b0",
   "metadata": {
    "lines_to_next_cell": 2
   },
   "outputs": [],
   "source": [
    "if session.is_interactive:\n",
    "    fig, ax = plt.subplots(figsize=(9, 8))\n",
    "    sns.scatterplot(\n",
    "        data=multidist_salaries_df,\n",
    "        x=\"age\",\n",
    "        y=\"salary\",\n",
    "        hue=\"profession\",\n",
    "        palette=\"gist_rainbow\",\n",
    "        ax=ax,\n",
    "        alpha=0.5,\n",
    "    )"
   ]
  },
  {
   "cell_type": "code",
   "execution_count": null,
   "id": "abe74777",
   "metadata": {},
   "outputs": [],
   "source": [
    "if session.is_interactive:\n",
    "    fig, axes = plt.subplots(\n",
    "        ncols=2,\n",
    "        nrows=3,\n",
    "        figsize=(9, 9),\n",
    "        # sharex=True,\n",
    "        sharey=True,\n",
    "        gridspec_kw={\"hspace\": 0.5, \"wspace\": 0.2},\n",
    "    )\n",
    "    for row in range(3):\n",
    "        for col in range(2):\n",
    "            profession = col + 2 * row\n",
    "            ax = axes[row, col]\n",
    "            ax.set_title(f\"profession={profession}\")\n",
    "            sns.scatterplot(\n",
    "                data=multidist_salaries_df.loc[\n",
    "                    multidist_salaries_df[\"profession\"] == profession\n",
    "                ],\n",
    "                x=\"age\",\n",
    "                y=\"salary\",\n",
    "                ax=ax,\n",
    "                alpha=0.25,\n",
    "            )"
   ]
  },
  {
   "cell_type": "code",
   "execution_count": null,
   "id": "af66351f",
   "metadata": {},
   "outputs": [],
   "source": [
    "if session.is_interactive:\n",
    "    sns.pairplot(data=multidist_salaries_df)"
   ]
  },
  {
   "cell_type": "code",
   "execution_count": null,
   "id": "81002c54",
   "metadata": {},
   "outputs": [],
   "source": []
  },
  {
   "cell_type": "code",
   "execution_count": null,
   "id": "562310c5",
   "metadata": {},
   "outputs": [],
   "source": [
    "if session.is_interactive:\n",
    "    grid = sns.pairplot(\n",
    "        data=multidist_salaries_df, hue=\"profession\", height=2, aspect=2\n",
    "    )"
   ]
  },
  {
   "cell_type": "code",
   "execution_count": null,
   "id": "da6bba81",
   "metadata": {},
   "outputs": [],
   "source": []
  }
 ],
 "metadata": {
  "jupytext": {
   "cell_metadata_filter": "-all",
   "main_language": "python",
   "notebook_metadata_filter": "-all"
  }
 },
 "nbformat": 4,
 "nbformat_minor": 5
}
