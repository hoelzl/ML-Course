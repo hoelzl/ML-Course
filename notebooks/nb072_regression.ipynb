{
 "cells": [
  {
   "cell_type": "markdown",
   "id": "ab648724",
   "metadata": {
    "slideshow": {
     "slide_type": "slide"
    }
   },
   "source": [
    "# Investigating Regression Models"
   ]
  },
  {
   "cell_type": "code",
   "execution_count": null,
   "id": "4841d064",
   "metadata": {
    "slideshow": {
     "slide_type": "subslide"
    }
   },
   "outputs": [],
   "source": [
    "import numpy as np\n",
    "import matplotlib.pyplot as plt\n",
    "import seaborn as sns\n",
    "\n",
    "sns.set_theme()"
   ]
  },
  {
   "cell_type": "code",
   "execution_count": null,
   "id": "3883f939",
   "metadata": {
    "slideshow": {
     "slide_type": "subslide"
    }
   },
   "outputs": [],
   "source": [
    "rng = np.random.default_rng(42)\n",
    "x = rng.uniform(size=(150, 1), low=0.0, high=10.0)"
   ]
  },
  {
   "cell_type": "code",
   "execution_count": null,
   "id": "944b61e3",
   "metadata": {
    "slideshow": {
     "slide_type": "subslide"
    }
   },
   "outputs": [],
   "source": [
    "plt.figure(figsize=(20, 1), frameon=False)\n",
    "plt.yticks([], [])\n",
    "plt.scatter(x, np.zeros_like(x), alpha=0.4);"
   ]
  },
  {
   "cell_type": "code",
   "execution_count": null,
   "id": "ee402b70",
   "metadata": {
    "slideshow": {
     "slide_type": "subslide"
    }
   },
   "outputs": [],
   "source": [
    "def lin(x):\n",
    "    return 0.85 * x - 1.5"
   ]
  },
  {
   "cell_type": "code",
   "execution_count": null,
   "id": "f8821ea1",
   "metadata": {
    "slideshow": {
     "slide_type": "subslide"
    }
   },
   "outputs": [],
   "source": [
    "def fun(x):\n",
    "    return 2 * np.sin(x) + 0.1 * x ** 2 - 2"
   ]
  },
  {
   "cell_type": "code",
   "execution_count": null,
   "id": "bd1e6992",
   "metadata": {
    "slideshow": {
     "slide_type": "subslide"
    }
   },
   "outputs": [],
   "source": [
    "x_plot = np.linspace(0, 10, 500)\n",
    "plt.figure(figsize=(12, 6))\n",
    "sns.lineplot(x=x_plot, y=lin(x_plot))\n",
    "sns.lineplot(x=x_plot, y=fun(x_plot));"
   ]
  },
  {
   "cell_type": "code",
   "execution_count": null,
   "id": "ce01de05",
   "metadata": {
    "slideshow": {
     "slide_type": "subslide"
    }
   },
   "outputs": [],
   "source": [
    "def randomize(fun, x, scale=0.5):\n",
    "    return fun(x) + rng.normal(size=x.shape, scale=scale)"
   ]
  },
  {
   "cell_type": "code",
   "execution_count": null,
   "id": "43ed1418",
   "metadata": {
    "slideshow": {
     "slide_type": "subslide"
    }
   },
   "outputs": [],
   "source": [
    "x_train, x_test = x[:100], x[100:]"
   ]
  },
  {
   "cell_type": "code",
   "execution_count": null,
   "id": "6baabbcf",
   "metadata": {
    "slideshow": {
     "slide_type": "subslide"
    }
   },
   "outputs": [],
   "source": [
    "y_lin_train = lin(x_train).reshape(-1)\n",
    "y_lin_test = lin(x_test).reshape(-1)\n",
    "y_fun_train = fun(x_train.reshape(-1))\n",
    "y_fun_test = fun(x_test).reshape(-1)"
   ]
  },
  {
   "cell_type": "code",
   "execution_count": null,
   "id": "6295832d",
   "metadata": {
    "slideshow": {
     "slide_type": "subslide"
    }
   },
   "outputs": [],
   "source": [
    "y_rand_lin_train = randomize(lin, x_train).reshape(-1)\n",
    "y_rand_lin_test = randomize(lin, x_test).reshape(-1)\n",
    "y_rand_fun_train = randomize(fun, x_train.reshape(-1))\n",
    "y_rand_fun_test = randomize(fun, x_test).reshape(-1)"
   ]
  },
  {
   "cell_type": "code",
   "execution_count": null,
   "id": "5dc558d7",
   "metadata": {
    "slideshow": {
     "slide_type": "subslide"
    }
   },
   "outputs": [],
   "source": [
    "y_chaos_lin_train = randomize(lin, x_train, 1.5).reshape(-1)\n",
    "y_chaos_lin_test = randomize(lin, x_test, 1.5).reshape(-1)\n",
    "y_chaos_fun_train = randomize(fun, x_train, 1.5).reshape(-1)\n",
    "y_chaos_fun_test = randomize(fun, x_test, 1.5).reshape(-1)"
   ]
  },
  {
   "cell_type": "code",
   "execution_count": null,
   "id": "2ae5fa14",
   "metadata": {
    "slideshow": {
     "slide_type": "subslide"
    }
   },
   "outputs": [],
   "source": [
    "fig, ax = plt.subplots(figsize=(12, 8))\n",
    "sns.lineplot(x=x_train[:, 0], y=y_lin_train, color=\"red\", ax=ax)\n",
    "sns.scatterplot(x=x_train[:, 0], y=y_rand_lin_train, ax=ax)\n",
    "sns.scatterplot(x=x_train[:, 0], y=y_chaos_lin_train, ax=ax);"
   ]
  },
  {
   "cell_type": "code",
   "execution_count": null,
   "id": "16ffc45b",
   "metadata": {
    "slideshow": {
     "slide_type": "subslide"
    }
   },
   "outputs": [],
   "source": [
    "fig, ax = plt.subplots(figsize=(12, 8))\n",
    "sns.lineplot(x=x_train[:, 0], y=y_fun_train, color=\"red\", ax=ax)\n",
    "sns.scatterplot(x=x_train[:, 0], y=y_rand_fun_train, ax=ax)\n",
    "sns.scatterplot(x=x_train[:, 0], y=y_chaos_fun_train, ax=ax);"
   ]
  },
  {
   "cell_type": "markdown",
   "id": "eea836c0",
   "metadata": {
    "slideshow": {
     "slide_type": "slide"
    }
   },
   "source": [
    "\n",
    " ## Linear Regression"
   ]
  },
  {
   "cell_type": "code",
   "execution_count": null,
   "id": "e8dddf6d",
   "metadata": {
    "slideshow": {
     "slide_type": "subslide"
    }
   },
   "outputs": [],
   "source": [
    "from sklearn.linear_model import LinearRegression"
   ]
  },
  {
   "cell_type": "code",
   "execution_count": null,
   "id": "4dd3d69d",
   "metadata": {
    "slideshow": {
     "slide_type": "subslide"
    }
   },
   "outputs": [],
   "source": [
    "lr_lin = LinearRegression()\n",
    "lr_rand_lin = LinearRegression()\n",
    "lr_chaos_lin = LinearRegression()"
   ]
  },
  {
   "cell_type": "code",
   "execution_count": null,
   "id": "11dbcb19",
   "metadata": {
    "slideshow": {
     "slide_type": "subslide"
    }
   },
   "outputs": [],
   "source": [
    "lr_lin.fit(x_train, y_lin_train)\n",
    "lr_rand_lin.fit(x_train, y_rand_lin_train)\n",
    "lr_chaos_lin.fit(x_train, y_chaos_lin_train);"
   ]
  },
  {
   "cell_type": "code",
   "execution_count": null,
   "id": "5d80abea",
   "metadata": {
    "slideshow": {
     "slide_type": "subslide"
    }
   },
   "outputs": [],
   "source": [
    "print(\"lr_lin\", lr_lin.coef_, lr_lin.intercept_)\n",
    "print(\"lr_rand_lin\", lr_rand_lin.coef_, lr_rand_lin.intercept_)\n",
    "print(\"lr_chaos_lin\", lr_chaos_lin.coef_, lr_chaos_lin.intercept_)"
   ]
  },
  {
   "cell_type": "code",
   "execution_count": null,
   "id": "f057d741",
   "metadata": {
    "slideshow": {
     "slide_type": "subslide"
    }
   },
   "outputs": [],
   "source": [
    "y_lr_lin_pred = lr_lin.predict(x_test)\n",
    "y_lr_rand_lin_pred = lr_rand_lin.predict(x_test)\n",
    "y_lr_chaos_lin_pred = lr_chaos_lin.predict(x_test)"
   ]
  },
  {
   "cell_type": "code",
   "execution_count": null,
   "id": "8657bcb7",
   "metadata": {
    "slideshow": {
     "slide_type": "subslide"
    }
   },
   "outputs": [],
   "source": [
    "fig, ax = plt.subplots(figsize=(12, 8))\n",
    "sns.lineplot(x=x_test[:, 0], y=y_lr_lin_pred, ax=ax)\n",
    "sns.scatterplot(x=x_test[:, 0], y=y_lin_test, ax=ax)\n",
    "\n",
    "sns.lineplot(x=x_test[:, 0], y=y_lr_rand_lin_pred, ax=ax)\n",
    "sns.scatterplot(x=x_test[:, 0], y=y_rand_lin_test, ax=ax)\n",
    "\n",
    "sns.lineplot(x=x_test[:, 0], y=y_lr_chaos_lin_pred, ax=ax)\n",
    "sns.scatterplot(x=x_test[:, 0], y=y_chaos_lin_test, ax=ax);"
   ]
  },
  {
   "cell_type": "code",
   "execution_count": null,
   "id": "1d313567",
   "metadata": {
    "slideshow": {
     "slide_type": "subslide"
    }
   },
   "outputs": [],
   "source": [
    "from sklearn.metrics import mean_absolute_error, mean_squared_error"
   ]
  },
  {
   "cell_type": "code",
   "execution_count": null,
   "id": "075b79bc",
   "metadata": {
    "slideshow": {
     "slide_type": "subslide"
    }
   },
   "outputs": [],
   "source": [
    "mae_lin = mean_absolute_error(y_lin_test, y_lr_lin_pred)\n",
    "mae_rand_lin = mean_absolute_error(y_rand_lin_test, y_lr_rand_lin_pred)\n",
    "mae_chaos_lin = mean_absolute_error(y_chaos_lin_test, y_lr_chaos_lin_pred)\n",
    "\n",
    "mse_lin = mean_squared_error(y_lin_test, y_lr_lin_pred)\n",
    "mse_rand_lin = mean_squared_error(y_rand_lin_test, y_lr_rand_lin_pred)\n",
    "mse_chaos_lin = mean_squared_error(y_chaos_lin_test, y_lr_chaos_lin_pred)\n",
    "\n",
    "rmse_lin = np.sqrt(mean_squared_error(y_lin_test, y_lr_lin_pred))\n",
    "rmse_rand_lin = np.sqrt(mean_squared_error(y_rand_lin_test, y_lr_rand_lin_pred))\n",
    "rmse_chaos_lin = np.sqrt(mean_squared_error(y_chaos_lin_test, y_lr_chaos_lin_pred))\n",
    "\n",
    "print(\n",
    "    \"No randomness:      \"\n",
    "    f\"MAE = {mae_lin:.2f}, MSE = {mse_lin:.2f}, RMSE = {rmse_lin:.2f}\"\n",
    ")\n",
    "print(\n",
    "    \"Some randomness:    \"\n",
    "    f\"MAE = {mae_rand_lin:.2f}, MSE = {mse_rand_lin:.2f}, RMSE = {rmse_rand_lin:.2f}\"\n",
    ")\n",
    "print(\n",
    "    \"Lots of randomness: \"\n",
    "    f\"MAE = {mae_chaos_lin:.2f}, MSE = {mse_chaos_lin:.2f}, RMSE = {rmse_chaos_lin:.2f}\"\n",
    ")"
   ]
  },
  {
   "cell_type": "markdown",
   "id": "b233d522",
   "metadata": {
    "slideshow": {
     "slide_type": "subslide"
    }
   },
   "source": [
    "\n",
    " ## Defining an Evaluation Function"
   ]
  },
  {
   "cell_type": "code",
   "execution_count": null,
   "id": "949e8cb5",
   "metadata": {
    "slideshow": {
     "slide_type": "subslide"
    }
   },
   "outputs": [],
   "source": [
    "def evaluate_non_random_regressor(reg_type, f_y, *args, **kwargs):\n",
    "    reg = reg_type(*args, **kwargs)\n",
    "\n",
    "    y_train = f_y(x_train).reshape(-1)\n",
    "    y_test = f_y(x_test).reshape(-1)\n",
    "\n",
    "    reg.fit(x_train, y_train)\n",
    "    y_pred = reg.predict(x_test)\n",
    "\n",
    "    x_plot = np.linspace(0, 10, 500).reshape(-1, 1)\n",
    "    fig, ax = plt.subplots(figsize=(12, 6))\n",
    "    sns.lineplot(x=x_plot[:, 0], y=reg.predict(x_plot), ax=ax)\n",
    "    sns.lineplot(x=x_plot[:, 0], y=f_y(x_plot[:, 0]), ax=ax)\n",
    "    sns.scatterplot(x=x_train[:, 0], y=y_train, ax=ax)\n",
    "    plt.show()\n",
    "\n",
    "    mae = mean_absolute_error(y_test, y_pred)\n",
    "    mse = mean_squared_error(y_test, y_pred)\n",
    "    rmse = np.sqrt(mean_squared_error(y_test, y_pred))\n",
    "    print(\n",
    "        \"\\nNo randomness:      \" f\"MAE = {mae:.2f}, MSE = {mse:.2f}, RMSE = {rmse:.2f}\"\n",
    "    )\n",
    "\n",
    "    return reg"
   ]
  },
  {
   "cell_type": "code",
   "execution_count": null,
   "id": "e6012cf6",
   "metadata": {
    "slideshow": {
     "slide_type": "subslide"
    }
   },
   "outputs": [],
   "source": [
    "evaluate_non_random_regressor(LinearRegression, fun);"
   ]
  },
  {
   "cell_type": "markdown",
   "id": "bf7287c0",
   "metadata": {
    "slideshow": {
     "slide_type": "subslide"
    }
   },
   "source": [
    "### Underfitting\n",
    " \n",
    "Underfitting occurs when the model is not able to fit the training data."
   ]
  },
  {
   "cell_type": "code",
   "execution_count": null,
   "id": "327cd2f2",
   "metadata": {
    "slideshow": {
     "slide_type": "subslide"
    }
   },
   "outputs": [],
   "source": [
    "def plot_graphs(f_y, reg, reg_rand, reg_chaos, y_train, y_rand_test, y_chaos_test):\n",
    "    x_plot = np.linspace(0, 10, 500).reshape(-1, 1)\n",
    "    fig, ax = plt.subplots(figsize=(12, 8))\n",
    "    sns.lineplot(x=x_plot[:, 0], y=reg.predict(x_plot), ax=ax)\n",
    "    sns.scatterplot(x=x_train[:, 0], y=y_train, ax=ax)\n",
    "\n",
    "    sns.lineplot(x=x_plot[:, 0], y=reg_rand.predict(x_plot), ax=ax)\n",
    "    sns.scatterplot(x=x_test[:, 0], y=y_rand_test, ax=ax)\n",
    "\n",
    "    sns.lineplot(x=x_plot[:, 0], y=reg_chaos.predict(x_plot), ax=ax)\n",
    "    sns.scatterplot(x=x_test[:, 0], y=y_chaos_test, ax=ax)\n",
    "\n",
    "    sns.lineplot(x=x_plot[:, 0], y=f_y(x_plot[:, 0]), ax=ax)\n",
    "    plt.show()   "
   ]
  },
  {
   "cell_type": "code",
   "execution_count": null,
   "id": "27c6045a",
   "metadata": {
    "slideshow": {
     "slide_type": "subslide"
    }
   },
   "outputs": [],
   "source": [
    "def print_evaluation(y_test, y_pred, y_rand_test, y_rand_pred, y_chaos_test, y_chaos_pred):\n",
    "    mae = mean_absolute_error(y_test, y_pred)\n",
    "    mae_rand = mean_absolute_error(y_rand_test, y_rand_pred)\n",
    "    mae_chaos = mean_absolute_error(y_chaos_test, y_chaos_pred)\n",
    "\n",
    "    mse = mean_squared_error(y_test, y_pred)\n",
    "    mse_rand = mean_squared_error(y_rand_test, y_rand_pred)\n",
    "    mse_chaos = mean_squared_error(y_chaos_test, y_chaos_pred)\n",
    "\n",
    "    rmse = np.sqrt(mean_squared_error(y_test, y_pred))\n",
    "    rmse_rand = np.sqrt(mean_squared_error(y_rand_test, y_rand_pred))\n",
    "    rmse_chaos = np.sqrt(mean_squared_error(y_chaos_test, y_chaos_pred))\n",
    "\n",
    "    print(\n",
    "        \"\\nNo randomness:      \" f\"MAE = {mae:.2f}, MSE = {mse:.2f}, RMSE = {rmse:.2f}\"\n",
    "    )\n",
    "    print(\n",
    "        \"Some randomness:    \"\n",
    "        f\"MAE = {mae_rand:.2f}, MSE = {mse_rand:.2f}, RMSE = {rmse_rand:.2f}\"\n",
    "    )\n",
    "    print(\n",
    "        \"Lots of randomness: \"\n",
    "        f\"MAE = {mae_chaos:.2f}, MSE = {mse_chaos:.2f}, RMSE = {rmse_chaos:.2f}\"\n",
    "    )"
   ]
  },
  {
   "cell_type": "code",
   "execution_count": null,
   "id": "48f08496",
   "metadata": {
    "slideshow": {
     "slide_type": "subslide"
    }
   },
   "outputs": [],
   "source": [
    "def evaluate_regressor(reg_type, f_y, *args, **kwargs):\n",
    "    reg = reg_type(*args, **kwargs)\n",
    "    reg_rand = reg_type(*args, **kwargs)\n",
    "    reg_chaos = reg_type(*args, **kwargs)\n",
    "    \n",
    "    y_train = f_y(x_train).reshape(-1)\n",
    "    y_test = f_y(x_test).reshape(-1)\n",
    "    y_pred = reg.fit(x_train, y_train).predict(x_test)\n",
    "    \n",
    "    y_rand_train = randomize(f_y, x_train).reshape(-1)\n",
    "    y_rand_test = randomize(f_y, x_test).reshape(-1)\n",
    "    y_rand_pred = reg_rand.fit(x_train, y_rand_train).predict(x_test)\n",
    "\n",
    "    y_chaos_train = randomize(f_y, x_train, 1.5).reshape(-1)\n",
    "    y_chaos_test = randomize(f_y, x_test, 1.5).reshape(-1)\n",
    "    y_chaos_pred = reg_chaos.fit(x_train, y_chaos_train).predict(x_test)\n",
    "\n",
    "    plot_graphs(f_y, reg, reg_rand, reg_chaos, y_train, y_rand_test, y_chaos_test)\n",
    "    print_evaluation(y_test, y_pred, y_rand_test, y_rand_pred, y_chaos_test, y_chaos_pred)"
   ]
  },
  {
   "cell_type": "code",
   "execution_count": null,
   "id": "3ed8e588",
   "metadata": {
    "slideshow": {
     "slide_type": "subslide"
    }
   },
   "outputs": [],
   "source": [
    "evaluate_regressor(LinearRegression, lin)"
   ]
  },
  {
   "cell_type": "code",
   "execution_count": null,
   "id": "79be222e",
   "metadata": {
    "slideshow": {
     "slide_type": "subslide"
    }
   },
   "outputs": [],
   "source": [
    "evaluate_regressor(LinearRegression, fun)"
   ]
  },
  {
   "cell_type": "markdown",
   "id": "1a62c574",
   "metadata": {
    "slideshow": {
     "slide_type": "slide"
    }
   },
   "source": [
    "## Stochastic Gradient Descent"
   ]
  },
  {
   "cell_type": "code",
   "execution_count": null,
   "id": "fce22502",
   "metadata": {
    "slideshow": {
     "slide_type": "subslide"
    }
   },
   "outputs": [],
   "source": [
    "from sklearn.linear_model import SGDRegressor"
   ]
  },
  {
   "cell_type": "code",
   "execution_count": null,
   "id": "51882b8a",
   "metadata": {
    "slideshow": {
     "slide_type": "subslide"
    }
   },
   "outputs": [],
   "source": [
    "evaluate_regressor(SGDRegressor, lin)"
   ]
  },
  {
   "cell_type": "code",
   "execution_count": null,
   "id": "c9f03321",
   "metadata": {
    "slideshow": {
     "slide_type": "subslide"
    }
   },
   "outputs": [],
   "source": [
    "evaluate_regressor(SGDRegressor, fun)"
   ]
  },
  {
   "cell_type": "markdown",
   "id": "9712fa29",
   "metadata": {
    "slideshow": {
     "slide_type": "subslide"
    }
   },
   "source": [
    "### Unnormalized Data\n",
    " \n",
    "Stochastic gradient descent can sometimes run into trouble when different features are of different magnitudes."
   ]
  },
  {
   "cell_type": "markdown",
   "id": "5693d474",
   "metadata": {
    "slideshow": {
     "slide_type": "slide"
    }
   },
   "source": [
    "## Nearest Neighbors\n",
    "\n",
    "<img src=\"img/KnnClassification.svg\" style=\"width: 40%; margin-left: auto; margin-right: auto;\"/>"
   ]
  },
  {
   "cell_type": "code",
   "execution_count": null,
   "id": "a9ed67e6",
   "metadata": {
    "slideshow": {
     "slide_type": "subslide"
    }
   },
   "outputs": [],
   "source": [
    "from sklearn.neighbors import KNeighborsRegressor"
   ]
  },
  {
   "cell_type": "code",
   "execution_count": null,
   "id": "7cad0a3b",
   "metadata": {
    "slideshow": {
     "slide_type": "subslide"
    }
   },
   "outputs": [],
   "source": [
    "evaluate_non_random_regressor(KNeighborsRegressor, lin);"
   ]
  },
  {
   "cell_type": "code",
   "execution_count": null,
   "id": "02772096",
   "metadata": {
    "slideshow": {
     "slide_type": "subslide"
    }
   },
   "outputs": [],
   "source": [
    "evaluate_non_random_regressor(KNeighborsRegressor, lin, n_neighbors=1);"
   ]
  },
  {
   "cell_type": "code",
   "execution_count": null,
   "id": "6e1414d7",
   "metadata": {
    "slideshow": {
     "slide_type": "subslide"
    }
   },
   "outputs": [],
   "source": [
    "evaluate_non_random_regressor(KNeighborsRegressor, lin, n_neighbors=2);"
   ]
  },
  {
   "cell_type": "code",
   "execution_count": null,
   "id": "f18db3a5",
   "metadata": {
    "slideshow": {
     "slide_type": "subslide"
    }
   },
   "outputs": [],
   "source": [
    "evaluate_non_random_regressor(KNeighborsRegressor, lin, n_neighbors=50);"
   ]
  },
  {
   "cell_type": "code",
   "execution_count": null,
   "id": "8c30d5df",
   "metadata": {
    "slideshow": {
     "slide_type": "subslide"
    }
   },
   "outputs": [],
   "source": [
    "evaluate_regressor(KNeighborsRegressor, lin)"
   ]
  },
  {
   "cell_type": "code",
   "execution_count": null,
   "id": "05d2c3b5",
   "metadata": {
    "slideshow": {
     "slide_type": "subslide"
    }
   },
   "outputs": [],
   "source": [
    "evaluate_regressor(KNeighborsRegressor, fun)"
   ]
  },
  {
   "cell_type": "markdown",
   "id": "4609510a",
   "metadata": {
    "slideshow": {
     "slide_type": "slide"
    }
   },
   "source": [
    "## Decision Trees"
   ]
  },
  {
   "cell_type": "markdown",
   "id": "dbbbdc09",
   "metadata": {
    "slideshow": {
     "slide_type": "subslide"
    }
   },
   "source": [
    "## Training Decision Trees\n",
    "\n",
    "- (Conceptually) build a nested `if`-`then`-`else` statement \n",
    "- Each test compares one feature against a value\n",
    "- Minimize some *loss function* (e.g., mean squared error)\n",
    "\n",
    "```python\n",
    "if feature_1 < 1.2:\n",
    "    if feature_2 < 3.0:\n",
    "        if feature_1 < 0.2:\n",
    "            return 25_324\n",
    "        else:\n",
    "            return 17_145\n",
    "    else:\n",
    "        ...\n",
    "else:\n",
    "    ...\n",
    "```"
   ]
  },
  {
   "cell_type": "code",
   "execution_count": null,
   "id": "3a06d758",
   "metadata": {
    "slideshow": {
     "slide_type": "subslide"
    }
   },
   "outputs": [],
   "source": [
    "x_plot = np.linspace(0, 10, 500)\n",
    "plt.figure(figsize=(12, 4))\n",
    "sns.lineplot(x=x_plot, y=fun(x_plot));"
   ]
  },
  {
   "cell_type": "code",
   "execution_count": null,
   "id": "53ba74c2",
   "metadata": {
    "slideshow": {
     "slide_type": "subslide"
    }
   },
   "outputs": [],
   "source": [
    "from sklearn.metrics import mean_squared_error\n",
    "x_plot = np.linspace(0, 10, 500)\n",
    "y_plot = np.ones_like(x_plot) * 1.5\n",
    "print(mean_squared_error(fun(x_plot), y_plot))"
   ]
  },
  {
   "cell_type": "code",
   "execution_count": null,
   "id": "9a1043a7",
   "metadata": {
    "slideshow": {
     "slide_type": "subslide"
    }
   },
   "outputs": [],
   "source": [
    "plt.figure(figsize=(12, 4))\n",
    "sns.lineplot(x=x_plot, y=fun(x_plot))\n",
    "sns.lineplot(x=x_plot, y=y_plot);"
   ]
  },
  {
   "cell_type": "code",
   "execution_count": null,
   "id": "80161303",
   "metadata": {
    "slideshow": {
     "slide_type": "subslide"
    }
   },
   "outputs": [],
   "source": [
    "def approx(x):\n",
    "    if x < 6.2:\n",
    "        return -0.5\n",
    "    else:\n",
    "        return 5.5"
   ]
  },
  {
   "cell_type": "code",
   "execution_count": null,
   "id": "766a74cb",
   "metadata": {},
   "outputs": [],
   "source": [
    "approx(4), approx(8)"
   ]
  },
  {
   "cell_type": "code",
   "execution_count": null,
   "id": "cb339f3a",
   "metadata": {},
   "outputs": [],
   "source": [
    "list(map(approx, np.arange(4, 10)))"
   ]
  },
  {
   "cell_type": "code",
   "execution_count": null,
   "id": "6323fd69",
   "metadata": {
    "slideshow": {
     "slide_type": "subslide"
    }
   },
   "outputs": [],
   "source": [
    "x_plot = np.linspace(0, 10, 500)\n",
    "y_plot = list(map(approx, x_plot))\n",
    "print(mean_squared_error(fun(x_plot), y_plot))"
   ]
  },
  {
   "cell_type": "code",
   "execution_count": null,
   "id": "ef99c6cd",
   "metadata": {
    "slideshow": {
     "slide_type": "subslide"
    }
   },
   "outputs": [],
   "source": [
    "plt.figure(figsize=(12, 4))\n",
    "sns.lineplot(x=x_plot, y=fun(x_plot))\n",
    "sns.lineplot(x=x_plot, y=y_plot);"
   ]
  },
  {
   "cell_type": "code",
   "execution_count": null,
   "id": "8b0e39db",
   "metadata": {
    "slideshow": {
     "slide_type": "subslide"
    }
   },
   "outputs": [],
   "source": [
    "plt.figure(figsize=(12, 4))\n",
    "sns.lineplot(x=x_plot, y=fun(x_plot));\n",
    "sns.lineplot(x=x_plot, y=np.select([x_plot<6.2, x_plot>=6.2], [-0.5, 5.5]));"
   ]
  },
  {
   "cell_type": "markdown",
   "id": "881f7515",
   "metadata": {
    "slideshow": {
     "slide_type": "subslide"
    }
   },
   "source": [
    "## Advantages\n",
    "\n",
    "- Simple to understand and visualize\n",
    "- Interpretable\n",
    "- Good for analyzing the dataset (e.g., feature importances, ...)\n",
    "- Robust to statistical variations in the data\n",
    "- Needs little data preparation (not sensitive to mean or standard deviation of features, ...)"
   ]
  },
  {
   "cell_type": "markdown",
   "id": "c57ddb0d",
   "metadata": {
    "slideshow": {
     "slide_type": "subslide"
    }
   },
   "source": [
    "## Disadvantages\n",
    "\n",
    "- Very prone to overfitting\n",
    "- Sensitive to unbalanced data sets\n",
    "- Only discrete predictions with axis-aligned boundaries\n",
    "- Unstable when training data changes (tree may change completely when a single item is added)"
   ]
  },
  {
   "cell_type": "code",
   "execution_count": null,
   "id": "9b883765",
   "metadata": {
    "slideshow": {
     "slide_type": "slide"
    }
   },
   "outputs": [],
   "source": [
    "from sklearn.tree import DecisionTreeRegressor"
   ]
  },
  {
   "cell_type": "code",
   "execution_count": null,
   "id": "5b20eac1",
   "metadata": {
    "slideshow": {
     "slide_type": "subslide"
    }
   },
   "outputs": [],
   "source": [
    "evaluate_non_random_regressor(DecisionTreeRegressor, lin);"
   ]
  },
  {
   "cell_type": "code",
   "execution_count": null,
   "id": "8c5a651c",
   "metadata": {
    "slideshow": {
     "slide_type": "subslide"
    }
   },
   "outputs": [],
   "source": [
    "evaluate_non_random_regressor(DecisionTreeRegressor, fun);"
   ]
  },
  {
   "cell_type": "code",
   "execution_count": null,
   "id": "facf7175",
   "metadata": {
    "slideshow": {
     "slide_type": "subslide"
    }
   },
   "outputs": [],
   "source": [
    "evaluate_non_random_regressor(DecisionTreeRegressor, fun, max_depth=4);"
   ]
  },
  {
   "cell_type": "code",
   "execution_count": null,
   "id": "ea37f824",
   "metadata": {
    "slideshow": {
     "slide_type": "subslide"
    }
   },
   "outputs": [],
   "source": [
    "dt1 = evaluate_non_random_regressor(DecisionTreeRegressor, fun, max_depth=1);"
   ]
  },
  {
   "cell_type": "code",
   "execution_count": null,
   "id": "73e3c1e7",
   "metadata": {
    "slideshow": {
     "slide_type": "subslide"
    }
   },
   "outputs": [],
   "source": [
    "from sklearn.tree import plot_tree;"
   ]
  },
  {
   "cell_type": "code",
   "execution_count": null,
   "id": "bf12763d",
   "metadata": {
    "slideshow": {
     "slide_type": "subslide"
    }
   },
   "outputs": [],
   "source": [
    "fig, ax = plt.subplots(figsize=(12, 4))\n",
    "plot_tree(dt1, ax=ax, precision=1);"
   ]
  },
  {
   "cell_type": "code",
   "execution_count": null,
   "id": "81b04753",
   "metadata": {
    "slideshow": {
     "slide_type": "subslide"
    }
   },
   "outputs": [],
   "source": [
    "dt2 = evaluate_non_random_regressor(DecisionTreeRegressor, fun, max_depth=2);"
   ]
  },
  {
   "cell_type": "code",
   "execution_count": null,
   "id": "f1056e56",
   "metadata": {
    "slideshow": {
     "slide_type": "subslide"
    }
   },
   "outputs": [],
   "source": [
    "fig, ax = plt.subplots(figsize=(16, 8))\n",
    "plot_tree(dt2, ax=ax, precision=1);"
   ]
  },
  {
   "cell_type": "code",
   "execution_count": null,
   "id": "4d4afb93",
   "metadata": {
    "slideshow": {
     "slide_type": "subslide"
    }
   },
   "outputs": [],
   "source": [
    "def plot_regressions(regressors, f_y):\n",
    "    y_train = f_y(x_train).reshape(-1)\n",
    "\n",
    "    x_plot = np.linspace(0, 10, 500).reshape(-1, 1)\n",
    "    fig, ax = plt.subplots(figsize=(12, 6))\n",
    "    sns.lineplot(x=x_plot[:, 0], y=f_y(x_plot[:, 0]), ax=ax)\n",
    "    sns.scatterplot(x=x_train[:, 0], y=y_train, ax=ax)\n",
    "    for reg in regressors:\n",
    "        sns.lineplot(x=x_plot[:, 0], y=reg.predict(x_plot), ax=ax)\n",
    "    plt.show()"
   ]
  },
  {
   "cell_type": "code",
   "execution_count": null,
   "id": "3522d1d3",
   "metadata": {
    "slideshow": {
     "slide_type": "subslide"
    }
   },
   "outputs": [],
   "source": [
    "plot_regressions([dt1, dt2], fun);"
   ]
  },
  {
   "cell_type": "code",
   "execution_count": null,
   "id": "0225d0ec",
   "metadata": {
    "slideshow": {
     "slide_type": "subslide"
    }
   },
   "outputs": [],
   "source": [
    "dt3 = evaluate_non_random_regressor(DecisionTreeRegressor, fun, max_depth=3);"
   ]
  },
  {
   "cell_type": "code",
   "execution_count": null,
   "id": "85dc16c3",
   "metadata": {
    "slideshow": {
     "slide_type": "subslide"
    }
   },
   "outputs": [],
   "source": [
    "fig, ax = plt.subplots(figsize=(18, 10))\n",
    "plot_tree(dt3, ax=ax, precision=1);"
   ]
  },
  {
   "cell_type": "code",
   "execution_count": null,
   "id": "52efdf22",
   "metadata": {
    "slideshow": {
     "slide_type": "subslide"
    }
   },
   "outputs": [],
   "source": [
    "plot_regressions([dt1, dt2, dt3], fun);"
   ]
  },
  {
   "cell_type": "code",
   "execution_count": null,
   "id": "35303fe4",
   "metadata": {
    "slideshow": {
     "slide_type": "subslide"
    }
   },
   "outputs": [],
   "source": [
    "dt1_mae = evaluate_non_random_regressor(\n",
    "    DecisionTreeRegressor, fun, max_depth=1, criterion=\"absolute_error\"\n",
    ")"
   ]
  },
  {
   "cell_type": "code",
   "execution_count": null,
   "id": "835e8934",
   "metadata": {
    "slideshow": {
     "slide_type": "subslide"
    }
   },
   "outputs": [],
   "source": [
    "dt2_mae = evaluate_non_random_regressor(\n",
    "    DecisionTreeRegressor, fun, max_depth=2, criterion=\"absolute_error\"\n",
    ")"
   ]
  },
  {
   "cell_type": "code",
   "execution_count": null,
   "id": "77bbc54d",
   "metadata": {
    "slideshow": {
     "slide_type": "subslide"
    }
   },
   "outputs": [],
   "source": [
    "dt3_mae = evaluate_non_random_regressor(\n",
    "    DecisionTreeRegressor, fun, max_depth=3, criterion=\"absolute_error\"\n",
    ");"
   ]
  },
  {
   "cell_type": "code",
   "execution_count": null,
   "id": "04387a0a",
   "metadata": {
    "slideshow": {
     "slide_type": "subslide"
    }
   },
   "outputs": [],
   "source": [
    "plot_regressions([dt1_mae, dt2_mae, dt3_mae], fun)"
   ]
  },
  {
   "cell_type": "code",
   "execution_count": null,
   "id": "7205f651",
   "metadata": {
    "slideshow": {
     "slide_type": "subslide"
    }
   },
   "outputs": [],
   "source": [
    "plot_regressions([dt1, dt1_mae], fun)"
   ]
  },
  {
   "cell_type": "code",
   "execution_count": null,
   "id": "b86f8c14",
   "metadata": {
    "slideshow": {
     "slide_type": "subslide"
    }
   },
   "outputs": [],
   "source": [
    "plot_regressions([dt2, dt2_mae], fun)"
   ]
  },
  {
   "cell_type": "code",
   "execution_count": null,
   "id": "1dfa24ce",
   "metadata": {
    "slideshow": {
     "slide_type": "subslide"
    }
   },
   "outputs": [],
   "source": [
    "plot_regressions([dt3, dt3_mae], fun)"
   ]
  },
  {
   "cell_type": "code",
   "execution_count": null,
   "id": "3a7ed4bb",
   "metadata": {
    "slideshow": {
     "slide_type": "subslide"
    }
   },
   "outputs": [],
   "source": [
    "def plot_graphs(f_y, reg, reg_rand, reg_chaos, y_train, y_rand_train, y_chaos_train):\n",
    "    x_plot = np.linspace(0, 10, 500).reshape(-1, 1)\n",
    "    fig, ax = plt.subplots(figsize=(12, 8))\n",
    "    sns.lineplot(x=x_plot[:, 0], y=reg.predict(x_plot), ax=ax)\n",
    "    sns.scatterplot(x=x_train[:, 0], y=y_train, ax=ax)\n",
    "\n",
    "    sns.lineplot(x=x_plot[:, 0], y=reg_rand.predict(x_plot), ax=ax)\n",
    "    sns.scatterplot(x=x_train[:, 0], y=y_rand_train, ax=ax)\n",
    "\n",
    "    sns.lineplot(x=x_plot[:, 0], y=reg_chaos.predict(x_plot), ax=ax)\n",
    "    sns.scatterplot(x=x_train[:, 0], y=y_chaos_train, ax=ax)\n",
    "\n",
    "    sns.lineplot(x=x_plot[:, 0], y=f_y(x_plot[:, 0]), ax=ax)\n",
    "    plt.show()   "
   ]
  },
  {
   "cell_type": "code",
   "execution_count": null,
   "id": "9acd8daa",
   "metadata": {
    "slideshow": {
     "slide_type": "subslide"
    }
   },
   "outputs": [],
   "source": [
    "def evaluate_regressor(reg_type, f_y, *args, **kwargs):\n",
    "    reg = reg_type(*args, **kwargs)\n",
    "    reg_rand = reg_type(*args, **kwargs)\n",
    "    reg_chaos = reg_type(*args, **kwargs)\n",
    "    \n",
    "    y_train = f_y(x_train).reshape(-1)\n",
    "    y_test = f_y(x_test).reshape(-1)\n",
    "    y_pred = reg.fit(x_train, y_train).predict(x_test)\n",
    "    \n",
    "    y_rand_train = randomize(f_y, x_train).reshape(-1)\n",
    "    y_rand_test = randomize(f_y, x_test).reshape(-1)\n",
    "    y_rand_pred = reg_rand.fit(x_train, y_rand_train).predict(x_test)\n",
    "\n",
    "    y_chaos_train = randomize(f_y, x_train, 1.5).reshape(-1)\n",
    "    y_chaos_test = randomize(f_y, x_test, 1.5).reshape(-1)\n",
    "    y_chaos_pred = reg_chaos.fit(x_train, y_chaos_train).predict(x_test)\n",
    "\n",
    "    plot_graphs(f_y, reg, reg_rand, reg_chaos, y_train, y_rand_train, y_chaos_train)\n",
    "    print_evaluation(y_test, y_pred, y_rand_test, y_rand_pred, y_chaos_test, y_chaos_pred)"
   ]
  },
  {
   "cell_type": "code",
   "execution_count": null,
   "id": "63f08ee5",
   "metadata": {
    "slideshow": {
     "slide_type": "subslide"
    }
   },
   "outputs": [],
   "source": [
    "evaluate_regressor(DecisionTreeRegressor, lin)"
   ]
  },
  {
   "cell_type": "code",
   "execution_count": null,
   "id": "a3b8a71d",
   "metadata": {
    "slideshow": {
     "slide_type": "subslide"
    }
   },
   "outputs": [],
   "source": [
    "evaluate_regressor(DecisionTreeRegressor, lin, max_depth=3)"
   ]
  },
  {
   "cell_type": "markdown",
   "id": "bd4f5d4a",
   "metadata": {
    "slideshow": {
     "slide_type": "slide"
    }
   },
   "source": [
    "# Overfitting and Underfitting\n",
    " \n",
    "Overfitting occurs when the model matches noise in the training data.\n",
    "\n",
    "Underfitting occurs when the model cannot match the training data set."
   ]
  },
  {
   "cell_type": "markdown",
   "id": "3e57388f",
   "metadata": {
    "slideshow": {
     "slide_type": "slide"
    }
   },
   "source": [
    "## Bias/Variance Tradeoff\n",
    "\n",
    "**Bias error:** Error from bad assumptions in our model or learning algorithm about the structure of our solution. Leads to underfitting.\n",
    "\n",
    "**Variance:** Reaction to small fluctuations in the training data. Leads to overfitting.\n",
    "\n",
    "\"\\[B\\]ias measures the tendency of a system to consistently learn the  wrong things, and variance measures its tendency to learn irrelevant  details\" \n",
    "\n",
    "-- Pedro Domingos\n"
   ]
  },
  {
   "cell_type": "markdown",
   "id": "184307e0",
   "metadata": {
    "slideshow": {
     "slide_type": "subslide"
    }
   },
   "source": [
    "### Bias/Variance Tradeoff\n",
    "\n",
    "<img src=\"img/low-bias-low-variance.png\" style=\"width: 22%; display: inline-block;\"/>\n",
    "<img src=\"img/low-bias-high-variance.png\" style=\"width: 22%; display: inline-block;\"/>\n",
    "<img src=\"img/high-bias-low-variance.png\" style=\"width: 22%; display: inline-block;\"/>\n",
    "<img src=\"img/high-bias-high-variance.png\" style=\"width: 22%; display: inline-block;\"/>"
   ]
  },
  {
   "cell_type": "markdown",
   "id": "2a757987",
   "metadata": {
    "slideshow": {
     "slide_type": "subslide"
    }
   },
   "source": [
    "<img src=\"img/ag/Figure-09-008.png\" style=\"width: 40%; padding: 20px;\"/>"
   ]
  },
  {
   "cell_type": "markdown",
   "id": "91329b83",
   "metadata": {
    "slideshow": {
     "slide_type": "subslide"
    }
   },
   "source": [
    "<img src=\"img/ag/Figure-09-009.png\" style=\"width: 80%; padding: 20px;\"/>"
   ]
  },
  {
   "cell_type": "markdown",
   "id": "5f727764",
   "metadata": {
    "slideshow": {
     "slide_type": "subslide"
    }
   },
   "source": [
    "<img src=\"img/ag/Figure-09-010.png\" style=\"width: 40%; padding: 20px;\"/>"
   ]
  },
  {
   "cell_type": "code",
   "execution_count": null,
   "id": "8dd24c13",
   "metadata": {
    "slideshow": {
     "slide_type": "subslide"
    }
   },
   "outputs": [],
   "source": [
    "x = np.linspace(0, 10, 500)\n",
    "y = randomize(fun, x, 2.0)\n",
    "lr_reg = LinearRegression().fit(x.reshape(-1, 1), y)\n",
    "dt_reg = DecisionTreeRegressor().fit(x.reshape(-1, 1), y)\n",
    "\n",
    "def plot(reg, ax):\n",
    "    sns.lineplot(x=x, y=fun(x), ax=ax, color=\"red\")\n",
    "    sns.lineplot(x=x, y=y, ax=ax, alpha=0.5)\n",
    "    sns.lineplot(x=x, y=reg.predict(x.reshape(-1, 1)), ax=ax);"
   ]
  },
  {
   "cell_type": "code",
   "execution_count": null,
   "id": "635e16b7",
   "metadata": {
    "slideshow": {
     "slide_type": "subslide"
    }
   },
   "outputs": [],
   "source": [
    "fig, ax = plt.subplots(ncols=2, figsize=(20, 6))\n",
    "plot(lr_reg, ax[0])\n",
    "plot(dt_reg, ax[1])"
   ]
  },
  {
   "cell_type": "code",
   "execution_count": null,
   "id": "3b47264b",
   "metadata": {
    "slideshow": {
     "slide_type": "subslide"
    }
   },
   "outputs": [],
   "source": [
    "x = np.linspace(0, 10, 500)\n",
    "fix, ax = plt.subplots(figsize=(22, 12))\n",
    "# ax.fill_between(x, 1.8 * np.sin(x) + 0.09 * x ** 2 - 5, 2.1 * np.sin(x) + 0.11 * x ** 2 + 1, alpha=0.2)\n",
    "ax.plot(x, randomize(fun, x, scale=0.5))\n",
    "ax.plot(x, fun(x), color=\"r\");"
   ]
  },
  {
   "cell_type": "code",
   "execution_count": null,
   "id": "0a28a651",
   "metadata": {
    "slideshow": {
     "slide_type": "subslide"
    }
   },
   "outputs": [],
   "source": [
    "def fun2(x): return 2.8 * np.sin(x) + 0.3 * x + 0.08 * x ** 2 - 2.5\n",
    "fix, ax = plt.subplots(figsize=(22, 12))\n",
    "# ax.fill_between(x, 1.8 * np.sin(x) + 0.09 * x ** 2 - 5, 2.1 * np.sin(x) + 0.11 * x ** 2 + 1, alpha=0.2)\n",
    "ax.plot(x, randomize(fun2, x, scale=0.4), color=\"orange\")\n",
    "ax.plot(x, fun2(x), color=\"yellow\")\n",
    "ax.plot(x, fun(x), color=\"r\");"
   ]
  },
  {
   "cell_type": "code",
   "execution_count": null,
   "id": "c44deef4",
   "metadata": {
    "slideshow": {
     "slide_type": "subslide"
    }
   },
   "outputs": [],
   "source": [
    "fix, ax = plt.subplots(figsize=(22, 12))\n",
    "ax.fill_between(x, 1.8 * np.sin(x) + 0.09 * x ** 2 - 5, 2.1 * np.sin(x) + 0.11 * x ** 2 + 1, alpha=0.2)\n",
    "ax.plot(x, randomize(fun2, x, scale=0.4), color=\"orange\")\n",
    "# ax.plot(x, randomize(fun, x, scale=0.5))\n",
    "ax.plot(x, fun2(x), color=\"yellow\")\n",
    "ax.plot(x, fun(x), color=\"r\")\n",
    "ax.plot(x, np.select([x<=6, x>6], [-0.5, 3.5]), color=\"darkgreen\");"
   ]
  },
  {
   "cell_type": "markdown",
   "id": "8171b9e6",
   "metadata": {
    "slideshow": {
     "slide_type": "slide"
    }
   },
   "source": [
    "## Recognizing Overfitting\n",
    "\n",
    "- Performance on your training set is much better than on your validation/test set"
   ]
  },
  {
   "cell_type": "markdown",
   "id": "345fc47b",
   "metadata": {
    "slideshow": {
     "slide_type": "slide"
    }
   },
   "source": [
    "## Reducing Overfitting\n",
    "\n",
    "- Collect more/different training data\n",
    "- Perform (better) feature engineering\n",
    "- Decrease model capacity\n",
    "- Regularize the model\n",
    "- Use cross validation\n",
    "- Augment the training data\n",
    "- Add batch normalization, dropout, ... layers\n",
    "- Stop training early\n",
    "- ..."
   ]
  },
  {
   "cell_type": "code",
   "execution_count": null,
   "id": "65658d43",
   "metadata": {
    "slideshow": {
     "slide_type": "subslide"
    }
   },
   "outputs": [],
   "source": [
    "rng = np.random.default_rng(42)\n",
    "dt_reg = DecisionTreeRegressor()\n",
    "x_train = rng.uniform(size=(100, 1), low=0.0, high=10.0)\n",
    "y_train = randomize(fun, x_train, scale=1.5)\n",
    "y_test = randomize(fun, x_train, scale=1.5)\n",
    "dt_reg.fit(x_train, y_train)"
   ]
  },
  {
   "cell_type": "code",
   "execution_count": null,
   "id": "53f4e4e8",
   "metadata": {
    "slideshow": {
     "slide_type": "subslide"
    }
   },
   "outputs": [],
   "source": [
    "mae = mean_absolute_error(y_train, dt_reg.predict(x_train))\n",
    "mse = mean_squared_error(y_train, dt_reg.predict(x_train))\n",
    "mae, mse"
   ]
  },
  {
   "cell_type": "code",
   "execution_count": null,
   "id": "48374d8d",
   "metadata": {
    "slideshow": {
     "slide_type": "subslide"
    }
   },
   "outputs": [],
   "source": [
    "mae_test = mean_absolute_error(y_test, dt_reg.predict(x_train))\n",
    "mse_test = mean_squared_error(y_test, dt_reg.predict(x_train))\n",
    "mae_test, mse_test"
   ]
  },
  {
   "cell_type": "code",
   "execution_count": null,
   "id": "392f0024",
   "metadata": {
    "slideshow": {
     "slide_type": "subslide"
    }
   },
   "outputs": [],
   "source": [
    "fun_mae = mean_absolute_error(y_train, fun(x_train))\n",
    "fun_mse = mean_squared_error(y_train, fun(x_train))\n",
    "fun_mae, fun_mse"
   ]
  },
  {
   "cell_type": "code",
   "execution_count": null,
   "id": "81affb11",
   "metadata": {
    "slideshow": {
     "slide_type": "subslide"
    }
   },
   "outputs": [],
   "source": [
    "fig, ax = plt.subplots(figsize=(16, 6))\n",
    "sns.lineplot(x=x_train[:, 0], y=fun(x_train)[:, 0])\n",
    "sns.scatterplot(x=x_train[:, 0], y=y_train[:, 0])\n",
    "sns.lineplot(x=x_plot, y=dt_reg.predict(x_plot.reshape(-1, 1)));"
   ]
  },
  {
   "cell_type": "code",
   "execution_count": null,
   "id": "6d2388de",
   "metadata": {
    "slideshow": {
     "slide_type": "subslide"
    }
   },
   "outputs": [],
   "source": [
    "fig, ax = plt.subplots(figsize=(16, 6))\n",
    "sns.lineplot(x=x_train[:, 0], y=fun(x_train)[:, 0])\n",
    "sns.scatterplot(x=x_train[:, 0], y=y_test[:, 0])\n",
    "sns.lineplot(x=x_plot, y=dt_reg.predict(x_plot.reshape(-1, 1)));"
   ]
  },
  {
   "cell_type": "code",
   "execution_count": null,
   "id": "1ec6c9e4",
   "metadata": {
    "slideshow": {
     "slide_type": "subslide"
    }
   },
   "outputs": [],
   "source": [
    "evaluate_regressor(DecisionTreeRegressor, fun)"
   ]
  },
  {
   "cell_type": "code",
   "execution_count": null,
   "id": "1f71d024",
   "metadata": {
    "slideshow": {
     "slide_type": "subslide"
    }
   },
   "outputs": [],
   "source": [
    "evaluate_regressor(DecisionTreeRegressor, fun, max_depth=2)"
   ]
  },
  {
   "cell_type": "code",
   "execution_count": null,
   "id": "b7d83ad5",
   "metadata": {
    "slideshow": {
     "slide_type": "subslide"
    }
   },
   "outputs": [],
   "source": [
    "evaluate_regressor(DecisionTreeRegressor, fun, max_depth=3)"
   ]
  },
  {
   "cell_type": "code",
   "execution_count": null,
   "id": "38ae65dc",
   "metadata": {
    "slideshow": {
     "slide_type": "subslide"
    }
   },
   "outputs": [],
   "source": [
    "evaluate_regressor(DecisionTreeRegressor, fun, max_depth=2, criterion=\"absolute_error\")"
   ]
  },
  {
   "cell_type": "code",
   "execution_count": null,
   "id": "8abde0be",
   "metadata": {
    "slideshow": {
     "slide_type": "subslide"
    }
   },
   "outputs": [],
   "source": [
    "# evaluate_regressor(DecisionTreeRegressor, fun, max_leaf_nodes=20)\n",
    "evaluate_regressor(DecisionTreeRegressor, fun, max_leaf_nodes=20, criterion=\"absolute_error\")"
   ]
  },
  {
   "cell_type": "code",
   "execution_count": null,
   "id": "18d31329",
   "metadata": {
    "slideshow": {
     "slide_type": "subslide"
    }
   },
   "outputs": [],
   "source": [
    "evaluate_regressor(DecisionTreeRegressor, fun, min_samples_split=16)"
   ]
  },
  {
   "cell_type": "code",
   "execution_count": null,
   "id": "c8d03dc7",
   "metadata": {
    "slideshow": {
     "slide_type": "subslide"
    }
   },
   "outputs": [],
   "source": [
    "evaluate_regressor(DecisionTreeRegressor, fun, min_samples_leaf=8)"
   ]
  },
  {
   "cell_type": "code",
   "execution_count": null,
   "id": "43388c8d",
   "metadata": {},
   "outputs": [],
   "source": []
  }
 ],
 "metadata": {
  "jupytext": {
   "text_representation": {
    "extension": ".py",
    "format_name": "percent",
    "format_version": "1.3",
    "jupytext_version": "1.13.7"
   }
  },
  "kernelspec": {
   "display_name": "Python 3 (ipykernel)",
   "language": "python",
   "name": "python3"
  }
 },
 "nbformat": 4,
 "nbformat_minor": 5
}
