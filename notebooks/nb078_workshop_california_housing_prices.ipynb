{
 "cells": [
  {
   "cell_type": "markdown",
   "id": "7a50bb88",
   "metadata": {},
   "source": [
    "# California Housing Prices\n",
    "\n",
    "In this workshop, we'll use one of Scikit-Learn's \"real world\" datasets to predict house prices in California."
   ]
  },
  {
   "cell_type": "code",
   "execution_count": null,
   "id": "f2163a80",
   "metadata": {},
   "outputs": [],
   "source": [
    "import sklearn\n",
    "import sklearn.datasets\n",
    "import numpy as np\n",
    "import seaborn as sns"
   ]
  },
  {
   "cell_type": "markdown",
   "id": "a35a2bcd",
   "metadata": {},
   "source": [
    "## Load the Dataset\n",
    "\n",
    "You can get the dataset with the `fetch_california_housing()` function."
   ]
  },
  {
   "cell_type": "code",
   "execution_count": null,
   "id": "eae26f26",
   "metadata": {},
   "outputs": [],
   "source": [
    "housing = sklearn.datasets.fetch_california_housing()"
   ]
  },
  {
   "cell_type": "markdown",
   "id": "1b3a3355",
   "metadata": {},
   "source": [
    "Using `dir` you can see the features; as usual `DESCR` contains a description of the dataset:"
   ]
  },
  {
   "cell_type": "code",
   "execution_count": null,
   "id": "f8457ded",
   "metadata": {},
   "outputs": [],
   "source": [
    "dir(housing)"
   ]
  },
  {
   "cell_type": "code",
   "execution_count": null,
   "id": "af5bdf12",
   "metadata": {},
   "outputs": [],
   "source": [
    "housing.feature_names"
   ]
  },
  {
   "cell_type": "code",
   "execution_count": null,
   "id": "7038dcbd",
   "metadata": {},
   "outputs": [],
   "source": [
    "print(sklearn.datasets.fetch_california_housing().DESCR)"
   ]
  },
  {
   "cell_type": "markdown",
   "id": "b62af21d",
   "metadata": {},
   "source": [
    "By supplying the `return_X_y` argument you can get back just the features and target values as numpy arrays."
   ]
  },
  {
   "cell_type": "code",
   "execution_count": null,
   "id": "c4e97f7b",
   "metadata": {},
   "outputs": [],
   "source": [
    "x, y = sklearn.datasets.fetch_california_housing(return_X_y=True)"
   ]
  },
  {
   "cell_type": "code",
   "execution_count": null,
   "id": "c1258d00",
   "metadata": {},
   "outputs": [],
   "source": [
    "x.shape, y.shape"
   ]
  },
  {
   "cell_type": "markdown",
   "id": "fbded6e9",
   "metadata": {},
   "source": [
    "## Analyze using Plots\n",
    "\n",
    "Analyze the dataset using PyPlot and Seaborn plots. Plot, e.g., house age vs. price:"
   ]
  },
  {
   "cell_type": "code",
   "execution_count": null,
   "id": "2ee7ce04",
   "metadata": {},
   "outputs": [],
   "source": [
    "sns.scatterplot(x=x[:, 1], y=y);"
   ]
  },
  {
   "cell_type": "markdown",
   "id": "f0d34835",
   "metadata": {},
   "source": [
    "By adjusting the plot parameters, you can gain more insight:"
   ]
  },
  {
   "cell_type": "code",
   "execution_count": null,
   "id": "e998f1d1",
   "metadata": {},
   "outputs": [],
   "source": [
    "sns.scatterplot(x=x[:, 1], y=y, alpha=0.1);"
   ]
  },
  {
   "cell_type": "markdown",
   "id": "820473fd",
   "metadata": {},
   "source": [
    "Also plot scatterplots of features against each other; use hue with a third feature or the target value to increase the amount of information displayed in the plot."
   ]
  },
  {
   "cell_type": "code",
   "execution_count": null,
   "id": "87bfa924",
   "metadata": {},
   "outputs": [],
   "source": [
    "sns.scatterplot(x=x[:, 1], y=x[:, 7], hue=y, alpha=0.4);"
   ]
  },
  {
   "cell_type": "markdown",
   "id": "a913b827",
   "metadata": {},
   "source": [
    "Use different plots to understand the dataset. The dataset has some obvious problems. Which ones can you identify? What measures could you take to fix these problems or at least lessen their impact on the machine learning tasks?"
   ]
  },
  {
   "cell_type": "markdown",
   "id": "0bbf91b7",
   "metadata": {},
   "source": [
    "## Building Models\n",
    "\n",
    "Train at least a linear regression and a decision tree model to predict housing prices in California. Experiment with different hyperparameter settings to see what maximum performance you can get from each model type. Is overfitting a problem?"
   ]
  },
  {
   "cell_type": "markdown",
   "id": "cf61dcc9",
   "metadata": {},
   "source": [
    "I hope you have fun with this exercise."
   ]
  },
  {
   "cell_type": "code",
   "execution_count": null,
   "id": "f415cdab",
   "metadata": {},
   "outputs": [],
   "source": []
  }
 ],
 "metadata": {
  "jupytext": {
   "text_representation": {
    "extension": ".py",
    "format_name": "percent",
    "format_version": "1.3",
    "jupytext_version": "1.13.7"
   }
  },
  "kernelspec": {
   "display_name": "Python 3 (ipykernel)",
   "language": "python",
   "name": "python3"
  }
 },
 "nbformat": 4,
 "nbformat_minor": 5
}
