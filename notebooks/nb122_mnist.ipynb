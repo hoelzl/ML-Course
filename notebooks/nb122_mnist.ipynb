{
 "cells": [
  {
   "cell_type": "markdown",
   "id": "309dc677",
   "metadata": {
    "slideshow": {
     "slide_type": "slide"
    }
   },
   "source": [
    "# MNIST"
   ]
  },
  {
   "cell_type": "code",
   "execution_count": null,
   "id": "846dec12",
   "metadata": {},
   "outputs": [],
   "source": [
    "from pickletools import optimize\n",
    "import matplotlib.pyplot as plt\n",
    "from pytorch_model_summary import summary\n",
    "import torch\n",
    "import torchvision\n",
    "import torchvision.transforms as transforms\n",
    "from torchvision.transforms.functional import InterpolationMode\n",
    "import torch.nn as nn\n",
    "from sklearn.metrics import (\n",
    "    classification_report,\n",
    "    confusion_matrix,\n",
    "    ConfusionMatrixDisplay,\n",
    ")\n",
    "from skorch import NeuralNetClassifier\n",
    "from skorch.helper import predefined_split\n",
    "\n",
    "from mlcourse.utils.data import show_dataset"
   ]
  },
  {
   "cell_type": "code",
   "execution_count": null,
   "id": "523ccdb6",
   "metadata": {},
   "outputs": [],
   "source": [
    "input_size = 28 * 28\n",
    "num_classes = 10\n",
    "num_epochs = 5\n",
    "batch_size = 100\n",
    "learning_rate = 0.005\n",
    "device = \"cuda:0\" if torch.cuda.is_available() else \"cpu\""
   ]
  },
  {
   "cell_type": "code",
   "execution_count": null,
   "id": "fa6f0197",
   "metadata": {
    "slideshow": {
     "slide_type": "subslide"
    }
   },
   "outputs": [],
   "source": [
    "mnist_transforms = transforms.Compose(\n",
    "    [transforms.Resize((28, 28)), transforms.ToTensor()]\n",
    ")"
   ]
  },
  {
   "cell_type": "code",
   "execution_count": null,
   "id": "8e2b3a32",
   "metadata": {},
   "outputs": [],
   "source": [
    "train_dataset = torchvision.datasets.MNIST(\n",
    "    root=\"./data\", train=True, transform=mnist_transforms, download=True\n",
    ")\n",
    "test_dataset = torchvision.datasets.MNIST(\n",
    "    root=\"./data\", train=False, transform=mnist_transforms, download=True\n",
    ")"
   ]
  },
  {
   "cell_type": "code",
   "execution_count": null,
   "id": "e7251327",
   "metadata": {
    "slideshow": {
     "slide_type": "subslide"
    }
   },
   "outputs": [],
   "source": [
    "it = iter(train_dataset)\n",
    "tensor, label = next(it)\n",
    "print(f\"Batch shape: {tensor.shape}, label: {label}\")\n",
    "plt.imshow(tensor[0], cmap=\"binary\")"
   ]
  },
  {
   "cell_type": "code",
   "execution_count": null,
   "id": "a8af8d02",
   "metadata": {
    "lines_to_next_cell": 2,
    "slideshow": {
     "slide_type": "subslide"
    }
   },
   "outputs": [],
   "source": [
    "tensor, label = next(it)\n",
    "print(f\"Batch shape: {tensor.shape}, label: {label}\")\n",
    "plt.imshow(tensor[0], cmap=\"binary\")"
   ]
  },
  {
   "cell_type": "code",
   "execution_count": null,
   "id": "f3c4e61c",
   "metadata": {},
   "outputs": [],
   "source": [
    "show_dataset(train_dataset)"
   ]
  },
  {
   "cell_type": "code",
   "execution_count": null,
   "id": "3f3d1ab0",
   "metadata": {
    "lines_to_next_cell": 2
   },
   "outputs": [],
   "source": [
    "train_loader = torch.utils.data.DataLoader(\n",
    "    dataset=train_dataset, batch_size=batch_size, shuffle=True\n",
    ")\n",
    "test_loader = torch.utils.data.DataLoader(\n",
    "    dataset=test_dataset, batch_size=batch_size, shuffle=False\n",
    ")"
   ]
  },
  {
   "cell_type": "code",
   "execution_count": null,
   "id": "8da49f5b",
   "metadata": {},
   "outputs": [],
   "source": [
    "it = iter(train_loader)\n",
    "first_batch, first_labels = next(it)\n",
    "second_batch, second_labeld = next(it)\n",
    "print(f\"First batch:  {type(first_batch)}, {first_batch.shape}\")\n",
    "print(f\"Second batch: {type(second_batch)}, {second_batch.shape}\")"
   ]
  },
  {
   "cell_type": "code",
   "execution_count": null,
   "id": "5d8c6614",
   "metadata": {
    "lines_to_next_cell": 1,
    "slideshow": {
     "slide_type": "subslide"
    }
   },
   "outputs": [],
   "source": [
    "def create_model(hidden_size):\n",
    "    model = nn.Sequential(\n",
    "        nn.Linear(input_size, hidden_size),\n",
    "        nn.ReLU(),\n",
    "        nn.Linear(hidden_size, num_classes),\n",
    "    )\n",
    "    optimizer = torch.optim.Adam(model.parameters(), lr=learning_rate)\n",
    "    return model, optimizer"
   ]
  },
  {
   "cell_type": "code",
   "execution_count": null,
   "id": "8ed22d47",
   "metadata": {},
   "outputs": [],
   "source": [
    "mlp16, _ = create_model(16)\n",
    "print(summary(mlp16, torch.zeros((100, 784)), show_input=True))\n",
    "print(summary(mlp16, torch.zeros((100, 784))))"
   ]
  },
  {
   "cell_type": "code",
   "execution_count": null,
   "id": "3b539d79",
   "metadata": {
    "slideshow": {
     "slide_type": "subslide"
    }
   },
   "outputs": [],
   "source": [
    "def training_loop(\n",
    "    n_epochs, optimizer, model, loss_fn, device, train_loader, print_progress=True\n",
    "):\n",
    "    model = model.to(device)\n",
    "    all_batch_losses = []\n",
    "    for epoch in range(1, n_epochs + 1):\n",
    "        accumulated_loss = 0\n",
    "        for i, (images, labels) in enumerate(train_loader):\n",
    "            images = images.reshape(-1, input_size).to(device)\n",
    "            labels = labels.to(device)\n",
    "\n",
    "            output = model(images)\n",
    "            batch_loss = loss_fn(output, labels)\n",
    "            with torch.no_grad():\n",
    "                accumulated_loss += batch_loss\n",
    "                all_batch_losses.append(batch_loss.detach().cpu())\n",
    "\n",
    "            optimizer.zero_grad()\n",
    "            batch_loss.backward()\n",
    "            optimizer.step()\n",
    "\n",
    "            if (i + 1) % 200 == 0:\n",
    "                if print_progress:\n",
    "                    print(\n",
    "                        f\"Epoch {epoch:2}/{n_epochs:2}, step {i + 1}: \"\n",
    "                        f\"training loss = {accumulated_loss.item() / i:6.4f}\"\n",
    "                    )\n",
    "                accumulated_loss = 0\n",
    "    return all_batch_losses"
   ]
  },
  {
   "cell_type": "code",
   "execution_count": null,
   "id": "474fe6ee",
   "metadata": {},
   "outputs": [],
   "source": [
    "def create_and_train_model(hidden_size, num_epochs=num_epochs, print_progress=True):\n",
    "    model, optimizer = create_model(hidden_size)\n",
    "    losses = training_loop(\n",
    "        n_epochs=num_epochs,\n",
    "        optimizer=optimizer,\n",
    "        model=model,\n",
    "        loss_fn=nn.CrossEntropyLoss(),\n",
    "        device=device,\n",
    "        train_loader=train_loader,\n",
    "        print_progress=print_progress,\n",
    "    )\n",
    "    return model, losses"
   ]
  },
  {
   "cell_type": "code",
   "execution_count": null,
   "id": "101aa4ed",
   "metadata": {},
   "outputs": [],
   "source": [
    "model, losses = create_and_train_model(32, num_epochs=5, print_progress=True)"
   ]
  },
  {
   "cell_type": "code",
   "execution_count": null,
   "id": "dd1f527f",
   "metadata": {},
   "outputs": [],
   "source": [
    "plt.figure(figsize=(16, 5))\n",
    "plt.plot(range(len(losses)), losses)"
   ]
  },
  {
   "cell_type": "code",
   "execution_count": null,
   "id": "4acd5467",
   "metadata": {},
   "outputs": [],
   "source": [
    "def evaluate_model(model):\n",
    "    ground_truth = []\n",
    "    predictions = []\n",
    "    with torch.no_grad():\n",
    "        for x, y in test_loader:\n",
    "            new_predictions = model(x.reshape(-1, input_size).to(device))\n",
    "            predictions.extend(new_predictions.argmax(dim=1).cpu().numpy())\n",
    "            ground_truth.extend(y.numpy())\n",
    "        return ground_truth, predictions"
   ]
  },
  {
   "cell_type": "code",
   "execution_count": null,
   "id": "38818417",
   "metadata": {},
   "outputs": [],
   "source": [
    "from sklearn.metrics import classification_report\n",
    "\n",
    "print(classification_report(*evaluate_model(model)))"
   ]
  },
  {
   "cell_type": "code",
   "execution_count": null,
   "id": "30ad35cb",
   "metadata": {},
   "outputs": [],
   "source": [
    "# model, losses = create_and_train_model(64, print_progress=False)\n",
    "\n",
    "# pyplot.figure(figsize=(16, 5))\n",
    "# pyplot.plot(range(len(losses)), losses)"
   ]
  },
  {
   "cell_type": "code",
   "execution_count": null,
   "id": "51454581",
   "metadata": {},
   "outputs": [],
   "source": [
    "# print(classification_report(*evaluate_model(model)))"
   ]
  },
  {
   "cell_type": "code",
   "execution_count": null,
   "id": "045f77fd",
   "metadata": {},
   "outputs": [],
   "source": [
    "# model, losses = create_and_train_model(512, print_progress=False)\n",
    "\n",
    "# pyplot.figure(figsize=(16, 5))\n",
    "# pyplot.plot(range(len(losses)), losses)"
   ]
  },
  {
   "cell_type": "code",
   "execution_count": null,
   "id": "bcd265ad",
   "metadata": {},
   "outputs": [],
   "source": [
    "# print(classification_report(*evaluate_model(model)))"
   ]
  },
  {
   "cell_type": "code",
   "execution_count": null,
   "id": "e62e3120",
   "metadata": {},
   "outputs": [],
   "source": []
  },
  {
   "cell_type": "code",
   "execution_count": null,
   "id": "1f4be80a",
   "metadata": {},
   "outputs": [],
   "source": [
    "mlp_model = nn.Sequential(\n",
    "    nn.Flatten(),\n",
    "    nn.Linear(input_size, 32),\n",
    "    nn.ReLU(),\n",
    "    nn.Linear(32, num_classes),\n",
    ")"
   ]
  },
  {
   "cell_type": "code",
   "execution_count": null,
   "id": "7a9dec40",
   "metadata": {},
   "outputs": [],
   "source": [
    "mlp_classifier = NeuralNetClassifier(\n",
    "    mlp_model,\n",
    "    criterion=nn.CrossEntropyLoss,\n",
    "    batch_size=100,\n",
    "    max_epochs=2,\n",
    "    lr=0.2,\n",
    "    iterator_train__shuffle=True,\n",
    "    train_split=predefined_split(test_dataset),\n",
    "    device=device,\n",
    ")"
   ]
  },
  {
   "cell_type": "code",
   "execution_count": null,
   "id": "98640e8b",
   "metadata": {},
   "outputs": [],
   "source": [
    "mlp_classifier.fit(train_dataset, None)"
   ]
  },
  {
   "cell_type": "code",
   "execution_count": null,
   "id": "e421881d",
   "metadata": {},
   "outputs": [],
   "source": [
    "mlp_classifier.partial_fit(train_dataset, None)"
   ]
  },
  {
   "cell_type": "code",
   "execution_count": null,
   "id": "a7793809",
   "metadata": {},
   "outputs": [],
   "source": [
    "y_pred_mlp = mlp_classifier.predict(test_dataset)"
   ]
  },
  {
   "cell_type": "code",
   "execution_count": null,
   "id": "888964a7",
   "metadata": {},
   "outputs": [],
   "source": [
    "y_test = [y for _, y in test_dataset]"
   ]
  },
  {
   "cell_type": "code",
   "execution_count": null,
   "id": "970a1f92",
   "metadata": {},
   "outputs": [],
   "source": [
    "print(classification_report(y_test, y_pred_mlp))"
   ]
  },
  {
   "cell_type": "code",
   "execution_count": null,
   "id": "a77e9896",
   "metadata": {},
   "outputs": [],
   "source": [
    "print(confusion_matrix(y_test, y_pred_mlp))"
   ]
  },
  {
   "cell_type": "code",
   "execution_count": null,
   "id": "fef5beb9",
   "metadata": {},
   "outputs": [],
   "source": [
    "plt.figure(figsize=(10, 8))\n",
    "ax = plt.axes()\n",
    "ConfusionMatrixDisplay.from_predictions(y_test, y_pred_mlp, ax=ax)"
   ]
  },
  {
   "cell_type": "code",
   "execution_count": null,
   "id": "720a13b3",
   "metadata": {},
   "outputs": [],
   "source": [
    "plt.figure(figsize=(14, 12))\n",
    "ax = plt.axes()\n",
    "ConfusionMatrixDisplay.from_predictions(y_test, y_pred_mlp, normalize=\"true\", ax=ax)"
   ]
  },
  {
   "cell_type": "code",
   "execution_count": null,
   "id": "f7b08899",
   "metadata": {},
   "outputs": [],
   "source": [
    "mlp_classifier_adam = NeuralNetClassifier(\n",
    "    mlp_model,\n",
    "    criterion=nn.CrossEntropyLoss,\n",
    "    max_epochs=2,\n",
    "    batch_size=100,\n",
    "    optimizer=torch.optim.Adam,\n",
    "    lr=learning_rate / 10,\n",
    "    iterator_train__shuffle=True,\n",
    "    train_split=predefined_split(test_dataset),\n",
    "    device=device,\n",
    ")"
   ]
  },
  {
   "cell_type": "code",
   "execution_count": null,
   "id": "58de126b",
   "metadata": {},
   "outputs": [],
   "source": [
    "mlp_classifier_adam.fit(train_dataset, None)"
   ]
  },
  {
   "cell_type": "code",
   "execution_count": null,
   "id": "53009edb",
   "metadata": {},
   "outputs": [],
   "source": [
    "mlp_classifier_adam.partial_fit(train_dataset, None)"
   ]
  },
  {
   "cell_type": "code",
   "execution_count": null,
   "id": "1e7c1c12",
   "metadata": {},
   "outputs": [],
   "source": [
    "y_pred_mlp_adam = mlp_classifier_adam.predict(test_dataset)"
   ]
  },
  {
   "cell_type": "code",
   "execution_count": null,
   "id": "2b990300",
   "metadata": {},
   "outputs": [],
   "source": [
    "print(classification_report(y_test, y_pred_mlp_adam))"
   ]
  },
  {
   "cell_type": "markdown",
   "id": "82888eb1",
   "metadata": {},
   "source": [
    "## Data Augmentation"
   ]
  },
  {
   "cell_type": "code",
   "execution_count": null,
   "id": "44959558",
   "metadata": {},
   "outputs": [],
   "source": [
    "augmented_transforms = transforms.Compose(\n",
    "    [\n",
    "        transforms.Resize((56, 56)),\n",
    "        transforms.RandomResizedCrop(\n",
    "            28, (0.6, 1.0), interpolation=InterpolationMode.BICUBIC\n",
    "        ),\n",
    "        transforms.RandomApply(\n",
    "            [\n",
    "                transforms.RandomAffine(\n",
    "                    degrees=30.0,\n",
    "                    translate=(0.1, 0.1),\n",
    "                    interpolation=InterpolationMode.BICUBIC,\n",
    "                )\n",
    "            ],\n",
    "            0.8,\n",
    "        ),\n",
    "        transforms.Resize((28, 28)),\n",
    "        transforms.ToTensor(),\n",
    "    ]\n",
    ")"
   ]
  },
  {
   "cell_type": "code",
   "execution_count": null,
   "id": "b7bce6bc",
   "metadata": {},
   "outputs": [],
   "source": [
    "augmented_train_dataset = torchvision.datasets.MNIST(\n",
    "    root=\"./data\", train=True, transform=augmented_transforms, download=True\n",
    ")"
   ]
  },
  {
   "cell_type": "code",
   "execution_count": null,
   "id": "3814187f",
   "metadata": {},
   "outputs": [],
   "source": [
    "show_dataset(train_dataset, nrows=4, figsize=(12, 7))\n",
    "show_dataset(augmented_train_dataset, nrows=4, figsize=(12, 7))"
   ]
  },
  {
   "cell_type": "code",
   "execution_count": null,
   "id": "c5cbc582",
   "metadata": {},
   "outputs": [],
   "source": [
    "mlp_classifier.fit(augmented_train_dataset, None)"
   ]
  },
  {
   "cell_type": "code",
   "execution_count": null,
   "id": "0e5730e1",
   "metadata": {},
   "outputs": [],
   "source": [
    "mlp_classifier.partial_fit(augmented_train_dataset, None)"
   ]
  },
  {
   "cell_type": "markdown",
   "id": "9ba77939",
   "metadata": {},
   "source": [
    "## Workshop Fashion MNIST\n",
    "\n",
    "Trainieren Sie ein Neuronales Netz, das Bilder aus dem Fashion MNIST Datenset\n",
    "klassifizieren kann.\n",
    "\n",
    "Ein Torch `Dataset` für Fashion MNIST kann mit der Klasse\n",
    "`torchvision.datasets.FashionMNIST` erzeugt werden."
   ]
  },
  {
   "cell_type": "code",
   "execution_count": null,
   "id": "70bfda83",
   "metadata": {},
   "outputs": [],
   "source": []
  }
 ],
 "metadata": {
  "kernelspec": {
   "display_name": "Python 3 (ipykernel)",
   "language": "python",
   "name": "python3"
  }
 },
 "nbformat": 4,
 "nbformat_minor": 5
}
