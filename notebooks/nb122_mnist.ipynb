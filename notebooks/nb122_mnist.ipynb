{
 "cells": [
  {
   "cell_type": "markdown",
   "id": "b970d8d3",
   "metadata": {
    "slideshow": {
     "slide_type": "slide"
    }
   },
   "source": [
    "# MNIST"
   ]
  },
  {
   "cell_type": "code",
   "execution_count": null,
   "id": "9d5617db",
   "metadata": {},
   "outputs": [],
   "source": [
    "from pickletools import optimize\n",
    "import matplotlib.pyplot as plt\n",
    "import torch\n",
    "import torchvision\n",
    "import torchvision.transforms as transforms\n",
    "from torchvision.transforms.functional import InterpolationMode\n",
    "import torch.nn as nn\n",
    "from sklearn.metrics import (\n",
    "    classification_report,\n",
    "    confusion_matrix,\n",
    "    ConfusionMatrixDisplay,\n",
    ")\n",
    "from skorch import NeuralNetClassifier\n",
    "from skorch.helper import predefined_split\n",
    "\n",
    "input_size = 28 * 28\n",
    "num_classes = 10\n",
    "num_epochs = 5\n",
    "batch_size = 100\n",
    "learning_rate = 0.005"
   ]
  },
  {
   "cell_type": "code",
   "execution_count": null,
   "id": "9cd29bf3",
   "metadata": {
    "slideshow": {
     "slide_type": "subslide"
    }
   },
   "outputs": [],
   "source": [
    "mnist_transforms = transforms.Compose(\n",
    "    [transforms.Resize((28, 28)), transforms.ToTensor()]\n",
    ")"
   ]
  },
  {
   "cell_type": "code",
   "execution_count": null,
   "id": "c65e2704",
   "metadata": {},
   "outputs": [],
   "source": [
    "train_dataset = torchvision.datasets.MNIST(\n",
    "    root=\"./data\", train=True, transform=mnist_transforms, download=True\n",
    ")\n",
    "test_dataset = torchvision.datasets.MNIST(\n",
    "    root=\"./data\", train=False, transform=mnist_transforms, download=True\n",
    ")"
   ]
  },
  {
   "cell_type": "code",
   "execution_count": null,
   "id": "d2380411",
   "metadata": {
    "slideshow": {
     "slide_type": "subslide"
    }
   },
   "outputs": [],
   "source": [
    "it = iter(train_dataset)\n",
    "tensor, label = next(it)\n",
    "print(f\"Batch shape: {tensor.shape}, label: {label}\")\n",
    "plt.imshow(tensor[0], cmap=\"binary\")"
   ]
  },
  {
   "cell_type": "code",
   "execution_count": null,
   "id": "1fcfe1e6",
   "metadata": {
    "lines_to_next_cell": 1,
    "slideshow": {
     "slide_type": "subslide"
    }
   },
   "outputs": [],
   "source": [
    "tensor, label = next(it)\n",
    "print(f\"Batch shape: {tensor.shape}, label: {label}\")\n",
    "plt.imshow(tensor[0], cmap=\"binary\")"
   ]
  },
  {
   "cell_type": "code",
   "execution_count": null,
   "id": "80d4a7de",
   "metadata": {},
   "outputs": [],
   "source": [
    "def show_dataset(ds, nrows=8, ncols=8, figsize=(12, 12)):\n",
    "    fig, axes = plt.subplots(nrows=nrows, ncols=ncols, figsize=figsize)\n",
    "    it = iter(ds)\n",
    "    for row in range(nrows):\n",
    "        for col in range(ncols):\n",
    "            ax = axes[row, col]\n",
    "            ax.axes.xaxis.set_visible(False)\n",
    "            ax.axes.yaxis.set_visible(False)\n",
    "            ax.imshow(next(it)[0].squeeze(0), cmap=\"binary\")\n",
    "    plt.show()"
   ]
  },
  {
   "cell_type": "code",
   "execution_count": null,
   "id": "c9b15427",
   "metadata": {},
   "outputs": [],
   "source": [
    "show_dataset(train_dataset)"
   ]
  },
  {
   "cell_type": "code",
   "execution_count": null,
   "id": "24672de0",
   "metadata": {
    "lines_to_next_cell": 2
   },
   "outputs": [],
   "source": [
    "train_loader = torch.utils.data.DataLoader(\n",
    "    dataset=train_dataset, batch_size=batch_size, shuffle=True\n",
    ")\n",
    "test_loader = torch.utils.data.DataLoader(\n",
    "    dataset=test_dataset, batch_size=batch_size, shuffle=False\n",
    ")"
   ]
  },
  {
   "cell_type": "code",
   "execution_count": null,
   "id": "77c96af7",
   "metadata": {},
   "outputs": [],
   "source": [
    "it = iter(train_loader)\n",
    "first_batch, first_labels = next(it)\n",
    "second_batch, second_labeld = next(it)\n",
    "print(f\"First batch:  {type(first_batch)}, {first_batch.shape}\")\n",
    "print(f\"Second batch: {type(second_batch)}, {second_batch.shape}\")"
   ]
  },
  {
   "cell_type": "code",
   "execution_count": null,
   "id": "c978e5cd",
   "metadata": {
    "slideshow": {
     "slide_type": "subslide"
    }
   },
   "outputs": [],
   "source": [
    "def create_model(hidden_size):\n",
    "    model = nn.Sequential(\n",
    "        nn.Linear(input_size, hidden_size),\n",
    "        nn.ReLU(),\n",
    "        nn.Linear(hidden_size, num_classes),\n",
    "    )\n",
    "    optimizer = torch.optim.Adam(model.parameters(), lr=learning_rate)\n",
    "    return model, optimizer"
   ]
  },
  {
   "cell_type": "code",
   "execution_count": null,
   "id": "729990a5",
   "metadata": {
    "slideshow": {
     "slide_type": "subslide"
    }
   },
   "outputs": [],
   "source": [
    "def training_loop(\n",
    "    n_epochs, optimizer, model, loss_fn, device, train_loader, print_progress=True\n",
    "):\n",
    "    all_batch_losses = []\n",
    "    for epoch in range(1, n_epochs + 1):\n",
    "        accumulated_loss = 0\n",
    "        for i, (images, labels) in enumerate(train_loader):\n",
    "            images = images.reshape(-1, input_size).to(device)\n",
    "            labels = labels.to(device)\n",
    "\n",
    "            output = model(images)\n",
    "            batch_loss = loss_fn(output, labels)\n",
    "            with torch.no_grad():\n",
    "                accumulated_loss += batch_loss\n",
    "                all_batch_losses.append(batch_loss.detach())\n",
    "\n",
    "            optimizer.zero_grad()\n",
    "            batch_loss.backward()\n",
    "            optimizer.step()\n",
    "\n",
    "            if (i + 1) % 200 == 0:\n",
    "                if print_progress:\n",
    "                    print(\n",
    "                        f\"Epoch {epoch:2}/{n_epochs:2}, step {i + 1}: \"\n",
    "                        f\"training loss = {accumulated_loss.item() / i:6.4f}\"\n",
    "                    )\n",
    "                accumulated_loss = 0\n",
    "    return all_batch_losses"
   ]
  },
  {
   "cell_type": "code",
   "execution_count": null,
   "id": "26ffe3b2",
   "metadata": {},
   "outputs": [],
   "source": [
    "def create_and_train_model(hidden_size, num_epochs=num_epochs, print_progress=True):\n",
    "    model, optimizer = create_model(hidden_size)\n",
    "    losses = training_loop(\n",
    "        n_epochs=num_epochs,\n",
    "        optimizer=optimizer,\n",
    "        model=model,\n",
    "        loss_fn=nn.CrossEntropyLoss(),\n",
    "        device=torch.device(\"cpu\")\n",
    "        if torch.cuda.is_available()\n",
    "        else torch.device(\"cpu\"),\n",
    "        train_loader=train_loader,\n",
    "        print_progress=print_progress,\n",
    "    )\n",
    "    return model, losses"
   ]
  },
  {
   "cell_type": "code",
   "execution_count": null,
   "id": "6e851c91",
   "metadata": {},
   "outputs": [],
   "source": [
    "model, losses = create_and_train_model(32, num_epochs=5, print_progress=True)"
   ]
  },
  {
   "cell_type": "code",
   "execution_count": null,
   "id": "49214b85",
   "metadata": {},
   "outputs": [],
   "source": [
    "from matplotlib import pyplot\n",
    "\n",
    "pyplot.figure(figsize=(16, 5))\n",
    "pyplot.plot(range(len(losses)), losses)"
   ]
  },
  {
   "cell_type": "code",
   "execution_count": null,
   "id": "048782ed",
   "metadata": {},
   "outputs": [],
   "source": [
    "def evaluate_model(model):\n",
    "    ground_truth = []\n",
    "    predictions = []\n",
    "    with torch.no_grad():\n",
    "        for x, y in test_loader:\n",
    "            new_predictions = model(x.reshape(-1, input_size))\n",
    "            predictions.extend(new_predictions.argmax(dim=1).numpy())\n",
    "            ground_truth.extend(y.numpy())\n",
    "        return ground_truth, predictions"
   ]
  },
  {
   "cell_type": "code",
   "execution_count": null,
   "id": "b5410baa",
   "metadata": {},
   "outputs": [],
   "source": [
    "from sklearn.metrics import classification_report\n",
    "\n",
    "print(classification_report(*evaluate_model(model)))"
   ]
  },
  {
   "cell_type": "code",
   "execution_count": null,
   "id": "c7d4ac1e",
   "metadata": {},
   "outputs": [],
   "source": [
    "# model, losses = create_and_train_model(64, print_progress=False)\n",
    "\n",
    "# pyplot.figure(figsize=(16, 5))\n",
    "# pyplot.plot(range(len(losses)), losses)"
   ]
  },
  {
   "cell_type": "code",
   "execution_count": null,
   "id": "9ffd1280",
   "metadata": {},
   "outputs": [],
   "source": [
    "# print(classification_report(*evaluate_model(model)))"
   ]
  },
  {
   "cell_type": "code",
   "execution_count": null,
   "id": "6c6e9fb2",
   "metadata": {},
   "outputs": [],
   "source": [
    "# model, losses = create_and_train_model(512, print_progress=False)\n",
    "\n",
    "# pyplot.figure(figsize=(16, 5))\n",
    "# pyplot.plot(range(len(losses)), losses)"
   ]
  },
  {
   "cell_type": "code",
   "execution_count": null,
   "id": "61af83bc",
   "metadata": {},
   "outputs": [],
   "source": [
    "# print(classification_report(*evaluate_model(model)))"
   ]
  },
  {
   "cell_type": "code",
   "execution_count": null,
   "id": "411c44fc",
   "metadata": {},
   "outputs": [],
   "source": []
  },
  {
   "cell_type": "code",
   "execution_count": null,
   "id": "72088783",
   "metadata": {},
   "outputs": [],
   "source": [
    "mlp_model = nn.Sequential(\n",
    "    nn.Flatten(),\n",
    "    nn.Linear(input_size, 32),\n",
    "    nn.ReLU(),\n",
    "    nn.Linear(32, num_classes),\n",
    ")"
   ]
  },
  {
   "cell_type": "code",
   "execution_count": null,
   "id": "34097764",
   "metadata": {},
   "outputs": [],
   "source": [
    "mlp_classifier = NeuralNetClassifier(\n",
    "    mlp_model,\n",
    "    criterion=nn.CrossEntropyLoss,\n",
    "    batch_size=100,\n",
    "    max_epochs=2,\n",
    "    lr=0.2,\n",
    "    iterator_train__shuffle=True,\n",
    "    train_split=predefined_split(test_dataset),\n",
    ")"
   ]
  },
  {
   "cell_type": "code",
   "execution_count": null,
   "id": "c256630e",
   "metadata": {},
   "outputs": [],
   "source": [
    "mlp_classifier.fit(train_dataset, None)"
   ]
  },
  {
   "cell_type": "code",
   "execution_count": null,
   "id": "161d320a",
   "metadata": {},
   "outputs": [],
   "source": [
    "mlp_classifier.partial_fit(train_dataset, None)"
   ]
  },
  {
   "cell_type": "code",
   "execution_count": null,
   "id": "4eae3a3e",
   "metadata": {},
   "outputs": [],
   "source": [
    "y_pred_mlp = mlp_classifier.predict(test_dataset)"
   ]
  },
  {
   "cell_type": "code",
   "execution_count": null,
   "id": "c45649a3",
   "metadata": {},
   "outputs": [],
   "source": [
    "y_test = [y for _, y in test_dataset]"
   ]
  },
  {
   "cell_type": "code",
   "execution_count": null,
   "id": "d2f4cd88",
   "metadata": {},
   "outputs": [],
   "source": [
    "print(classification_report(y_test, y_pred_mlp))"
   ]
  },
  {
   "cell_type": "code",
   "execution_count": null,
   "id": "48377b61",
   "metadata": {},
   "outputs": [],
   "source": [
    "print(confusion_matrix(y_test, y_pred_mlp))"
   ]
  },
  {
   "cell_type": "code",
   "execution_count": null,
   "id": "bc352c65",
   "metadata": {},
   "outputs": [],
   "source": [
    "plt.figure(figsize=(10, 8))\n",
    "ax = plt.axes()\n",
    "ConfusionMatrixDisplay.from_predictions(y_test, y_pred_mlp, ax=ax)"
   ]
  },
  {
   "cell_type": "code",
   "execution_count": null,
   "id": "bdae9cb0",
   "metadata": {},
   "outputs": [],
   "source": [
    "plt.figure(figsize=(14, 12))\n",
    "ax = plt.axes()\n",
    "ConfusionMatrixDisplay.from_predictions(y_test, y_pred_mlp, normalize=\"true\", ax=ax)"
   ]
  },
  {
   "cell_type": "code",
   "execution_count": null,
   "id": "fc5a60c2",
   "metadata": {},
   "outputs": [],
   "source": [
    "mlp_classifier_adam = NeuralNetClassifier(\n",
    "    mlp_model,\n",
    "    criterion=nn.CrossEntropyLoss,\n",
    "    max_epochs=2,\n",
    "    batch_size=100,\n",
    "    optimizer=torch.optim.Adam,\n",
    "    lr=learning_rate / 10,\n",
    "    iterator_train__shuffle=True,\n",
    "    train_split=predefined_split(test_dataset),\n",
    ")"
   ]
  },
  {
   "cell_type": "code",
   "execution_count": null,
   "id": "5bb634e8",
   "metadata": {},
   "outputs": [],
   "source": [
    "mlp_classifier_adam.fit(train_dataset, None)"
   ]
  },
  {
   "cell_type": "code",
   "execution_count": null,
   "id": "34365783",
   "metadata": {},
   "outputs": [],
   "source": [
    "mlp_classifier_adam.partial_fit(train_dataset, None)"
   ]
  },
  {
   "cell_type": "code",
   "execution_count": null,
   "id": "92a81874",
   "metadata": {},
   "outputs": [],
   "source": [
    "y_pred_mlp_adam = mlp_classifier_adam.predict(test_dataset)"
   ]
  },
  {
   "cell_type": "code",
   "execution_count": null,
   "id": "cdbed14c",
   "metadata": {},
   "outputs": [],
   "source": [
    "print(classification_report(y_test, y_pred_mlp_adam))"
   ]
  },
  {
   "cell_type": "markdown",
   "id": "c6e50c9e",
   "metadata": {},
   "source": [
    "## Data Augmentation"
   ]
  },
  {
   "cell_type": "code",
   "execution_count": null,
   "id": "e16c3d97",
   "metadata": {},
   "outputs": [],
   "source": [
    "augmented_transforms = transforms.Compose(\n",
    "    [\n",
    "        transforms.Resize((56, 56)),\n",
    "        transforms.RandomResizedCrop(\n",
    "            28, (0.6, 1.0), interpolation=InterpolationMode.BICUBIC\n",
    "        ),\n",
    "        transforms.RandomApply(\n",
    "            [\n",
    "                transforms.RandomAffine(\n",
    "                    degrees=30.0,\n",
    "                    translate=(0.1, 0.1),\n",
    "                    interpolation=InterpolationMode.BICUBIC,\n",
    "                )\n",
    "            ],\n",
    "            0.8,\n",
    "        ),\n",
    "        transforms.Resize((28, 28)),\n",
    "        transforms.ToTensor(),\n",
    "    ]\n",
    ")"
   ]
  },
  {
   "cell_type": "code",
   "execution_count": null,
   "id": "fa460494",
   "metadata": {},
   "outputs": [],
   "source": [
    "augmented_train_dataset = torchvision.datasets.MNIST(\n",
    "    root=\"./data\", train=True, transform=augmented_transforms, download=True\n",
    ")"
   ]
  },
  {
   "cell_type": "code",
   "execution_count": null,
   "id": "99487fa6",
   "metadata": {},
   "outputs": [],
   "source": [
    "show_dataset(train_dataset, nrows=4, figsize=(12, 6))\n",
    "show_dataset(augmented_train_dataset, nrows=4, figsize=(12, 6))"
   ]
  },
  {
   "cell_type": "code",
   "execution_count": null,
   "id": "6ed045f3",
   "metadata": {
    "lines_to_next_cell": 2
   },
   "outputs": [],
   "source": [
    "mlp_classifier.fit(augmented_train_dataset, None)"
   ]
  },
  {
   "cell_type": "markdown",
   "id": "d6baffdd",
   "metadata": {},
   "source": [
    "## Workshop Fashion MNIST\n",
    "\n",
    "Trainieren Sie ein Neuronales Netz, das Bilder aus dem Fashion MNIST Datenset\n",
    "klassifizieren kann.\n",
    "\n",
    "Ein Torch `Dataset` für Fashion MNIST kann mit der Klasse\n",
    "`torchvision.datasets.FashionMNIST` erzeugt werden."
   ]
  },
  {
   "cell_type": "code",
   "execution_count": null,
   "id": "b5d464ab",
   "metadata": {},
   "outputs": [],
   "source": []
  }
 ],
 "metadata": {
  "kernelspec": {
   "display_name": "Python 3 (ipykernel)",
   "language": "python",
   "name": "python3"
  }
 },
 "nbformat": 4,
 "nbformat_minor": 5
}
